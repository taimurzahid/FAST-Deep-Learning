{
  "nbformat": 4,
  "nbformat_minor": 0,
  "metadata": {
    "colab": {
      "name": "Code ONE _ BACKUP.ipynb",
      "version": "0.3.2",
      "provenance": [],
      "collapsed_sections": [],
      "toc_visible": true
    },
    "kernelspec": {
      "name": "python3",
      "display_name": "Python 3"
    },
    "accelerator": "GPU"
  },
  "cells": [
    {
      "metadata": {
        "id": "HAuonOeg29Z5",
        "colab_type": "text"
      },
      "cell_type": "markdown",
      "source": [
        "# Requirement Installation"
      ]
    },
    {
      "metadata": {
        "id": "92fbouEoj8JP",
        "colab_type": "code",
        "outputId": "9f95e273-9db8-4cb4-e632-5d6f9bdbf0e9",
        "colab": {
          "base_uri": "https://localhost:8080/",
          "height": 496
        }
      },
      "cell_type": "code",
      "source": [
        "!pip install PyDrive\n",
        "!apt-get -qq install -y libsm6 libxext6 && pip install -q -U opencv-python\n",
        "!pip install Augmentor"
      ],
      "execution_count": 0,
      "outputs": [
        {
          "output_type": "stream",
          "text": [
            "Collecting PyDrive\n",
            "\u001b[?25l  Downloading https://files.pythonhosted.org/packages/52/e0/0e64788e5dd58ce2d6934549676243dc69d982f198524be9b99e9c2a4fd5/PyDrive-1.3.1.tar.gz (987kB)\n",
            "\r\u001b[K    1% |▎                               | 10kB 20.3MB/s eta 0:00:01\r\u001b[K    2% |▋                               | 20kB 1.5MB/s eta 0:00:01\r\u001b[K    3% |█                               | 30kB 2.3MB/s eta 0:00:01\r\u001b[K    4% |█▎                              | 40kB 1.5MB/s eta 0:00:01\r\u001b[K    5% |█▋                              | 51kB 1.8MB/s eta 0:00:01\r\u001b[K    6% |██                              | 61kB 2.2MB/s eta 0:00:01\r\u001b[K    7% |██▎                             | 71kB 2.5MB/s eta 0:00:01\r\u001b[K    8% |██▋                             | 81kB 2.9MB/s eta 0:00:01\r\u001b[K    9% |███                             | 92kB 3.2MB/s eta 0:00:01\r\u001b[K    10% |███▎                            | 102kB 2.5MB/s eta 0:00:01\r\u001b[K    11% |███▋                            | 112kB 2.5MB/s eta 0:00:01\r\u001b[K    12% |████                            | 122kB 3.5MB/s eta 0:00:01\r\u001b[K    13% |████▎                           | 133kB 3.5MB/s eta 0:00:01\r\u001b[K    14% |████▋                           | 143kB 6.7MB/s eta 0:00:01\r\u001b[K    15% |█████                           | 153kB 6.7MB/s eta 0:00:01\r\u001b[K    16% |█████▎                          | 163kB 6.7MB/s eta 0:00:01\r\u001b[K    17% |█████▋                          | 174kB 6.7MB/s eta 0:00:01\r\u001b[K    18% |██████                          | 184kB 6.7MB/s eta 0:00:01\r\u001b[K    19% |██████▎                         | 194kB 6.7MB/s eta 0:00:01\r\u001b[K    20% |██████▋                         | 204kB 42.0MB/s eta 0:00:01\r\u001b[K    21% |███████                         | 215kB 7.2MB/s eta 0:00:01\r\u001b[K    22% |███████▎                        | 225kB 7.2MB/s eta 0:00:01\r\u001b[K    23% |███████▋                        | 235kB 7.3MB/s eta 0:00:01\r\u001b[K    24% |████████                        | 245kB 7.2MB/s eta 0:00:01\r\u001b[K    25% |████████▎                       | 256kB 7.2MB/s eta 0:00:01\r\u001b[K    26% |████████▋                       | 266kB 7.0MB/s eta 0:00:01\r\u001b[K    27% |█████████                       | 276kB 7.0MB/s eta 0:00:01\r\u001b[K    29% |█████████▎                      | 286kB 7.0MB/s eta 0:00:01\r\u001b[K    30% |█████████▋                      | 296kB 6.9MB/s eta 0:00:01\r\u001b[K    31% |██████████                      | 307kB 7.0MB/s eta 0:00:01\r\u001b[K    32% |██████████▎                     | 317kB 36.8MB/s eta 0:00:01\r\u001b[K    33% |██████████▋                     | 327kB 37.4MB/s eta 0:00:01\r\u001b[K    34% |███████████                     | 337kB 38.8MB/s eta 0:00:01\r\u001b[K    35% |███████████▎                    | 348kB 37.0MB/s eta 0:00:01\r\u001b[K    36% |███████████▋                    | 358kB 37.9MB/s eta 0:00:01\r\u001b[K    37% |████████████                    | 368kB 45.8MB/s eta 0:00:01\r\u001b[K    38% |████████████▎                   | 378kB 46.3MB/s eta 0:00:01\r\u001b[K    39% |████████████▋                   | 389kB 48.3MB/s eta 0:00:01\r\u001b[K    40% |█████████████                   | 399kB 8.7MB/s eta 0:00:01\r\u001b[K    41% |█████████████▎                  | 409kB 8.6MB/s eta 0:00:01\r\u001b[K    42% |█████████████▋                  | 419kB 8.6MB/s eta 0:00:01\r\u001b[K    43% |██████████████                  | 430kB 8.5MB/s eta 0:00:01\r\u001b[K    44% |██████████████▎                 | 440kB 8.5MB/s eta 0:00:01\r\u001b[K    45% |██████████████▋                 | 450kB 8.6MB/s eta 0:00:01\r\u001b[K    46% |███████████████                 | 460kB 8.6MB/s eta 0:00:01\r\u001b[K    47% |███████████████▎                | 471kB 8.6MB/s eta 0:00:01\r\u001b[K    48% |███████████████▋                | 481kB 8.6MB/s eta 0:00:01\r\u001b[K    49% |████████████████                | 491kB 8.5MB/s eta 0:00:01\r\u001b[K    50% |████████████████▎               | 501kB 43.5MB/s eta 0:00:01\r\u001b[K    51% |████████████████▋               | 512kB 44.3MB/s eta 0:00:01\r\u001b[K    52% |█████████████████               | 522kB 46.0MB/s eta 0:00:01\r\u001b[K    53% |█████████████████▎              | 532kB 48.1MB/s eta 0:00:01\r\u001b[K    54% |█████████████████▋              | 542kB 48.6MB/s eta 0:00:01\r\u001b[K    55% |██████████████████              | 552kB 50.6MB/s eta 0:00:01\r\u001b[K    57% |██████████████████▎             | 563kB 50.8MB/s eta 0:00:01\r\u001b[K    58% |██████████████████▋             | 573kB 50.8MB/s eta 0:00:01\r\u001b[K    59% |███████████████████             | 583kB 52.0MB/s eta 0:00:01\r\u001b[K    60% |███████████████████▎            | 593kB 53.0MB/s eta 0:00:01\r\u001b[K    61% |███████████████████▋            | 604kB 53.4MB/s eta 0:00:01\r\u001b[K    62% |████████████████████            | 614kB 56.8MB/s eta 0:00:01\r\u001b[K    63% |████████████████████▎           | 624kB 56.4MB/s eta 0:00:01\r\u001b[K    64% |████████████████████▋           | 634kB 56.4MB/s eta 0:00:01\r\u001b[K    65% |█████████████████████           | 645kB 55.8MB/s eta 0:00:01\r\u001b[K    66% |█████████████████████▎          | 655kB 56.6MB/s eta 0:00:01\r\u001b[K    67% |█████████████████████▋          | 665kB 43.1MB/s eta 0:00:01\r\u001b[K    68% |██████████████████████          | 675kB 43.4MB/s eta 0:00:01\r\u001b[K    69% |██████████████████████▎         | 686kB 43.9MB/s eta 0:00:01\r\u001b[K    70% |██████████████████████▋         | 696kB 44.0MB/s eta 0:00:01\r\u001b[K    71% |███████████████████████         | 706kB 43.6MB/s eta 0:00:01\r\u001b[K    72% |███████████████████████▎        | 716kB 43.8MB/s eta 0:00:01\r\u001b[K    73% |███████████████████████▋        | 727kB 44.1MB/s eta 0:00:01\r\u001b[K    74% |████████████████████████        | 737kB 10.9MB/s eta 0:00:01\r\u001b[K    75% |████████████████████████▎       | 747kB 10.8MB/s eta 0:00:01\r\u001b[K    76% |████████████████████████▋       | 757kB 10.7MB/s eta 0:00:01\r\u001b[K    77% |████████████████████████▉       | 768kB 11.4MB/s eta 0:00:01\r\u001b[K    78% |█████████████████████████▏      | 778kB 11.3MB/s eta 0:00:01\r\u001b[K    79% |█████████████████████████▌      | 788kB 11.3MB/s eta 0:00:01\r\u001b[K    80% |█████████████████████████▉      | 798kB 11.3MB/s eta 0:00:01\r\u001b[K    81% |██████████████████████████▏     | 808kB 11.3MB/s eta 0:00:01\r\u001b[K    82% |██████████████████████████▌     | 819kB 11.3MB/s eta 0:00:01\r\u001b[K    83% |██████████████████████████▉     | 829kB 11.3MB/s eta 0:00:01\r\u001b[K    85% |███████████████████████████▏    | 839kB 49.8MB/s eta 0:00:01\r\u001b[K    86% |███████████████████████████▌    | 849kB 52.5MB/s eta 0:00:01\r\u001b[K    87% |███████████████████████████▉    | 860kB 49.2MB/s eta 0:00:01\r\u001b[K    88% |████████████████████████████▏   | 870kB 48.8MB/s eta 0:00:01\r\u001b[K    89% |████████████████████████████▌   | 880kB 51.1MB/s eta 0:00:01\r\u001b[K    90% |████████████████████████████▉   | 890kB 50.9MB/s eta 0:00:01\r\u001b[K    91% |█████████████████████████████▏  | 901kB 50.6MB/s eta 0:00:01\r\u001b[K    92% |█████████████████████████████▌  | 911kB 50.1MB/s eta 0:00:01\r\u001b[K    93% |█████████████████████████████▉  | 921kB 50.8MB/s eta 0:00:01\r\u001b[K    94% |██████████████████████████████▏ | 931kB 51.1MB/s eta 0:00:01\r\u001b[K    95% |██████████████████████████████▌ | 942kB 51.8MB/s eta 0:00:01\r\u001b[K    96% |██████████████████████████████▉ | 952kB 51.3MB/s eta 0:00:01\r\u001b[K    97% |███████████████████████████████▏| 962kB 56.8MB/s eta 0:00:01\r\u001b[K    98% |███████████████████████████████▌| 972kB 57.4MB/s eta 0:00:01\r\u001b[K    99% |███████████████████████████████▉| 983kB 56.9MB/s eta 0:00:01\r\u001b[K    100% |████████████████████████████████| 993kB 20.2MB/s \n",
            "\u001b[?25hRequirement already satisfied: google-api-python-client>=1.2 in /usr/local/lib/python3.6/dist-packages (from PyDrive) (1.6.7)\n",
            "Requirement already satisfied: oauth2client>=4.0.0 in /usr/local/lib/python3.6/dist-packages (from PyDrive) (4.1.3)\n",
            "Requirement already satisfied: PyYAML>=3.0 in /usr/local/lib/python3.6/dist-packages (from PyDrive) (3.13)\n",
            "Requirement already satisfied: uritemplate<4dev,>=3.0.0 in /usr/local/lib/python3.6/dist-packages (from google-api-python-client>=1.2->PyDrive) (3.0.0)\n",
            "Requirement already satisfied: six<2dev,>=1.6.1 in /usr/local/lib/python3.6/dist-packages (from google-api-python-client>=1.2->PyDrive) (1.11.0)\n",
            "Requirement already satisfied: httplib2<1dev,>=0.9.2 in /usr/local/lib/python3.6/dist-packages (from google-api-python-client>=1.2->PyDrive) (0.11.3)\n",
            "Requirement already satisfied: pyasn1>=0.1.7 in /usr/local/lib/python3.6/dist-packages (from oauth2client>=4.0.0->PyDrive) (0.4.4)\n",
            "Requirement already satisfied: rsa>=3.1.4 in /usr/local/lib/python3.6/dist-packages (from oauth2client>=4.0.0->PyDrive) (4.0)\n",
            "Requirement already satisfied: pyasn1-modules>=0.0.5 in /usr/local/lib/python3.6/dist-packages (from oauth2client>=4.0.0->PyDrive) (0.2.2)\n",
            "Building wheels for collected packages: PyDrive\n",
            "  Running setup.py bdist_wheel for PyDrive ... \u001b[?25l-\b \bdone\n",
            "\u001b[?25h  Stored in directory: /root/.cache/pip/wheels/fa/d2/9a/d3b6b506c2da98289e5d417215ce34b696db856643bad779f4\n",
            "Successfully built PyDrive\n",
            "Installing collected packages: PyDrive\n",
            "Successfully installed PyDrive-1.3.1\n",
            "Collecting Augmentor\n",
            "  Downloading https://files.pythonhosted.org/packages/4d/f4/b0eaa9d3b4120a5450ac92d4417907ca60fad5749c1f50ed95f720792350/Augmentor-0.2.3-py2.py3-none-any.whl\n",
            "Requirement already satisfied: tqdm>=4.9.0 in /usr/local/lib/python3.6/dist-packages (from Augmentor) (4.28.1)\n",
            "Requirement already satisfied: future>=0.16.0 in /usr/local/lib/python3.6/dist-packages (from Augmentor) (0.16.0)\n",
            "Requirement already satisfied: Pillow>=4.0.0 in /usr/local/lib/python3.6/dist-packages (from Augmentor) (4.0.0)\n",
            "Requirement already satisfied: numpy>=1.11.0 in /usr/local/lib/python3.6/dist-packages (from Augmentor) (1.14.6)\n",
            "Requirement already satisfied: olefile in /usr/local/lib/python3.6/dist-packages (from Pillow>=4.0.0->Augmentor) (0.46)\n",
            "Installing collected packages: Augmentor\n",
            "Successfully installed Augmentor-0.2.3\n"
          ],
          "name": "stdout"
        }
      ]
    },
    {
      "metadata": {
        "id": "Lu21dazGi8e1",
        "colab_type": "text"
      },
      "cell_type": "markdown",
      "source": [
        "#**Imports Section**\n",
        "\n",
        "---\n",
        "\n"
      ]
    },
    {
      "metadata": {
        "id": "zdxX7YH1jatY",
        "colab_type": "code",
        "outputId": "036af399-e2b8-42e2-b54f-a4c2f6df2d0d",
        "colab": {
          "base_uri": "https://localhost:8080/",
          "height": 34
        }
      },
      "cell_type": "code",
      "source": [
        "import os, random, shutil, math\n",
        "from collections import Counter\n",
        "import Augmentor\n",
        "import cv2 as cv\n",
        "import numpy as np\n",
        "import pandas as pd\n",
        "from sklearn.utils import shuffle\n",
        "\n",
        "import keras\n",
        "from keras.models import Sequential\n",
        "from keras.layers import GlobalAveragePooling2D, AveragePooling2D, GlobalMaxPooling2D\n",
        "from keras.layers.core import Dense, Dropout, Activation, Flatten\n",
        "from keras.layers.convolutional import Conv2D, MaxPooling2D, ZeroPadding2D, Convolution2D\n",
        "\n",
        "import matplotlib.pyplot as plt\n"
      ],
      "execution_count": 0,
      "outputs": [
        {
          "output_type": "stream",
          "text": [
            "Using TensorFlow backend.\n"
          ],
          "name": "stderr"
        }
      ]
    },
    {
      "metadata": {
        "id": "flaRky4FiuQP",
        "colab_type": "code",
        "colab": {}
      },
      "cell_type": "code",
      "source": [
        "from tensorflow.python.client import device_lib\n",
        "from google.colab import drive"
      ],
      "execution_count": 0,
      "outputs": []
    },
    {
      "metadata": {
        "id": "iCrqJS-SkKYU",
        "colab_type": "text"
      },
      "cell_type": "markdown",
      "source": [
        "# Basic Setup\n",
        "\n",
        "\n",
        "---\n",
        "\n"
      ]
    },
    {
      "metadata": {
        "id": "OuKQxkzeio0Q",
        "colab_type": "code",
        "outputId": "833942b6-23e0-4707-b1cb-3e1bf5ad8143",
        "cellView": "form",
        "colab": {
          "base_uri": "https://localhost:8080/",
          "height": 122
        }
      },
      "cell_type": "code",
      "source": [
        "#@title\n",
        "device_lib.list_local_devices()\n",
        "drive.mount('/content/gdrive')\n",
        "\n",
        "base_dir = '/content/gdrive/My Drive/Datasets/orignal'"
      ],
      "execution_count": 0,
      "outputs": [
        {
          "output_type": "stream",
          "text": [
            "Go to this URL in a browser: https://accounts.google.com/o/oauth2/auth?client_id=947318989803-6bn6qk8qdgf4n4g3pfee6491hc0brc4i.apps.googleusercontent.com&redirect_uri=urn%3Aietf%3Awg%3Aoauth%3A2.0%3Aoob&scope=email%20https%3A%2F%2Fwww.googleapis.com%2Fauth%2Fdocs.test%20https%3A%2F%2Fwww.googleapis.com%2Fauth%2Fdrive%20https%3A%2F%2Fwww.googleapis.com%2Fauth%2Fdrive.photos.readonly%20https%3A%2F%2Fwww.googleapis.com%2Fauth%2Fpeopleapi.readonly&response_type=code\n",
            "\n",
            "Enter your authorization code:\n",
            "··········\n",
            "Mounted at /content/gdrive\n"
          ],
          "name": "stdout"
        }
      ]
    },
    {
      "metadata": {
        "id": "xrP7SdPvsJ0C",
        "colab_type": "text"
      },
      "cell_type": "markdown",
      "source": [
        "# Data Processing Functions\n",
        "\n",
        "\n",
        "---\n",
        "\n"
      ]
    },
    {
      "metadata": {
        "id": "QsnJi9InoA-3",
        "colab_type": "code",
        "colab": {}
      },
      "cell_type": "code",
      "source": [
        "\"\"\"\n",
        "Description:=> This function shuffles the data and labels by zipping them together\n",
        "Parameters:=> Two\n",
        "1) \"data\" || array of data(images (256,256,3))\n",
        "2) \"label\" || array of label (depends upon classes)\n",
        "\"\"\"\n",
        "\n",
        "def shuffle_data(data, label):\n",
        "    data = np.array(data, dtype=float)\n",
        "    label = np.array(label, dtype=int)\n",
        "    data, label = shuffle(data, label)\n",
        "    return data, label"
      ],
      "execution_count": 0,
      "outputs": []
    },
    {
      "metadata": {
        "id": "M93rxOx7oSv4",
        "colab_type": "code",
        "colab": {}
      },
      "cell_type": "code",
      "source": [
        "\"\"\" \n",
        "Description:=> This function count files in the directory\n",
        "Parameters:=> One\n",
        "1) \"folder_path\" || path of the directory, you want to count files of\n",
        "\"\"\"\n",
        "\n",
        "def total_files(folder_path=\"\"):\n",
        "    dirs = os.walk(folder_path)\n",
        "    files_count =0\n",
        "    for s_dir in dirs:\n",
        "        dir_path = s_dir[0]\n",
        "        dir_files = s_dir[2]\n",
        "        dir_name = os.path.basename(dir_path)\n",
        "\n",
        "        print(f'{dir_name}: {len(dir_files)}')\n",
        "        files_count = files_count + len(dir_files)\n",
        "    print(f\"Total Filess:= {files_count}\")\n",
        "    return int(files_count)"
      ],
      "execution_count": 0,
      "outputs": []
    },
    {
      "metadata": {
        "id": "2gV3UIQwmAjc",
        "colab_type": "code",
        "colab": {}
      },
      "cell_type": "code",
      "source": [
        "\"\"\"\n",
        "Description:=> You give this folder path, it will return array of data and labels in shuffeled form\n",
        "Parameters:=> Three\n",
        "1) \"folder_path\" || path of directory, from where you want to read images\n",
        "2) \"img_h\" || height of images if you want to adjust them (default is 128)\n",
        "3) \"img_w\" || height of images if you want to adjust them (default is 128)\n",
        "\"\"\"\n",
        "\n",
        "def get_data(folder_path=\"\", img_h=128, img_w=128):\n",
        "    dirs = os.walk(folder_path)\n",
        "\n",
        "    master_data = []\n",
        "    master_labels = []\n",
        "    image_sizes = []\n",
        "    none_data = 0\n",
        "\n",
        "    for s_dir in dirs:\n",
        "        dir_path = s_dir[0]\n",
        "        dir_files = s_dir[2]\n",
        "        dir_name = os.path.basename(dir_path)\n",
        "        for file in dir_files:\n",
        "            file_path = os.path.join(dir_path, file)\n",
        "\n",
        "            image = cv.imread(file_path)\n",
        "            i_height = np.size(image, 0)\n",
        "            i_width = np.size(image, 1)\n",
        "\n",
        "            image_sizes.append([i_height, i_width])\n",
        "\n",
        "            # file_data = np.array(cv.imread(file_path, cv.IMREAD_GRAYSCALE))\n",
        "            file_data = np.array(cv.imread(file_path))\n",
        "\n",
        "            if (file_data.any() != None):\n",
        "                \n",
        "                if (i_height != img_h or i_width != img_w):\n",
        "                    file_data = cv.resize(file_data, dsize=(img_h, img_w), interpolation=cv.INTER_LANCZOS4)\n",
        "                    \n",
        "                # Image Shape: Height x Width x Depth(RGB)\n",
        "                reshaped_data = file_data.reshape((file_data.shape[0]), (file_data.shape[1]), 3)\n",
        "                master_data.append(reshaped_data)\n",
        "                master_labels.append(np.array([dir_name]))\n",
        "                # master_labels.append(np.array([((int(os.path.basename(dir_path)))-1)]))\n",
        "            else:\n",
        "                print(file_path)\n",
        "                none_data += 1\n",
        "        print(f'Directory:=> {dir_path}')\n",
        "        \n",
        "    print(f'Total Images: {len(master_data)} || Total Labels: {len(master_labels)} || Total Errors: {none_data}')\n",
        "    return shuffle_data(master_data, master_labels)\n"
      ],
      "execution_count": 0,
      "outputs": []
    },
    {
      "metadata": {
        "id": "bVw9VuXl7r5W",
        "colab_type": "text"
      },
      "cell_type": "markdown",
      "source": [
        "# Augmentation Functions\n",
        "\n",
        "---\n",
        "\n"
      ]
    },
    {
      "metadata": {
        "id": "7q5Jy62j7vWP",
        "colab_type": "code",
        "colab": {}
      },
      "cell_type": "code",
      "source": [
        "def orignal_to_train_test():\n",
        "  dbase_dir = '/content/gdrive/My Drive/Datasets/orignal'\n",
        "  train_dir = '/content/gdrive/My Drive/Datasets/tt_dataset/train'\n",
        "  test_dir = '/content/gdrive/My Drive/Datasets/tt_dataset/test'\n",
        "\n",
        "  dirs = os.walk(dbase_dir)\n",
        "  for s_dir in dirs:\n",
        "      dir_path = s_dir[0]\n",
        "      dir_files = s_dir[2]\n",
        "\n",
        "      if (dir_files != 0):\n",
        "          dir_name = os.path.basename(dir_path)\n",
        "\n",
        "          test_files = random.sample(dir_files, int(0.2 * len(dir_files)))\n",
        "          train_files = list(set(dir_files) - set(test_files))\n",
        "\n",
        "          print(f'Directory: {dir_name} || Test Files: {len(test_files)} || Train Files: {len(train_files)}')\n",
        "\n",
        "          os.mkdir(os.path.join(test_dir, str(dir_name)))\n",
        "          os.mkdir(os.path.join(train_dir, str(dir_name)))\n",
        "\n",
        "          current_test_dir = os.path.join(test_dir, str(dir_name))\n",
        "          current_train_dir = os.path.join(train_dir, str(dir_name))\n",
        "\n",
        "          for fname in test_files:\n",
        "              srcpath = os.path.join(dir_path, fname)\n",
        "              shutil.copy(srcpath, current_test_dir)\n",
        "\n",
        "          for fname in train_files:\n",
        "              srcpath = os.path.join(dir_path, fname)\n",
        "              shutil.copy(srcpath, current_train_dir)\n"
      ],
      "execution_count": 0,
      "outputs": []
    },
    {
      "metadata": {
        "id": "CE0fUCAaS4mM",
        "colab_type": "code",
        "colab": {}
      },
      "cell_type": "code",
      "source": [
        "def do_augmentation(input_dir=\"\", output_dir=\"\", max_files=0, max_folder=\"\"):\n",
        "    dirs = os.walk(input_dir)\n",
        "    for s_dir in dirs:\n",
        "        dir_path = s_dir[0]\n",
        "        dir_files = s_dir[2]\n",
        "        dir_name = os.path.basename(dir_path)\n",
        "\n",
        "        print(f'Inside Folder: {dir_path}')\n",
        "        print(f'Total Files: {len(dir_files)}')\n",
        "\n",
        "        if(len(dir_files) != 0):\n",
        "          if(dir_name != max_folder):\n",
        "              new_dataset = os.path.join(output_dir, dir_name)\n",
        "              p = Augmentor.Pipeline(source_directory=dir_path, output_directory=new_dataset)\n",
        "              p.flip_left_right(probability=1)\n",
        "              p.flip_top_bottom(probability=0.85)\n",
        "              p.rotate(probability=0.90, max_left_rotation=25, max_right_rotation=25)\n",
        "              p.zoom_random(probability=0.25, percentage_area=0.35)\n",
        "              p.crop_centre(probability=0.85, percentage_area=0.75)\n",
        "              p.crop_random(probability=0.75, percentage_area=0.65)\n",
        "              #p.resize(probability=1.0, width=256, height=256)\n",
        "              p.sample(int((max_files / (len(dir_files))) * (len(dir_files))))\n",
        "          else:\n",
        "              os.mkdir(os.path.join(output_dir, str(dir_name)))\n",
        "              outpath = os.path.join(output_dir, dir_name)\n",
        "              for fname in dir_files:\n",
        "                srcpath = os.path.join(dir_path, fname)\n",
        "                shutil.copy(srcpath, outpath)\n",
        "\n",
        "    return \"All Gone Well\"\n"
      ],
      "execution_count": 0,
      "outputs": []
    },
    {
      "metadata": {
        "id": "7e18-yCDXVE7",
        "colab_type": "code",
        "colab": {}
      },
      "cell_type": "code",
      "source": [
        "def read_image(img_path=\"\", img_h=128, img_w=128):\n",
        "    image = cv.imread(img_path)\n",
        "    i_height = np.size(image, 0)\n",
        "    i_width = np.size(image, 1)\n",
        "\n",
        "    file_data = np.array(cv.imread(img_path))\n",
        "\n",
        "    if (file_data.any() != None):\n",
        "        if (i_height != img_h or i_width != img_w):\n",
        "            file_data = cv.resize(file_data, dsize=(img_h, img_w), interpolation=cv.INTER_LANCZOS4)\n",
        "\n",
        "        file_data = file_data.reshape((file_data.shape[0]), (file_data.shape[1]), 3)\n",
        "        return file_data\n",
        "    else:\n",
        "        return None\n",
        "\n",
        "\n",
        "def data_generator(folder_path=\"\", img_h=128, img_w=128, batch_size=128):\n",
        "    dirs = os.walk(folder_path)\n",
        "\n",
        "    paths_labels = []\n",
        "\n",
        "    for s_dir in dirs:\n",
        "        dir_path = s_dir[0]\n",
        "        dir_files = s_dir[2]\n",
        "        for file in dir_files:\n",
        "            single_image_path = os.path.join(dir_path, file)\n",
        "            single_image_label = os.path.basename(dir_path)\n",
        "            paths_labels.append([single_image_path, single_image_label])\n",
        "\n",
        "    random.shuffle(paths_labels)\n",
        "    tdata_len = len(paths_labels)\n",
        "    iterations = math.ceil(tdata_len / batch_size)\n",
        "\n",
        "    for count in range(iterations):\n",
        "        m_data = []\n",
        "        m_label = []\n",
        "\n",
        "        if ((count + 1) * batch_size < tdata_len):\n",
        "            to_loop = paths_labels[count * batch_size:(count + 1) * batch_size]\n",
        "            for img in to_loop:\n",
        "                m_data.append(read_image(img[0], img_h, img_w))\n",
        "                m_label.append([int(img[1])-1])\n",
        "            yield np.array(m_data, dtype=float), np.array(m_label)\n",
        "        else:\n",
        "            to_loop = paths_labels[count * batch_size:]\n",
        "            for img in to_loop:\n",
        "                m_data.append(read_image(img[0], img_h, img_w))\n",
        "                m_label.append([int(img[1])-1])\n",
        "                yield np.array(m_data, dtype=float), np.array(m_label)\n"
      ],
      "execution_count": 0,
      "outputs": []
    },
    {
      "metadata": {
        "id": "geyRpnwa3TRW",
        "colab_type": "text"
      },
      "cell_type": "markdown",
      "source": [
        "**Augmentation Intialization Code**\n",
        "\n",
        "**WARNING**: *Before Calling Check The Folder Structure, Because This Is Not Creating New Directories But Generating in The Old Ones*"
      ]
    },
    {
      "metadata": {
        "id": "Q1oUT4j15gDk",
        "colab_type": "code",
        "colab": {}
      },
      "cell_type": "code",
      "source": [
        "#This call will split the 20% data randomly in the folders mentioned in the function.\n",
        "#orignal_to_train_test()"
      ],
      "execution_count": 0,
      "outputs": []
    },
    {
      "metadata": {
        "id": "Ez0uLTfI3Srg",
        "colab_type": "code",
        "outputId": "4ccb1233-241d-4c62-ff56-b553193a27b9",
        "colab": {
          "base_uri": "https://localhost:8080/",
          "height": 530
        }
      },
      "cell_type": "code",
      "source": [
        "# This is augmentation of data, according to the definition given in the function.\n",
        "\n",
        "train_aug_dir = '/content/gdrive/My Drive/Datasets/tt_dataset/train_aug'\n",
        "test_aug_dir = '/content/gdrive/My Drive/Datasets/tt_dataset/test_aug'\n",
        "\n",
        "train_dir = '/content/gdrive/My Drive/Datasets/tt_dataset/train'\n",
        "test_dir = '/content/gdrive/My Drive/Datasets/tt_dataset/test'\n",
        "\n",
        "\n",
        "#a = do_augmentation(test_dir, test_aug_dir, 376, '6')\n",
        "#print(f'Test Data Augmentation: {a}')\n",
        "\n",
        "b = do_augmentation(train_dir, train_aug_dir, 1504, '6')\n",
        "print(f'Test Data Augmentation: {b}')"
      ],
      "execution_count": 0,
      "outputs": [
        {
          "output_type": "stream",
          "text": [
            "\rExecuting Pipeline:   0%|          | 0/1504 [00:00<?, ? Samples/s]"
          ],
          "name": "stderr"
        },
        {
          "output_type": "stream",
          "text": [
            "Inside Folder: /content/gdrive/My Drive/Datasets/tt_dataset/train\n",
            "Total Files: 0\n",
            "Inside Folder: /content/gdrive/My Drive/Datasets/tt_dataset/train/7\n",
            "Total Files: 47\n",
            "Initialised with 47 image(s) found.\n",
            "Output directory set to /content/gdrive/My Drive/Datasets/tt_dataset/train_aug/7."
          ],
          "name": "stdout"
        },
        {
          "output_type": "stream",
          "text": [
            "Processing <PIL.Image.Image image mode=RGB size=480x359 at 0x7FD22001FD30>: 100%|██████████| 1504/1504 [01:13<00:00, 20.44 Samples/s]\n",
            "Executing Pipeline:   0%|          | 0/1504 [00:00<?, ? Samples/s]"
          ],
          "name": "stderr"
        },
        {
          "output_type": "stream",
          "text": [
            "Inside Folder: /content/gdrive/My Drive/Datasets/tt_dataset/train/1\n",
            "Total Files: 93\n",
            "Initialised with 93 image(s) found.\n",
            "Output directory set to /content/gdrive/My Drive/Datasets/tt_dataset/train_aug/1."
          ],
          "name": "stdout"
        },
        {
          "output_type": "stream",
          "text": [
            "Processing <PIL.Image.Image image mode=RGB size=312x234 at 0x7FD220034AC8>: 100%|██████████| 1504/1504 [01:10<00:00, 21.38 Samples/s]\n",
            "Executing Pipeline:   0%|          | 0/1504 [00:00<?, ? Samples/s]"
          ],
          "name": "stderr"
        },
        {
          "output_type": "stream",
          "text": [
            "Inside Folder: /content/gdrive/My Drive/Datasets/tt_dataset/train/4\n",
            "Total Files: 63\n",
            "Initialised with 63 image(s) found.\n",
            "Output directory set to /content/gdrive/My Drive/Datasets/tt_dataset/train_aug/4."
          ],
          "name": "stdout"
        },
        {
          "output_type": "stream",
          "text": [
            "Processing <PIL.Image.Image image mode=RGB size=634x399 at 0x7FD222357668>: 100%|██████████| 1504/1504 [01:59<00:00, 12.54 Samples/s]\n",
            "Executing Pipeline:   0%|          | 0/1504 [00:00<?, ? Samples/s]"
          ],
          "name": "stderr"
        },
        {
          "output_type": "stream",
          "text": [
            "Inside Folder: /content/gdrive/My Drive/Datasets/tt_dataset/train/2\n",
            "Total Files: 84\n",
            "Initialised with 84 image(s) found.\n",
            "Output directory set to /content/gdrive/My Drive/Datasets/tt_dataset/train_aug/2."
          ],
          "name": "stdout"
        },
        {
          "output_type": "stream",
          "text": [
            "Processing <PIL.Image.Image image mode=RGB size=172x191 at 0x7FD22026BE80>: 100%|██████████| 1504/1504 [01:42<00:00, 14.64 Samples/s]\n",
            "Executing Pipeline:   0%|          | 0/1504 [00:00<?, ? Samples/s]"
          ],
          "name": "stderr"
        },
        {
          "output_type": "stream",
          "text": [
            "Inside Folder: /content/gdrive/My Drive/Datasets/tt_dataset/train/3\n",
            "Total Files: 58\n",
            "Initialised with 58 image(s) found.\n",
            "Output directory set to /content/gdrive/My Drive/Datasets/tt_dataset/train_aug/3."
          ],
          "name": "stdout"
        },
        {
          "output_type": "stream",
          "text": [
            "Processing <PIL.Image.Image image mode=RGB size=336x296 at 0x7FD220034588>: 100%|██████████| 1504/1504 [00:57<00:00, 26.02 Samples/s]\n",
            "Executing Pipeline:   0%|          | 0/1504 [00:00<?, ? Samples/s]"
          ],
          "name": "stderr"
        },
        {
          "output_type": "stream",
          "text": [
            "Inside Folder: /content/gdrive/My Drive/Datasets/tt_dataset/train/5\n",
            "Total Files: 45\n",
            "Initialised with 45 image(s) found.\n",
            "Output directory set to /content/gdrive/My Drive/Datasets/tt_dataset/train_aug/5."
          ],
          "name": "stdout"
        },
        {
          "output_type": "stream",
          "text": [
            "Processing <PIL.Image.Image image mode=RGB size=148x234 at 0x7FD116A5A390>: 100%|██████████| 1504/1504 [01:07<00:00, 22.41 Samples/s]\n"
          ],
          "name": "stderr"
        },
        {
          "output_type": "stream",
          "text": [
            "Inside Folder: /content/gdrive/My Drive/Datasets/tt_dataset/train/6\n",
            "Total Files: 1504\n",
            "Test Data Augmentation: All Gone Well\n"
          ],
          "name": "stdout"
        }
      ]
    },
    {
      "metadata": {
        "id": "AN82JPARFukD",
        "colab_type": "code",
        "outputId": "e3f4e716-bfe0-4ab3-d494-cafa3f725c45",
        "colab": {
          "base_uri": "https://localhost:8080/",
          "height": 187
        }
      },
      "cell_type": "code",
      "source": [
        "total_files('/content/gdrive/My Drive/Datasets/tt_dataset/train_aug')"
      ],
      "execution_count": 0,
      "outputs": [
        {
          "output_type": "stream",
          "text": [
            "train_aug: 0\n",
            "7: 1504\n",
            "1: 1504\n",
            "4: 1504\n",
            "2: 1504\n",
            "3: 1504\n",
            "5: 1504\n",
            "6: 1504\n",
            "Total Filess:= 10528\n"
          ],
          "name": "stdout"
        },
        {
          "output_type": "execute_result",
          "data": {
            "text/plain": [
              "10528"
            ]
          },
          "metadata": {
            "tags": []
          },
          "execution_count": 16
        }
      ]
    },
    {
      "metadata": {
        "id": "Sk3ucciu59o-",
        "colab_type": "code",
        "colab": {}
      },
      "cell_type": "code",
      "source": [
        "#Total Files Count Checking"
      ],
      "execution_count": 0,
      "outputs": []
    },
    {
      "metadata": {
        "id": "js5BdJqs-p2v",
        "colab_type": "text"
      },
      "cell_type": "markdown",
      "source": [
        "# Model Helper Functions"
      ]
    },
    {
      "metadata": {
        "id": "O4cPls8P-vgp",
        "colab_type": "code",
        "colab": {}
      },
      "cell_type": "code",
      "source": [
        "def get_class_weights(y, smooth_factor=0):\n",
        "    \"\"\"\n",
        "    Returns the weights for each class based on the frequencies of the samples\n",
        "    :param smooth_factor: factor that smooths extremely uneven weights\n",
        "    :param y: list of true labels (the labels must be hashable)\n",
        "    :return: dictionary with the weight for each class\n",
        "    \"\"\"\n",
        "    y = np.ravel(y)\n",
        "    counter = Counter(y)\n",
        "\n",
        "    if smooth_factor > 0:\n",
        "        p = max(counter.values()) * smooth_factor\n",
        "        for k in counter.keys():\n",
        "            counter[k] += p\n",
        "\n",
        "    majority = max(counter.values())\n",
        "\n",
        "    return {cls: float(majority / count) for cls, count in counter.items()}"
      ],
      "execution_count": 0,
      "outputs": []
    },
    {
      "metadata": {
        "id": "j4WywAlhKPki",
        "colab_type": "code",
        "colab": {}
      },
      "cell_type": "code",
      "source": [
        "#Balance Test Batch Generation\n",
        "def get_balance_random_test(folder_path=\"\", img_h=300, img_w=300, batch_size=64, num_of_classes=7, test=35):\n",
        "  dirs = os.walk(folder_path)\n",
        "  \n",
        "  samples = int(batch_size/num_of_classes)\n",
        "  \n",
        "  \n",
        "  \n",
        "  for num in range(test):\n",
        "    m_data = []\n",
        "    m_label = []\n",
        "    dirs = os.walk(folder_path)\n",
        "    \n",
        "    for s_dir in dirs:\n",
        "          dir_path = s_dir[0]\n",
        "          dir_files = s_dir[2]\n",
        "          dir_name = os.path.basename(dir_path)\n",
        "\n",
        "          if(len(dir_files) > 0):\n",
        "            tfiles = random.sample(dir_files, samples)\n",
        "            for file in tfiles:\n",
        "              single_image_path = os.path.join(dir_path, file)\n",
        "              single_image_label = dir_name\n",
        "              m_data.append(read_image(single_image_path, img_h, img_w))\n",
        "              m_label.append([int(dir_name)-1])\n",
        "    yield shuffle_data(m_data, m_label)\n",
        "  "
      ],
      "execution_count": 0,
      "outputs": []
    },
    {
      "metadata": {
        "id": "38mJMcmU0TmB",
        "colab_type": "text"
      },
      "cell_type": "markdown",
      "source": [
        "\n",
        "\n",
        "---\n",
        "\n",
        "\n",
        "\n",
        "---\n",
        "\n",
        "\n",
        "# Model Test # 1\n",
        "\n",
        "\n",
        "---\n",
        "\n"
      ]
    },
    {
      "metadata": {
        "id": "Bn8Yhk8CeeRi",
        "colab_type": "text"
      },
      "cell_type": "markdown",
      "source": [
        "**ATTEMPT # 1**\n",
        "\n",
        "\n",
        "*   Batch Size 32\n",
        "*   Epochs 50\n",
        "\n",
        "\n",
        "\n",
        "---\n",
        "\n",
        "\n",
        "\n"
      ]
    },
    {
      "metadata": {
        "id": "WNc3Z-_p070R",
        "colab_type": "code",
        "colab": {}
      },
      "cell_type": "code",
      "source": [
        "# Parameters Setting #\n",
        "#=====================#\n",
        "epochs = 50\n",
        "batch_size = 32\n",
        "\n",
        "# Input Dimentions\n",
        "img_h = 300\n",
        "img_w = 300\n",
        "channels = 3\n",
        "\n",
        "input_shape = (img_h, img_w, channels)"
      ],
      "execution_count": 0,
      "outputs": []
    },
    {
      "metadata": {
        "id": "4J95Djj-1R9D",
        "colab_type": "code",
        "outputId": "92a5342e-9287-47e7-80a6-410596eaeaab",
        "colab": {
          "base_uri": "https://localhost:8080/",
          "height": 170
        }
      },
      "cell_type": "code",
      "source": [
        "#m1_test_d, m1_test_l = get_data('/content/gdrive/My Drive/Datasets/tt_dataset/test', img_h, img_w)\n",
        "#m1_train_d, m1_train_l = get_data('/content/gdrive/My Drive/Datasets/tt_dataset/train', img_h, img_w)\n",
        "\n",
        "# Single data set for training and testing using validation siplit of 0.2\n",
        "m1_data, m1_labels = get_data('/content/gdrive/My Drive/Datasets/orignal', img_h, img_w)"
      ],
      "execution_count": 0,
      "outputs": [
        {
          "output_type": "stream",
          "text": [
            "Directory:=> /content/gdrive/My Drive/Datasets/orignal\n",
            "Directory:=> /content/gdrive/My Drive/Datasets/orignal/7\n",
            "Directory:=> /content/gdrive/My Drive/Datasets/orignal/1\n",
            "Directory:=> /content/gdrive/My Drive/Datasets/orignal/4\n",
            "Directory:=> /content/gdrive/My Drive/Datasets/orignal/2\n",
            "Directory:=> /content/gdrive/My Drive/Datasets/orignal/3\n",
            "Directory:=> /content/gdrive/My Drive/Datasets/orignal/5\n",
            "Directory:=> /content/gdrive/My Drive/Datasets/orignal/6\n",
            "Total Images: 2364 || Total Labels: 2364 || Total Errors: 0\n"
          ],
          "name": "stdout"
        }
      ]
    },
    {
      "metadata": {
        "id": "l_unVMAGuMXG",
        "colab_type": "code",
        "colab": {}
      },
      "cell_type": "code",
      "source": [
        "def ModelTwo(input_shape=(300, 300, 3), num_classes=7):\n",
        "  \n",
        "    model = Sequential()\n",
        "\n",
        "    model.add(Conv2D(16, kernel_size=(3, 3), activation='relu', input_shape=input_shape))\n",
        "    model.add(Conv2D(16, kernel_size=(1, 1), activation='relu'))\n",
        "    model.add(Conv2D(16, kernel_size=(3, 3), activation='relu'))\n",
        "\n",
        "    model.add(MaxPooling2D(pool_size=(2, 2)))\n",
        "\n",
        "    model.add(Conv2D(32, kernel_size=(3, 3), activation='relu'))\n",
        "    model.add(Conv2D(32, kernel_size=(1, 1), activation='relu'))\n",
        "    model.add(Conv2D(32, kernel_size=(3, 3), activation='relu'))\n",
        "\n",
        "    model.add(MaxPooling2D(pool_size=(2, 2)))\n",
        "\n",
        "    model.add(Conv2D(64, kernel_size=(3, 3), activation='relu'))\n",
        "    model.add(Conv2D(64, kernel_size=(1, 1), activation='relu'))\n",
        "    model.add(Conv2D(64, kernel_size=(3, 3), activation='relu'))\n",
        "\n",
        "    model.add(MaxPooling2D(pool_size=(2, 2)))\n",
        "\n",
        "    model.add(Conv2D(128, kernel_size=(3, 3), activation='relu'))\n",
        "    model.add(Conv2D(128, kernel_size=(1, 1), activation='relu'))\n",
        "    model.add(Conv2D(128, kernel_size=(3, 3), activation='relu'))\n",
        "    \n",
        "    model.add(AveragePooling2D(pool_size=(7, 7)))\n",
        "    model.add(Flatten())\n",
        "    model.add(Dense(512, activation='relu'))\n",
        "    model.add(Dropout(0.2)) #added for attempt three\n",
        "    model.add(Dense(num_classes, activation='softmax'))\n",
        "\n",
        "    model.summary()\n",
        "\n",
        "    return model"
      ],
      "execution_count": 0,
      "outputs": []
    },
    {
      "metadata": {
        "id": "lY2WwzbQ13iy",
        "colab_type": "code",
        "outputId": "828862d4-2dc1-44bb-8430-5ce1bdae6e3e",
        "colab": {
          "base_uri": "https://localhost:8080/",
          "height": 2536
        }
      },
      "cell_type": "code",
      "source": [
        "class_weights = get_class_weights(m1_labels-1, 0.1)\n",
        "print(f'Balanced Class Weights:=> {class_weights}')\n",
        "\n",
        "model = ModelTwo(input_shape=input_shape)\n",
        "\n",
        "model.compile(loss=keras.losses.sparse_categorical_crossentropy,\n",
        "              optimizer=keras.optimizers.Adam(),\n",
        "              metrics=['accuracy'])\n",
        "\n",
        "# label-1 because keras start counting classes from zero\n",
        "history = model.fit(m1_data, m1_labels-1,\n",
        "                    batch_size=batch_size,\n",
        "                    epochs=epochs,\n",
        "                    verbose=1, shuffle=True, validation_split=0.2, class_weight=class_weights)"
      ],
      "execution_count": 0,
      "outputs": [
        {
          "output_type": "stream",
          "text": [
            "Balanced Class Weights:=> {5: 1.0, 3: 7.773223016171494, 2: 7.952674105425165, 0: 6.801250411319514, 1: 7.05667463298054, 4: 8.474374743747438, 6: 8.405449369662465}\n",
            "_________________________________________________________________\n",
            "Layer (type)                 Output Shape              Param #   \n",
            "=================================================================\n",
            "conv2d_1 (Conv2D)            (None, 298, 298, 16)      448       \n",
            "_________________________________________________________________\n",
            "conv2d_2 (Conv2D)            (None, 298, 298, 16)      272       \n",
            "_________________________________________________________________\n",
            "conv2d_3 (Conv2D)            (None, 296, 296, 16)      2320      \n",
            "_________________________________________________________________\n",
            "max_pooling2d_1 (MaxPooling2 (None, 148, 148, 16)      0         \n",
            "_________________________________________________________________\n",
            "conv2d_4 (Conv2D)            (None, 146, 146, 32)      4640      \n",
            "_________________________________________________________________\n",
            "conv2d_5 (Conv2D)            (None, 146, 146, 32)      1056      \n",
            "_________________________________________________________________\n",
            "conv2d_6 (Conv2D)            (None, 144, 144, 32)      9248      \n",
            "_________________________________________________________________\n",
            "max_pooling2d_2 (MaxPooling2 (None, 72, 72, 32)        0         \n",
            "_________________________________________________________________\n",
            "conv2d_7 (Conv2D)            (None, 70, 70, 64)        18496     \n",
            "_________________________________________________________________\n",
            "conv2d_8 (Conv2D)            (None, 70, 70, 64)        4160      \n",
            "_________________________________________________________________\n",
            "conv2d_9 (Conv2D)            (None, 68, 68, 64)        36928     \n",
            "_________________________________________________________________\n",
            "max_pooling2d_3 (MaxPooling2 (None, 34, 34, 64)        0         \n",
            "_________________________________________________________________\n",
            "conv2d_10 (Conv2D)           (None, 32, 32, 128)       73856     \n",
            "_________________________________________________________________\n",
            "conv2d_11 (Conv2D)           (None, 32, 32, 128)       16512     \n",
            "_________________________________________________________________\n",
            "conv2d_12 (Conv2D)           (None, 30, 30, 128)       147584    \n",
            "_________________________________________________________________\n",
            "average_pooling2d_1 (Average (None, 4, 4, 128)         0         \n",
            "_________________________________________________________________\n",
            "flatten_1 (Flatten)          (None, 2048)              0         \n",
            "_________________________________________________________________\n",
            "dense_1 (Dense)              (None, 512)               1049088   \n",
            "_________________________________________________________________\n",
            "dense_2 (Dense)              (None, 7)                 3591      \n",
            "=================================================================\n",
            "Total params: 1,368,199\n",
            "Trainable params: 1,368,199\n",
            "Non-trainable params: 0\n",
            "_________________________________________________________________\n",
            "Train on 1891 samples, validate on 473 samples\n",
            "Epoch 1/50\n",
            "1891/1891 [==============================] - 29s 15ms/step - loss: 4.4042 - acc: 0.7805 - val_loss: 4.3705 - val_acc: 0.8034\n",
            "Epoch 2/50\n",
            "1891/1891 [==============================] - 22s 12ms/step - loss: 4.3208 - acc: 0.7927 - val_loss: 4.3337 - val_acc: 0.8013\n",
            "Epoch 3/50\n",
            "1891/1891 [==============================] - 22s 12ms/step - loss: 4.3691 - acc: 0.7927 - val_loss: 4.2777 - val_acc: 0.8034\n",
            "Epoch 4/50\n",
            "1891/1891 [==============================] - 22s 12ms/step - loss: 4.3179 - acc: 0.7927 - val_loss: 4.1479 - val_acc: 0.7992\n",
            "Epoch 5/50\n",
            "1891/1891 [==============================] - 22s 12ms/step - loss: 4.3013 - acc: 0.7864 - val_loss: 4.1366 - val_acc: 0.8034\n",
            "Epoch 6/50\n",
            "1891/1891 [==============================] - 22s 12ms/step - loss: 4.2683 - acc: 0.7768 - val_loss: 4.8717 - val_acc: 0.7421\n",
            "Epoch 7/50\n",
            "1891/1891 [==============================] - 22s 12ms/step - loss: 4.1685 - acc: 0.7652 - val_loss: 3.9672 - val_acc: 0.7590\n",
            "Epoch 8/50\n",
            "1891/1891 [==============================] - 22s 12ms/step - loss: 3.8004 - acc: 0.6875 - val_loss: 3.7549 - val_acc: 0.6977\n",
            "Epoch 9/50\n",
            "1891/1891 [==============================] - 22s 12ms/step - loss: 4.3090 - acc: 0.7366 - val_loss: 4.3376 - val_acc: 0.8034\n",
            "Epoch 10/50\n",
            "1891/1891 [==============================] - 22s 12ms/step - loss: 4.2964 - acc: 0.7890 - val_loss: 4.1983 - val_acc: 0.8034\n",
            "Epoch 11/50\n",
            "1891/1891 [==============================] - 22s 12ms/step - loss: 4.2882 - acc: 0.7922 - val_loss: 4.1671 - val_acc: 0.8034\n",
            "Epoch 12/50\n",
            "1891/1891 [==============================] - 22s 12ms/step - loss: 4.1897 - acc: 0.7684 - val_loss: 3.9730 - val_acc: 0.8034\n",
            "Epoch 13/50\n",
            "1891/1891 [==============================] - 22s 12ms/step - loss: 3.8615 - acc: 0.7361 - val_loss: 4.4917 - val_acc: 0.0825\n",
            "Epoch 14/50\n",
            "1891/1891 [==============================] - 22s 12ms/step - loss: 4.3173 - acc: 0.7795 - val_loss: 4.1623 - val_acc: 0.8034\n",
            "Epoch 15/50\n",
            "1891/1891 [==============================] - 22s 12ms/step - loss: 4.2690 - acc: 0.7911 - val_loss: 3.7363 - val_acc: 0.7907\n",
            "Epoch 16/50\n",
            "1891/1891 [==============================] - 22s 12ms/step - loss: 3.9432 - acc: 0.7398 - val_loss: 4.0408 - val_acc: 0.8013\n",
            "Epoch 17/50\n",
            "1891/1891 [==============================] - 22s 12ms/step - loss: 3.8006 - acc: 0.7176 - val_loss: 3.5334 - val_acc: 0.7378\n",
            "Epoch 18/50\n",
            "1891/1891 [==============================] - 22s 12ms/step - loss: 3.6801 - acc: 0.7208 - val_loss: 3.4145 - val_acc: 0.7653\n",
            "Epoch 19/50\n",
            "1891/1891 [==============================] - 22s 12ms/step - loss: 3.5734 - acc: 0.7234 - val_loss: 3.6780 - val_acc: 0.7400\n",
            "Epoch 20/50\n",
            "1891/1891 [==============================] - 22s 12ms/step - loss: 3.5062 - acc: 0.7192 - val_loss: 3.7827 - val_acc: 0.7336\n",
            "Epoch 21/50\n",
            "1891/1891 [==============================] - 22s 12ms/step - loss: 3.4322 - acc: 0.7224 - val_loss: 3.4518 - val_acc: 0.7146\n",
            "Epoch 22/50\n",
            "1891/1891 [==============================] - 22s 12ms/step - loss: 3.3318 - acc: 0.6959 - val_loss: 4.0274 - val_acc: 0.4249\n",
            "Epoch 23/50\n",
            "1891/1891 [==============================] - 22s 12ms/step - loss: 3.3013 - acc: 0.6965 - val_loss: 3.5364 - val_acc: 0.6469\n",
            "Epoch 24/50\n",
            "1891/1891 [==============================] - 22s 12ms/step - loss: 3.2700 - acc: 0.7123 - val_loss: 3.3549 - val_acc: 0.6702\n",
            "Epoch 25/50\n",
            "1891/1891 [==============================] - 22s 12ms/step - loss: 3.1428 - acc: 0.7044 - val_loss: 3.6576 - val_acc: 0.7315\n",
            "Epoch 26/50\n",
            "1891/1891 [==============================] - 22s 12ms/step - loss: 3.2472 - acc: 0.7107 - val_loss: 3.7003 - val_acc: 0.5624\n",
            "Epoch 27/50\n",
            "1891/1891 [==============================] - 22s 12ms/step - loss: 3.0278 - acc: 0.6816 - val_loss: 3.2865 - val_acc: 0.7061\n",
            "Epoch 28/50\n",
            "1891/1891 [==============================] - 22s 12ms/step - loss: 2.8915 - acc: 0.7229 - val_loss: 3.5308 - val_acc: 0.6004\n",
            "Epoch 29/50\n",
            "1891/1891 [==============================] - 22s 12ms/step - loss: 2.7104 - acc: 0.7054 - val_loss: 4.1204 - val_acc: 0.7378\n",
            "Epoch 30/50\n",
            "1891/1891 [==============================] - 22s 12ms/step - loss: 2.5907 - acc: 0.7356 - val_loss: 3.4963 - val_acc: 0.7442\n",
            "Epoch 31/50\n",
            "1891/1891 [==============================] - 22s 12ms/step - loss: 2.7319 - acc: 0.7213 - val_loss: 3.4283 - val_acc: 0.6723\n",
            "Epoch 32/50\n",
            "1891/1891 [==============================] - 22s 12ms/step - loss: 2.3849 - acc: 0.7282 - val_loss: 3.7312 - val_acc: 0.7421\n",
            "Epoch 33/50\n",
            "1891/1891 [==============================] - 22s 12ms/step - loss: 2.3146 - acc: 0.7483 - val_loss: 3.4751 - val_acc: 0.7273\n",
            "Epoch 34/50\n",
            "1891/1891 [==============================] - 22s 12ms/step - loss: 1.9880 - acc: 0.7620 - val_loss: 3.8028 - val_acc: 0.7336\n",
            "Epoch 35/50\n",
            "1891/1891 [==============================] - 22s 12ms/step - loss: 1.8437 - acc: 0.8070 - val_loss: 3.6377 - val_acc: 0.6385\n",
            "Epoch 36/50\n",
            "1891/1891 [==============================] - 22s 12ms/step - loss: 1.5350 - acc: 0.7911 - val_loss: 3.7729 - val_acc: 0.6998\n",
            "Epoch 37/50\n",
            "1891/1891 [==============================] - 22s 12ms/step - loss: 1.2176 - acc: 0.8366 - val_loss: 4.8331 - val_acc: 0.7674\n",
            "Epoch 38/50\n",
            "1891/1891 [==============================] - 22s 12ms/step - loss: 1.2169 - acc: 0.8324 - val_loss: 4.0357 - val_acc: 0.7378\n",
            "Epoch 39/50\n",
            "1891/1891 [==============================] - 22s 12ms/step - loss: 1.1844 - acc: 0.8345 - val_loss: 5.3879 - val_acc: 0.7463\n",
            "Epoch 40/50\n",
            "1891/1891 [==============================] - 22s 12ms/step - loss: 1.5035 - acc: 0.7990 - val_loss: 4.2387 - val_acc: 0.7442\n",
            "Epoch 41/50\n",
            "1891/1891 [==============================] - 22s 12ms/step - loss: 0.9079 - acc: 0.8636 - val_loss: 5.6577 - val_acc: 0.7294\n",
            "Epoch 42/50\n",
            "1891/1891 [==============================] - 22s 12ms/step - loss: 0.7397 - acc: 0.8900 - val_loss: 6.3032 - val_acc: 0.7400\n",
            "Epoch 43/50\n",
            "1891/1891 [==============================] - 22s 12ms/step - loss: 1.0553 - acc: 0.8514 - val_loss: 5.5668 - val_acc: 0.7378\n",
            "Epoch 44/50\n",
            "1891/1891 [==============================] - 22s 12ms/step - loss: 0.8158 - acc: 0.8662 - val_loss: 5.0081 - val_acc: 0.7611\n",
            "Epoch 45/50\n",
            "1891/1891 [==============================] - 22s 12ms/step - loss: 0.5913 - acc: 0.8937 - val_loss: 5.5209 - val_acc: 0.7886\n",
            "Epoch 46/50\n",
            "1891/1891 [==============================] - 22s 12ms/step - loss: 0.5846 - acc: 0.9143 - val_loss: 6.7532 - val_acc: 0.7400\n",
            "Epoch 47/50\n",
            "1891/1891 [==============================] - 22s 12ms/step - loss: 0.5705 - acc: 0.8911 - val_loss: 5.7917 - val_acc: 0.7738\n",
            "Epoch 48/50\n",
            "1891/1891 [==============================] - 22s 12ms/step - loss: 0.6537 - acc: 0.8905 - val_loss: 6.2695 - val_acc: 0.7759\n",
            "Epoch 49/50\n",
            "1891/1891 [==============================] - 22s 12ms/step - loss: 0.4742 - acc: 0.9238 - val_loss: 7.1967 - val_acc: 0.8076\n",
            "Epoch 50/50\n",
            "1891/1891 [==============================] - 22s 12ms/step - loss: 0.8929 - acc: 0.8874 - val_loss: 4.4765 - val_acc: 0.7844\n"
          ],
          "name": "stdout"
        }
      ]
    },
    {
      "metadata": {
        "id": "bS4Xnw4A2ohb",
        "colab_type": "code",
        "outputId": "1cdbcd13-8665-42aa-9145-5e7344da06a3",
        "colab": {
          "base_uri": "https://localhost:8080/",
          "height": 735
        }
      },
      "cell_type": "code",
      "source": [
        "# summarizing accuracy/epoch\n",
        "plt.plot(history.history['acc'])\n",
        "plt.plot(history.history['val_acc'])\n",
        "plt.title('model accuracy')\n",
        "plt.ylabel('accuracy')\n",
        "plt.xlabel('epoch')\n",
        "plt.legend(['train', 'test'], loc='upper left')\n",
        "plt.show()\n",
        "\n",
        "# summarize loss/epoch\n",
        "plt.plot(history.history['loss'])\n",
        "plt.plot(history.history['val_loss'])\n",
        "plt.title('model loss')\n",
        "plt.ylabel('loss')\n",
        "plt.xlabel('epoch')\n",
        "plt.legend(['train', 'test'], loc='upper left')\n",
        "plt.show()"
      ],
      "execution_count": 0,
      "outputs": [
        {
          "output_type": "display_data",
          "data": {
            "image/png": "[encoded data removed]",
            "text/plain": [
              "<matplotlib.figure.Figure at 0x7fee73660fd0>"
            ]
          },
          "metadata": {
            "tags": []
          }
        },
        {
          "output_type": "display_data",
          "data": {
            "image/png": "[encoded data removed]",
            "text/plain": [
              "<matplotlib.figure.Figure at 0x7fee72ddb400>"
            ]
          },
          "metadata": {
            "tags": []
          }
        }
      ]
    },
    {
      "metadata": {
        "id": "4nJl3o5NPlJ8",
        "colab_type": "text"
      },
      "cell_type": "markdown",
      "source": [
        "\n",
        "\n",
        "---\n",
        "**Attempt # 2**\n",
        "\n",
        "\n",
        "*   Batch Size: 16\n",
        "*   Epochs: 80\n",
        "*   Learning Rate: 0.00001\n",
        "\n",
        "---\n",
        "\n"
      ]
    },
    {
      "metadata": {
        "id": "ORZP5CoFPwV4",
        "colab_type": "code",
        "outputId": "005cc3fb-3b5e-4d30-f822-d8fbdc8a0dca",
        "colab": {
          "base_uri": "https://localhost:8080/",
          "height": 3556
        }
      },
      "cell_type": "code",
      "source": [
        "batch_size = 16 \n",
        "epochs = 80\n",
        "\n",
        "class_weights = get_class_weights(m1_labels-1, 0.1)\n",
        "print(f'Balanced Class Weights:=> {class_weights}')\n",
        "\n",
        "model = ModelTwo(input_shape=input_shape)\n",
        "\n",
        "model.compile(loss=keras.losses.sparse_categorical_crossentropy,\n",
        "              optimizer=keras.optimizers.Adam(lr=0.00001),\n",
        "              metrics=['accuracy'])\n",
        "\n",
        "# label-1 because keras start counting classes from zero\n",
        "history = model.fit(m1_data, m1_labels-1,\n",
        "                    batch_size=batch_size,\n",
        "                    epochs=epochs,\n",
        "                    verbose=1, shuffle=True, validation_split=0.2, class_weight=class_weights)"
      ],
      "execution_count": 0,
      "outputs": [
        {
          "output_type": "stream",
          "text": [
            "Balanced Class Weights:=> {5: 1.0, 3: 7.773223016171494, 2: 7.952674105425165, 0: 6.801250411319514, 1: 7.05667463298054, 4: 8.474374743747438, 6: 8.405449369662465}\n",
            "_________________________________________________________________\n",
            "Layer (type)                 Output Shape              Param #   \n",
            "=================================================================\n",
            "conv2d_13 (Conv2D)           (None, 298, 298, 16)      448       \n",
            "_________________________________________________________________\n",
            "conv2d_14 (Conv2D)           (None, 298, 298, 16)      272       \n",
            "_________________________________________________________________\n",
            "conv2d_15 (Conv2D)           (None, 296, 296, 16)      2320      \n",
            "_________________________________________________________________\n",
            "max_pooling2d_4 (MaxPooling2 (None, 148, 148, 16)      0         \n",
            "_________________________________________________________________\n",
            "conv2d_16 (Conv2D)           (None, 146, 146, 32)      4640      \n",
            "_________________________________________________________________\n",
            "conv2d_17 (Conv2D)           (None, 146, 146, 32)      1056      \n",
            "_________________________________________________________________\n",
            "conv2d_18 (Conv2D)           (None, 144, 144, 32)      9248      \n",
            "_________________________________________________________________\n",
            "max_pooling2d_5 (MaxPooling2 (None, 72, 72, 32)        0         \n",
            "_________________________________________________________________\n",
            "conv2d_19 (Conv2D)           (None, 70, 70, 64)        18496     \n",
            "_________________________________________________________________\n",
            "conv2d_20 (Conv2D)           (None, 70, 70, 64)        4160      \n",
            "_________________________________________________________________\n",
            "conv2d_21 (Conv2D)           (None, 68, 68, 64)        36928     \n",
            "_________________________________________________________________\n",
            "max_pooling2d_6 (MaxPooling2 (None, 34, 34, 64)        0         \n",
            "_________________________________________________________________\n",
            "conv2d_22 (Conv2D)           (None, 32, 32, 128)       73856     \n",
            "_________________________________________________________________\n",
            "conv2d_23 (Conv2D)           (None, 32, 32, 128)       16512     \n",
            "_________________________________________________________________\n",
            "conv2d_24 (Conv2D)           (None, 30, 30, 128)       147584    \n",
            "_________________________________________________________________\n",
            "average_pooling2d_2 (Average (None, 4, 4, 128)         0         \n",
            "_________________________________________________________________\n",
            "flatten_2 (Flatten)          (None, 2048)              0         \n",
            "_________________________________________________________________\n",
            "dense_3 (Dense)              (None, 512)               1049088   \n",
            "_________________________________________________________________\n",
            "dense_4 (Dense)              (None, 7)                 3591      \n",
            "=================================================================\n",
            "Total params: 1,368,199\n",
            "Trainable params: 1,368,199\n",
            "Non-trainable params: 0\n",
            "_________________________________________________________________\n",
            "Train on 1891 samples, validate on 473 samples\n",
            "Epoch 1/80\n",
            "1891/1891 [==============================] - 25s 13ms/step - loss: 7.5187 - acc: 0.5537 - val_loss: 4.7473 - val_acc: 0.7040\n",
            "Epoch 2/80\n",
            "1891/1891 [==============================] - 23s 12ms/step - loss: 4.4266 - acc: 0.6441 - val_loss: 3.9513 - val_acc: 0.5920\n",
            "Epoch 3/80\n",
            "1891/1891 [==============================] - 23s 12ms/step - loss: 4.0760 - acc: 0.6653 - val_loss: 4.0137 - val_acc: 0.6892\n",
            "Epoch 4/80\n",
            "1891/1891 [==============================] - 23s 12ms/step - loss: 3.9757 - acc: 0.6848 - val_loss: 3.9185 - val_acc: 0.5962\n",
            "Epoch 5/80\n",
            "1891/1891 [==============================] - 23s 12ms/step - loss: 3.9112 - acc: 0.6838 - val_loss: 3.7546 - val_acc: 0.6765\n",
            "Epoch 6/80\n",
            "1891/1891 [==============================] - 23s 12ms/step - loss: 3.7870 - acc: 0.6975 - val_loss: 3.8270 - val_acc: 0.7653\n",
            "Epoch 7/80\n",
            "1891/1891 [==============================] - 23s 12ms/step - loss: 3.6960 - acc: 0.7012 - val_loss: 3.4870 - val_acc: 0.7400\n",
            "Epoch 8/80\n",
            "1891/1891 [==============================] - 23s 12ms/step - loss: 3.5565 - acc: 0.7150 - val_loss: 3.6821 - val_acc: 0.6660\n",
            "Epoch 9/80\n",
            "1891/1891 [==============================] - 23s 12ms/step - loss: 3.5980 - acc: 0.7171 - val_loss: 3.6126 - val_acc: 0.7019\n",
            "Epoch 10/80\n",
            "1891/1891 [==============================] - 23s 12ms/step - loss: 3.5141 - acc: 0.7155 - val_loss: 3.4503 - val_acc: 0.7674\n",
            "Epoch 11/80\n",
            "1891/1891 [==============================] - 23s 12ms/step - loss: 3.4697 - acc: 0.7002 - val_loss: 3.4036 - val_acc: 0.6237\n",
            "Epoch 12/80\n",
            "1891/1891 [==============================] - 23s 12ms/step - loss: 3.3873 - acc: 0.6917 - val_loss: 3.4869 - val_acc: 0.7569\n",
            "Epoch 13/80\n",
            "1891/1891 [==============================] - 23s 12ms/step - loss: 3.3305 - acc: 0.7240 - val_loss: 3.5793 - val_acc: 0.7526\n",
            "Epoch 14/80\n",
            "1891/1891 [==============================] - 23s 12ms/step - loss: 3.2350 - acc: 0.7107 - val_loss: 3.2922 - val_acc: 0.7738\n",
            "Epoch 15/80\n",
            "1891/1891 [==============================] - 23s 12ms/step - loss: 3.1193 - acc: 0.7329 - val_loss: 3.1313 - val_acc: 0.5180\n",
            "Epoch 16/80\n",
            "1891/1891 [==============================] - 23s 12ms/step - loss: 3.1191 - acc: 0.7155 - val_loss: 3.1346 - val_acc: 0.7907\n",
            "Epoch 17/80\n",
            "1891/1891 [==============================] - 23s 12ms/step - loss: 3.0035 - acc: 0.7361 - val_loss: 3.4642 - val_acc: 0.6554\n",
            "Epoch 18/80\n",
            "1891/1891 [==============================] - 23s 12ms/step - loss: 3.0005 - acc: 0.7441 - val_loss: 3.2292 - val_acc: 0.6004\n",
            "Epoch 19/80\n",
            "1891/1891 [==============================] - 23s 12ms/step - loss: 3.0022 - acc: 0.7314 - val_loss: 3.1912 - val_acc: 0.7230\n",
            "Epoch 20/80\n",
            "1891/1891 [==============================] - 23s 12ms/step - loss: 2.8284 - acc: 0.7530 - val_loss: 3.1277 - val_acc: 0.7252\n",
            "Epoch 21/80\n",
            "1891/1891 [==============================] - 23s 12ms/step - loss: 2.8237 - acc: 0.7329 - val_loss: 2.9464 - val_acc: 0.7209\n",
            "Epoch 22/80\n",
            "1891/1891 [==============================] - 23s 12ms/step - loss: 2.7356 - acc: 0.7393 - val_loss: 2.9174 - val_acc: 0.7040\n",
            "Epoch 23/80\n",
            "1891/1891 [==============================] - 23s 12ms/step - loss: 2.7061 - acc: 0.7340 - val_loss: 3.0985 - val_acc: 0.7252\n",
            "Epoch 24/80\n",
            "1891/1891 [==============================] - 23s 12ms/step - loss: 2.4845 - acc: 0.7700 - val_loss: 3.2747 - val_acc: 0.7886\n",
            "Epoch 25/80\n",
            "1891/1891 [==============================] - 23s 12ms/step - loss: 2.5078 - acc: 0.7636 - val_loss: 3.0317 - val_acc: 0.6913\n",
            "Epoch 26/80\n",
            "1891/1891 [==============================] - 23s 12ms/step - loss: 2.5172 - acc: 0.7467 - val_loss: 2.9624 - val_acc: 0.7336\n",
            "Epoch 27/80\n",
            "1891/1891 [==============================] - 23s 12ms/step - loss: 2.4547 - acc: 0.7641 - val_loss: 2.8999 - val_acc: 0.6934\n",
            "Epoch 28/80\n",
            "1891/1891 [==============================] - 23s 12ms/step - loss: 2.3938 - acc: 0.7557 - val_loss: 2.9595 - val_acc: 0.7569\n",
            "Epoch 29/80\n",
            "1891/1891 [==============================] - 23s 12ms/step - loss: 2.2967 - acc: 0.7715 - val_loss: 2.9945 - val_acc: 0.7315\n",
            "Epoch 30/80\n",
            "1891/1891 [==============================] - 23s 12ms/step - loss: 2.3833 - acc: 0.7578 - val_loss: 2.8751 - val_acc: 0.7146\n",
            "Epoch 31/80\n",
            "1891/1891 [==============================] - 23s 12ms/step - loss: 2.2454 - acc: 0.7853 - val_loss: 3.0165 - val_acc: 0.7273\n",
            "Epoch 32/80\n",
            "1891/1891 [==============================] - 23s 12ms/step - loss: 2.2108 - acc: 0.7779 - val_loss: 2.9308 - val_acc: 0.8097\n",
            "Epoch 33/80\n",
            "1891/1891 [==============================] - 23s 12ms/step - loss: 2.1968 - acc: 0.7779 - val_loss: 2.8325 - val_acc: 0.7104\n",
            "Epoch 34/80\n",
            "1891/1891 [==============================] - 23s 12ms/step - loss: 2.0999 - acc: 0.7848 - val_loss: 3.3576 - val_acc: 0.7738\n",
            "Epoch 35/80\n",
            "1891/1891 [==============================] - 23s 12ms/step - loss: 2.0121 - acc: 0.7959 - val_loss: 3.2062 - val_acc: 0.7907\n",
            "Epoch 36/80\n",
            "1891/1891 [==============================] - 23s 12ms/step - loss: 2.0495 - acc: 0.7795 - val_loss: 3.1728 - val_acc: 0.7611\n",
            "Epoch 37/80\n",
            "1891/1891 [==============================] - 23s 12ms/step - loss: 1.9966 - acc: 0.7922 - val_loss: 3.0110 - val_acc: 0.7505\n",
            "Epoch 38/80\n",
            "1891/1891 [==============================] - 23s 12ms/step - loss: 1.8963 - acc: 0.7996 - val_loss: 3.1251 - val_acc: 0.7463\n",
            "Epoch 39/80\n",
            "1891/1891 [==============================] - 23s 12ms/step - loss: 1.9163 - acc: 0.8027 - val_loss: 3.3832 - val_acc: 0.7759\n",
            "Epoch 40/80\n",
            "1891/1891 [==============================] - 23s 12ms/step - loss: 1.7969 - acc: 0.8181 - val_loss: 3.3391 - val_acc: 0.7188\n",
            "Epoch 41/80\n",
            "1891/1891 [==============================] - 23s 12ms/step - loss: 1.7741 - acc: 0.8139 - val_loss: 3.3977 - val_acc: 0.7801\n",
            "Epoch 42/80\n",
            "1891/1891 [==============================] - 23s 12ms/step - loss: 1.7443 - acc: 0.8255 - val_loss: 3.8123 - val_acc: 0.7336\n",
            "Epoch 43/80\n",
            "1891/1891 [==============================] - 23s 12ms/step - loss: 1.6955 - acc: 0.8102 - val_loss: 3.3989 - val_acc: 0.6892\n",
            "Epoch 44/80\n",
            "1891/1891 [==============================] - 23s 12ms/step - loss: 1.6393 - acc: 0.8218 - val_loss: 3.3067 - val_acc: 0.7738\n",
            "Epoch 45/80\n",
            "1891/1891 [==============================] - 23s 12ms/step - loss: 1.6451 - acc: 0.8123 - val_loss: 3.6217 - val_acc: 0.8309\n",
            "Epoch 46/80\n",
            "1891/1891 [==============================] - 23s 12ms/step - loss: 1.5974 - acc: 0.8292 - val_loss: 3.2847 - val_acc: 0.7421\n",
            "Epoch 47/80\n",
            "1891/1891 [==============================] - 23s 12ms/step - loss: 1.4713 - acc: 0.8387 - val_loss: 3.8354 - val_acc: 0.7865\n",
            "Epoch 48/80\n",
            "1891/1891 [==============================] - 23s 12ms/step - loss: 1.4780 - acc: 0.8361 - val_loss: 3.3686 - val_acc: 0.7463\n",
            "Epoch 49/80\n",
            "1891/1891 [==============================] - 23s 12ms/step - loss: 1.4386 - acc: 0.8377 - val_loss: 3.5550 - val_acc: 0.7463\n",
            "Epoch 50/80\n",
            "1891/1891 [==============================] - 23s 12ms/step - loss: 1.3629 - acc: 0.8488 - val_loss: 3.7776 - val_acc: 0.7400\n",
            "Epoch 51/80\n",
            "1891/1891 [==============================] - 23s 12ms/step - loss: 1.3458 - acc: 0.8429 - val_loss: 3.3888 - val_acc: 0.7674\n",
            "Epoch 52/80\n",
            "1891/1891 [==============================] - 23s 12ms/step - loss: 1.4249 - acc: 0.8281 - val_loss: 3.6744 - val_acc: 0.8013\n",
            "Epoch 53/80\n",
            "1891/1891 [==============================] - 23s 12ms/step - loss: 1.3251 - acc: 0.8429 - val_loss: 3.6074 - val_acc: 0.7717\n",
            "Epoch 54/80\n",
            "1891/1891 [==============================] - 23s 12ms/step - loss: 1.3268 - acc: 0.8488 - val_loss: 3.8955 - val_acc: 0.7970\n",
            "Epoch 55/80\n",
            "1891/1891 [==============================] - 23s 12ms/step - loss: 1.2542 - acc: 0.8604 - val_loss: 4.6994 - val_acc: 0.7886\n",
            "Epoch 56/80\n",
            "1891/1891 [==============================] - 23s 12ms/step - loss: 1.3532 - acc: 0.8509 - val_loss: 4.0462 - val_acc: 0.7822\n",
            "Epoch 57/80\n",
            "1891/1891 [==============================] - 23s 12ms/step - loss: 1.1515 - acc: 0.8673 - val_loss: 3.5791 - val_acc: 0.7505\n",
            "Epoch 58/80\n",
            "1891/1891 [==============================] - 23s 12ms/step - loss: 1.1782 - acc: 0.8572 - val_loss: 3.9705 - val_acc: 0.7421\n",
            "Epoch 59/80\n",
            "1891/1891 [==============================] - 23s 12ms/step - loss: 1.1366 - acc: 0.8710 - val_loss: 4.8495 - val_acc: 0.7907\n",
            "Epoch 60/80\n",
            "1891/1891 [==============================] - 23s 12ms/step - loss: 1.1027 - acc: 0.8689 - val_loss: 4.1848 - val_acc: 0.7357\n",
            "Epoch 61/80\n",
            "1891/1891 [==============================] - 23s 12ms/step - loss: 1.0902 - acc: 0.8694 - val_loss: 4.3029 - val_acc: 0.7632\n",
            "Epoch 62/80\n",
            "1891/1891 [==============================] - 23s 12ms/step - loss: 1.0061 - acc: 0.8752 - val_loss: 4.6845 - val_acc: 0.7611\n",
            "Epoch 63/80\n",
            "1891/1891 [==============================] - 23s 12ms/step - loss: 1.2237 - acc: 0.8546 - val_loss: 4.3194 - val_acc: 0.6702\n",
            "Epoch 64/80\n",
            "1891/1891 [==============================] - 23s 12ms/step - loss: 1.0659 - acc: 0.8667 - val_loss: 4.6241 - val_acc: 0.7844\n",
            "Epoch 65/80\n",
            "1891/1891 [==============================] - 23s 12ms/step - loss: 0.9993 - acc: 0.8884 - val_loss: 4.3363 - val_acc: 0.7569\n",
            "Epoch 66/80\n",
            "1891/1891 [==============================] - 23s 12ms/step - loss: 1.0247 - acc: 0.8789 - val_loss: 4.0917 - val_acc: 0.7653\n",
            "Epoch 67/80\n",
            "1891/1891 [==============================] - 23s 12ms/step - loss: 0.9191 - acc: 0.8868 - val_loss: 4.4072 - val_acc: 0.7463\n",
            "Epoch 68/80\n",
            "1891/1891 [==============================] - 23s 12ms/step - loss: 0.8877 - acc: 0.8900 - val_loss: 5.3419 - val_acc: 0.8097\n",
            "Epoch 69/80\n",
            "1891/1891 [==============================] - 23s 12ms/step - loss: 0.8765 - acc: 0.8900 - val_loss: 4.7464 - val_acc: 0.7780\n",
            "Epoch 70/80\n",
            "1891/1891 [==============================] - 23s 12ms/step - loss: 0.8457 - acc: 0.8937 - val_loss: 4.7235 - val_acc: 0.7780\n",
            "Epoch 71/80\n",
            "1891/1891 [==============================] - 23s 12ms/step - loss: 0.7428 - acc: 0.9122 - val_loss: 5.2040 - val_acc: 0.8013\n",
            "Epoch 72/80\n",
            "1891/1891 [==============================] - 23s 12ms/step - loss: 0.7669 - acc: 0.9027 - val_loss: 5.7928 - val_acc: 0.7569\n",
            "Epoch 73/80\n",
            "1891/1891 [==============================] - 23s 12ms/step - loss: 0.7313 - acc: 0.9112 - val_loss: 5.5905 - val_acc: 0.7928\n",
            "Epoch 74/80\n",
            "1891/1891 [==============================] - 23s 12ms/step - loss: 0.7108 - acc: 0.9101 - val_loss: 5.3446 - val_acc: 0.7886\n",
            "Epoch 75/80\n",
            "1891/1891 [==============================] - 23s 12ms/step - loss: 0.6956 - acc: 0.9127 - val_loss: 5.8270 - val_acc: 0.8034\n",
            "Epoch 76/80\n",
            "1891/1891 [==============================] - 23s 12ms/step - loss: 0.6860 - acc: 0.9244 - val_loss: 5.5287 - val_acc: 0.8034\n",
            "Epoch 77/80\n",
            "1891/1891 [==============================] - 23s 12ms/step - loss: 0.6582 - acc: 0.9186 - val_loss: 4.4845 - val_acc: 0.7421\n",
            "Epoch 78/80\n",
            "1891/1891 [==============================] - 23s 12ms/step - loss: 0.6784 - acc: 0.9164 - val_loss: 5.0588 - val_acc: 0.7400\n",
            "Epoch 79/80\n",
            "1891/1891 [==============================] - 23s 12ms/step - loss: 0.6465 - acc: 0.9090 - val_loss: 4.7689 - val_acc: 0.7992\n",
            "Epoch 80/80\n",
            "1891/1891 [==============================] - 23s 12ms/step - loss: 0.6279 - acc: 0.9223 - val_loss: 5.1818 - val_acc: 0.7717\n"
          ],
          "name": "stdout"
        }
      ]
    },
    {
      "metadata": {
        "id": "LuIkvAeJP-GX",
        "colab_type": "code",
        "outputId": "3c0e2595-40cb-4a3e-ac9a-0e17f254a3f6",
        "colab": {
          "base_uri": "https://localhost:8080/",
          "height": 735
        }
      },
      "cell_type": "code",
      "source": [
        "# summarizing accuracy/epoch\n",
        "plt.plot(history.history['acc'])\n",
        "plt.plot(history.history['val_acc'])\n",
        "plt.title('model accuracy')\n",
        "plt.ylabel('accuracy')\n",
        "plt.xlabel('epoch')\n",
        "plt.legend(['train', 'test'], loc='upper left')\n",
        "plt.show()\n",
        "\n",
        "# summarize loss/epoch\n",
        "plt.plot(history.history['loss'])\n",
        "plt.plot(history.history['val_loss'])\n",
        "plt.title('model loss')\n",
        "plt.ylabel('loss')\n",
        "plt.xlabel('epoch')\n",
        "plt.legend(['train', 'test'], loc='upper left')\n",
        "plt.show()"
      ],
      "execution_count": 0,
      "outputs": [
        {
          "output_type": "display_data",
          "data": {
            "image/png": "[encoded data removed]",
            "text/plain": [
              "<matplotlib.figure.Figure at 0x7fee70202dd8>"
            ]
          },
          "metadata": {
            "tags": []
          }
        },
        {
          "output_type": "display_data",
          "data": {
            "image/png": "[encoded data removed]",
            "text/plain": [
              "<matplotlib.figure.Figure at 0x7fee70db0710>"
            ]
          },
          "metadata": {
            "tags": []
          }
        }
      ]
    },
    {
      "metadata": {
        "colab_type": "text",
        "id": "pQ5ezluT9VNp"
      },
      "cell_type": "markdown",
      "source": [
        "\n",
        "\n",
        "---\n",
        "**Attempt # 3**\n",
        "\n",
        "\n",
        "*   Batch Size: 128\n",
        "*   Epochs: 50\n",
        "*   Learning Rate: Default\n",
        "*   Optimizer: SGD\n",
        "\n",
        "---\n",
        "\n"
      ]
    },
    {
      "metadata": {
        "colab_type": "code",
        "id": "6Fu3unab9mhT",
        "outputId": "2cad5cdb-7866-42d8-ae4f-9fee1358bd10",
        "colab": {
          "base_uri": "https://localhost:8080/",
          "height": 1720
        }
      },
      "cell_type": "code",
      "source": [
        "batch_size = 16\n",
        "epochs = 25\n",
        "\n",
        "class_weights = get_class_weights(m1_labels-1, 0.1)\n",
        "print(f'Balanced Class Weights:=> {class_weights}')\n",
        "\n",
        "model = ModelTwo(input_shape=input_shape)\n",
        "\n",
        "model.compile(loss=keras.losses.sparse_categorical_crossentropy,\n",
        "              optimizer=keras.optimizers.Adamax(),\n",
        "              metrics=['accuracy'])\n",
        "\n",
        "# label-1 because keras start counting classes from zero\n",
        "history = model.fit(m1_data, m1_labels-1,\n",
        "                    batch_size=batch_size,\n",
        "                    epochs=epochs,\n",
        "                    verbose=1, shuffle=True, validation_split=0.2, class_weight=class_weights)"
      ],
      "execution_count": 0,
      "outputs": [
        {
          "output_type": "stream",
          "text": [
            "Balanced Class Weights:=> {5: 1.0, 1: 7.05667463298054, 3: 7.773223016171494, 6: 8.405449369662465, 0: 6.801250411319514, 4: 8.474374743747438, 2: 7.952674105425165}\n",
            "_________________________________________________________________\n",
            "Layer (type)                 Output Shape              Param #   \n",
            "=================================================================\n",
            "conv2d_85 (Conv2D)           (None, 298, 298, 16)      448       \n",
            "_________________________________________________________________\n",
            "conv2d_86 (Conv2D)           (None, 298, 298, 16)      272       \n",
            "_________________________________________________________________\n",
            "conv2d_87 (Conv2D)           (None, 296, 296, 16)      2320      \n",
            "_________________________________________________________________\n",
            "max_pooling2d_22 (MaxPooling (None, 148, 148, 16)      0         \n",
            "_________________________________________________________________\n",
            "conv2d_88 (Conv2D)           (None, 146, 146, 32)      4640      \n",
            "_________________________________________________________________\n",
            "conv2d_89 (Conv2D)           (None, 146, 146, 32)      1056      \n",
            "_________________________________________________________________\n",
            "conv2d_90 (Conv2D)           (None, 144, 144, 32)      9248      \n",
            "_________________________________________________________________\n",
            "max_pooling2d_23 (MaxPooling (None, 72, 72, 32)        0         \n",
            "_________________________________________________________________\n",
            "conv2d_91 (Conv2D)           (None, 70, 70, 64)        18496     \n",
            "_________________________________________________________________\n",
            "conv2d_92 (Conv2D)           (None, 70, 70, 64)        4160      \n",
            "_________________________________________________________________\n",
            "conv2d_93 (Conv2D)           (None, 68, 68, 64)        36928     \n",
            "_________________________________________________________________\n",
            "max_pooling2d_24 (MaxPooling (None, 34, 34, 64)        0         \n",
            "_________________________________________________________________\n",
            "conv2d_94 (Conv2D)           (None, 32, 32, 128)       73856     \n",
            "_________________________________________________________________\n",
            "conv2d_95 (Conv2D)           (None, 32, 32, 128)       16512     \n",
            "_________________________________________________________________\n",
            "conv2d_96 (Conv2D)           (None, 30, 30, 128)       147584    \n",
            "_________________________________________________________________\n",
            "average_pooling2d_8 (Average (None, 4, 4, 128)         0         \n",
            "_________________________________________________________________\n",
            "flatten_8 (Flatten)          (None, 2048)              0         \n",
            "_________________________________________________________________\n",
            "dense_15 (Dense)             (None, 512)               1049088   \n",
            "_________________________________________________________________\n",
            "dropout_4 (Dropout)          (None, 512)               0         \n",
            "_________________________________________________________________\n",
            "dense_16 (Dense)             (None, 7)                 3591      \n",
            "=================================================================\n",
            "Total params: 1,368,199\n",
            "Trainable params: 1,368,199\n",
            "Non-trainable params: 0\n",
            "_________________________________________________________________\n",
            "Train on 1891 samples, validate on 473 samples\n",
            "Epoch 1/25\n",
            "1891/1891 [==============================] - 24s 13ms/step - loss: 4.4848 - acc: 0.7562 - val_loss: 4.1243 - val_acc: 0.8140\n",
            "Epoch 2/25\n",
            "1891/1891 [==============================] - 23s 12ms/step - loss: 4.3638 - acc: 0.7901 - val_loss: 4.0379 - val_acc: 0.8140\n",
            "Epoch 3/25\n",
            "1891/1891 [==============================] - 23s 12ms/step - loss: 4.2874 - acc: 0.7901 - val_loss: 3.8660 - val_acc: 0.8140\n",
            "Epoch 4/25\n",
            "1891/1891 [==============================] - 23s 12ms/step - loss: 4.1194 - acc: 0.7589 - val_loss: 3.7867 - val_acc: 0.7717\n",
            "Epoch 5/25\n",
            "1891/1891 [==============================] - 23s 12ms/step - loss: 3.7302 - acc: 0.7737 - val_loss: 3.3824 - val_acc: 0.7463\n",
            "Epoch 6/25\n",
            "1891/1891 [==============================] - 23s 12ms/step - loss: 3.4211 - acc: 0.7478 - val_loss: 3.1216 - val_acc: 0.7209\n",
            "Epoch 7/25\n",
            "1891/1891 [==============================] - 23s 12ms/step - loss: 3.1409 - acc: 0.7409 - val_loss: 3.1722 - val_acc: 0.6892\n",
            "Epoch 8/25\n",
            "1891/1891 [==============================] - 23s 12ms/step - loss: 2.9458 - acc: 0.7366 - val_loss: 2.6816 - val_acc: 0.7844\n",
            "Epoch 9/25\n",
            "1891/1891 [==============================] - 23s 12ms/step - loss: 2.8770 - acc: 0.7361 - val_loss: 2.7057 - val_acc: 0.7569\n",
            "Epoch 10/25\n",
            "1891/1891 [==============================] - 23s 12ms/step - loss: 2.5523 - acc: 0.7446 - val_loss: 2.5398 - val_acc: 0.7653\n",
            "Epoch 11/25\n",
            "1891/1891 [==============================] - 23s 12ms/step - loss: 2.3690 - acc: 0.7552 - val_loss: 2.7434 - val_acc: 0.7801\n",
            "Epoch 12/25\n",
            "1891/1891 [==============================] - 23s 12ms/step - loss: 2.2442 - acc: 0.7731 - val_loss: 2.5900 - val_acc: 0.7653\n",
            "Epoch 13/25\n",
            "1891/1891 [==============================] - 23s 12ms/step - loss: 2.0497 - acc: 0.7837 - val_loss: 2.7796 - val_acc: 0.8203\n",
            "Epoch 14/25\n",
            "1891/1891 [==============================] - 23s 12ms/step - loss: 1.7687 - acc: 0.8160 - val_loss: 2.5597 - val_acc: 0.7928\n",
            "Epoch 15/25\n",
            "1891/1891 [==============================] - 23s 12ms/step - loss: 1.5808 - acc: 0.8271 - val_loss: 2.6342 - val_acc: 0.7992\n",
            "Epoch 16/25\n",
            "1891/1891 [==============================] - 23s 12ms/step - loss: 1.5243 - acc: 0.8244 - val_loss: 2.4916 - val_acc: 0.7970\n",
            "Epoch 17/25\n",
            "1891/1891 [==============================] - 23s 12ms/step - loss: 1.4631 - acc: 0.8265 - val_loss: 2.6676 - val_acc: 0.7928\n",
            "Epoch 18/25\n",
            "1891/1891 [==============================] - 23s 12ms/step - loss: 1.5434 - acc: 0.8514 - val_loss: 2.6533 - val_acc: 0.8097\n",
            "Epoch 19/25\n",
            "1891/1891 [==============================] - 23s 12ms/step - loss: 1.1559 - acc: 0.8662 - val_loss: 2.6844 - val_acc: 0.7696\n",
            "Epoch 20/25\n",
            "1891/1891 [==============================] - 23s 12ms/step - loss: 1.0479 - acc: 0.8784 - val_loss: 3.2577 - val_acc: 0.8372\n",
            "Epoch 21/25\n",
            "1891/1891 [==============================] - 23s 12ms/step - loss: 0.8685 - acc: 0.8969 - val_loss: 3.1713 - val_acc: 0.8203\n",
            "Epoch 22/25\n",
            "1891/1891 [==============================] - 23s 12ms/step - loss: 0.7766 - acc: 0.8969 - val_loss: 3.5870 - val_acc: 0.8288\n",
            "Epoch 23/25\n",
            "1891/1891 [==============================] - 23s 12ms/step - loss: 0.7906 - acc: 0.9048 - val_loss: 3.0594 - val_acc: 0.8436\n",
            "Epoch 24/25\n",
            "1891/1891 [==============================] - 23s 12ms/step - loss: 0.6958 - acc: 0.9096 - val_loss: 3.3205 - val_acc: 0.8499\n",
            "Epoch 25/25\n",
            "1891/1891 [==============================] - 23s 12ms/step - loss: 0.6342 - acc: 0.9090 - val_loss: 4.2280 - val_acc: 0.8647\n"
          ],
          "name": "stdout"
        }
      ]
    },
    {
      "metadata": {
        "id": "_W89zox8DNJH",
        "colab_type": "code",
        "outputId": "08c107da-2428-462d-c3ec-959f313f3f00",
        "colab": {
          "base_uri": "https://localhost:8080/",
          "height": 735
        }
      },
      "cell_type": "code",
      "source": [
        "# summarizing accuracy/epoch\n",
        "plt.plot(history.history['acc'])\n",
        "plt.plot(history.history['val_acc'])\n",
        "plt.title('model accuracy')\n",
        "plt.ylabel('accuracy')\n",
        "plt.xlabel('epoch')\n",
        "plt.legend(['train', 'test'], loc='upper left')\n",
        "plt.show()\n",
        "\n",
        "# summarize loss/epoch\n",
        "plt.plot(history.history['loss'])\n",
        "plt.plot(history.history['val_loss'])\n",
        "plt.title('model loss')\n",
        "plt.ylabel('loss')\n",
        "plt.xlabel('epoch')\n",
        "plt.legend(['train', 'test'], loc='upper left')\n",
        "plt.show()"
      ],
      "execution_count": 0,
      "outputs": [
        {
          "output_type": "display_data",
          "data": {
            "image/png": "[encoded data removed]",
            "text/plain": [
              "<matplotlib.figure.Figure at 0x7f45fc5d1b00>"
            ]
          },
          "metadata": {
            "tags": []
          }
        },
        {
          "output_type": "display_data",
          "data": {
            "image/png": "[encoded data removed]",
            "text/plain": [
              "<matplotlib.figure.Figure at 0x7f45fa7c8240>"
            ]
          },
          "metadata": {
            "tags": []
          }
        }
      ]
    },
    {
      "metadata": {
        "colab_type": "text",
        "id": "9Vx0lGNustXy"
      },
      "cell_type": "markdown",
      "source": [
        "\n",
        "\n",
        "---\n",
        "**Attempt # 4**\n",
        "\n",
        "\n",
        "*   Batch Size: 32\n",
        "*   Epochs: 50\n",
        "*   Learning Rate: Default\n",
        "*   Optimizer: Adam\n",
        "\n",
        "**Important: Test dataset is balanced but training left the same and controlled via defining class weights to them**\n",
        "---\n",
        "\n"
      ]
    },
    {
      "metadata": {
        "id": "J1A6_HfGagcT",
        "colab_type": "code",
        "outputId": "2c96b3c5-4228-4dba-9e6c-ff5ff3508d29",
        "colab": {
          "base_uri": "https://localhost:8080/",
          "height": 170
        }
      },
      "cell_type": "code",
      "source": [
        "#train_data_dir = '/content/gdrive/My Drive/Datasets/tt_dataset/train'\n",
        "#test_data_dir = '/content/gdrive/My Drive/Datasets/tt_dataset/test'\n",
        "\n",
        "#train_generator = data_generator(train_data_dir, img_h, img_w, batch_size)\n",
        "#val_generator = data_generator(test_data_dir, img_h, img_w, batch_size)\n",
        "\n",
        "#test_files = total_files(test_data_dir)\n",
        "#train_files = total_files(train_data_dir)\n",
        "\n",
        "#steps_per_epoch = math.ceil(train_files/batch_size)\n",
        "#validation_steps = math.ceil(test_files/batch_size)\n",
        "\n",
        "# Single data set for training and testing using validation siplit of 0.2\n",
        "train_data, train_labels = get_data('/content/gdrive/My Drive/Datasets/tt_dataset/train', img_h, img_w)"
      ],
      "execution_count": 0,
      "outputs": [
        {
          "output_type": "stream",
          "text": [
            "Directory:=> /content/gdrive/My Drive/Datasets/tt_dataset/train\n",
            "Directory:=> /content/gdrive/My Drive/Datasets/tt_dataset/train/7\n",
            "Directory:=> /content/gdrive/My Drive/Datasets/tt_dataset/train/1\n",
            "Directory:=> /content/gdrive/My Drive/Datasets/tt_dataset/train/4\n",
            "Directory:=> /content/gdrive/My Drive/Datasets/tt_dataset/train/2\n",
            "Directory:=> /content/gdrive/My Drive/Datasets/tt_dataset/train/3\n",
            "Directory:=> /content/gdrive/My Drive/Datasets/tt_dataset/train/5\n",
            "Directory:=> /content/gdrive/My Drive/Datasets/tt_dataset/train/6\n",
            "Total Images: 1894 || Total Labels: 1894 || Total Errors: 0\n"
          ],
          "name": "stdout"
        }
      ]
    },
    {
      "metadata": {
        "id": "ct2fJsf8bZ4_",
        "colab_type": "code",
        "outputId": "7751ac07-2930-4a96-c828-99a608262020",
        "colab": {
          "base_uri": "https://localhost:8080/",
          "height": 3471
        }
      },
      "cell_type": "code",
      "source": [
        "batch_size = 32\n",
        "epochs = 75\n",
        "\n",
        "class_weights = get_class_weights(train_labels-1, 0.1)\n",
        "print(f'Balanced Class Weights:=> {class_weights}')\n",
        "\n",
        "model = ModelTwo(input_shape=input_shape)\n",
        "\n",
        "model.compile(loss=keras.losses.sparse_categorical_crossentropy,\n",
        "              optimizer=keras.optimizers.Adamax(),\n",
        "              metrics=['accuracy'])\n",
        "\n",
        "# label-1 because keras start counting classes from zero\n",
        "history = model.fit(train_data, train_labels-1,\n",
        "                    batch_size=batch_size,\n",
        "                    epochs=epochs,\n",
        "                    verbose=1, shuffle=True, class_weight=class_weights)"
      ],
      "execution_count": 0,
      "outputs": [
        {
          "output_type": "stream",
          "text": [
            "Balanced Class Weights:=> {5: 1.0, 4: 8.466734902763562, 0: 6.797041906327034, 1: 7.0580204778157, 6: 8.380952380952381, 3: 7.752577319587629, 2: 7.938579654510557}\n",
            "_________________________________________________________________\n",
            "Layer (type)                 Output Shape              Param #   \n",
            "=================================================================\n",
            "conv2d_1 (Conv2D)            (None, 298, 298, 16)      448       \n",
            "_________________________________________________________________\n",
            "conv2d_2 (Conv2D)            (None, 298, 298, 16)      272       \n",
            "_________________________________________________________________\n",
            "conv2d_3 (Conv2D)            (None, 296, 296, 16)      2320      \n",
            "_________________________________________________________________\n",
            "max_pooling2d_1 (MaxPooling2 (None, 148, 148, 16)      0         \n",
            "_________________________________________________________________\n",
            "conv2d_4 (Conv2D)            (None, 146, 146, 32)      4640      \n",
            "_________________________________________________________________\n",
            "conv2d_5 (Conv2D)            (None, 146, 146, 32)      1056      \n",
            "_________________________________________________________________\n",
            "conv2d_6 (Conv2D)            (None, 144, 144, 32)      9248      \n",
            "_________________________________________________________________\n",
            "max_pooling2d_2 (MaxPooling2 (None, 72, 72, 32)        0         \n",
            "_________________________________________________________________\n",
            "conv2d_7 (Conv2D)            (None, 70, 70, 64)        18496     \n",
            "_________________________________________________________________\n",
            "conv2d_8 (Conv2D)            (None, 70, 70, 64)        4160      \n",
            "_________________________________________________________________\n",
            "conv2d_9 (Conv2D)            (None, 68, 68, 64)        36928     \n",
            "_________________________________________________________________\n",
            "max_pooling2d_3 (MaxPooling2 (None, 34, 34, 64)        0         \n",
            "_________________________________________________________________\n",
            "conv2d_10 (Conv2D)           (None, 32, 32, 128)       73856     \n",
            "_________________________________________________________________\n",
            "conv2d_11 (Conv2D)           (None, 32, 32, 128)       16512     \n",
            "_________________________________________________________________\n",
            "conv2d_12 (Conv2D)           (None, 30, 30, 128)       147584    \n",
            "_________________________________________________________________\n",
            "average_pooling2d_1 (Average (None, 4, 4, 128)         0         \n",
            "_________________________________________________________________\n",
            "flatten_1 (Flatten)          (None, 2048)              0         \n",
            "_________________________________________________________________\n",
            "dense_1 (Dense)              (None, 512)               1049088   \n",
            "_________________________________________________________________\n",
            "dropout_1 (Dropout)          (None, 512)               0         \n",
            "_________________________________________________________________\n",
            "dense_2 (Dense)              (None, 512)               262656    \n",
            "_________________________________________________________________\n",
            "dropout_2 (Dropout)          (None, 512)               0         \n",
            "_________________________________________________________________\n",
            "dense_3 (Dense)              (None, 7)                 3591      \n",
            "=================================================================\n",
            "Total params: 1,630,855\n",
            "Trainable params: 1,630,855\n",
            "Non-trainable params: 0\n",
            "_________________________________________________________________\n",
            "Epoch 1/75\n",
            "1894/1894 [==============================] - 26s 14ms/step - loss: 4.4641 - acc: 0.7365\n",
            "Epoch 2/75\n",
            "1894/1894 [==============================] - 20s 10ms/step - loss: 4.2989 - acc: 0.7941\n",
            "Epoch 3/75\n",
            "1894/1894 [==============================] - 20s 10ms/step - loss: 4.2527 - acc: 0.7941\n",
            "Epoch 4/75\n",
            "1894/1894 [==============================] - 20s 10ms/step - loss: 4.0819 - acc: 0.7920\n",
            "Epoch 5/75\n",
            "1894/1894 [==============================] - 20s 10ms/step - loss: 3.9335 - acc: 0.7761\n",
            "Epoch 6/75\n",
            "1894/1894 [==============================] - 20s 10ms/step - loss: 3.8496 - acc: 0.7540\n",
            "Epoch 7/75\n",
            "1894/1894 [==============================] - 20s 10ms/step - loss: 3.8135 - acc: 0.7365\n",
            "Epoch 8/75\n",
            "1894/1894 [==============================] - 20s 10ms/step - loss: 3.4868 - acc: 0.7233\n",
            "Epoch 9/75\n",
            "1894/1894 [==============================] - 20s 10ms/step - loss: 3.4221 - acc: 0.7603\n",
            "Epoch 10/75\n",
            "1894/1894 [==============================] - 20s 10ms/step - loss: 3.2933 - acc: 0.7218\n",
            "Epoch 11/75\n",
            "1894/1894 [==============================] - 20s 10ms/step - loss: 3.1420 - acc: 0.7344\n",
            "Epoch 12/75\n",
            "1894/1894 [==============================] - 20s 10ms/step - loss: 3.0478 - acc: 0.7402\n",
            "Epoch 13/75\n",
            "1894/1894 [==============================] - 20s 10ms/step - loss: 3.0125 - acc: 0.7313\n",
            "Epoch 14/75\n",
            "1894/1894 [==============================] - 20s 10ms/step - loss: 2.8774 - acc: 0.7233\n",
            "Epoch 15/75\n",
            "1894/1894 [==============================] - 20s 10ms/step - loss: 2.8617 - acc: 0.7196\n",
            "Epoch 16/75\n",
            "1894/1894 [==============================] - 20s 10ms/step - loss: 2.6716 - acc: 0.7434\n",
            "Epoch 17/75\n",
            "1894/1894 [==============================] - 20s 10ms/step - loss: 2.5914 - acc: 0.7402\n",
            "Epoch 18/75\n",
            "1894/1894 [==============================] - 20s 10ms/step - loss: 2.5163 - acc: 0.7450\n",
            "Epoch 19/75\n",
            "1894/1894 [==============================] - 20s 10ms/step - loss: 2.5093 - acc: 0.7497\n",
            "Epoch 20/75\n",
            "1894/1894 [==============================] - 20s 10ms/step - loss: 2.2381 - acc: 0.7635\n",
            "Epoch 21/75\n",
            "1894/1894 [==============================] - 20s 10ms/step - loss: 2.0366 - acc: 0.8020\n",
            "Epoch 22/75\n",
            "1894/1894 [==============================] - 20s 10ms/step - loss: 2.0378 - acc: 0.7746\n",
            "Epoch 23/75\n",
            "1894/1894 [==============================] - 20s 10ms/step - loss: 1.9851 - acc: 0.7967\n",
            "Epoch 24/75\n",
            "1894/1894 [==============================] - 20s 10ms/step - loss: 1.8499 - acc: 0.8057\n",
            "Epoch 25/75\n",
            "1894/1894 [==============================] - 20s 10ms/step - loss: 1.5722 - acc: 0.8427\n",
            "Epoch 26/75\n",
            "1894/1894 [==============================] - 20s 10ms/step - loss: 1.6241 - acc: 0.8279\n",
            "Epoch 27/75\n",
            "1894/1894 [==============================] - 20s 10ms/step - loss: 1.7587 - acc: 0.8242\n",
            "Epoch 28/75\n",
            "1894/1894 [==============================] - 20s 10ms/step - loss: 1.3778 - acc: 0.8548\n",
            "Epoch 29/75\n",
            "1894/1894 [==============================] - 20s 10ms/step - loss: 1.4934 - acc: 0.8305\n",
            "Epoch 30/75\n",
            "1894/1894 [==============================] - 20s 10ms/step - loss: 1.2219 - acc: 0.8717\n",
            "Epoch 31/75\n",
            "1894/1894 [==============================] - 20s 10ms/step - loss: 1.2087 - acc: 0.8522\n",
            "Epoch 32/75\n",
            "1894/1894 [==============================] - 20s 10ms/step - loss: 1.0047 - acc: 0.8828\n",
            "Epoch 33/75\n",
            "1894/1894 [==============================] - 20s 10ms/step - loss: 0.9777 - acc: 0.8881\n",
            "Epoch 34/75\n",
            "1894/1894 [==============================] - 20s 10ms/step - loss: 1.0615 - acc: 0.8875\n",
            "Epoch 35/75\n",
            "1894/1894 [==============================] - 20s 10ms/step - loss: 1.1311 - acc: 0.8696\n",
            "Epoch 36/75\n",
            "1894/1894 [==============================] - 20s 10ms/step - loss: 1.0685 - acc: 0.8823\n",
            "Epoch 37/75\n",
            "1894/1894 [==============================] - 20s 10ms/step - loss: 0.7945 - acc: 0.9065\n",
            "Epoch 38/75\n",
            "1894/1894 [==============================] - 20s 10ms/step - loss: 0.7594 - acc: 0.8986\n",
            "Epoch 39/75\n",
            "1894/1894 [==============================] - 20s 10ms/step - loss: 0.8634 - acc: 0.8992\n",
            "Epoch 40/75\n",
            "1894/1894 [==============================] - 20s 10ms/step - loss: 0.7689 - acc: 0.9055\n",
            "Epoch 41/75\n",
            "1894/1894 [==============================] - 20s 10ms/step - loss: 0.9527 - acc: 0.8875\n",
            "Epoch 42/75\n",
            "1894/1894 [==============================] - 20s 10ms/step - loss: 0.8015 - acc: 0.9055\n",
            "Epoch 43/75\n",
            "1894/1894 [==============================] - 20s 10ms/step - loss: 0.6643 - acc: 0.9171\n",
            "Epoch 44/75\n",
            "1894/1894 [==============================] - 20s 10ms/step - loss: 0.4351 - acc: 0.9372\n",
            "Epoch 45/75\n",
            "1894/1894 [==============================] - 20s 10ms/step - loss: 0.8043 - acc: 0.9139\n",
            "Epoch 46/75\n",
            "1894/1894 [==============================] - 20s 10ms/step - loss: 0.4692 - acc: 0.9461\n",
            "Epoch 47/75\n",
            "1894/1894 [==============================] - 20s 10ms/step - loss: 0.4248 - acc: 0.9340\n",
            "Epoch 48/75\n",
            "1894/1894 [==============================] - 20s 10ms/step - loss: 0.4635 - acc: 0.9388\n",
            "Epoch 49/75\n",
            "1894/1894 [==============================] - 20s 10ms/step - loss: 0.3898 - acc: 0.9451\n",
            "Epoch 50/75\n",
            "1894/1894 [==============================] - 20s 10ms/step - loss: 0.4119 - acc: 0.9498\n",
            "Epoch 51/75\n",
            "1894/1894 [==============================] - 20s 10ms/step - loss: 0.3580 - acc: 0.9467\n",
            "Epoch 52/75\n",
            "1894/1894 [==============================] - 20s 10ms/step - loss: 0.3397 - acc: 0.9520\n",
            "Epoch 53/75\n",
            "1894/1894 [==============================] - 20s 10ms/step - loss: 0.3319 - acc: 0.9525\n",
            "Epoch 54/75\n",
            "1894/1894 [==============================] - 20s 10ms/step - loss: 0.2318 - acc: 0.9625\n",
            "Epoch 55/75\n",
            "1894/1894 [==============================] - 20s 10ms/step - loss: 0.3018 - acc: 0.9593\n",
            "Epoch 56/75\n",
            "1894/1894 [==============================] - 20s 10ms/step - loss: 0.5530 - acc: 0.9345\n",
            "Epoch 57/75\n",
            "1894/1894 [==============================] - 20s 10ms/step - loss: 0.2728 - acc: 0.9593\n",
            "Epoch 58/75\n",
            "1894/1894 [==============================] - 20s 10ms/step - loss: 0.3257 - acc: 0.9593\n",
            "Epoch 59/75\n",
            "1894/1894 [==============================] - 20s 10ms/step - loss: 0.4760 - acc: 0.9372\n",
            "Epoch 60/75\n",
            "1894/1894 [==============================] - 20s 10ms/step - loss: 0.3360 - acc: 0.9588\n",
            "Epoch 61/75\n",
            "1894/1894 [==============================] - 20s 10ms/step - loss: 0.2423 - acc: 0.9636\n",
            "Epoch 62/75\n",
            "1894/1894 [==============================] - 20s 10ms/step - loss: 0.2288 - acc: 0.9715\n",
            "Epoch 63/75\n",
            "1894/1894 [==============================] - 20s 10ms/step - loss: 0.4409 - acc: 0.9393\n",
            "Epoch 64/75\n",
            "1894/1894 [==============================] - 20s 10ms/step - loss: 0.2459 - acc: 0.9657\n",
            "Epoch 65/75\n",
            "1894/1894 [==============================] - 20s 10ms/step - loss: 0.2329 - acc: 0.9641\n",
            "Epoch 66/75\n",
            "1894/1894 [==============================] - 20s 10ms/step - loss: 0.2756 - acc: 0.9625\n",
            "Epoch 67/75\n",
            "1894/1894 [==============================] - 20s 10ms/step - loss: 0.2285 - acc: 0.9683\n",
            "Epoch 68/75\n",
            "1894/1894 [==============================] - 20s 10ms/step - loss: 0.1840 - acc: 0.9762\n",
            "Epoch 69/75\n",
            "1894/1894 [==============================] - 20s 10ms/step - loss: 0.1773 - acc: 0.9773\n",
            "Epoch 70/75\n",
            "1894/1894 [==============================] - 20s 10ms/step - loss: 0.1781 - acc: 0.9752\n",
            "Epoch 71/75\n",
            "1894/1894 [==============================] - 20s 10ms/step - loss: 0.3244 - acc: 0.9630\n",
            "Epoch 72/75\n",
            "1894/1894 [==============================] - 20s 10ms/step - loss: 0.3357 - acc: 0.9699\n",
            "Epoch 73/75\n",
            "1894/1894 [==============================] - 20s 10ms/step - loss: 0.2447 - acc: 0.9673\n",
            "Epoch 74/75\n",
            "1894/1894 [==============================] - 20s 10ms/step - loss: 0.3249 - acc: 0.9636\n",
            "Epoch 75/75\n",
            "1894/1894 [==============================] - 20s 10ms/step - loss: 0.1346 - acc: 0.9757\n"
          ],
          "name": "stdout"
        }
      ]
    },
    {
      "metadata": {
        "colab_type": "code",
        "outputId": "303dfa94-cad6-4dc8-9a25-609dffe5213b",
        "id": "vAw1-Hn29v9t",
        "colab": {
          "base_uri": "https://localhost:8080/",
          "height": 561
        }
      },
      "cell_type": "code",
      "source": [
        "# summarizing accuracy/epoch\n",
        "plt.plot(history.history['acc'])\n",
        "plt.plot(history.history['val_acc'])\n",
        "plt.title('model accuracy')\n",
        "plt.ylabel('accuracy')\n",
        "plt.xlabel('epoch')\n",
        "plt.legend(['train', 'test'], loc='upper left')\n",
        "plt.show()\n",
        "\n",
        "# summarize loss/epoch\n",
        "plt.plot(history.history['loss'])\n",
        "plt.plot(history.history['val_loss'])\n",
        "plt.title('model loss')\n",
        "plt.ylabel('loss')\n",
        "plt.xlabel('epoch')\n",
        "plt.legend(['train', 'test'], loc='upper left')\n",
        "plt.show()"
      ],
      "execution_count": 0,
      "outputs": [
        {
          "output_type": "error",
          "ename": "KeyError",
          "evalue": "ignored",
          "traceback": [
            "\u001b[0;31m---------------------------------------------------------------------------\u001b[0m",
            "\u001b[0;31mKeyError\u001b[0m                                  Traceback (most recent call last)",
            "\u001b[0;32m<ipython-input-34-44f7dc23dfc0>\u001b[0m in \u001b[0;36m<module>\u001b[0;34m()\u001b[0m\n\u001b[1;32m      1\u001b[0m \u001b[0mplt\u001b[0m\u001b[0;34m.\u001b[0m\u001b[0mplot\u001b[0m\u001b[0;34m(\u001b[0m\u001b[0mhistory\u001b[0m\u001b[0;34m.\u001b[0m\u001b[0mhistory\u001b[0m\u001b[0;34m[\u001b[0m\u001b[0;34m'acc'\u001b[0m\u001b[0;34m]\u001b[0m\u001b[0;34m)\u001b[0m\u001b[0;34m\u001b[0m\u001b[0;34m\u001b[0m\u001b[0m\n\u001b[0;32m----> 2\u001b[0;31m \u001b[0mplt\u001b[0m\u001b[0;34m.\u001b[0m\u001b[0mplot\u001b[0m\u001b[0;34m(\u001b[0m\u001b[0mhistory\u001b[0m\u001b[0;34m.\u001b[0m\u001b[0mhistory\u001b[0m\u001b[0;34m[\u001b[0m\u001b[0;34m'val_acc'\u001b[0m\u001b[0;34m]\u001b[0m\u001b[0;34m)\u001b[0m\u001b[0;34m\u001b[0m\u001b[0;34m\u001b[0m\u001b[0m\n\u001b[0m\u001b[1;32m      3\u001b[0m \u001b[0mplt\u001b[0m\u001b[0;34m.\u001b[0m\u001b[0mtitle\u001b[0m\u001b[0;34m(\u001b[0m\u001b[0;34m'model accuracy'\u001b[0m\u001b[0;34m)\u001b[0m\u001b[0;34m\u001b[0m\u001b[0;34m\u001b[0m\u001b[0m\n\u001b[1;32m      4\u001b[0m \u001b[0mplt\u001b[0m\u001b[0;34m.\u001b[0m\u001b[0mylabel\u001b[0m\u001b[0;34m(\u001b[0m\u001b[0;34m'accuracy'\u001b[0m\u001b[0;34m)\u001b[0m\u001b[0;34m\u001b[0m\u001b[0;34m\u001b[0m\u001b[0m\n\u001b[1;32m      5\u001b[0m \u001b[0mplt\u001b[0m\u001b[0;34m.\u001b[0m\u001b[0mxlabel\u001b[0m\u001b[0;34m(\u001b[0m\u001b[0;34m'epoch'\u001b[0m\u001b[0;34m)\u001b[0m\u001b[0;34m\u001b[0m\u001b[0;34m\u001b[0m\u001b[0m\n",
            "\u001b[0;31mKeyError\u001b[0m: 'val_acc'"
          ]
        },
        {
          "output_type": "display_data",
          "data": {
            "image/png": "[encoded data removed]",
            "text/plain": [
              "<matplotlib.figure.Figure at 0x7fd222391748>"
            ]
          },
          "metadata": {
            "tags": []
          }
        }
      ]
    },
    {
      "metadata": {
        "id": "mnjcnQPLsC5i",
        "colab_type": "code",
        "outputId": "1e263b7b-29ea-4e03-92c7-5e337e1071a3",
        "colab": {
          "base_uri": "https://localhost:8080/",
          "height": 1955
        }
      },
      "cell_type": "code",
      "source": [
        "total_files('/content/gdrive/My Drive/Datasets/tt_dataset/test')\n",
        "test_batch_generator = get_balance_random_test('/content/gdrive/My Drive/Datasets/tt_dataset/test')\n",
        "acc = []\n",
        "for test_d, test_l in test_batch_generator:\n",
        "  print(test_d.shape)\n",
        "  print(test_l.shape)\n",
        "  result = model.test_on_batch(test_d,test_l)\n",
        "  acc.append(result[1])\n",
        "  print(f'Sample Size:=> {len(test_d)} | {len(test_l)} |=| Loss:=> {result[0] } |=| Accuracy:=> {result[1]}')\n"
      ],
      "execution_count": 0,
      "outputs": [
        {
          "output_type": "stream",
          "text": [
            "test: 0\n",
            "7: 11\n",
            "1: 23\n",
            "4: 15\n",
            "2: 21\n",
            "3: 14\n",
            "5: 11\n",
            "6: 375\n",
            "Total Filess:= 470\n",
            "(63, 300, 300, 3)\n",
            "(63, 1)\n",
            "Sample Size:=> 63 | 63 |=| Loss:=> 2.582735538482666 |=| Accuracy:=> 0.682539701461792\n",
            "(63, 300, 300, 3)\n",
            "(63, 1)\n",
            "Sample Size:=> 63 | 63 |=| Loss:=> 3.313852548599243 |=| Accuracy:=> 0.6349206566810608\n",
            "(63, 300, 300, 3)\n",
            "(63, 1)\n",
            "Sample Size:=> 63 | 63 |=| Loss:=> 2.795924186706543 |=| Accuracy:=> 0.6507936716079712\n",
            "(63, 300, 300, 3)\n",
            "(63, 1)\n",
            "Sample Size:=> 63 | 63 |=| Loss:=> 2.602280616760254 |=| Accuracy:=> 0.6349206566810608\n",
            "(63, 300, 300, 3)\n",
            "(63, 1)\n",
            "Sample Size:=> 63 | 63 |=| Loss:=> 2.568138599395752 |=| Accuracy:=> 0.6190476417541504\n",
            "(63, 300, 300, 3)\n",
            "(63, 1)\n",
            "Sample Size:=> 63 | 63 |=| Loss:=> 2.9467740058898926 |=| Accuracy:=> 0.6190476417541504\n",
            "(63, 300, 300, 3)\n",
            "(63, 1)\n",
            "Sample Size:=> 63 | 63 |=| Loss:=> 2.6837985515594482 |=| Accuracy:=> 0.5714285969734192\n",
            "(63, 300, 300, 3)\n",
            "(63, 1)\n",
            "Sample Size:=> 63 | 63 |=| Loss:=> 2.748354196548462 |=| Accuracy:=> 0.6507936716079712\n",
            "(63, 300, 300, 3)\n",
            "(63, 1)\n",
            "Sample Size:=> 63 | 63 |=| Loss:=> 2.428067922592163 |=| Accuracy:=> 0.6349206566810608\n",
            "(63, 300, 300, 3)\n",
            "(63, 1)\n",
            "Sample Size:=> 63 | 63 |=| Loss:=> 2.694991111755371 |=| Accuracy:=> 0.6666666865348816\n",
            "(63, 300, 300, 3)\n",
            "(63, 1)\n",
            "Sample Size:=> 63 | 63 |=| Loss:=> 2.6007511615753174 |=| Accuracy:=> 0.6507936716079712\n",
            "(63, 300, 300, 3)\n",
            "(63, 1)\n",
            "Sample Size:=> 63 | 63 |=| Loss:=> 2.1702678203582764 |=| Accuracy:=> 0.6984127163887024\n",
            "(63, 300, 300, 3)\n",
            "(63, 1)\n",
            "Sample Size:=> 63 | 63 |=| Loss:=> 2.4187514781951904 |=| Accuracy:=> 0.682539701461792\n",
            "(63, 300, 300, 3)\n",
            "(63, 1)\n",
            "Sample Size:=> 63 | 63 |=| Loss:=> 2.2696242332458496 |=| Accuracy:=> 0.6984127163887024\n",
            "(63, 300, 300, 3)\n",
            "(63, 1)\n",
            "Sample Size:=> 63 | 63 |=| Loss:=> 2.8143649101257324 |=| Accuracy:=> 0.6190476417541504\n",
            "(63, 300, 300, 3)\n",
            "(63, 1)\n",
            "Sample Size:=> 63 | 63 |=| Loss:=> 2.5412538051605225 |=| Accuracy:=> 0.60317462682724\n",
            "(63, 300, 300, 3)\n",
            "(63, 1)\n",
            "Sample Size:=> 63 | 63 |=| Loss:=> 2.0271353721618652 |=| Accuracy:=> 0.682539701461792\n",
            "(63, 300, 300, 3)\n",
            "(63, 1)\n",
            "Sample Size:=> 63 | 63 |=| Loss:=> 2.1247806549072266 |=| Accuracy:=> 0.6984127163887024\n",
            "(63, 300, 300, 3)\n",
            "(63, 1)\n",
            "Sample Size:=> 63 | 63 |=| Loss:=> 2.6460678577423096 |=| Accuracy:=> 0.6666666865348816\n",
            "(63, 300, 300, 3)\n",
            "(63, 1)\n",
            "Sample Size:=> 63 | 63 |=| Loss:=> 3.0572221279144287 |=| Accuracy:=> 0.6507936716079712\n",
            "(63, 300, 300, 3)\n",
            "(63, 1)\n",
            "Sample Size:=> 63 | 63 |=| Loss:=> 1.8911540508270264 |=| Accuracy:=> 0.682539701461792\n",
            "(63, 300, 300, 3)\n",
            "(63, 1)\n",
            "Sample Size:=> 63 | 63 |=| Loss:=> 2.8600356578826904 |=| Accuracy:=> 0.60317462682724\n",
            "(63, 300, 300, 3)\n",
            "(63, 1)\n",
            "Sample Size:=> 63 | 63 |=| Loss:=> 2.420685291290283 |=| Accuracy:=> 0.6507936716079712\n",
            "(63, 300, 300, 3)\n",
            "(63, 1)\n",
            "Sample Size:=> 63 | 63 |=| Loss:=> 2.283163547515869 |=| Accuracy:=> 0.6984127163887024\n",
            "(63, 300, 300, 3)\n",
            "(63, 1)\n",
            "Sample Size:=> 63 | 63 |=| Loss:=> 2.047274112701416 |=| Accuracy:=> 0.7142857313156128\n",
            "(63, 300, 300, 3)\n",
            "(63, 1)\n",
            "Sample Size:=> 63 | 63 |=| Loss:=> 2.8822073936462402 |=| Accuracy:=> 0.6349206566810608\n",
            "(63, 300, 300, 3)\n",
            "(63, 1)\n",
            "Sample Size:=> 63 | 63 |=| Loss:=> 2.6294193267822266 |=| Accuracy:=> 0.6349206566810608\n",
            "(63, 300, 300, 3)\n",
            "(63, 1)\n",
            "Sample Size:=> 63 | 63 |=| Loss:=> 2.85068678855896 |=| Accuracy:=> 0.60317462682724\n",
            "(63, 300, 300, 3)\n",
            "(63, 1)\n",
            "Sample Size:=> 63 | 63 |=| Loss:=> 2.2630069255828857 |=| Accuracy:=> 0.682539701461792\n",
            "(63, 300, 300, 3)\n",
            "(63, 1)\n",
            "Sample Size:=> 63 | 63 |=| Loss:=> 3.2320075035095215 |=| Accuracy:=> 0.5873016119003296\n",
            "(63, 300, 300, 3)\n",
            "(63, 1)\n",
            "Sample Size:=> 63 | 63 |=| Loss:=> 2.852886199951172 |=| Accuracy:=> 0.6349206566810608\n",
            "(63, 300, 300, 3)\n",
            "(63, 1)\n",
            "Sample Size:=> 63 | 63 |=| Loss:=> 2.6835455894470215 |=| Accuracy:=> 0.6666666865348816\n",
            "(63, 300, 300, 3)\n",
            "(63, 1)\n",
            "Sample Size:=> 63 | 63 |=| Loss:=> 2.2258822917938232 |=| Accuracy:=> 0.682539701461792\n",
            "(63, 300, 300, 3)\n",
            "(63, 1)\n",
            "Sample Size:=> 63 | 63 |=| Loss:=> 2.1199378967285156 |=| Accuracy:=> 0.682539701461792\n",
            "(63, 300, 300, 3)\n",
            "(63, 1)\n",
            "Sample Size:=> 63 | 63 |=| Loss:=> 2.2354626655578613 |=| Accuracy:=> 0.682539701461792\n"
          ],
          "name": "stdout"
        }
      ]
    },
    {
      "metadata": {
        "id": "tlRJYiAqB-Sj",
        "colab_type": "code",
        "outputId": "8d454b2b-ec81-486e-a74a-1daf7c65e338",
        "colab": {
          "base_uri": "https://localhost:8080/",
          "height": 376
        }
      },
      "cell_type": "code",
      "source": [
        "plt.plot(acc)\n",
        "plt.title('model test accuracy')\n",
        "plt.ylabel('test_accuracy')\n",
        "plt.xlabel('cross_validation')\n",
        "plt.show()"
      ],
      "execution_count": 0,
      "outputs": [
        {
          "output_type": "display_data",
          "data": {
            "image/png": "[encoded data removed]",
            "text/plain": [
              "<matplotlib.figure.Figure at 0x7fd2202c65c0>"
            ]
          },
          "metadata": {
            "tags": []
          }
        }
      ]
    },
    {
      "metadata": {
        "id": "f6wp_1F0F5_K",
        "colab_type": "text"
      },
      "cell_type": "markdown",
      "source": [
        "\n",
        "\n",
        "---\n",
        "\n",
        "\n",
        "**Attempt 5**\n",
        "\n",
        "\n",
        "\n",
        "*   Only Augmenting Images Of Training Data not of test data\n",
        "*   Balanced test Check\n",
        "\n",
        "\n"
      ]
    },
    {
      "metadata": {
        "id": "w9wrLmvcHaBm",
        "colab_type": "code",
        "outputId": "ce8a137f-3f43-40f7-c084-725d7f8a73bf",
        "colab": {
          "base_uri": "https://localhost:8080/",
          "height": 187
        }
      },
      "cell_type": "code",
      "source": [
        "total_files('/content/gdrive/My Drive/Datasets/tt_dataset/train_aug')"
      ],
      "execution_count": 0,
      "outputs": [
        {
          "output_type": "stream",
          "text": [
            "train_aug: 0\n",
            "7: 1504\n",
            "1: 1504\n",
            "4: 1504\n",
            "2: 1504\n",
            "3: 1504\n",
            "5: 1504\n",
            "6: 1504\n",
            "Total Filess:= 10528\n"
          ],
          "name": "stdout"
        },
        {
          "output_type": "execute_result",
          "data": {
            "text/plain": [
              "10528"
            ]
          },
          "metadata": {
            "tags": []
          },
          "execution_count": 16
        }
      ]
    },
    {
      "metadata": {
        "id": "KvYP8wulGPHi",
        "colab_type": "code",
        "colab": {}
      },
      "cell_type": "code",
      "source": [
        "train_data, train_labels = get_data('/content/gdrive/My Drive/Datasets/tt_dataset/train_aug', img_h, img_w)"
      ],
      "execution_count": 0,
      "outputs": []
    },
    {
      "metadata": {
        "id": "FSFnx68KRSpI",
        "colab_type": "code",
        "colab": {}
      },
      "cell_type": "code",
      "source": [
        "test_data_generator = get_balance_random_test('/content/gdrive/My Drive/Datasets/tt_dataset/test')"
      ],
      "execution_count": 0,
      "outputs": []
    },
    {
      "metadata": {
        "id": "-9F85BvAGrZx",
        "colab_type": "code",
        "colab": {}
      },
      "cell_type": "code",
      "source": [
        "batch_size = 64\n",
        "epochs = 60\n",
        "\n",
        "#class_weights = get_class_weights(train_labels-1, 0.1)\n",
        "#print(f'Balanced Class Weights:=> {class_weights}')\n",
        "\n",
        "model = ModelTwo(input_shape=input_shape)\n",
        "\n",
        "model.compile(loss=keras.losses.sparse_categorical_crossentropy,\n",
        "              optimizer=keras.optimizers.Adam(),\n",
        "              metrics=['accuracy'])\n",
        "\n",
        "# label-1 because keras start counting classes from zero\n",
        "history = model.fit(train_data, train_labels-1,\n",
        "                    batch_size=batch_size,\n",
        "                    epochs=epochs,\n",
        "                    verbose=1, shuffle=True)"
      ],
      "execution_count": 0,
      "outputs": []
    },
    {
      "metadata": {
        "id": "zfkaRjJB3zdQ",
        "colab_type": "text"
      },
      "cell_type": "markdown",
      "source": [
        "\n",
        "\n",
        "---\n",
        "\n",
        "\n",
        "# Model Test # 2\n",
        "\n",
        "\n",
        "---\n",
        "\n"
      ]
    },
    {
      "metadata": {
        "colab_type": "code",
        "id": "gTor1a_wXgSW",
        "colab": {}
      },
      "cell_type": "code",
      "source": [
        "# Parameters Setting #\n",
        "#=====================#\n",
        "epochs = 50\n",
        "batch_size = 32\n",
        "\n",
        "# Input Dimentions\n",
        "img_h = 224\n",
        "img_w = 224\n",
        "channels = 3\n",
        "\n",
        "input_shape = (img_h, img_w, channels)"
      ],
      "execution_count": 0,
      "outputs": []
    },
    {
      "metadata": {
        "id": "8rhrCFcZl2qL",
        "colab_type": "code",
        "colab": {}
      },
      "cell_type": "code",
      "source": [
        "def VGG_16(input_shape=(300,300,3), weights_path=None):\n",
        "    model = Sequential()\n",
        "    model.add(ZeroPadding2D((1,1),input_shape=input_shape))\n",
        "    model.add(Convolution2D(64, 3, 3, activation='relu'))\n",
        "    model.add(ZeroPadding2D((1,1)))\n",
        "    model.add(Convolution2D(64, 3, 3, activation='relu'))\n",
        "    model.add(MaxPooling2D((2,2), strides=(2,2)))\n",
        "\n",
        "    model.add(ZeroPadding2D((1,1)))\n",
        "    model.add(Convolution2D(128, 3, 3, activation='relu'))\n",
        "    model.add(ZeroPadding2D((1,1)))\n",
        "    model.add(Convolution2D(128, 3, 3, activation='relu'))\n",
        "    model.add(MaxPooling2D((2,2), strides=(2,2)))\n",
        "\n",
        "    model.add(ZeroPadding2D((1,1)))\n",
        "    model.add(Convolution2D(256, 3, 3, activation='relu'))\n",
        "    model.add(ZeroPadding2D((1,1)))\n",
        "    model.add(Convolution2D(256, 3, 3, activation='relu'))\n",
        "    model.add(ZeroPadding2D((1,1)))\n",
        "    model.add(Convolution2D(256, 3, 3, activation='relu'))\n",
        "    model.add(MaxPooling2D((2,2), strides=(2,2)))\n",
        "\n",
        "    model.add(ZeroPadding2D((1,1)))\n",
        "    model.add(Convolution2D(512, 3, 3, activation='relu'))\n",
        "    model.add(ZeroPadding2D((1,1)))\n",
        "    model.add(Convolution2D(512, 3, 3, activation='relu'))\n",
        "    model.add(ZeroPadding2D((1,1)))\n",
        "    model.add(Convolution2D(512, 3, 3, activation='relu'))\n",
        "    model.add(MaxPooling2D((2,2), strides=(2,2)))\n",
        "\n",
        "    #model.add(ZeroPadding2D((1,1)))\n",
        "    #model.add(Convolution2D(512, 3, 3, activation='relu'))\n",
        "    #model.add(ZeroPadding2D((1,1)))\n",
        "    #model.add(Convolution2D(512, 3, 3, activation='relu'))\n",
        "    #model.add(ZeroPadding2D((1,1)))\n",
        "    #model.add(Convolution2D(512, 3, 3, activation='relu'))\n",
        "    #model.add(MaxPooling2D((2,2), strides=(2,2)))\n",
        "\n",
        "    model.add(Flatten())\n",
        "    model.add(Dense(4096, activation='relu'))\n",
        "    model.add(Dropout(0.5))\n",
        "    model.add(Dense(4096, activation='relu'))\n",
        "    model.add(Dropout(0.5))\n",
        "    model.add(Dense(1000, activation='softmax'))\n",
        "\n",
        "    if weights_path:\n",
        "        model.load_weights(weights_path)\n",
        "\n",
        "    return model\n"
      ],
      "execution_count": 0,
      "outputs": []
    },
    {
      "metadata": {
        "id": "P5c-LVkVXwIL",
        "colab_type": "code",
        "colab": {}
      },
      "cell_type": "code",
      "source": [
        "batch_size = 16\n",
        "class_weights = get_class_weights(m1_labels-1, 0.1)\n",
        "print(f'Balanced Class Weights:=> {class_weights}')\n",
        "\n",
        "model = VGG_16()\n",
        "\n",
        "model.compile(loss=keras.losses.sparse_categorical_crossentropy,\n",
        "              optimizer=keras.optimizers.Adam(),\n",
        "              metrics=['accuracy'])\n",
        "\n",
        "# label-1 because keras start counting classes from zero\n",
        "history = model.fit(m1_data, m1_labels-1,\n",
        "                    batch_size=batch_size,\n",
        "                    epochs=epochs,\n",
        "                    verbose=1, shuffle=True, validation_split=0.2, class_weight=class_weights)"
      ],
      "execution_count": 0,
      "outputs": []
    },
    {
      "metadata": {
        "id": "_PS8ivpdlLWO",
        "colab_type": "text"
      },
      "cell_type": "markdown",
      "source": [
        "# Temporary Code Test\n",
        "\n",
        "---\n",
        "\n"
      ]
    },
    {
      "metadata": {
        "id": "omzmR5h0xRS4",
        "colab_type": "code",
        "colab": {}
      },
      "cell_type": "code",
      "source": [
        "test_d, test_l = get_data('/content/gdrive/My Drive/Datasets/tt_dataset/test_aug', img_h, img_w)\n",
        "train_d, train_l = get_data('/content/gdrive/My Drive/Datasets/tt_dataset/train_aug', img_h, img_w)"
      ],
      "execution_count": 0,
      "outputs": []
    },
    {
      "metadata": {
        "id": "dk0l4368k4HE",
        "colab_type": "code",
        "colab": {}
      },
      "cell_type": "code",
      "source": [
        "#img_size = 128 x 128\n",
        "batch_size = 128\n",
        "epochs = 50\n",
        "\n",
        "#Model two, one maxpool after 2 cov sets\n",
        "model = ModelTwo(input_shape)\n",
        "\n",
        "model.compile(loss=keras.losses.sparse_categorical_crossentropy,\n",
        "              optimizer=keras.optimizers.Adam(),\n",
        "              metrics=['accuracy'])\n",
        "\n",
        "history = model.fit(train_d, train_l-1,\n",
        "                    batch_size=batch_size,\n",
        "                    epochs=epochs,\n",
        "                    verbose=1, shuffle=True, validation_data=(test_d, test_l-1))"
      ],
      "execution_count": 0,
      "outputs": []
    },
    {
      "metadata": {
        "id": "3g018RCk2UWt",
        "colab_type": "code",
        "colab": {}
      },
      "cell_type": "code",
      "source": [
        "\n",
        "train_aug_dir = '/content/gdrive/My Drive/Datasets/tt_dataset/train_aug'\n",
        "test_aug_dir = '/content/gdrive/My Drive/Datasets/tt_dataset/test_aug'\n",
        "\n",
        "train_dir = '/content/gdrive/My Drive/Datasets/tt_dataset/train'\n",
        "test_dir = '/content/gdrive/My Drive/Datasets/tt_dataset/test'\n",
        "\n",
        "\n",
        "a = do_augmentation(train_dir, train_aug_dir, 1504, '6')\n",
        "print(f'Test Data Augmentation: {a}')"
      ],
      "execution_count": 0,
      "outputs": []
    },
    {
      "metadata": {
        "id": "7W084O67IC2B",
        "colab_type": "code",
        "colab": {}
      },
      "cell_type": "code",
      "source": [
        ""
      ],
      "execution_count": 0,
      "outputs": []
    },
    {
      "metadata": {
        "id": "Il6PjNHlRvQO",
        "colab_type": "text"
      },
      "cell_type": "markdown",
      "source": [
        "# PLOTS\n",
        "\n",
        "---\n",
        "\n"
      ]
    },
    {
      "metadata": {
        "id": "FJPyDe9VRwT1",
        "colab_type": "code",
        "colab": {}
      },
      "cell_type": "code",
      "source": [
        "b = total_files(train_aug_dir)"
      ],
      "execution_count": 0,
      "outputs": []
    },
    {
      "metadata": {
        "id": "ETZh3f6DZgWz",
        "colab_type": "code",
        "colab": {}
      },
      "cell_type": "code",
      "source": [
        ""
      ],
      "execution_count": 0,
      "outputs": []
    }
  ]
}