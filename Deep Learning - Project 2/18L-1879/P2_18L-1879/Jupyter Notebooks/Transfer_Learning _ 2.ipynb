{
  "nbformat": 4,
  "nbformat_minor": 0,
  "metadata": {
    "colab": {
      "name": "Transfer Learning Inception 3.ipynb",
      "version": "0.3.2",
      "provenance": [],
      "collapsed_sections": [],
      "toc_visible": true
    },
    "kernelspec": {
      "name": "python3",
      "display_name": "Python 3"
    }
  },
  "cells": [
    {
      "metadata": {
        "id": "HAuonOeg29Z5",
        "colab_type": "text"
      },
      "cell_type": "markdown",
      "source": [
        "# Requirement Installation"
      ]
    },
    {
      "metadata": {
        "id": "92fbouEoj8JP",
        "colab_type": "code",
        "outputId": "60dd1a8a-b621-4e4c-a1d2-f457a0ec55f6",
        "colab": {
          "base_uri": "https://localhost:8080/",
          "height": 496
        }
      },
      "cell_type": "code",
      "source": [
        "!pip install PyDrive\n",
        "!apt-get -qq install -y libsm6 libxext6 && pip install -q -U opencv-python\n",
        "!pip install Augmentor"
      ],
      "execution_count": 1,
      "outputs": [
        {
          "output_type": "stream",
          "text": [
            "Collecting PyDrive\n",
            "\u001b[?25l  Downloading https://files.pythonhosted.org/packages/52/e0/0e64788e5dd58ce2d6934549676243dc69d982f198524be9b99e9c2a4fd5/PyDrive-1.3.1.tar.gz (987kB)\n",
            "\u001b[K    100% |████████████████████████████████| 993kB 19.0MB/s \n",
            "\u001b[?25hRequirement already satisfied: google-api-python-client>=1.2 in /usr/local/lib/python3.6/dist-packages (from PyDrive) (1.6.7)\n",
            "Requirement already satisfied: oauth2client>=4.0.0 in /usr/local/lib/python3.6/dist-packages (from PyDrive) (4.1.3)\n",
            "Requirement already satisfied: PyYAML>=3.0 in /usr/local/lib/python3.6/dist-packages (from PyDrive) (3.13)\n",
            "Requirement already satisfied: six<2dev,>=1.6.1 in /usr/local/lib/python3.6/dist-packages (from google-api-python-client>=1.2->PyDrive) (1.11.0)\n",
            "Requirement already satisfied: uritemplate<4dev,>=3.0.0 in /usr/local/lib/python3.6/dist-packages (from google-api-python-client>=1.2->PyDrive) (3.0.0)\n",
            "Requirement already satisfied: httplib2<1dev,>=0.9.2 in /usr/local/lib/python3.6/dist-packages (from google-api-python-client>=1.2->PyDrive) (0.11.3)\n",
            "Requirement already satisfied: pyasn1>=0.1.7 in /usr/local/lib/python3.6/dist-packages (from oauth2client>=4.0.0->PyDrive) (0.4.4)\n",
            "Requirement already satisfied: rsa>=3.1.4 in /usr/local/lib/python3.6/dist-packages (from oauth2client>=4.0.0->PyDrive) (4.0)\n",
            "Requirement already satisfied: pyasn1-modules>=0.0.5 in /usr/local/lib/python3.6/dist-packages (from oauth2client>=4.0.0->PyDrive) (0.2.2)\n",
            "Building wheels for collected packages: PyDrive\n",
            "  Running setup.py bdist_wheel for PyDrive ... \u001b[?25l-\b \b\\\b \bdone\n",
            "\u001b[?25h  Stored in directory: /root/.cache/pip/wheels/fa/d2/9a/d3b6b506c2da98289e5d417215ce34b696db856643bad779f4\n",
            "Successfully built PyDrive\n",
            "Installing collected packages: PyDrive\n",
            "Successfully installed PyDrive-1.3.1\n",
            "Collecting Augmentor\n",
            "  Downloading https://files.pythonhosted.org/packages/4d/f4/b0eaa9d3b4120a5450ac92d4417907ca60fad5749c1f50ed95f720792350/Augmentor-0.2.3-py2.py3-none-any.whl\n",
            "Requirement already satisfied: numpy>=1.11.0 in /usr/local/lib/python3.6/dist-packages (from Augmentor) (1.14.6)\n",
            "Requirement already satisfied: Pillow>=4.0.0 in /usr/local/lib/python3.6/dist-packages (from Augmentor) (4.0.0)\n",
            "Requirement already satisfied: tqdm>=4.9.0 in /usr/local/lib/python3.6/dist-packages (from Augmentor) (4.28.1)\n",
            "Requirement already satisfied: future>=0.16.0 in /usr/local/lib/python3.6/dist-packages (from Augmentor) (0.16.0)\n",
            "Requirement already satisfied: olefile in /usr/local/lib/python3.6/dist-packages (from Pillow>=4.0.0->Augmentor) (0.46)\n",
            "Installing collected packages: Augmentor\n",
            "Successfully installed Augmentor-0.2.3\n"
          ],
          "name": "stdout"
        }
      ]
    },
    {
      "metadata": {
        "id": "Lu21dazGi8e1",
        "colab_type": "text"
      },
      "cell_type": "markdown",
      "source": [
        "#**Imports Section**\n",
        "\n",
        "---\n",
        "\n"
      ]
    },
    {
      "metadata": {
        "id": "zdxX7YH1jatY",
        "colab_type": "code",
        "outputId": "02c44a34-d62d-4afb-e919-a1c0a249f65e",
        "colab": {
          "base_uri": "https://localhost:8080/",
          "height": 34
        }
      },
      "cell_type": "code",
      "source": [
        "import os, random, shutil, math\n",
        "from collections import Counter\n",
        "import Augmentor\n",
        "import cv2 as cv\n",
        "import numpy as np\n",
        "import pandas as pd\n",
        "from sklearn.utils import shuffle\n",
        "\n",
        "\n",
        "from keras.layers import GlobalAveragePooling2D, AveragePooling2D, GlobalMaxPooling2D\n",
        "from keras.layers.core import Dense, Dropout, Activation, Flatten\n",
        "from keras.layers.convolutional import Conv2D, MaxPooling2D, ZeroPadding2D, Convolution2D\n",
        "\n",
        "import matplotlib.pyplot as plt\n"
      ],
      "execution_count": 2,
      "outputs": [
        {
          "output_type": "stream",
          "text": [
            "Using TensorFlow backend.\n"
          ],
          "name": "stderr"
        }
      ]
    },
    {
      "metadata": {
        "id": "OOSRhj0Ko6zO",
        "colab_type": "code",
        "colab": {}
      },
      "cell_type": "code",
      "source": [
        "import keras\n",
        "from keras import applications\n",
        "from keras.models import Sequential, Model\n",
        "from keras.layers import Dropout, Flatten, Dense, GlobalAveragePooling2D, AveragePooling2D, GlobalMaxPooling2D\n",
        "from keras import backend as k\n",
        "from keras.callbacks import ModelCheckpoint, LearningRateScheduler, TensorBoard, EarlyStopping\n",
        "from keras import applications"
      ],
      "execution_count": 0,
      "outputs": []
    },
    {
      "metadata": {
        "id": "flaRky4FiuQP",
        "colab_type": "code",
        "colab": {}
      },
      "cell_type": "code",
      "source": [
        "from tensorflow.python.client import device_lib\n",
        "from google.colab import drive"
      ],
      "execution_count": 0,
      "outputs": []
    },
    {
      "metadata": {
        "id": "iCrqJS-SkKYU",
        "colab_type": "text"
      },
      "cell_type": "markdown",
      "source": [
        "# Basic Setup\n",
        "\n",
        "\n",
        "---\n",
        "\n"
      ]
    },
    {
      "metadata": {
        "id": "OuKQxkzeio0Q",
        "colab_type": "code",
        "outputId": "0618e980-b716-4fdd-f652-ef651a451c77",
        "cellView": "both",
        "colab": {
          "base_uri": "https://localhost:8080/",
          "height": 122
        }
      },
      "cell_type": "code",
      "source": [
        "#@title\n",
        "device_lib.list_local_devices()\n",
        "drive.mount('/content/gdrive')\n",
        "\n",
        "base_dir = '/content/gdrive/My Drive/Datasets/orignal'"
      ],
      "execution_count": 5,
      "outputs": [
        {
          "output_type": "stream",
          "text": [
            "Go to this URL in a browser: https://accounts.google.com/o/oauth2/auth?client_id=947318989803-6bn6qk8qdgf4n4g3pfee6491hc0brc4i.apps.googleusercontent.com&redirect_uri=urn%3Aietf%3Awg%3Aoauth%3A2.0%3Aoob&scope=email%20https%3A%2F%2Fwww.googleapis.com%2Fauth%2Fdocs.test%20https%3A%2F%2Fwww.googleapis.com%2Fauth%2Fdrive%20https%3A%2F%2Fwww.googleapis.com%2Fauth%2Fdrive.photos.readonly%20https%3A%2F%2Fwww.googleapis.com%2Fauth%2Fpeopleapi.readonly&response_type=code\n",
            "\n",
            "Enter your authorization code:\n",
            "··········\n",
            "Mounted at /content/gdrive\n"
          ],
          "name": "stdout"
        }
      ]
    },
    {
      "metadata": {
        "id": "xrP7SdPvsJ0C",
        "colab_type": "text"
      },
      "cell_type": "markdown",
      "source": [
        "# Data Processing Functions\n",
        "\n",
        "\n",
        "---\n",
        "\n"
      ]
    },
    {
      "metadata": {
        "id": "QsnJi9InoA-3",
        "colab_type": "code",
        "colab": {}
      },
      "cell_type": "code",
      "source": [
        "\"\"\"\n",
        "Description:=> This function shuffles the data and labels by zipping them together\n",
        "Parameters:=> Two\n",
        "1) \"data\" || array of data(images (256,256,3))\n",
        "2) \"label\" || array of label (depends upon classes)\n",
        "\"\"\"\n",
        "\n",
        "def shuffle_data(data, label):\n",
        "    data = np.array(data, dtype=float)\n",
        "    label = np.array(label, dtype=int)\n",
        "    data, label = shuffle(data, label)\n",
        "    return data, label"
      ],
      "execution_count": 0,
      "outputs": []
    },
    {
      "metadata": {
        "id": "M93rxOx7oSv4",
        "colab_type": "code",
        "colab": {}
      },
      "cell_type": "code",
      "source": [
        "\"\"\" \n",
        "Description:=> This function count files in the directory\n",
        "Parameters:=> One\n",
        "1) \"folder_path\" || path of the directory, you want to count files of\n",
        "\"\"\"\n",
        "\n",
        "def total_files(folder_path=\"\"):\n",
        "    dirs = os.walk(folder_path)\n",
        "    files_count =0\n",
        "    for s_dir in dirs:\n",
        "        dir_path = s_dir[0]\n",
        "        dir_files = s_dir[2]\n",
        "        dir_name = os.path.basename(dir_path)\n",
        "\n",
        "        print(f'{dir_name}: {len(dir_files)}')\n",
        "        files_count = files_count + len(dir_files)\n",
        "    print(f\"Total Filess:= {files_count}\")\n",
        "    return int(files_count)"
      ],
      "execution_count": 0,
      "outputs": []
    },
    {
      "metadata": {
        "id": "2gV3UIQwmAjc",
        "colab_type": "code",
        "colab": {}
      },
      "cell_type": "code",
      "source": [
        "\"\"\"\n",
        "Description:=> You give this folder path, it will return array of data and labels in shuffeled form\n",
        "Parameters:=> Three\n",
        "1) \"folder_path\" || path of directory, from where you want to read images\n",
        "2) \"img_h\" || height of images if you want to adjust them (default is 128)\n",
        "3) \"img_w\" || height of images if you want to adjust them (default is 128)\n",
        "\"\"\"\n",
        "\n",
        "def get_data(folder_path=\"\", img_h=128, img_w=128):\n",
        "    dirs = os.walk(folder_path)\n",
        "\n",
        "    master_data = []\n",
        "    master_labels = []\n",
        "    image_sizes = []\n",
        "    none_data = 0\n",
        "\n",
        "    for s_dir in dirs:\n",
        "        dir_path = s_dir[0]\n",
        "        dir_files = s_dir[2]\n",
        "        dir_name = os.path.basename(dir_path)\n",
        "        for file in dir_files:\n",
        "            file_path = os.path.join(dir_path, file)\n",
        "\n",
        "            image = cv.imread(file_path)\n",
        "            i_height = np.size(image, 0)\n",
        "            i_width = np.size(image, 1)\n",
        "\n",
        "            image_sizes.append([i_height, i_width])\n",
        "\n",
        "            # file_data = np.array(cv.imread(file_path, cv.IMREAD_GRAYSCALE))\n",
        "            file_data = np.array(cv.imread(file_path))\n",
        "\n",
        "            if (file_data.any() != None):\n",
        "                \n",
        "                if (i_height != img_h or i_width != img_w):\n",
        "                    file_data = cv.resize(file_data, dsize=(img_h, img_w), interpolation=cv.INTER_LANCZOS4)\n",
        "                    \n",
        "                # Image Shape: Height x Width x Depth(RGB)\n",
        "                reshaped_data = file_data.reshape((file_data.shape[0]), (file_data.shape[1]), 3)\n",
        "                master_data.append(reshaped_data)\n",
        "                master_labels.append(np.array([dir_name]))\n",
        "                # master_labels.append(np.array([((int(os.path.basename(dir_path)))-1)]))\n",
        "            else:\n",
        "                print(file_path)\n",
        "                none_data += 1\n",
        "        print(f'Directory:=> {dir_path}')\n",
        "        \n",
        "    print(f'Total Images: {len(master_data)} || Total Labels: {len(master_labels)} || Total Errors: {none_data}')\n",
        "    return shuffle_data(master_data, master_labels)\n"
      ],
      "execution_count": 0,
      "outputs": []
    },
    {
      "metadata": {
        "id": "bVw9VuXl7r5W",
        "colab_type": "text"
      },
      "cell_type": "markdown",
      "source": [
        "# Augmentation Functions\n",
        "\n",
        "---\n",
        "\n"
      ]
    },
    {
      "metadata": {
        "id": "7q5Jy62j7vWP",
        "colab_type": "code",
        "colab": {}
      },
      "cell_type": "code",
      "source": [
        "def orignal_to_train_test():\n",
        "  dbase_dir = '/content/gdrive/My Drive/Datasets/orignal'\n",
        "  train_dir = '/content/gdrive/My Drive/Datasets/tt_dataset/train'\n",
        "  test_dir = '/content/gdrive/My Drive/Datasets/tt_dataset/test'\n",
        "\n",
        "  dirs = os.walk(dbase_dir)\n",
        "  for s_dir in dirs:\n",
        "      dir_path = s_dir[0]\n",
        "      dir_files = s_dir[2]\n",
        "\n",
        "      if (dir_files != 0):\n",
        "          dir_name = os.path.basename(dir_path)\n",
        "\n",
        "          test_files = random.sample(dir_files, int(0.2 * len(dir_files)))\n",
        "          train_files = list(set(dir_files) - set(test_files))\n",
        "\n",
        "          print(f'Directory: {dir_name} || Test Files: {len(test_files)} || Train Files: {len(train_files)}')\n",
        "\n",
        "          os.mkdir(os.path.join(test_dir, str(dir_name)))\n",
        "          os.mkdir(os.path.join(train_dir, str(dir_name)))\n",
        "\n",
        "          current_test_dir = os.path.join(test_dir, str(dir_name))\n",
        "          current_train_dir = os.path.join(train_dir, str(dir_name))\n",
        "\n",
        "          for fname in test_files:\n",
        "              srcpath = os.path.join(dir_path, fname)\n",
        "              shutil.copy(srcpath, current_test_dir)\n",
        "\n",
        "          for fname in train_files:\n",
        "              srcpath = os.path.join(dir_path, fname)\n",
        "              shutil.copy(srcpath, current_train_dir)\n"
      ],
      "execution_count": 0,
      "outputs": []
    },
    {
      "metadata": {
        "id": "CE0fUCAaS4mM",
        "colab_type": "code",
        "colab": {}
      },
      "cell_type": "code",
      "source": [
        "def do_augmentation(input_dir=\"\", output_dir=\"\", max_files=0, max_folder=\"\"):\n",
        "    dirs = os.walk(input_dir)\n",
        "    for s_dir in dirs:\n",
        "        dir_path = s_dir[0]\n",
        "        dir_files = s_dir[2]\n",
        "        dir_name = os.path.basename(dir_path)\n",
        "\n",
        "        print(f'Inside Folder: {dir_path}')\n",
        "        print(f'Total Files: {len(dir_files)}')\n",
        "\n",
        "        if(len(dir_files) != 0):\n",
        "          if(dir_name != max_folder):\n",
        "              new_dataset = os.path.join(output_dir, dir_name)\n",
        "              p = Augmentor.Pipeline(source_directory=dir_path, output_directory=new_dataset)\n",
        "              p.flip_left_right(probability=1)\n",
        "              p.flip_top_bottom(probability=0.85)\n",
        "              p.rotate(probability=0.90, max_left_rotation=25, max_right_rotation=25)\n",
        "              p.zoom_random(probability=0.25, percentage_area=0.35)\n",
        "              p.crop_centre(probability=0.85, percentage_area=0.75)\n",
        "              p.crop_random(probability=0.75, percentage_area=0.65)\n",
        "              #p.resize(probability=1.0, width=256, height=256)\n",
        "              p.sample(int((max_files / (len(dir_files))) * (len(dir_files))))\n",
        "          else:\n",
        "              os.mkdir(os.path.join(output_dir, str(dir_name)))\n",
        "              outpath = os.path.join(output_dir, dir_name)\n",
        "              for fname in dir_files:\n",
        "                srcpath = os.path.join(dir_path, fname)\n",
        "                shutil.copy(srcpath, outpath)\n",
        "\n",
        "    return \"All Gone Well\"\n"
      ],
      "execution_count": 0,
      "outputs": []
    },
    {
      "metadata": {
        "id": "7e18-yCDXVE7",
        "colab_type": "code",
        "colab": {}
      },
      "cell_type": "code",
      "source": [
        "def read_image(img_path=\"\", img_h=128, img_w=128):\n",
        "    image = cv.imread(img_path)\n",
        "    i_height = np.size(image, 0)\n",
        "    i_width = np.size(image, 1)\n",
        "\n",
        "    file_data = np.array(cv.imread(img_path))\n",
        "\n",
        "    if (file_data.any() != None):\n",
        "        if (i_height != img_h or i_width != img_w):\n",
        "            file_data = cv.resize(file_data, dsize=(img_h, img_w), interpolation=cv.INTER_LANCZOS4)\n",
        "\n",
        "        file_data = file_data.reshape((file_data.shape[0]), (file_data.shape[1]), 3)\n",
        "        return file_data\n",
        "    else:\n",
        "        return None\n",
        "\n",
        "\n",
        "def data_generator(folder_path=\"\", img_h=128, img_w=128, batch_size=128):\n",
        "    dirs = os.walk(folder_path)\n",
        "\n",
        "    paths_labels = []\n",
        "\n",
        "    for s_dir in dirs:\n",
        "        dir_path = s_dir[0]\n",
        "        dir_files = s_dir[2]\n",
        "        for file in dir_files:\n",
        "            single_image_path = os.path.join(dir_path, file)\n",
        "            single_image_label = os.path.basename(dir_path)\n",
        "            paths_labels.append([single_image_path, single_image_label])\n",
        "\n",
        "    random.shuffle(paths_labels)\n",
        "    tdata_len = len(paths_labels)\n",
        "    iterations = math.ceil(tdata_len / batch_size)\n",
        "\n",
        "    for count in range(iterations):\n",
        "        m_data = []\n",
        "        m_label = []\n",
        "\n",
        "        if ((count + 1) * batch_size < tdata_len):\n",
        "            to_loop = paths_labels[count * batch_size:(count + 1) * batch_size]\n",
        "            for img in to_loop:\n",
        "                m_data.append(read_image(img[0], img_h, img_w))\n",
        "                m_label.append([int(img[1])-1])\n",
        "            yield np.array(m_data, dtype=float), np.array(m_label)\n",
        "        else:\n",
        "            to_loop = paths_labels[count * batch_size:]\n",
        "            for img in to_loop:\n",
        "                m_data.append(read_image(img[0], img_h, img_w))\n",
        "                m_label.append([int(img[1])-1])\n",
        "                yield np.array(m_data, dtype=float), np.array(m_label)\n"
      ],
      "execution_count": 0,
      "outputs": []
    },
    {
      "metadata": {
        "id": "geyRpnwa3TRW",
        "colab_type": "text"
      },
      "cell_type": "markdown",
      "source": [
        "**Augmentation Intialization Code**\n",
        "\n",
        "**WARNING**: *Before Calling Check The Folder Structure, Because This Is Not Creating New Directories But Generating in The Old Ones*"
      ]
    },
    {
      "metadata": {
        "id": "Q1oUT4j15gDk",
        "colab_type": "code",
        "colab": {}
      },
      "cell_type": "code",
      "source": [
        "#This call will split the 20% data randomly in the folders mentioned in the function.\n",
        "#orignal_to_train_test()"
      ],
      "execution_count": 0,
      "outputs": []
    },
    {
      "metadata": {
        "id": "Ez0uLTfI3Srg",
        "colab_type": "code",
        "colab": {}
      },
      "cell_type": "code",
      "source": [
        "# This is augmentation of data, according to the definition given in the function.\n",
        "\n",
        "train_aug_dir = '/content/gdrive/My Drive/Datasets/tt_dataset/train_aug'\n",
        "test_aug_dir = '/content/gdrive/My Drive/Datasets/tt_dataset/test_aug'\n",
        "\n",
        "train_dir = '/content/gdrive/My Drive/Datasets/tt_dataset/train'\n",
        "test_dir = '/content/gdrive/My Drive/Datasets/tt_dataset/test'\n",
        "\n",
        "\n",
        "#a = do_augmentation(test_dir, test_aug_dir, 376, '6')\n",
        "#print(f'Test Data Augmentation: {a}')\n",
        "\n",
        "#b = do_augmentation(train_dir, train_aug_dir, 1504, '6')\n",
        "#print(f'Test Data Augmentation: {b}')"
      ],
      "execution_count": 0,
      "outputs": []
    },
    {
      "metadata": {
        "id": "AN82JPARFukD",
        "colab_type": "code",
        "outputId": "ff5c6ce5-1c06-4f0a-85de-32300aaeab87",
        "colab": {
          "base_uri": "https://localhost:8080/",
          "height": 187
        }
      },
      "cell_type": "code",
      "source": [
        "total_files('/content/gdrive/My Drive/Datasets/tt_dataset/train_aug')"
      ],
      "execution_count": 14,
      "outputs": [
        {
          "output_type": "stream",
          "text": [
            "train_aug: 0\n",
            "7: 1504\n",
            "1: 1504\n",
            "4: 1504\n",
            "2: 1504\n",
            "3: 1504\n",
            "5: 1504\n",
            "6: 1504\n",
            "Total Filess:= 10528\n"
          ],
          "name": "stdout"
        },
        {
          "output_type": "execute_result",
          "data": {
            "text/plain": [
              "10528"
            ]
          },
          "metadata": {
            "tags": []
          },
          "execution_count": 14
        }
      ]
    },
    {
      "metadata": {
        "id": "Sk3ucciu59o-",
        "colab_type": "code",
        "colab": {}
      },
      "cell_type": "code",
      "source": [
        "#Total Files Count Checking"
      ],
      "execution_count": 0,
      "outputs": []
    },
    {
      "metadata": {
        "id": "js5BdJqs-p2v",
        "colab_type": "text"
      },
      "cell_type": "markdown",
      "source": [
        "# Model Helper Functions"
      ]
    },
    {
      "metadata": {
        "id": "O4cPls8P-vgp",
        "colab_type": "code",
        "colab": {}
      },
      "cell_type": "code",
      "source": [
        "def get_class_weights(y, smooth_factor=0):\n",
        "    \"\"\"\n",
        "    Returns the weights for each class based on the frequencies of the samples\n",
        "    :param smooth_factor: factor that smooths extremely uneven weights\n",
        "    :param y: list of true labels (the labels must be hashable)\n",
        "    :return: dictionary with the weight for each class\n",
        "    \"\"\"\n",
        "    y = np.ravel(y)\n",
        "    counter = Counter(y)\n",
        "\n",
        "    if smooth_factor > 0:\n",
        "        p = max(counter.values()) * smooth_factor\n",
        "        for k in counter.keys():\n",
        "            counter[k] += p\n",
        "\n",
        "    majority = max(counter.values())\n",
        "\n",
        "    return {cls: float(majority / count) for cls, count in counter.items()}"
      ],
      "execution_count": 0,
      "outputs": []
    },
    {
      "metadata": {
        "id": "j4WywAlhKPki",
        "colab_type": "code",
        "colab": {}
      },
      "cell_type": "code",
      "source": [
        "#Balance Test Batch Generation\n",
        "def get_balance_random_test(folder_path=\"\", img_h=300, img_w=300, batch_size=70, num_of_classes=7, test=50):\n",
        "  dirs = os.walk(folder_path)\n",
        "  \n",
        "  samples = int(batch_size/num_of_classes)\n",
        "  \n",
        "  \n",
        "  \n",
        "  for num in range(test):\n",
        "    m_data = []\n",
        "    m_label = []\n",
        "    dirs = os.walk(folder_path)\n",
        "    \n",
        "    for s_dir in dirs:\n",
        "          dir_path = s_dir[0]\n",
        "          dir_files = s_dir[2]\n",
        "          dir_name = os.path.basename(dir_path)\n",
        "\n",
        "          if(len(dir_files) > 0):\n",
        "            tfiles = random.sample(dir_files, samples)\n",
        "            for file in tfiles:\n",
        "              single_image_path = os.path.join(dir_path, file)\n",
        "              single_image_label = dir_name\n",
        "              m_data.append(read_image(single_image_path, img_h, img_w))\n",
        "              m_label.append([int(dir_name)-1])\n",
        "    yield shuffle_data(m_data, m_label)\n",
        "  "
      ],
      "execution_count": 0,
      "outputs": []
    },
    {
      "metadata": {
        "id": "VEWG-yWoo4s6",
        "colab_type": "code",
        "colab": {}
      },
      "cell_type": "code",
      "source": [
        ""
      ],
      "execution_count": 0,
      "outputs": []
    },
    {
      "metadata": {
        "id": "k44kDd2KpMZa",
        "colab_type": "text"
      },
      "cell_type": "markdown",
      "source": [
        "\n",
        "---\n",
        "\n",
        "# TRANSFER LEARNING\n",
        "\n",
        "---"
      ]
    },
    {
      "metadata": {
        "id": "uzNnKp76XUCN",
        "colab_type": "code",
        "colab": {}
      },
      "cell_type": "code",
      "source": [
        "img_width = 229\n",
        "img_height = 229\n",
        "num_of_classes = 7\n",
        "\n",
        "batch_size = 21\n",
        "epochs = 25"
      ],
      "execution_count": 0,
      "outputs": []
    },
    {
      "metadata": {
        "id": "7QDbUTiHsvWK",
        "colab_type": "code",
        "outputId": "ac47f344-c1cf-4418-dac0-6e1818a0057d",
        "colab": {
          "base_uri": "https://localhost:8080/",
          "height": 170
        }
      },
      "cell_type": "code",
      "source": [
        "\n",
        "\n",
        "train_dir = '/content/gdrive/My Drive/Datasets/tt_dataset/train'\n",
        "aug_train_dir = '/content/gdrive/My Drive/Datasets/tt_dataset/train_aug'\n",
        "test_dir = '/content/gdrive/My Drive/Datasets/tt_dataset/test'\n",
        "\n",
        "total_files(test_dir)\n",
        "orignal_dir = '/content/gdrive/My Drive/Datasets/orignal'\n",
        "\n",
        "#train_data, train_labels = get_data(train_dir, img_height, img_width)\n",
        "#train_data, train_labels = get_data(aug_train_dir, img_height, img_width)\n",
        "#train_data, train_labels = get_data(orignal_dir, img_height, img_width)\n",
        "#train_generator = get_balance_random_test(folder_path=aug_train_dir, img_h=img_height, img_w=img_width, batch_size=256, num_of_classes=7, test=1000)\n",
        "train_generator = get_balance_random_test(folder_path=train_dir, img_h=img_height, img_w=img_width, batch_size=70, num_of_classes=7, test=1000)\n",
        "test_generator = get_balance_random_test(folder_path=test_dir, img_h=img_height, img_w=img_width, batch_size=70, num_of_classes=7, test=1000)"
      ],
      "execution_count": 19,
      "outputs": [
        {
          "output_type": "stream",
          "text": [
            "test: 0\n",
            "7: 11\n",
            "1: 23\n",
            "4: 15\n",
            "2: 21\n",
            "3: 14\n",
            "5: 11\n",
            "6: 375\n",
            "Total Filess:= 470\n"
          ],
          "name": "stdout"
        }
      ]
    },
    {
      "metadata": {
        "id": "Sp2kDjGxpNxG",
        "colab_type": "code",
        "colab": {}
      },
      "cell_type": "code",
      "source": [
        "#class_weights = get_class_weights(train_labels-1)\n",
        "\n",
        "model = applications.inception_v3.InceptionV3(weights=\"imagenet\", include_top=False, input_shape=(img_width, img_height, 3))\n",
        "\n",
        "model.summary()\n",
        "\n",
        "for layer in model.layers[:]:\n",
        "    layer.trainable = False\n",
        "\n",
        "# Adding custom Layers\n",
        "x = model.output\n",
        "#x = AveragePooling2D()(x)\n",
        "x = Flatten()(x)\n",
        "x = Dense(64, activation=\"relu\")(x)\n",
        "x = Dropout(0.2)(x)\n",
        "predictions = Dense(num_of_classes, activation=\"softmax\")(x)\n",
        "\n",
        "# creating the final model\n",
        "model_final = Model(input=model.input, output=predictions)\n",
        "\n",
        "model_final.summary()\n",
        "\n",
        "\n",
        "model_final.compile(loss=keras.losses.sparse_categorical_crossentropy,\n",
        "              optimizer=keras.optimizers.Adam(),\n",
        "              metrics=['accuracy'])\n",
        "train_acc = []\n",
        "train_err = []\n",
        "\n",
        "test_acc= []\n",
        "test_err = []\n",
        "\n",
        "for i in range(epochs):\n",
        "  test_d, test_l = next(test_generator)\n",
        "  train_d, train_l = next(train_generator)\n",
        "  \n",
        "  train_result = model_final.train_on_batch(train_d, train_l)\n",
        "  test_result = model_final.test_on_batch(test_d, test_l)\n",
        "  \n",
        "  test_acc.append(test_result[1])\n",
        "  test_err.append(test_result[0])\n",
        "  \n",
        "  train_acc.append(train_result[1])\n",
        "  train_err.append(train_result[0])\n",
        "  \n",
        "  print(f'Training | Test LOSS: {train_result[0]} | {test_result[0]}')\n",
        "  print(f'Training | Test ACCURACY: {train_result[1]} | {test_result[1]}')\n",
        "  print(f'++============================================================++')\n"
      ],
      "execution_count": 0,
      "outputs": []
    },
    {
      "metadata": {
        "id": "4soR03GfWl2G",
        "colab_type": "code",
        "colab": {
          "base_uri": "https://localhost:8080/",
          "height": 735
        },
        "outputId": "12b5b220-a631-4db8-be67-6c2cda26db1e"
      },
      "cell_type": "code",
      "source": [
        "# summarize history for accuracy\n",
        "plt.plot(train_acc)\n",
        "plt.plot(test_acc)\n",
        "plt.title('model accuracy')\n",
        "plt.ylabel('accuracy')\n",
        "plt.xlabel('epoch')\n",
        "plt.legend(['train', 'test'], loc='upper left')\n",
        "plt.show()\n",
        "# summarize history for loss\n",
        "plt.plot(train_err)\n",
        "plt.plot(test_err)\n",
        "plt.title('model loss')\n",
        "plt.ylabel('loss')\n",
        "plt.xlabel('epoch')\n",
        "plt.legend(['train', 'test'], loc='upper left')\n",
        "plt.show()"
      ],
      "execution_count": 27,
      "outputs": [
        {
          "output_type": "display_data",
          "data": {
            "image/png": "[encoded data removed]",
            "text/plain": [
              "<matplotlib.figure.Figure at 0x7f85f6ab8a58>"
            ]
          },
          "metadata": {
            "tags": []
          }
        },
        {
          "output_type": "display_data",
          "data": {
            "image/png": "[encoded data removed]",
            "text/plain": [
              "<matplotlib.figure.Figure at 0x7f85f6ade8d0>"
            ]
          },
          "metadata": {
            "tags": []
          }
        }
      ]
    },
    {
      "metadata": {
        "id": "yELNCBQLWrRD",
        "colab_type": "code",
        "colab": {}
      },
      "cell_type": "code",
      "source": [
        ""
      ],
      "execution_count": 0,
      "outputs": []
    }
  ]
}