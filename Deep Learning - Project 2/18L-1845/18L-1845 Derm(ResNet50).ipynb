{
 "cells": [
  {
   "cell_type": "markdown",
   "metadata": {},
   "source": [
    "# Deep Learning Project2B - Part 2(ResNet)\n",
    "## Abdul Wahab Akram - 18L-1845"
   ]
  },
  {
   "cell_type": "markdown",
   "metadata": {},
   "source": [
    "## Note: The data is already augmented like Part 1"
   ]
  },
  {
   "cell_type": "code",
   "execution_count": 0,
   "metadata": {
    "colab": {},
    "colab_type": "code",
    "id": "BoRAz9og7iGf"
   },
   "outputs": [],
   "source": [
    "import os\n",
    "import cv2\n",
    "import numpy as np\n",
    "import matplotlib.pyplot as plt\n",
    "import random\n",
    "import tensorflow as tf\n",
    "import keras\n",
    "from keras.models import Sequential, Model\n",
    "from keras.layers import Dense, Dropout, Flatten\n",
    "from keras.layers import Conv2D, MaxPooling2D, GlobalAveragePooling2D\n",
    "from keras import applications\n",
    "from keras import backend as K\n",
    "from keras.optimizers import SGD\n",
    "from keras import regularizers\n",
    "from keras.layers.normalization import BatchNormalization\n",
    "from keras import optimizers\n",
    "from keras import applications\n",
    "from os import listdir\n",
    "from PIL import Image\n",
    "from keras.preprocessing.image import ImageDataGenerator,array_to_img, img_to_array, load_img\n",
    "import numpy as np"
   ]
  },
  {
   "cell_type": "markdown",
   "metadata": {
    "colab": {},
    "colab_type": "code",
    "id": "cMxHgsIDu67i"
   },
   "source": [
    "## Variables Inialization\n",
    "### Image Width = 150\n",
    "### Image Height = 150"
   ]
  },
  {
   "cell_type": "code",
   "execution_count": 0,
   "metadata": {
    "colab": {},
    "colab_type": "code",
    "id": "8cZw8KR37ra1"
   },
   "outputs": [],
   "source": [
    "train_data = []\n",
    "train_labels = []\n",
    "test_data = []\n",
    "test_labels = []\n",
    "im_width = 150\n",
    "im_height = 150\n",
    "num_classes = 7"
   ]
  },
  {
   "cell_type": "markdown",
   "metadata": {
    "colab": {},
    "colab_type": "code",
    "id": "SkKLrzaziwif"
   },
   "source": [
    "## Preprocessing Function"
   ]
  },
  {
   "cell_type": "code",
   "execution_count": 0,
   "metadata": {
    "colab": {},
    "colab_type": "code",
    "id": "ITaXX3gi7wCX"
   },
   "outputs": [],
   "source": [
    "def preProcessTrainData(path):\n",
    "    progress = 0\n",
    "    image_files = [f for f in os.listdir(path) if os.path.isfile(os.path.join(path,f))]\n",
    "    \n",
    "    for file_name in image_files:\n",
    "        image_file = str(path + file_name)\n",
    "        \n",
    "        img = cv2.imread(image_file,cv2.IMREAD_COLOR)\n",
    "        new_img = cv2.resize(img,(im_width,im_height))\n",
    "        train_data.append(new_img)\n",
    "        progress = progress+1\n",
    "        \n",
    "        train_labels.append(int(path[-2])-1)\n",
    "        \n",
    "        if progress%1000==0:\n",
    "            print('Progress '+str(progress)+' Image done of Disease type:'  + path[-2])"
   ]
  },
  {
   "cell_type": "markdown",
   "metadata": {
    "colab": {},
    "colab_type": "code",
    "id": "toCa1c_G8K79"
   },
   "source": [
    "## Preprocess images by calling preprocess function"
   ]
  },
  {
   "cell_type": "code",
   "execution_count": 81,
   "metadata": {
    "colab": {
     "base_uri": "https://localhost:8080/",
     "height": 136
    },
    "colab_type": "code",
    "id": "gCUXilEh73wl",
    "outputId": "a75078de-8d46-45fc-8af5-d273b6a9c243"
   },
   "outputs": [
    {
     "name": "stdout",
     "output_type": "stream",
     "text": [
      "Progress 1000 Image done of Disease type:1\n",
      "Progress 1000 Image done of Disease type:2\n",
      "Progress 1000 Image done of Disease type:3\n",
      "Progress 1000 Image done of Disease type:4\n",
      "Progress 1000 Image done of Disease type:5\n",
      "Progress 1000 Image done of Disease type:6\n",
      "Progress 1000 Image done of Disease type:7\n"
     ]
    }
   ],
   "source": [
    "for i in range(7):\n",
    "    preProcessTrainData(os.getcwd()+'/DermCNN/'+str(i+1)+'/')"
   ]
  },
  {
   "cell_type": "markdown",
   "metadata": {},
   "source": [
    "## Converting train_data list to numpy array"
   ]
  },
  {
   "cell_type": "code",
   "execution_count": 82,
   "metadata": {
    "colab": {
     "base_uri": "https://localhost:8080/",
     "height": 34
    },
    "colab_type": "code",
    "id": "anSicmNX779v",
    "outputId": "bede533b-787e-4cef-a217-6f6f3ee599a6"
   },
   "outputs": [
    {
     "name": "stdout",
     "output_type": "stream",
     "text": [
      "(11746, 150, 150, 3)\n"
     ]
    }
   ],
   "source": [
    "train_data = np.array(train_data)\n",
    "print(train_data.shape)"
   ]
  },
  {
   "cell_type": "markdown",
   "metadata": {},
   "source": [
    "## Coverting train_labels list to numpy array"
   ]
  },
  {
   "cell_type": "code",
   "execution_count": 83,
   "metadata": {
    "colab": {
     "base_uri": "https://localhost:8080/",
     "height": 34
    },
    "colab_type": "code",
    "id": "TO4OWxkJ8I39",
    "outputId": "214df8e7-e341-478e-9875-9665fdde925e"
   },
   "outputs": [
    {
     "data": {
      "text/plain": [
       "(11746,)"
      ]
     },
     "execution_count": 83,
     "metadata": {
      "tags": []
     },
     "output_type": "execute_result"
    }
   ],
   "source": [
    "train_labels = np.array(train_labels)\n",
    "#test_labels = np.array(test_labels)\n",
    "train_labels.shape"
   ]
  },
  {
   "cell_type": "markdown",
   "metadata": {},
   "source": [
    "## Reshaping data and converting it between 0 and 1"
   ]
  },
  {
   "cell_type": "code",
   "execution_count": 0,
   "metadata": {
    "colab": {},
    "colab_type": "code",
    "id": "_eImhVAk8OHL"
   },
   "outputs": [],
   "source": [
    "train_data = train_data.reshape((train_data.shape)[0],(train_data.shape)[1],(train_data.shape)[2],3)\n",
    "train_data.astype('float32')\n",
    "#test_data = test_data.reshape((test_data.shape)[0],(test_data.shape)[1],(test_data.shape)[2],1)\n",
    "#test_data.astype('float32')\n",
    "train_data = train_data/255.0\n",
    "#test_data = test_data/255.0"
   ]
  },
  {
   "cell_type": "code",
   "execution_count": 0,
   "metadata": {
    "colab": {},
    "colab_type": "code",
    "id": "Xk9j7vTW8RFK"
   },
   "outputs": [],
   "source": [
    "train_labels.astype('uint8')\n",
    "#test_labels.astype('uint8')\n",
    "train_labels = keras.utils.to_categorical(train_labels, num_classes)\n",
    "#test_labels = keras.utils.to_categorical(test_labels, num_classes)z"
   ]
  },
  {
   "cell_type": "markdown",
   "metadata": {},
   "source": [
    "## Function to shuffle data"
   ]
  },
  {
   "cell_type": "code",
   "execution_count": 0,
   "metadata": {
    "colab": {},
    "colab_type": "code",
    "id": "slk-tMnP8TOU"
   },
   "outputs": [],
   "source": [
    "def shuffle(a, b):\n",
    "    rng_state = np.random.get_state()\n",
    "    np.random.shuffle(a)\n",
    "    np.random.set_state(rng_state)\n",
    "    np.random.shuffle(b)\n",
    "\n"
   ]
  },
  {
   "cell_type": "markdown",
   "metadata": {},
   "source": [
    "## Shuffling data and labels in unison"
   ]
  },
  {
   "cell_type": "code",
   "execution_count": 0,
   "metadata": {
    "colab": {},
    "colab_type": "code",
    "id": "v-oooIki8Vrn"
   },
   "outputs": [],
   "source": [
    "for i in range(10):\n",
    "    shuffle(train_data,train_labels)\n",
    "  #  shuffle(test_data,test_labels)"
   ]
  },
  {
   "cell_type": "markdown",
   "metadata": {
    "colab": {},
    "colab_type": "code",
    "id": "Y6kvQjbPvYu3"
   },
   "source": [
    "## Model 1"
   ]
  },
  {
   "cell_type": "code",
   "execution_count": 93,
   "metadata": {
    "colab": {
     "base_uri": "https://localhost:8080/",
     "height": 68
    },
    "colab_type": "code",
    "id": "VeuzTu2D8aMl",
    "outputId": "acf8302c-32ec-4763-a396-34a107fe6856"
   },
   "outputs": [
    {
     "name": "stderr",
     "output_type": "stream",
     "text": [
      "/usr/local/lib/python3.6/dist-packages/keras_applications/resnet50.py:265: UserWarning: The output shape of `ResNet50(include_top=False)` has been changed since Keras 2.2.0.\n",
      "  warnings.warn('The output shape of `ResNet50(include_top=False)` '\n",
      "/usr/local/lib/python3.6/dist-packages/ipykernel_launcher.py:21: UserWarning: Update your `Model` call to the Keras 2 API: `Model(inputs=Tensor(\"in..., outputs=Tensor(\"de...)`\n"
     ]
    }
   ],
   "source": [
    "model = keras.applications.resnet50.ResNet50(include_top=False, weights='imagenet', input_shape=(150, 150, 3))"
   ]
  },
  {
   "cell_type": "markdown",
   "metadata": {},
   "source": [
    "## Freezing first 40 layers of model 1 and fine tuning the rest"
   ]
  },
  {
   "cell_type": "code",
   "execution_count": null,
   "metadata": {},
   "outputs": [],
   "source": [
    "# we chose to train the top 2 inception blocks, i.e. we will freeze\n",
    "# the first 249 layers and unfreeze the rest:\n",
    "for layer in model.layers[:40]:\n",
    "   layer.trainable = False\n",
    "for layer in model.layers[40:]:\n",
    "   layer.trainable = True"
   ]
  },
  {
   "cell_type": "markdown",
   "metadata": {},
   "source": [
    "## Adding custom dense layers along with softmax layer"
   ]
  },
  {
   "cell_type": "code",
   "execution_count": null,
   "metadata": {},
   "outputs": [],
   "source": [
    "#Adding custom Layers \n",
    "x = model.output\n",
    "x = Flatten()(x)\n",
    "x = Dropout(0.35)(x)\n",
    "x = Dense(200,activation=\"relu\")(x)\n",
    "x = Dropout(0.35)(x)\n",
    "x = Dense(7,activation='softmax')(x)\n",
    "\n",
    "# creating the final model \n",
    "model_final = Model(input = model.input, output = x)"
   ]
  },
  {
   "cell_type": "markdown",
   "metadata": {},
   "source": [
    "## Compile and fit Model 1 - Validation Accuracy did not improve at all"
   ]
  },
  {
   "cell_type": "code",
   "execution_count": 95,
   "metadata": {
    "colab": {
     "base_uri": "https://localhost:8080/",
     "height": 931
    },
    "colab_type": "code",
    "id": "AmM0okHE8edh",
    "outputId": "946f47f1-71cc-4454-f3ea-c1e12b9260cb"
   },
   "outputs": [
    {
     "name": "stdout",
     "output_type": "stream",
     "text": [
      "Train on 10336 samples, validate on 1410 samples\n",
      "Epoch 1/30\n",
      "10336/10336 [==============================] - 192s 19ms/step - loss: 0.4531 - acc: 0.8640 - val_loss: 13.5002 - val_acc: 0.1624\n",
      "Epoch 2/30\n",
      "10336/10336 [==============================] - 162s 16ms/step - loss: 0.0660 - acc: 0.9804 - val_loss: 13.5003 - val_acc: 0.1624\n",
      "Epoch 3/30\n",
      "  660/10336 [>.............................] - ETA: 2:24 - loss: 0.0665 - acc: 0.9788"
     ]
    },
    {
     "ename": "KeyboardInterrupt",
     "evalue": "ignored",
     "output_type": "error",
     "traceback": [
      "\u001b[0;31m---------------------------------------------------------------------------\u001b[0m",
      "\u001b[0;31mKeyboardInterrupt\u001b[0m                         Traceback (most recent call last)",
      "\u001b[0;32m<ipython-input-95-2ac52401c03f>\u001b[0m in \u001b[0;36m<module>\u001b[0;34m()\u001b[0m\n\u001b[1;32m      4\u001b[0m           \u001b[0mverbose\u001b[0m\u001b[0;34m=\u001b[0m\u001b[0;36m1\u001b[0m\u001b[0;34m,\u001b[0m\u001b[0;34m\u001b[0m\u001b[0;34m\u001b[0m\u001b[0m\n\u001b[1;32m      5\u001b[0m           \u001b[0mshuffle\u001b[0m\u001b[0;34m=\u001b[0m\u001b[0;32mTrue\u001b[0m\u001b[0;34m,\u001b[0m\u001b[0;34m\u001b[0m\u001b[0;34m\u001b[0m\u001b[0m\n\u001b[0;32m----> 6\u001b[0;31m           validation_split=0.12)\n\u001b[0m",
      "\u001b[0;32m/usr/local/lib/python3.6/dist-packages/keras/engine/training.py\u001b[0m in \u001b[0;36mfit\u001b[0;34m(self, x, y, batch_size, epochs, verbose, callbacks, validation_split, validation_data, shuffle, class_weight, sample_weight, initial_epoch, steps_per_epoch, validation_steps, **kwargs)\u001b[0m\n\u001b[1;32m   1037\u001b[0m                                         \u001b[0minitial_epoch\u001b[0m\u001b[0;34m=\u001b[0m\u001b[0minitial_epoch\u001b[0m\u001b[0;34m,\u001b[0m\u001b[0;34m\u001b[0m\u001b[0;34m\u001b[0m\u001b[0m\n\u001b[1;32m   1038\u001b[0m                                         \u001b[0msteps_per_epoch\u001b[0m\u001b[0;34m=\u001b[0m\u001b[0msteps_per_epoch\u001b[0m\u001b[0;34m,\u001b[0m\u001b[0;34m\u001b[0m\u001b[0;34m\u001b[0m\u001b[0m\n\u001b[0;32m-> 1039\u001b[0;31m                                         validation_steps=validation_steps)\n\u001b[0m\u001b[1;32m   1040\u001b[0m \u001b[0;34m\u001b[0m\u001b[0m\n\u001b[1;32m   1041\u001b[0m     def evaluate(self, x=None, y=None,\n",
      "\u001b[0;32m/usr/local/lib/python3.6/dist-packages/keras/engine/training_arrays.py\u001b[0m in \u001b[0;36mfit_loop\u001b[0;34m(model, f, ins, out_labels, batch_size, epochs, verbose, callbacks, val_f, val_ins, shuffle, callback_metrics, initial_epoch, steps_per_epoch, validation_steps)\u001b[0m\n\u001b[1;32m    197\u001b[0m                     \u001b[0mins_batch\u001b[0m\u001b[0;34m[\u001b[0m\u001b[0mi\u001b[0m\u001b[0;34m]\u001b[0m \u001b[0;34m=\u001b[0m \u001b[0mins_batch\u001b[0m\u001b[0;34m[\u001b[0m\u001b[0mi\u001b[0m\u001b[0;34m]\u001b[0m\u001b[0;34m.\u001b[0m\u001b[0mtoarray\u001b[0m\u001b[0;34m(\u001b[0m\u001b[0;34m)\u001b[0m\u001b[0;34m\u001b[0m\u001b[0;34m\u001b[0m\u001b[0m\n\u001b[1;32m    198\u001b[0m \u001b[0;34m\u001b[0m\u001b[0m\n\u001b[0;32m--> 199\u001b[0;31m                 \u001b[0mouts\u001b[0m \u001b[0;34m=\u001b[0m \u001b[0mf\u001b[0m\u001b[0;34m(\u001b[0m\u001b[0mins_batch\u001b[0m\u001b[0;34m)\u001b[0m\u001b[0;34m\u001b[0m\u001b[0;34m\u001b[0m\u001b[0m\n\u001b[0m\u001b[1;32m    200\u001b[0m                 \u001b[0mouts\u001b[0m \u001b[0;34m=\u001b[0m \u001b[0mto_list\u001b[0m\u001b[0;34m(\u001b[0m\u001b[0mouts\u001b[0m\u001b[0;34m)\u001b[0m\u001b[0;34m\u001b[0m\u001b[0;34m\u001b[0m\u001b[0m\n\u001b[1;32m    201\u001b[0m                 \u001b[0;32mfor\u001b[0m \u001b[0ml\u001b[0m\u001b[0;34m,\u001b[0m \u001b[0mo\u001b[0m \u001b[0;32min\u001b[0m \u001b[0mzip\u001b[0m\u001b[0;34m(\u001b[0m\u001b[0mout_labels\u001b[0m\u001b[0;34m,\u001b[0m \u001b[0mouts\u001b[0m\u001b[0;34m)\u001b[0m\u001b[0;34m:\u001b[0m\u001b[0;34m\u001b[0m\u001b[0;34m\u001b[0m\u001b[0m\n",
      "\u001b[0;32m/usr/local/lib/python3.6/dist-packages/keras/backend/tensorflow_backend.py\u001b[0m in \u001b[0;36m__call__\u001b[0;34m(self, inputs)\u001b[0m\n\u001b[1;32m   2713\u001b[0m                 \u001b[0;32mreturn\u001b[0m \u001b[0mself\u001b[0m\u001b[0;34m.\u001b[0m\u001b[0m_legacy_call\u001b[0m\u001b[0;34m(\u001b[0m\u001b[0minputs\u001b[0m\u001b[0;34m)\u001b[0m\u001b[0;34m\u001b[0m\u001b[0;34m\u001b[0m\u001b[0m\n\u001b[1;32m   2714\u001b[0m \u001b[0;34m\u001b[0m\u001b[0m\n\u001b[0;32m-> 2715\u001b[0;31m             \u001b[0;32mreturn\u001b[0m \u001b[0mself\u001b[0m\u001b[0;34m.\u001b[0m\u001b[0m_call\u001b[0m\u001b[0;34m(\u001b[0m\u001b[0minputs\u001b[0m\u001b[0;34m)\u001b[0m\u001b[0;34m\u001b[0m\u001b[0;34m\u001b[0m\u001b[0m\n\u001b[0m\u001b[1;32m   2716\u001b[0m         \u001b[0;32melse\u001b[0m\u001b[0;34m:\u001b[0m\u001b[0;34m\u001b[0m\u001b[0;34m\u001b[0m\u001b[0m\n\u001b[1;32m   2717\u001b[0m             \u001b[0;32mif\u001b[0m \u001b[0mpy_any\u001b[0m\u001b[0;34m(\u001b[0m\u001b[0mis_tensor\u001b[0m\u001b[0;34m(\u001b[0m\u001b[0mx\u001b[0m\u001b[0;34m)\u001b[0m \u001b[0;32mfor\u001b[0m \u001b[0mx\u001b[0m \u001b[0;32min\u001b[0m \u001b[0minputs\u001b[0m\u001b[0;34m)\u001b[0m\u001b[0;34m:\u001b[0m\u001b[0;34m\u001b[0m\u001b[0;34m\u001b[0m\u001b[0m\n",
      "\u001b[0;32m/usr/local/lib/python3.6/dist-packages/keras/backend/tensorflow_backend.py\u001b[0m in \u001b[0;36m_call\u001b[0;34m(self, inputs)\u001b[0m\n\u001b[1;32m   2673\u001b[0m             \u001b[0mfetched\u001b[0m \u001b[0;34m=\u001b[0m \u001b[0mself\u001b[0m\u001b[0;34m.\u001b[0m\u001b[0m_callable_fn\u001b[0m\u001b[0;34m(\u001b[0m\u001b[0;34m*\u001b[0m\u001b[0marray_vals\u001b[0m\u001b[0;34m,\u001b[0m \u001b[0mrun_metadata\u001b[0m\u001b[0;34m=\u001b[0m\u001b[0mself\u001b[0m\u001b[0;34m.\u001b[0m\u001b[0mrun_metadata\u001b[0m\u001b[0;34m)\u001b[0m\u001b[0;34m\u001b[0m\u001b[0;34m\u001b[0m\u001b[0m\n\u001b[1;32m   2674\u001b[0m         \u001b[0;32melse\u001b[0m\u001b[0;34m:\u001b[0m\u001b[0;34m\u001b[0m\u001b[0;34m\u001b[0m\u001b[0m\n\u001b[0;32m-> 2675\u001b[0;31m             \u001b[0mfetched\u001b[0m \u001b[0;34m=\u001b[0m \u001b[0mself\u001b[0m\u001b[0;34m.\u001b[0m\u001b[0m_callable_fn\u001b[0m\u001b[0;34m(\u001b[0m\u001b[0;34m*\u001b[0m\u001b[0marray_vals\u001b[0m\u001b[0;34m)\u001b[0m\u001b[0;34m\u001b[0m\u001b[0;34m\u001b[0m\u001b[0m\n\u001b[0m\u001b[1;32m   2676\u001b[0m         \u001b[0;32mreturn\u001b[0m \u001b[0mfetched\u001b[0m\u001b[0;34m[\u001b[0m\u001b[0;34m:\u001b[0m\u001b[0mlen\u001b[0m\u001b[0;34m(\u001b[0m\u001b[0mself\u001b[0m\u001b[0;34m.\u001b[0m\u001b[0moutputs\u001b[0m\u001b[0;34m)\u001b[0m\u001b[0;34m]\u001b[0m\u001b[0;34m\u001b[0m\u001b[0;34m\u001b[0m\u001b[0m\n\u001b[1;32m   2677\u001b[0m \u001b[0;34m\u001b[0m\u001b[0m\n",
      "\u001b[0;32m/usr/local/lib/python3.6/dist-packages/tensorflow/python/client/session.py\u001b[0m in \u001b[0;36m__call__\u001b[0;34m(self, *args, **kwargs)\u001b[0m\n\u001b[1;32m   1437\u001b[0m           ret = tf_session.TF_SessionRunCallable(\n\u001b[1;32m   1438\u001b[0m               \u001b[0mself\u001b[0m\u001b[0;34m.\u001b[0m\u001b[0m_session\u001b[0m\u001b[0;34m.\u001b[0m\u001b[0m_session\u001b[0m\u001b[0;34m,\u001b[0m \u001b[0mself\u001b[0m\u001b[0;34m.\u001b[0m\u001b[0m_handle\u001b[0m\u001b[0;34m,\u001b[0m \u001b[0margs\u001b[0m\u001b[0;34m,\u001b[0m \u001b[0mstatus\u001b[0m\u001b[0;34m,\u001b[0m\u001b[0;34m\u001b[0m\u001b[0;34m\u001b[0m\u001b[0m\n\u001b[0;32m-> 1439\u001b[0;31m               run_metadata_ptr)\n\u001b[0m\u001b[1;32m   1440\u001b[0m         \u001b[0;32mif\u001b[0m \u001b[0mrun_metadata\u001b[0m\u001b[0;34m:\u001b[0m\u001b[0;34m\u001b[0m\u001b[0;34m\u001b[0m\u001b[0m\n\u001b[1;32m   1441\u001b[0m           \u001b[0mproto_data\u001b[0m \u001b[0;34m=\u001b[0m \u001b[0mtf_session\u001b[0m\u001b[0;34m.\u001b[0m\u001b[0mTF_GetBuffer\u001b[0m\u001b[0;34m(\u001b[0m\u001b[0mrun_metadata_ptr\u001b[0m\u001b[0;34m)\u001b[0m\u001b[0;34m\u001b[0m\u001b[0;34m\u001b[0m\u001b[0m\n",
      "\u001b[0;31mKeyboardInterrupt\u001b[0m: "
     ]
    }
   ],
   "source": [
    "model_final.compile(loss=keras.losses.categorical_crossentropy,\n",
    "              optimizer=keras.optimizers.Adam(lr=0.0001),\n",
    "              metrics=['accuracy'])\n",
    "\n",
    "history = model_final.fit(train_data,train_labels,\n",
    "          batch_size=30,\n",
    "          epochs=30,\n",
    "          verbose=1,\n",
    "          shuffle=True,\n",
    "          validation_split=0.12)"
   ]
  },
  {
   "cell_type": "markdown",
   "metadata": {},
   "source": [
    "### After Model 1, I tried many models like fine-tuning the last 30 layers, fine tuning the whole resnet50 and not fine-tuning at all, but my validation accuracy did not improve in any of these cases. Then I tried a model in which first 10 layers were fine-tuned and remaining were freezed, I got some better results with this model although it is not a recommended approach to fine-tune first layers and freeze the last ones but I got better results with this technique and I am not able to find yet why is this so."
   ]
  },
  {
   "cell_type": "markdown",
   "metadata": {},
   "source": [
    "## Model 2"
   ]
  },
  {
   "cell_type": "code",
   "execution_count": 96,
   "metadata": {
    "colab": {
     "base_uri": "https://localhost:8080/",
     "height": 68
    },
    "colab_type": "code",
    "id": "52qMUwXAj4ND",
    "outputId": "54c0f1be-15cc-492a-8d7f-ddaf3fee5b76"
   },
   "outputs": [
    {
     "name": "stderr",
     "output_type": "stream",
     "text": [
      "/usr/local/lib/python3.6/dist-packages/keras_applications/resnet50.py:265: UserWarning: The output shape of `ResNet50(include_top=False)` has been changed since Keras 2.2.0.\n",
      "  warnings.warn('The output shape of `ResNet50(include_top=False)` '\n",
      "/usr/local/lib/python3.6/dist-packages/ipykernel_launcher.py:21: UserWarning: Update your `Model` call to the Keras 2 API: `Model(inputs=Tensor(\"in..., outputs=Tensor(\"de...)`\n"
     ]
    }
   ],
   "source": [
    "model = keras.applications.resnet50.ResNet50(include_top=False, weights='imagenet', input_shape=(150, 150, 3))"
   ]
  },
  {
   "cell_type": "markdown",
   "metadata": {},
   "source": [
    "## Fine-Tuning first 10 layers and freezing the rest"
   ]
  },
  {
   "cell_type": "code",
   "execution_count": null,
   "metadata": {
    "colab_type": "text",
    "id": "Wv2wcFb88dZX"
   },
   "outputs": [],
   "source": [
    "for layer in model.layers[:10]:\n",
    "   layer.trainable = True\n",
    "for layer in model.layers[10:]:\n",
    "   layer.trainable = False"
   ]
  },
  {
   "cell_type": "markdown",
   "metadata": {},
   "source": [
    "## Adding custom dense layers along with softmax layer"
   ]
  },
  {
   "cell_type": "code",
   "execution_count": null,
   "metadata": {},
   "outputs": [],
   "source": [
    "#Adding custom Layers \n",
    "x = model.output\n",
    "x = Flatten()(x)\n",
    "x = Dropout(0.35)(x)\n",
    "x = Dense(200,activation=\"relu\")(x)\n",
    "x = Dropout(0.35)(x)\n",
    "x = Dense(7,activation='softmax')(x)\n",
    "\n",
    "# creating the final model \n",
    "model_final = Model(input = model.input, output = x)\n",
    "\n"
   ]
  },
  {
   "cell_type": "markdown",
   "metadata": {},
   "source": [
    "## Compile and Fit Model: Highest Validation Accuracy = 87.38 at 3rd epoch"
   ]
  },
  {
   "cell_type": "code",
   "execution_count": 97,
   "metadata": {
    "colab": {
     "base_uri": "https://localhost:8080/",
     "height": 1054
    },
    "colab_type": "code",
    "id": "uIRrH0g0j_dU",
    "outputId": "358fa13b-ed28-4974-9bdf-62c011ec142e"
   },
   "outputs": [
    {
     "name": "stdout",
     "output_type": "stream",
     "text": [
      "Train on 10336 samples, validate on 1410 samples\n",
      "Epoch 1/30\n",
      "10336/10336 [==============================] - 152s 15ms/step - loss: 0.6657 - acc: 0.7931 - val_loss: 0.4900 - val_acc: 0.8383\n",
      "Epoch 2/30\n",
      "10336/10336 [==============================] - 124s 12ms/step - loss: 0.1489 - acc: 0.9499 - val_loss: 0.5553 - val_acc: 0.8539\n",
      "Epoch 3/30\n",
      "10336/10336 [==============================] - 124s 12ms/step - loss: 0.0924 - acc: 0.9701 - val_loss: 0.4595 - val_acc: 0.8738\n",
      "Epoch 4/30\n",
      "10336/10336 [==============================] - 124s 12ms/step - loss: 0.0589 - acc: 0.9808 - val_loss: 0.6418 - val_acc: 0.8504\n",
      "Epoch 5/30\n",
      "10336/10336 [==============================] - 124s 12ms/step - loss: 0.0413 - acc: 0.9860 - val_loss: 0.5630 - val_acc: 0.8716\n",
      "Epoch 6/30\n",
      "10336/10336 [==============================] - 124s 12ms/step - loss: 0.0437 - acc: 0.9857 - val_loss: 1.6934 - val_acc: 0.6872\n",
      "Epoch 7/30\n",
      "10336/10336 [==============================] - 124s 12ms/step - loss: 0.0496 - acc: 0.9838 - val_loss: 0.7849 - val_acc: 0.8312\n",
      "Epoch 8/30\n",
      "10336/10336 [==============================] - 124s 12ms/step - loss: 0.0439 - acc: 0.9864 - val_loss: 0.8326 - val_acc: 0.8135\n",
      "Epoch 9/30\n",
      "10336/10336 [==============================] - 124s 12ms/step - loss: 0.0385 - acc: 0.9883 - val_loss: 0.6937 - val_acc: 0.8511\n",
      "Epoch 10/30\n",
      "10336/10336 [==============================] - 124s 12ms/step - loss: 0.0321 - acc: 0.9880 - val_loss: 0.6742 - val_acc: 0.8688\n",
      "Epoch 11/30\n",
      "10336/10336 [==============================] - 125s 12ms/step - loss: 0.0309 - acc: 0.9910 - val_loss: 0.8085 - val_acc: 0.8468\n",
      "Epoch 12/30\n",
      "10336/10336 [==============================] - 124s 12ms/step - loss: 0.0358 - acc: 0.9891 - val_loss: 0.7204 - val_acc: 0.8645\n",
      "Epoch 13/30\n",
      "10336/10336 [==============================] - 124s 12ms/step - loss: 0.0295 - acc: 0.9911 - val_loss: 0.7370 - val_acc: 0.8603\n",
      "Epoch 14/30\n",
      "10336/10336 [==============================] - 124s 12ms/step - loss: 0.0367 - acc: 0.9885 - val_loss: 0.9998 - val_acc: 0.8021\n",
      "Epoch 15/30\n",
      "10336/10336 [==============================] - 124s 12ms/step - loss: 0.0315 - acc: 0.9903 - val_loss: 1.5211 - val_acc: 0.7702\n",
      "Epoch 16/30\n",
      "10336/10336 [==============================] - 124s 12ms/step - loss: 0.0235 - acc: 0.9913 - val_loss: 1.1560 - val_acc: 0.8170\n",
      "Epoch 17/30\n",
      "10336/10336 [==============================] - 124s 12ms/step - loss: 0.0225 - acc: 0.9928 - val_loss: 0.9570 - val_acc: 0.8440\n",
      "Epoch 18/30\n",
      "10336/10336 [==============================] - 124s 12ms/step - loss: 0.0277 - acc: 0.9915 - val_loss: 0.9622 - val_acc: 0.8426\n",
      "Epoch 19/30\n",
      "10336/10336 [==============================] - 124s 12ms/step - loss: 0.0230 - acc: 0.9938 - val_loss: 1.2659 - val_acc: 0.7957\n",
      "Epoch 20/30\n",
      "10336/10336 [==============================] - 124s 12ms/step - loss: 0.0272 - acc: 0.9920 - val_loss: 0.8622 - val_acc: 0.8433\n",
      "Epoch 21/30\n",
      "10336/10336 [==============================] - 124s 12ms/step - loss: 0.0200 - acc: 0.9944 - val_loss: 0.9447 - val_acc: 0.8305\n",
      "Epoch 22/30\n",
      "10336/10336 [==============================] - 124s 12ms/step - loss: 0.0215 - acc: 0.9933 - val_loss: 1.2869 - val_acc: 0.8142\n",
      "Epoch 23/30\n",
      "10336/10336 [==============================] - 124s 12ms/step - loss: 0.0237 - acc: 0.9940 - val_loss: 0.9196 - val_acc: 0.8539\n",
      "Epoch 24/30\n",
      "10336/10336 [==============================] - 124s 12ms/step - loss: 0.0176 - acc: 0.9946 - val_loss: 1.3621 - val_acc: 0.8305\n",
      "Epoch 25/30\n",
      "10336/10336 [==============================] - 124s 12ms/step - loss: 0.0281 - acc: 0.9921 - val_loss: 1.1025 - val_acc: 0.8418\n",
      "Epoch 26/30\n",
      "10336/10336 [==============================] - 124s 12ms/step - loss: 0.0240 - acc: 0.9932 - val_loss: 0.8401 - val_acc: 0.8631\n",
      "Epoch 27/30\n",
      "10336/10336 [==============================] - 124s 12ms/step - loss: 0.0291 - acc: 0.9924 - val_loss: 1.4372 - val_acc: 0.7894\n",
      "Epoch 28/30\n",
      "10336/10336 [==============================] - 124s 12ms/step - loss: 0.0203 - acc: 0.9943 - val_loss: 1.2809 - val_acc: 0.8064\n",
      "Epoch 29/30\n",
      "10336/10336 [==============================] - 124s 12ms/step - loss: 0.0210 - acc: 0.9947 - val_loss: 1.2715 - val_acc: 0.8078\n",
      "Epoch 30/30\n",
      "10336/10336 [==============================] - 124s 12ms/step - loss: 0.0135 - acc: 0.9960 - val_loss: 1.0470 - val_acc: 0.8482\n"
     ]
    }
   ],
   "source": [
    "model_final.compile(loss=keras.losses.categorical_crossentropy,\n",
    "              optimizer=keras.optimizers.Adam(lr=0.0001),\n",
    "              metrics=['accuracy'])\n",
    "history = model_final.fit(train_data,train_labels,\n",
    "          batch_size=30,\n",
    "          epochs=30,\n",
    "          verbose=1,\n",
    "          shuffle=True,\n",
    "          validation_split=0.12)"
   ]
  },
  {
   "cell_type": "markdown",
   "metadata": {},
   "source": [
    "## Epoch vs Loss Plot"
   ]
  },
  {
   "cell_type": "code",
   "execution_count": 98,
   "metadata": {
    "colab": {
     "base_uri": "https://localhost:8080/",
     "height": 294
    },
    "colab_type": "code",
    "id": "xYb14ydsj_5Z",
    "outputId": "5290c733-3690-4303-efbf-c0b26edc061b"
   },
   "outputs": [
    {
     "data": {
      "image/png": "[encoded data removed]",
      "text/plain": [
       "<matplotlib.figure.Figure at 0x7fbbca764e80>"
      ]
     },
     "metadata": {
      "tags": []
     },
     "output_type": "display_data"
    }
   ],
   "source": [
    "plt.plot(history.history['loss'])\n",
    "plt.plot(history.history['val_loss'])\n",
    "plt.title('Model Loss')\n",
    "plt.ylabel('Loss')\n",
    "plt.xlabel('Epoch')\n",
    "plt.legend(['train', 'test'], loc='upper right')\n",
    "plt.show()"
   ]
  },
  {
   "cell_type": "markdown",
   "metadata": {},
   "source": [
    "## Epoch vs Accuracy Plot"
   ]
  },
  {
   "cell_type": "code",
   "execution_count": 99,
   "metadata": {
    "colab": {
     "base_uri": "https://localhost:8080/",
     "height": 294
    },
    "colab_type": "code",
    "id": "O-bmHLklkahF",
    "outputId": "3e21e052-c1c4-4639-aad2-4dc74e13e38f"
   },
   "outputs": [
    {
     "data": {
      "image/png": "[encoded data removed]",
      "text/plain": [
       "<matplotlib.figure.Figure at 0x7fbbca67d550>"
      ]
     },
     "metadata": {
      "tags": []
     },
     "output_type": "display_data"
    }
   ],
   "source": [
    "plt.plot(history.history['acc'])\n",
    "plt.plot(history.history['val_acc'])\n",
    "plt.title('Model Accuracy')\n",
    "plt.ylabel('Accuracy')\n",
    "plt.xlabel('Epoch')\n",
    "plt.legend(['train', 'test'], loc='upper left')\n",
    "plt.show()"
   ]
  },
  {
   "cell_type": "markdown",
   "metadata": {},
   "source": [
    "## I am not satisfied with results of ResNet50 but I tried many things and searched for my problem but was not able to find any solutions."
   ]
  }
 ],
 "metadata": {
  "accelerator": "GPU",
  "colab": {
   "name": "Derm (ResNet50).ipynb",
   "provenance": [],
   "version": "0.3.2"
  },
  "kernelspec": {
   "display_name": "Python 3",
   "language": "python",
   "name": "python3"
  },
  "language_info": {
   "codemirror_mode": {
    "name": "ipython",
    "version": 3
   },
   "file_extension": ".py",
   "mimetype": "text/x-python",
   "name": "python",
   "nbconvert_exporter": "python",
   "pygments_lexer": "ipython3",
   "version": "3.6.7"
  }
 },
 "nbformat": 4,
 "nbformat_minor": 1
}
