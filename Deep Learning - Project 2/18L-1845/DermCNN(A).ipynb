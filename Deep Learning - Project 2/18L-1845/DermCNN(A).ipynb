{
 "cells": [
  {
   "cell_type": "markdown",
   "metadata": {},
   "source": [
    "# Deep Learning - Project 2B - Part 1\n",
    "# Abdul Wahab Akram - 18L-1845"
   ]
  },
  {
   "cell_type": "markdown",
   "metadata": {},
   "source": [
    "## Major Imports"
   ]
  },
  {
   "cell_type": "code",
   "execution_count": 4,
   "metadata": {
    "colab": {
     "base_uri": "https://localhost:8080/",
     "height": 34
    },
    "colab_type": "code",
    "id": "FscQujN8-IJG",
    "outputId": "1a3f6641-cb01-4bb2-c65d-05a2161ca816"
   },
   "outputs": [],
   "source": [
    "import os\n",
    "import cv2\n",
    "import numpy as np\n",
    "import matplotlib.pyplot as plt\n",
    "import random\n",
    "import tensorflow as tf\n",
    "import keras\n",
    "from keras.models import Sequential\n",
    "from keras.layers import Dense, Dropout, Flatten\n",
    "from keras.layers import Conv2D, MaxPooling2D, GlobalAveragePooling2D\n",
    "from keras import applications\n",
    "from keras import backend as K\n",
    "from keras.optimizers import SGD\n",
    "from keras import regularizers\n",
    "from keras.layers.normalization import BatchNormalization\n",
    "from keras import optimizers\n",
    "import os\n",
    "from os import listdir\n",
    "from PIL import Image\n",
    "from keras.preprocessing.image import ImageDataGenerator,array_to_img, img_to_array, load_img\n",
    "import numpy as np"
   ]
  },
  {
   "cell_type": "markdown",
   "metadata": {
    "colab": {},
    "colab_type": "code",
    "id": "8dhAv_Wt-J9_"
   },
   "source": [
    "## Data Generator Object"
   ]
  },
  {
   "cell_type": "code",
   "execution_count": 3,
   "metadata": {
    "colab": {},
    "colab_type": "code",
    "id": "y3Zh-nV75lb9"
   },
   "outputs": [],
   "source": [
    "datagen = ImageDataGenerator(\n",
    "        rotation_range=40,\n",
    "        width_shift_range=0.2,\n",
    "        height_shift_range=0.2,\n",
    "        shear_range=0.2,\n",
    "        zoom_range=0.2,\n",
    "        horizontal_flip=True,\n",
    "        fill_mode='nearest')"
   ]
  },
  {
   "cell_type": "markdown",
   "metadata": {},
   "source": [
    "## Data Augmentation Function"
   ]
  },
  {
   "cell_type": "code",
   "execution_count": null,
   "metadata": {
    "colab": {},
    "colab_type": "code",
    "id": "z9WfA-3n5lcH"
   },
   "outputs": [],
   "source": [
    "def augmentImages(path,sz):\n",
    "    allfiles=os.listdir(path)\n",
    "    imlist=[filename for filename in allfiles if  filename[-4:] in [\".jpg\",\".JPG\"]]\n",
    "\n",
    "    for im in imlist:\n",
    "        imarr=np.array(Image.open(path+im),dtype=np.float)\n",
    "        imarr = imarr.reshape((1,)+imarr.shape) \n",
    "       \n",
    "        i = 0\n",
    "        for batch in datagen.flow(imarr, batch_size=1,\n",
    "                          save_to_dir= path, save_prefix='', save_format='jpg'):\n",
    "            i += 1\n",
    "            if i > sz:\n",
    "                break "
   ]
  },
  {
   "cell_type": "markdown",
   "metadata": {},
   "source": [
    "## Augment Data of classes with different size to resolve issue of imbalance classes"
   ]
  },
  {
   "cell_type": "code",
   "execution_count": 0,
   "metadata": {
    "colab": {},
    "colab_type": "code",
    "id": "KML-aOUL5lcO"
   },
   "outputs": [],
   "source": [
    "augmentsImages('DermCNNdata/1/',18)\n",
    "augmentsImages('DermCNNdata/2/',18)\n",
    "augmentsImages('DermCNN/3/',25)\n",
    "augmentsImages('DermCNN/4/',25)\n",
    "augmentsImages('DermCNN/5/',28)\n",
    "augmentsImages('DermCNN/7/',28)"
   ]
  },
  {
   "cell_type": "markdown",
   "metadata": {
    "colab": {},
    "colab_type": "code",
    "id": "Bu_xnHGh5lcY"
   },
   "source": [
    "## Variables Initialization"
   ]
  },
  {
   "cell_type": "code",
   "execution_count": 5,
   "metadata": {
    "colab": {},
    "colab_type": "code",
    "id": "HPUb2PYC-Oly"
   },
   "outputs": [],
   "source": [
    "train_data = []\n",
    "train_labels = []\n",
    "test_data = []\n",
    "test_labels = []\n",
    "im_width = 256\n",
    "im_height = 256\n",
    "num_classes = 7"
   ]
  },
  {
   "cell_type": "markdown",
   "metadata": {},
   "source": [
    "## Preprocessing Function"
   ]
  },
  {
   "cell_type": "code",
   "execution_count": 6,
   "metadata": {
    "colab": {},
    "colab_type": "code",
    "id": "xEyHudjV-bd-"
   },
   "outputs": [],
   "source": [
    "def preProcessTrainData(path):\n",
    "    progress = 0\n",
    "    image_files = [f for f in os.listdir(path) if os.path.isfile(os.path.join(path,f))]\n",
    "    \n",
    "    for file_name in image_files:\n",
    "        image_file = str(path + file_name)\n",
    "        \n",
    "        img = cv2.imread(image_file,cv2.IMREAD_GRAYSCALE)\n",
    "        new_img = cv2.resize(img,(im_width,im_height))\n",
    "        train_data.append(new_img)\n",
    "        progress = progress+1\n",
    "        \n",
    "        train_labels.append(int(path[-2])-1)\n",
    "        \n",
    "        if progress%1000==0:\n",
    "            print('Progress '+str(progress)+' Image done of Disease type:'  + path[-2])\n"
   ]
  },
  {
   "cell_type": "markdown",
   "metadata": {
    "colab": {},
    "colab_type": "code",
    "id": "AVK3w8lObQyk"
   },
   "source": [
    "## Preprocess Data"
   ]
  },
  {
   "cell_type": "code",
   "execution_count": 7,
   "metadata": {
    "colab": {
     "base_uri": "https://localhost:8080/",
     "height": 139
    },
    "colab_type": "code",
    "id": "VbssyEjvAtgW",
    "outputId": "65629247-bf34-48b1-a7ff-79f598e855a9"
   },
   "outputs": [
    {
     "name": "stdout",
     "output_type": "stream",
     "text": [
      "Progress 1000 Image done of Disease type:1\n",
      "Progress 1000 Image done of Disease type:2\n",
      "Progress 1000 Image done of Disease type:3\n",
      "Progress 1000 Image done of Disease type:4\n",
      "Progress 1000 Image done of Disease type:5\n",
      "Progress 1000 Image done of Disease type:6\n",
      "Progress 1000 Image done of Disease type:7\n"
     ]
    }
   ],
   "source": [
    "for i in range(7):\n",
    "    preProcessTrainData(os.getcwd()+'/DermCNN/'+str(i+1)+'/')"
   ]
  },
  {
   "cell_type": "markdown",
   "metadata": {},
   "source": [
    "## Converting Training Data List to Numpy array"
   ]
  },
  {
   "cell_type": "code",
   "execution_count": 8,
   "metadata": {
    "colab": {
     "base_uri": "https://localhost:8080/",
     "height": 219
    },
    "colab_type": "code",
    "id": "IIU6V9u0-kO0",
    "outputId": "564a8d9f-281d-4c3b-e93c-81272ae5c2f2"
   },
   "outputs": [
    {
     "name": "stdout",
     "output_type": "stream",
     "text": [
      "(11746, 256, 256)\n"
     ]
    }
   ],
   "source": [
    "train_data = np.array(train_data)\n",
    "print(train_data.shape)"
   ]
  },
  {
   "cell_type": "markdown",
   "metadata": {},
   "source": [
    "## Converting Training Labels to Numpy array"
   ]
  },
  {
   "cell_type": "code",
   "execution_count": 9,
   "metadata": {
    "colab": {
     "base_uri": "https://localhost:8080/",
     "height": 34
    },
    "colab_type": "code",
    "id": "HRzJnD6m-xxj",
    "outputId": "15a17f42-f8b9-41be-fe31-3aab13d4308d"
   },
   "outputs": [
    {
     "data": {
      "text/plain": [
       "(11746,)"
      ]
     },
     "execution_count": 9,
     "metadata": {},
     "output_type": "execute_result"
    }
   ],
   "source": [
    "train_labels = np.array(train_labels)\n",
    "train_labels.shape"
   ]
  },
  {
   "cell_type": "markdown",
   "metadata": {},
   "source": [
    "## Reshaping data and converting data between 0 and 1"
   ]
  },
  {
   "cell_type": "code",
   "execution_count": null,
   "metadata": {
    "colab": {},
    "colab_type": "code",
    "id": "72lJrbvtBiXg"
   },
   "outputs": [],
   "source": [
    "train_data = train_data.reshape((train_data.shape)[0],(train_data.shape)[1],(train_data.shape)[2],1)\n",
    "train_data.astype('float32')\n",
    "train_data = train_data/255.0"
   ]
  },
  {
   "cell_type": "code",
   "execution_count": 0,
   "metadata": {
    "colab": {},
    "colab_type": "code",
    "id": "e_kPUFoWHUYf"
   },
   "outputs": [],
   "source": [
    "train_labels.astype('uint8')\n",
    "#test_labels.astype('uint8')\n",
    "train_labels = keras.utils.to_categorical(train_labels, num_classes)\n",
    "#test_labels = keras.utils.to_categorical(test_labels, num_classes)"
   ]
  },
  {
   "cell_type": "markdown",
   "metadata": {},
   "source": [
    "## Function to shuffle data"
   ]
  },
  {
   "cell_type": "code",
   "execution_count": 0,
   "metadata": {
    "colab": {},
    "colab_type": "code",
    "id": "qAbro2N3-1YN"
   },
   "outputs": [],
   "source": [
    "def shuffle(a, b):\n",
    "    rng_state = np.random.get_state()\n",
    "    np.random.shuffle(a)\n",
    "    np.random.set_state(rng_state)\n",
    "    np.random.shuffle(b)\n",
    "\n"
   ]
  },
  {
   "cell_type": "markdown",
   "metadata": {},
   "source": [
    "## Shuffling data and labels in unison"
   ]
  },
  {
   "cell_type": "code",
   "execution_count": 0,
   "metadata": {
    "colab": {},
    "colab_type": "code",
    "id": "pQOqqYgUByVN"
   },
   "outputs": [],
   "source": [
    "for i in range(10):\n",
    "    shuffle(train_data,train_labels)"
   ]
  },
  {
   "cell_type": "markdown",
   "metadata": {},
   "source": [
    "## Model\n",
    "### 5 convolution layers with large number of filters are used along with 2 dense layers with dropout of 0.5 and 0.4."
   ]
  },
  {
   "cell_type": "code",
   "execution_count": 0,
   "metadata": {
    "colab": {
     "base_uri": "https://localhost:8080/",
     "height": 729
    },
    "colab_type": "code",
    "id": "z00zpJGI-8BB",
    "outputId": "a92ba72c-11d3-4214-d26f-695e7fde0fc1"
   },
   "outputs": [
    {
     "name": "stdout",
     "output_type": "stream",
     "text": [
      "_________________________________________________________________\n",
      "Layer (type)                 Output Shape              Param #   \n",
      "=================================================================\n",
      "conv2d_1 (Conv2D)            (None, 254, 254, 32)      320       \n",
      "_________________________________________________________________\n",
      "conv2d_2 (Conv2D)            (None, 254, 254, 32)      9248      \n",
      "_________________________________________________________________\n",
      "conv2d_3 (Conv2D)            (None, 252, 252, 32)      9248      \n",
      "_________________________________________________________________\n",
      "conv2d_4 (Conv2D)            (None, 252, 252, 64)      18496     \n",
      "_________________________________________________________________\n",
      "dropout_1 (Dropout)          (None, 252, 252, 64)      0         \n",
      "_________________________________________________________________\n",
      "max_pooling2d_1 (MaxPooling2 (None, 126, 126, 64)      0         \n",
      "_________________________________________________________________\n",
      "conv2d_5 (Conv2D)            (None, 124, 124, 128)     73856     \n",
      "_________________________________________________________________\n",
      "max_pooling2d_2 (MaxPooling2 (None, 62, 62, 128)       0         \n",
      "_________________________________________________________________\n",
      "conv2d_6 (Conv2D)            (None, 62, 62, 128)       409728    \n",
      "_________________________________________________________________\n",
      "dropout_2 (Dropout)          (None, 62, 62, 128)       0         \n",
      "_________________________________________________________________\n",
      "max_pooling2d_3 (MaxPooling2 (None, 12, 12, 128)       0         \n",
      "_________________________________________________________________\n",
      "flatten_1 (Flatten)          (None, 18432)             0         \n",
      "_________________________________________________________________\n",
      "dense_1 (Dense)              (None, 200)               3686600   \n",
      "_________________________________________________________________\n",
      "dropout_3 (Dropout)          (None, 200)               0         \n",
      "_________________________________________________________________\n",
      "dense_2 (Dense)              (None, 100)               20100     \n",
      "_________________________________________________________________\n",
      "dropout_4 (Dropout)          (None, 100)               0         \n",
      "_________________________________________________________________\n",
      "dense_3 (Dense)              (None, 7)                 707       \n",
      "=================================================================\n",
      "Total params: 4,228,303\n",
      "Trainable params: 4,228,303\n",
      "Non-trainable params: 0\n",
      "_________________________________________________________________\n"
     ]
    }
   ],
   "source": [
    "\n",
    "model = Sequential()\n",
    "model.add(Conv2D(kernel_size=(3,3),filters=32,input_shape=(256, 256,\n",
    "1),activation=\"relu\",padding=\"valid\"))\n",
    "\n",
    "model.add(Conv2D(kernel_size=(3,3),filters=32,activation=\"relu\",padding=\"same\"))\n",
    "\n",
    "\n",
    "model.add(Conv2D(kernel_size=(3,3),filters=32)) #previous 32\n",
    "model.add(Conv2D(kernel_size=(3,3),filters=64,activation=\"relu\",padding=\"same\"))\n",
    "model.add(Dropout(0.4)) #previous 0.3\n",
    "model.add(MaxPooling2D(pool_size=(2,2)))\n",
    "model.add(Conv2D(kernel_size=(3,3),filters=128))\n",
    "\n",
    "model.add(MaxPooling2D(pool_size=(2,2)))\n",
    "model.add(Conv2D(kernel_size=(5,5),filters=128,activation=\"relu\",padding=\"same\"))\n",
    "model.add(Dropout(0.4)) #previous 0.3\n",
    "\n",
    "model.add(MaxPooling2D(pool_size=(5,5))) # previous 3\n",
    "\n",
    "\n",
    "model.add(Flatten())\n",
    "model.add(Dense(200,activation=\"relu\",kernel_regularizer=keras.regularizers.l2(0.01)))\n",
    "model.add(Dropout(0.5)) #previous 0.3\n",
    "\n",
    "model.add(Dense(100,activation=\"relu\",kernel_regularizer=keras.regularizers.l2(0.01)))\n",
    "model.add(Dropout(0.4))\n",
    "model.add(Dense(num_classes,activation=\"softmax\"))\n",
    "\n",
    "model.compile(loss=keras.losses.categorical_crossentropy,\n",
    "              optimizer=keras.optimizers.Adadelta(),\n",
    "              metrics=['accuracy'])\n",
    "model.summary()\n",
    "\n"
   ]
  },
  {
   "cell_type": "markdown",
   "metadata": {
    "colab_type": "text",
    "id": "0sX2VSDuF_s9"
   },
   "source": [
    "## Fit Model"
   ]
  },
  {
   "cell_type": "code",
   "execution_count": 0,
   "metadata": {
    "colab": {
     "base_uri": "https://localhost:8080/",
     "height": 1771
    },
    "colab_type": "code",
    "id": "6BwPG_jO_A-g",
    "outputId": "b5050170-43d5-4307-d98b-568e1ac98e81"
   },
   "outputs": [
    {
     "name": "stdout",
     "output_type": "stream",
     "text": [
      "Train on 10336 samples, validate on 1410 samples\n",
      "Epoch 1/50\n",
      "10336/10336 [==============================] - 230s 22ms/step - loss: 2.4246 - acc: 0.2538 - val_loss: 1.8900 - val_acc: 0.2766\n",
      "Epoch 2/50\n",
      "10336/10336 [==============================] - 219s 21ms/step - loss: 1.7470 - acc: 0.3758 - val_loss: 1.8130 - val_acc: 0.3220\n",
      "Epoch 3/50\n",
      "10336/10336 [==============================] - 219s 21ms/step - loss: 1.6613 - acc: 0.4239 - val_loss: 1.7729 - val_acc: 0.3468\n",
      "Epoch 4/50\n",
      "10336/10336 [==============================] - 219s 21ms/step - loss: 1.5892 - acc: 0.4545 - val_loss: 1.7745 - val_acc: 0.3546\n",
      "Epoch 5/50\n",
      "10336/10336 [==============================] - 219s 21ms/step - loss: 1.5170 - acc: 0.5046 - val_loss: 1.6851 - val_acc: 0.4085\n",
      "Epoch 6/50\n",
      "10336/10336 [==============================] - 219s 21ms/step - loss: 1.4269 - acc: 0.5580 - val_loss: 1.6019 - val_acc: 0.4681\n",
      "Epoch 7/50\n",
      "10336/10336 [==============================] - 219s 21ms/step - loss: 1.3693 - acc: 0.5845 - val_loss: 1.6042 - val_acc: 0.4610\n",
      "Epoch 8/50\n",
      "10336/10336 [==============================] - 219s 21ms/step - loss: 1.2568 - acc: 0.6352 - val_loss: 1.3452 - val_acc: 0.6291\n",
      "Epoch 9/50\n",
      "10336/10336 [==============================] - 219s 21ms/step - loss: 1.1922 - acc: 0.6726 - val_loss: 1.4973 - val_acc: 0.5539\n",
      "Epoch 10/50\n",
      "10336/10336 [==============================] - 219s 21ms/step - loss: 1.1073 - acc: 0.7046 - val_loss: 1.2205 - val_acc: 0.6504\n",
      "Epoch 11/50\n",
      "10336/10336 [==============================] - 219s 21ms/step - loss: 1.0694 - acc: 0.7278 - val_loss: 1.1859 - val_acc: 0.7298\n",
      "Epoch 12/50\n",
      "10336/10336 [==============================] - 219s 21ms/step - loss: 1.0186 - acc: 0.7454 - val_loss: 1.2511 - val_acc: 0.6617\n",
      "Epoch 13/50\n",
      "10336/10336 [==============================] - 219s 21ms/step - loss: 0.9836 - acc: 0.7601 - val_loss: 1.2640 - val_acc: 0.6468\n",
      "Epoch 14/50\n",
      "10336/10336 [==============================] - 219s 21ms/step - loss: 0.9502 - acc: 0.7764 - val_loss: 1.0155 - val_acc: 0.7745\n",
      "Epoch 15/50\n",
      "10336/10336 [==============================] - 220s 21ms/step - loss: 0.9058 - acc: 0.7877 - val_loss: 1.1207 - val_acc: 0.7206\n",
      "Epoch 16/50\n",
      "10336/10336 [==============================] - 220s 21ms/step - loss: 0.8763 - acc: 0.8012 - val_loss: 1.0645 - val_acc: 0.7156\n",
      "Epoch 17/50\n",
      "10336/10336 [==============================] - 219s 21ms/step - loss: 0.8529 - acc: 0.8101 - val_loss: 1.0831 - val_acc: 0.7277\n",
      "Epoch 18/50\n",
      "10336/10336 [==============================] - 220s 21ms/step - loss: 0.8411 - acc: 0.8183 - val_loss: 1.0061 - val_acc: 0.7681\n",
      "Epoch 19/50\n",
      "10336/10336 [==============================] - 220s 21ms/step - loss: 0.8211 - acc: 0.8230 - val_loss: 1.2862 - val_acc: 0.6333\n",
      "Epoch 20/50\n",
      "10336/10336 [==============================] - 220s 21ms/step - loss: 0.7958 - acc: 0.8314 - val_loss: 1.1187 - val_acc: 0.7128\n",
      "Epoch 21/50\n",
      "10336/10336 [==============================] - 220s 21ms/step - loss: 0.7663 - acc: 0.8399 - val_loss: 1.1037 - val_acc: 0.7255\n",
      "Epoch 22/50\n",
      "10336/10336 [==============================] - 220s 21ms/step - loss: 0.7426 - acc: 0.8460 - val_loss: 1.0095 - val_acc: 0.7589\n",
      "Epoch 23/50\n",
      "10336/10336 [==============================] - 220s 21ms/step - loss: 0.7346 - acc: 0.8469 - val_loss: 1.1473 - val_acc: 0.6950\n",
      "Epoch 24/50\n",
      "10336/10336 [==============================] - 220s 21ms/step - loss: 0.7285 - acc: 0.8466 - val_loss: 0.9248 - val_acc: 0.8014\n",
      "Epoch 25/50\n",
      "10336/10336 [==============================] - 220s 21ms/step - loss: 0.6882 - acc: 0.8652 - val_loss: 0.9117 - val_acc: 0.8007\n",
      "Epoch 26/50\n",
      "10336/10336 [==============================] - 220s 21ms/step - loss: 0.6859 - acc: 0.8630 - val_loss: 1.0397 - val_acc: 0.7277\n",
      "Epoch 27/50\n",
      "10336/10336 [==============================] - 220s 21ms/step - loss: 0.6897 - acc: 0.8642 - val_loss: 1.0312 - val_acc: 0.7418\n",
      "Epoch 28/50\n",
      "10336/10336 [==============================] - 220s 21ms/step - loss: 0.6531 - acc: 0.8655 - val_loss: 0.8382 - val_acc: 0.8206\n",
      "Epoch 29/50\n",
      "10336/10336 [==============================] - 220s 21ms/step - loss: 0.6546 - acc: 0.8715 - val_loss: 1.1398 - val_acc: 0.6922\n",
      "Epoch 30/50\n",
      "10336/10336 [==============================] - 220s 21ms/step - loss: 0.6422 - acc: 0.8732 - val_loss: 1.0603 - val_acc: 0.7369\n",
      "Epoch 31/50\n",
      "10336/10336 [==============================] - 220s 21ms/step - loss: 0.6420 - acc: 0.8721 - val_loss: 1.0014 - val_acc: 0.7525\n",
      "Epoch 32/50\n",
      "10336/10336 [==============================] - 220s 21ms/step - loss: 0.6324 - acc: 0.8765 - val_loss: 0.8716 - val_acc: 0.7823\n",
      "Epoch 33/50\n",
      "10336/10336 [==============================] - 220s 21ms/step - loss: 0.6177 - acc: 0.8781 - val_loss: 0.8833 - val_acc: 0.7865\n",
      "Epoch 34/50\n",
      "10336/10336 [==============================] - 220s 21ms/step - loss: 0.6147 - acc: 0.8762 - val_loss: 1.1115 - val_acc: 0.7227\n",
      "Epoch 35/50\n",
      "10336/10336 [==============================] - 220s 21ms/step - loss: 0.6020 - acc: 0.8837 - val_loss: 0.7740 - val_acc: 0.8418\n",
      "Epoch 36/50\n",
      "10336/10336 [==============================] - 220s 21ms/step - loss: 0.6044 - acc: 0.8835 - val_loss: 1.2067 - val_acc: 0.6723\n",
      "Epoch 37/50\n",
      "10336/10336 [==============================] - 220s 21ms/step - loss: 0.5950 - acc: 0.8846 - val_loss: 0.9732 - val_acc: 0.7560\n",
      "Epoch 38/50\n",
      "10336/10336 [==============================] - 220s 21ms/step - loss: 0.5793 - acc: 0.8922 - val_loss: 0.7618 - val_acc: 0.8326\n",
      "Epoch 39/50\n",
      "10336/10336 [==============================] - 220s 21ms/step - loss: 0.5806 - acc: 0.8901 - val_loss: 1.0053 - val_acc: 0.7525\n",
      "Epoch 40/50\n",
      "10336/10336 [==============================] - 220s 21ms/step - loss: 0.5724 - acc: 0.8925 - val_loss: 0.8759 - val_acc: 0.7830\n",
      "Epoch 41/50\n",
      "10336/10336 [==============================] - 220s 21ms/step - loss: 0.5630 - acc: 0.8935 - val_loss: 0.9003 - val_acc: 0.7887\n",
      "Epoch 42/50\n",
      "10336/10336 [==============================] - 220s 21ms/step - loss: 0.5742 - acc: 0.8911 - val_loss: 1.1516 - val_acc: 0.7085\n",
      "Epoch 43/50\n",
      "10336/10336 [==============================] - 220s 21ms/step - loss: 0.5593 - acc: 0.8948 - val_loss: 0.7198 - val_acc: 0.8553\n",
      "Epoch 44/50\n",
      "10336/10336 [==============================] - 220s 21ms/step - loss: 0.5411 - acc: 0.8989 - val_loss: 0.8507 - val_acc: 0.8057\n",
      "Epoch 45/50\n",
      "10336/10336 [==============================] - 220s 21ms/step - loss: 0.5418 - acc: 0.8943 - val_loss: 1.1539 - val_acc: 0.7149\n",
      "Epoch 46/50\n",
      "10336/10336 [==============================] - 220s 21ms/step - loss: 0.5472 - acc: 0.8954 - val_loss: 0.7506 - val_acc: 0.8376\n",
      "Epoch 47/50\n",
      "10336/10336 [==============================] - 220s 21ms/step - loss: 0.5348 - acc: 0.8991 - val_loss: 0.7538 - val_acc: 0.8340\n",
      "Epoch 48/50\n",
      "10336/10336 [==============================] - 220s 21ms/step - loss: 0.5277 - acc: 0.9006 - val_loss: 0.8721 - val_acc: 0.7901\n",
      "Epoch 49/50\n",
      "10336/10336 [==============================] - 220s 21ms/step - loss: 0.5189 - acc: 0.9039 - val_loss: 0.7497 - val_acc: 0.8262\n",
      "Epoch 50/50\n",
      "10336/10336 [==============================] - 220s 21ms/step - loss: 0.5459 - acc: 0.8973 - val_loss: 0.7939 - val_acc: 0.8206\n"
     ]
    }
   ],
   "source": [
    "history = model.fit(train_data, train_labels,\n",
    "          batch_size=30,\n",
    "                    \n",
    "          epochs=50,\n",
    "           verbose=1, shuffle = True,validation_split=0.12)"
   ]
  },
  {
   "cell_type": "markdown",
   "metadata": {
    "colab": {},
    "colab_type": "code",
    "id": "eL-vN6V0rWeY"
   },
   "source": [
    "## Error vs Epochs Plot"
   ]
  },
  {
   "cell_type": "code",
   "execution_count": 0,
   "metadata": {
    "colab": {
     "base_uri": "https://localhost:8080/",
     "height": 376
    },
    "colab_type": "code",
    "id": "vLZYInfg_jhv",
    "outputId": "b5d30c81-fb5f-4020-f3e1-c3009f3e7c32"
   },
   "outputs": [
    {
     "data": {
      "image/png": "[encoded data removed]",
      "text/plain": [
       "<matplotlib.figure.Figure at 0x7fa74920fac8>"
      ]
     },
     "metadata": {
      "tags": []
     },
     "output_type": "display_data"
    }
   ],
   "source": [
    "plt.plot(history.history['loss'])\n",
    "plt.plot(history.history['val_loss'])\n",
    "plt.title('Model Loss')\n",
    "plt.ylabel('Loss')\n",
    "plt.xlabel('Epoch')\n",
    "plt.legend(['train', 'test'], loc='upper right')\n",
    "plt.show()"
   ]
  },
  {
   "cell_type": "markdown",
   "metadata": {},
   "source": [
    "## Accuracy vs Epochs Plot -  Accuracy Achieved (82%)\n",
    "### As we can see that there are alot of ocillations in test data's accuracy. The model has touched the accuracy of 84% but got 82% accuracy at last epoch because of oscillations. I am expecting more accuracy with this model but could not run it on more epoch because of computation time."
   ]
  },
  {
   "cell_type": "code",
   "execution_count": 0,
   "metadata": {
    "colab": {
     "base_uri": "https://localhost:8080/",
     "height": 376
    },
    "colab_type": "code",
    "id": "2f-Kqn3_QlyM",
    "outputId": "55f112d6-4a34-44fa-ef7b-85d925e0a908"
   },
   "outputs": [
    {
     "data": {
      "image/png": "[encoded data removed]",
      "text/plain": [
       "<matplotlib.figure.Figure at 0x7fa74b2a2b70>"
      ]
     },
     "metadata": {
      "tags": []
     },
     "output_type": "display_data"
    }
   ],
   "source": [
    "plt.plot(history.history['acc'])\n",
    "plt.plot(history.history['val_acc'])\n",
    "plt.title('Model Accuracy')\n",
    "plt.ylabel('Accuracy')\n",
    "plt.xlabel('Epoch')\n",
    "plt.legend(['train', 'test'], loc='upper left')\n",
    "plt.show()"
   ]
  }
 ],
 "metadata": {
  "accelerator": "GPU",
  "colab": {
   "collapsed_sections": [],
   "name": "DermCNN.ipynb",
   "provenance": [],
   "version": "0.3.2"
  },
  "kernelspec": {
   "display_name": "Python 3",
   "language": "python",
   "name": "python3"
  },
  "language_info": {
   "codemirror_mode": {
    "name": "ipython",
    "version": 3
   },
   "file_extension": ".py",
   "mimetype": "text/x-python",
   "name": "python",
   "nbconvert_exporter": "python",
   "pygments_lexer": "ipython3",
   "version": "3.6.7"
  }
 },
 "nbformat": 4,
 "nbformat_minor": 1
}
