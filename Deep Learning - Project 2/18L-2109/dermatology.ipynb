{
 "cells": [
  {
   "cell_type": "code",
   "execution_count": null,
   "metadata": {},
   "outputs": [],
   "source": [
    "import numpy as np\n",
    "from numpy import argmax\n",
    "import pandas as pd\n",
    "import tensorflow\n",
    "import cv2\n",
    "import os\n",
    "import matplotlib.pyplot as plt\n",
    "from scipy.misc import imresize\n",
    "from sklearn.preprocessing import OneHotEncoder,LabelEncoder\n",
    "from sklearn.model_selection import train_test_split\n",
    "from tensorflow.keras.applications.resnet50 import ResNet50, preprocess_input\n",
    "from tensorflow.keras import Sequential\n",
    "from tensorflow.keras.layers import Dense, Conv2D, MaxPooling2D,Dropout, Flatten, GlobalAveragePooling2D\n",
    "from tensorflow.keras.preprocessing.image import ImageDataGenerator\n",
    "%matplotlib inline"
   ]
  },
  {
   "cell_type": "code",
   "execution_count": 4,
   "metadata": {
    "scrolled": false
   },
   "outputs": [
    {
     "name": "stdout",
     "output_type": "stream",
     "text": [
      "Found 2364 images belonging to 7 classes.\n",
      "(1164, 64, 64, 1)\n",
      "(1164, 7)\n"
     ]
    },
    {
     "name": "stderr",
     "output_type": "stream",
     "text": [
      "C:\\Users\\Grace\\Anaconda3\\lib\\site-packages\\sklearn\\preprocessing\\_encoders.py:363: FutureWarning: The handling of integer data will change in version 0.22. Currently, the categories are determined based on the range [0, max(values)], while in the future they will be determined based on the unique values.\n",
      "If you want the future behaviour and silence this warning, you can specify \"categories='auto'\".\n",
      "In case you used a LabelEncoder before this OneHotEncoder to convert the categories to integers, then you can now use the OneHotEncoder directly.\n",
      "  warnings.warn(msg, FutureWarning)\n"
     ]
    }
   ],
   "source": [
    "im_width = 64\n",
    "im_height = 64\n",
    "Label=[]\n",
    "data=[]\n",
    "\n",
    "train_datagen=ImageDataGenerator(preprocessing_function=preprocess_input) #included in our dependencies\n",
    "train_generator=train_datagen.flow_from_directory('C:\\\\Users\\\\Grace\\\\Downloads\\\\MS-DS\\\\Stat. and Math. Methods in Data Science\\\\Assignment 08\\\\DermCNN data\\\\', # this is where you specify the path to the main data folder\n",
    "                                                 target_size=(224,224),\n",
    "                                                 color_mode='grayscale',\n",
    "                                                 batch_size=32,\n",
    "                                                 class_mode='categorical',shuffle=True)\n",
    "\n",
    "DATADIR = \"C:\\\\Users\\\\Grace\\\\Downloads\\\\MS-DS\\\\Stat. and Math. Methods in Data Science\\\\Assignment 08\\\\DermCNN data\\\\\"\n",
    "CATEGORIES = [\"1\", \"2\",\"3\",\"4\",\"5\",\"6\",\"7\"]\n",
    "\n",
    "for category in CATEGORIES:  \n",
    "    path = os.path.join(DATADIR,category)  \n",
    "    for img in os.listdir(path):  \n",
    "        img_array = cv2.imread(os.path.join(path,img) ,cv2.IMREAD_GRAYSCALE) \n",
    "        new_array = (cv2.resize(img_array, (im_width, im_height)))\n",
    "        Label.append(category)\n",
    "        data.append((new_array/255))\n",
    "           \n",
    "\n",
    "data=data[0:800]+data[2000:2364]\n",
    "Label=Label[0:800]+Label[2000:2364]\n",
    "data=np.array(data)\n",
    "Label=np.array(Label)\n",
    "label_encoder = LabelEncoder()\n",
    "integer_encoded = label_encoder.fit_transform(Label)\n",
    "onehot_encoder = OneHotEncoder(sparse=False)\n",
    "integer_encoded = integer_encoded.reshape(len(integer_encoded), 1)\n",
    "onehot_encoded = onehot_encoder.fit_transform(integer_encoded)\n",
    "#inverted = label_encoder.inverse_transform([argmax(onehot_encoded[0, :])])\n",
    "#print(inverted)\n",
    "data = data.reshape((data.shape)[0], (data.shape)[1], (data.shape)[2], 1)\n",
    "X_train, X_test, y_train, y_test = train_test_split(data, onehot_encoded, test_size=0.2)\n",
    "print(data.shape)\n",
    "print(onehot_encoded.shape)"
   ]
  },
  {
   "cell_type": "code",
   "execution_count": 12,
   "metadata": {
    "scrolled": false
   },
   "outputs": [
    {
     "name": "stdout",
     "output_type": "stream",
     "text": [
      "_________________________________________________________________\n",
      "Layer (type)                 Output Shape              Param #   \n",
      "=================================================================\n",
      "conv2d_35 (Conv2D)           (None, 62, 62, 64)        640       \n",
      "_________________________________________________________________\n",
      "conv2d_36 (Conv2D)           (None, 62, 62, 10)        5770      \n",
      "_________________________________________________________________\n",
      "max_pooling2d_14 (MaxPooling (None, 31, 31, 10)        0         \n",
      "_________________________________________________________________\n",
      "conv2d_37 (Conv2D)           (None, 31, 31, 3)         273       \n",
      "_________________________________________________________________\n",
      "conv2d_38 (Conv2D)           (None, 31, 31, 5)         380       \n",
      "_________________________________________________________________\n",
      "max_pooling2d_15 (MaxPooling (None, 15, 15, 5)         0         \n",
      "_________________________________________________________________\n",
      "conv2d_39 (Conv2D)           (None, 7, 7, 10)          210       \n",
      "_________________________________________________________________\n",
      "dense_16 (Dense)             (None, 7, 7, 70)          770       \n",
      "_________________________________________________________________\n",
      "flatten_7 (Flatten)          (None, 3430)              0         \n",
      "_________________________________________________________________\n",
      "dropout_7 (Dropout)          (None, 3430)              0         \n",
      "_________________________________________________________________\n",
      "dense_17 (Dense)             (None, 100)               343100    \n",
      "_________________________________________________________________\n",
      "dense_18 (Dense)             (None, 7)                 707       \n",
      "=================================================================\n",
      "Total params: 351,850\n",
      "Trainable params: 351,850\n",
      "Non-trainable params: 0\n",
      "_________________________________________________________________\n",
      "Train on 744 samples, validate on 187 samples\n",
      "Epoch 1/30\n",
      "744/744 [==============================] - 26s 35ms/step - loss: 0.3470 - acc: 0.8715 - val_loss: 0.3375 - val_acc: 0.8717\n",
      "Epoch 2/30\n",
      "744/744 [==============================] - 24s 32ms/step - loss: 0.3186 - acc: 0.8806 - val_loss: 0.3269 - val_acc: 0.8717\n",
      "Epoch 3/30\n",
      "744/744 [==============================] - 25s 33ms/step - loss: 0.3138 - acc: 0.8806 - val_loss: 0.3242 - val_acc: 0.8717\n",
      "Epoch 4/30\n",
      "744/744 [==============================] - 25s 34ms/step - loss: 0.3123 - acc: 0.8806 - val_loss: 0.3243 - val_acc: 0.8717\n",
      "Epoch 5/30\n",
      "744/744 [==============================] - 24s 32ms/step - loss: 0.3117 - acc: 0.8806 - val_loss: 0.3237 - val_acc: 0.8717\n",
      "Epoch 6/30\n",
      "744/744 [==============================] - 23s 31ms/step - loss: 0.3122 - acc: 0.8806 - val_loss: 0.3241 - val_acc: 0.8717\n",
      "Epoch 7/30\n",
      "744/744 [==============================] - 23s 31ms/step - loss: 0.3122 - acc: 0.8806 - val_loss: 0.3242 - val_acc: 0.8717\n",
      "Epoch 8/30\n",
      "744/744 [==============================] - 23s 31ms/step - loss: 0.3123 - acc: 0.8806 - val_loss: 0.3233 - val_acc: 0.8717\n",
      "Epoch 9/30\n",
      "744/744 [==============================] - 23s 31ms/step - loss: 0.3088 - acc: 0.8829 - val_loss: 0.3109 - val_acc: 0.8946\n",
      "Epoch 10/30\n",
      "744/744 [==============================] - 23s 31ms/step - loss: 0.2856 - acc: 0.9069 - val_loss: 0.3033 - val_acc: 0.8824\n",
      "Epoch 11/30\n",
      "744/744 [==============================] - 23s 31ms/step - loss: 0.2711 - acc: 0.9092 - val_loss: 0.2855 - val_acc: 0.8969\n",
      "Epoch 12/30\n",
      "744/744 [==============================] - 24s 32ms/step - loss: 0.2631 - acc: 0.9115 - val_loss: 0.2741 - val_acc: 0.8999\n",
      "Epoch 13/30\n",
      "744/744 [==============================] - 24s 33ms/step - loss: 0.2547 - acc: 0.9109 - val_loss: 0.2694 - val_acc: 0.8992\n",
      "Epoch 14/30\n",
      "744/744 [==============================] - 24s 32ms/step - loss: 0.2475 - acc: 0.9130 - val_loss: 0.2719 - val_acc: 0.8938\n",
      "Epoch 15/30\n",
      "744/744 [==============================] - 25s 33ms/step - loss: 0.2398 - acc: 0.9142 - val_loss: 0.2517 - val_acc: 0.9053\n",
      "Epoch 16/30\n",
      "744/744 [==============================] - 25s 33ms/step - loss: 0.2317 - acc: 0.9155 - val_loss: 0.2541 - val_acc: 0.9037\n",
      "Epoch 17/30\n",
      "744/744 [==============================] - 25s 33ms/step - loss: 0.2239 - acc: 0.9167 - val_loss: 0.2448 - val_acc: 0.9053\n",
      "Epoch 18/30\n",
      "744/744 [==============================] - 26s 34ms/step - loss: 0.2163 - acc: 0.9188 - val_loss: 0.2344 - val_acc: 0.9083\n",
      "Epoch 19/30\n",
      "744/744 [==============================] - 26s 35ms/step - loss: 0.2019 - acc: 0.9232 - val_loss: 0.2324 - val_acc: 0.9099\n",
      "Epoch 20/30\n",
      "744/744 [==============================] - 26s 35ms/step - loss: 0.1914 - acc: 0.9245 - val_loss: 0.2301 - val_acc: 0.9083\n",
      "Epoch 21/30\n",
      "744/744 [==============================] - 25s 33ms/step - loss: 0.1756 - acc: 0.9297 - val_loss: 0.2224 - val_acc: 0.9129\n",
      "Epoch 22/30\n",
      "744/744 [==============================] - 27s 36ms/step - loss: 0.1652 - acc: 0.9364 - val_loss: 0.2263 - val_acc: 0.9106\n",
      "Epoch 23/30\n",
      "744/744 [==============================] - 27s 36ms/step - loss: 0.1603 - acc: 0.9368 - val_loss: 0.2267 - val_acc: 0.9091\n",
      "Epoch 24/30\n",
      "744/744 [==============================] - 25s 33ms/step - loss: 0.1476 - acc: 0.9426 - val_loss: 0.2056 - val_acc: 0.9228\n",
      "Epoch 25/30\n",
      "744/744 [==============================] - 26s 35ms/step - loss: 0.1324 - acc: 0.9520 - val_loss: 0.2192 - val_acc: 0.9152\n",
      "Epoch 26/30\n",
      "744/744 [==============================] - 26s 34ms/step - loss: 0.1162 - acc: 0.9593 - val_loss: 0.2073 - val_acc: 0.9198\n",
      "Epoch 27/30\n",
      "744/744 [==============================] - 25s 33ms/step - loss: 0.1042 - acc: 0.9652 - val_loss: 0.2089 - val_acc: 0.9183\n",
      "Epoch 28/30\n",
      "744/744 [==============================] - 25s 33ms/step - loss: 0.0937 - acc: 0.9714 - val_loss: 0.2095 - val_acc: 0.9198\n",
      "Epoch 29/30\n",
      "744/744 [==============================] - 23s 31ms/step - loss: 0.0795 - acc: 0.9773 - val_loss: 0.2060 - val_acc: 0.9213\n",
      "Epoch 30/30\n",
      "744/744 [==============================] - 23s 31ms/step - loss: 0.0710 - acc: 0.9812 - val_loss: 0.2050 - val_acc: 0.9244\n",
      "dict_keys(['val_loss', 'val_acc', 'loss', 'acc'])\n"
     ]
    },
    {
     "data": {
      "image/png": "[encoded data removed]",
      "text/plain": [
       "<Figure size 432x288 with 1 Axes>"
      ]
     },
     "metadata": {
      "needs_background": "light"
     },
     "output_type": "display_data"
    },
    {
     "data": {
      "image/png": "[encoded data removed]",
      "text/plain": [
       "<Figure size 432x288 with 1 Axes>"
      ]
     },
     "metadata": {
      "needs_background": "light"
     },
     "output_type": "display_data"
    },
    {
     "name": "stdout",
     "output_type": "stream",
     "text": [
      "233/233 [==============================] - 2s 10ms/step\n",
      "Accuracy on the Test Images:  0.9227468128368067\n"
     ]
    }
   ],
   "source": [
    "model = Sequential()\n",
    "model.add(Conv2D(kernel_size=(3,3),filters=64,input_shape=(im_width, im_height, 1),activation=\"relu\",padding=\"valid\"))\n",
    "model.add(Conv2D(kernel_size=(3,3),filters=10,activation=\"relu\",padding=\"same\"))\n",
    "model.add(MaxPooling2D(pool_size=(2,2),strides=(2,2)))\n",
    "model.add(Conv2D(kernel_size=(3,3),filters=3,activation=\"relu\",padding=\"same\"))\n",
    "model.add(Conv2D(kernel_size=(5,5),filters=5,activation=\"relu\",padding=\"same\"))\n",
    "model.add(MaxPooling2D(pool_size=(3,3),strides=(2,2)))\n",
    "model.add(Conv2D(kernel_size=(2,2),strides=(2,2),filters=10))\n",
    "model.add(Dense(70,activation=\"sigmoid\"))\n",
    "model.add(Flatten())\n",
    "model.add(Dropout(0.20))\n",
    "model.add(Dense(100,activation=\"sigmoid\"))\n",
    "model.add(Dense(7,activation=\"softmax\"))\n",
    "model.summary()\n",
    "model.compile(loss='binary_crossentropy', optimizer='adam',\n",
    "              metrics=['accuracy'])\n",
    "\n",
    "#checkpoint = ModelCheckpoint(filepath='scratchmodel.best.hdf5', verbose=1,save_best_only=True)\n",
    "\n",
    "history=model.fit(X_train, y_train, batch_size=32, epochs=30, verbose=1,validation_split=0.2, shuffle=True)\n",
    "\n",
    "print(history.history.keys())\n",
    "# summarize history for accuracy\n",
    "plt.plot(history.history['acc'])\n",
    "plt.plot(history.history['val_acc'])\n",
    "plt.title('model accuracy')\n",
    "plt.ylabel('accuracy')\n",
    "plt.xlabel('epoch')\n",
    "plt.legend(['train', 'test'], loc='upper left')\n",
    "plt.show()\n",
    "\n",
    "# summarize history for loss\n",
    "plt.plot(history.history['loss'])\n",
    "plt.plot(history.history['val_loss'])\n",
    "plt.title('model loss')\n",
    "plt.ylabel('loss')\n",
    "plt.xlabel('epoch')\n",
    "plt.legend(['train', 'test'], loc='upper left')\n",
    "plt.show()\n",
    "\n",
    "#Evaluate the model on the test data\n",
    "score = model.evaluate(X_test, y_test)\n",
    "\n",
    "#Accuracy on test data\n",
    "print('Accuracy on the Test Images: ', score[1])"
   ]
  },
  {
   "cell_type": "code",
   "execution_count": null,
   "metadata": {},
   "outputs": [],
   "source": []
  }
 ],
 "metadata": {
  "kernelspec": {
   "display_name": "Python 3",
   "language": "python",
   "name": "python3"
  },
  "language_info": {
   "codemirror_mode": {
    "name": "ipython",
    "version": 3
   },
   "file_extension": ".py",
   "mimetype": "text/x-python",
   "name": "python",
   "nbconvert_exporter": "python",
   "pygments_lexer": "ipython3",
   "version": "3.6.7"
  }
 },
 "nbformat": 4,
 "nbformat_minor": 2
}
