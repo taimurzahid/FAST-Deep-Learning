{
 "cells": [
  {
   "cell_type": "code",
   "execution_count": 114,
   "metadata": {},
   "outputs": [],
   "source": [
    "from __future__ import print_function\n",
    "import numpy as np\n",
    "import os\n",
    "import cv2\n",
    "import pandas as pd\n",
    "from matplotlib import pyplot\n",
    "import matplotlib.pyplot as plt\n",
    "\n",
    "import keras\n",
    "from keras.models import Sequential\n",
    "from keras.layers import Dense, Dropout, Flatten,GlobalMaxPooling2D\n",
    "from keras.layers import Conv2D, MaxPooling2D\n",
    "from keras.preprocessing.image import ImageDataGenerator\n",
    "from sklearn.model_selection import train_test_split\n",
    "from sklearn.utils import shuffle\n",
    "from keras import backend as K\n",
    "%matplotlib inline"
   ]
  },
  {
   "cell_type": "code",
   "execution_count": 115,
   "metadata": {},
   "outputs": [],
   "source": [
    "def rename(prev_path, new_path,val):\n",
    "    os.makedirs(new_path)\n",
    "    os.getcwd()\n",
    "    collection = prev_path\n",
    "    for i, filename in enumerate(os.listdir(collection)):\n",
    "        os.rename(prev_path + filename, new_path + str(val)+\".\"+ str(i) + \".jpg\")"
   ]
  },
  {
   "cell_type": "code",
   "execution_count": 116,
   "metadata": {},
   "outputs": [],
   "source": [
    "prev_path='D:/University_MS/1- FIRST SEMESTER/Deep Learning/Project/Project3/DermCNN data/1/'\n",
    "one_path=\"D:/University_MS/1- FIRST SEMESTER/Deep Learning/Project/Project3/Dataset/1/\"\n",
    "#rename(prev_path, one_path,val=1)\n",
    "\n",
    "prev_path='D:/University_MS/1- FIRST SEMESTER/Deep Learning/Project/Project3/DermCNN data/2/'\n",
    "two_path=\"D:/University_MS/1- FIRST SEMESTER/Deep Learning/Project/Project3/Dataset/2/\"\n",
    "#rename(prev_path, two_path,val=2)\n",
    "\n",
    "prev_path='D:/University_MS/1- FIRST SEMESTER/Deep Learning/Project/Project3/DermCNN data/3/'\n",
    "three_path=\"D:/University_MS/1- FIRST SEMESTER/Deep Learning/Project/Project3/Dataset/3/\"\n",
    "#rename(prev_path, three_path,val=3)\n",
    "\n",
    "prev_path='D:/University_MS/1- FIRST SEMESTER/Deep Learning/Project/Project3/DermCNN data/4/'\n",
    "four_path=\"D:/University_MS/1- FIRST SEMESTER/Deep Learning/Project/Project3/Dataset/4/\"\n",
    "#rename(prev_path, four_path,val=4)\n",
    "\n",
    "prev_path='D:/University_MS/1- FIRST SEMESTER/Deep Learning/Project/Project3/DermCNN data/5/'\n",
    "five_path=\"D:/University_MS/1- FIRST SEMESTER/Deep Learning/Project/Project3/Dataset/5/\"\n",
    "#rename(prev_path, five_path,val=5)\n",
    "\n",
    "prev_path='D:/University_MS/1- FIRST SEMESTER/Deep Learning/Project/Project3/DermCNN data/6/'\n",
    "six_path=\"D:/University_MS/1- FIRST SEMESTER/Deep Learning/Project/Project3/Dataset/6/\"\n",
    "#rename(prev_path, six_path,val=6)\n",
    "\n",
    "prev_path='D:/University_MS/1- FIRST SEMESTER/Deep Learning/Project/Project3/DermCNN data/7/'\n",
    "seven_path=\"D:/University_MS/1- FIRST SEMESTER/Deep Learning/Project/Project3/Dataset/7/\"\n",
    "#rename(prev_path, seven_path,val=7)"
   ]
  },
  {
   "cell_type": "code",
   "execution_count": 117,
   "metadata": {},
   "outputs": [],
   "source": [
    "data = []\n",
    "label = []\n",
    "images= []\n",
    "img_labels= []\n",
    "im_width = 64\n",
    "im_height = 64"
   ]
  },
  {
   "cell_type": "code",
   "execution_count": 118,
   "metadata": {},
   "outputs": [],
   "source": [
    "def preprocessing(path):\n",
    "    \n",
    "    image_files = [ f for f in os.listdir(path) if os.path.isfile(os.path.join(path,f)) ]    \n",
    "\n",
    "    for file in image_files:\n",
    "        image_file = str(path + file)   \n",
    "        img = cv2.imread(image_file, cv2.IMREAD_GRAYSCALE) \n",
    "        new_img = cv2.resize(img, (im_width, im_height))\n",
    "        \n",
    "        pnt=file[:1]\n",
    "        #if file[:1] == '1':\n",
    "        label.append(pnt)\n",
    "        data.append(new_img / 255)\n",
    "    print(len(data))\n",
    "    print(len(label))   "
   ]
  },
  {
   "cell_type": "code",
   "execution_count": 119,
   "metadata": {},
   "outputs": [],
   "source": [
    "def augmentation(aug_path,bs,vl):\n",
    "    (X_train, X_test, y_train, y_test) = train_test_split(data,label, test_size=0.30, random_state=42)\n",
    "    \n",
    "    K.set_image_dim_ordering('th')\n",
    "    # load data\n",
    "    #(X_train, y_train), (X_test, y_test) = mnist.load_data()\n",
    "    # reshape to be [samples][pixels][width][height]\n",
    "    X_train = X_train.reshape(X_train.shape[0], 1, 64, 64)\n",
    "    X_test = X_test.reshape(X_test.shape[0], 1, 64, 64)\n",
    "    # convert from int to float\n",
    "    X_train = X_train.astype('float32')\n",
    "    X_test = X_test.astype('float32')\n",
    "    # define data preparation\n",
    "    shift = 0.2\n",
    "    datagen = ImageDataGenerator(width_shift_range=shift, height_shift_range=shift)\n",
    "    # fit parameters from data\n",
    "    datagen.fit(X_train)\n",
    "    # configure batch size and retrieve one batch of images\n",
    "    #os.makedirs(aug_path)\n",
    "    for X_batch, y_batch in datagen.flow(X_train, y_train, batch_size=bs, save_to_dir=aug_path, save_prefix=vl, save_format='jpg'):\n",
    "        # create a grid of 3x3 images\n",
    "        #for i in range(0, bs):\n",
    "         #   pyplot.subplot(630 + 1 + i)\n",
    "         #   pyplot.imshow(X_batch[i].reshape(64, 64), cmap=pyplot.get_cmap('gray'))\n",
    "        # show the plot\n",
    "        #pyplot.show()\n",
    "        break"
   ]
  },
  {
   "cell_type": "code",
   "execution_count": 120,
   "metadata": {},
   "outputs": [],
   "source": [
    "#preprocessing('D:\\\\University_MS\\\\1- FIRST SEMESTER\\\\Deep Learning\\\\Project\\\\Project3\\\\Dataset\\\\7\\\\')\n",
    "\n",
    "#data = np.array(data)\n",
    "#print(data.shape)\n",
    "#data = data.reshape((data.shape)[0], (data.shape)[1], (data.shape)[2], 1)\n",
    "#print(data.shape)\n",
    "#label = np.array(label)\n",
    "#print(label.shape)\n",
    "\n",
    "#for x in range(1824):\n",
    "#    augmentation('D:\\\\University_MS\\\\1- FIRST SEMESTER\\\\Deep Learning\\\\Project\\\\Project3\\\\Dataset\\\\7\\\\',1,7.1)"
   ]
  },
  {
   "cell_type": "code",
   "execution_count": 121,
   "metadata": {},
   "outputs": [],
   "source": [
    "one = 'D:/University_MS/1- FIRST SEMESTER/Deep Learning/Project/Project3/Dataset/1/'\n",
    "two='D:/University_MS/1- FIRST SEMESTER/Deep Learning/Project/Project3/Dataset/2/'\n",
    "three='D:/University_MS/1- FIRST SEMESTER/Deep Learning/Project/Project3/Dataset/3/'\n",
    "four='D:/University_MS/1- FIRST SEMESTER/Deep Learning/Project/Project3/Dataset/4/'\n",
    "five='D:/University_MS/1- FIRST SEMESTER/Deep Learning/Project/Project3/Dataset/5/'\n",
    "six='D:/University_MS/1- FIRST SEMESTER/Deep Learning/Project/Project3/Dataset/6/'\n",
    "seven='D:/University_MS/1- FIRST SEMESTER/Deep Learning/Project/Project3/Dataset/7/'"
   ]
  },
  {
   "cell_type": "code",
   "execution_count": 122,
   "metadata": {},
   "outputs": [],
   "source": [
    "one_image_files = [ f for f in os.listdir(one) if os.path.isfile(os.path.join(one,f)) ]\n",
    "two_image_files = [ f for f in os.listdir(two) if os.path.isfile(os.path.join(two,f)) ]\n",
    "three_image_files = [ f for f in os.listdir(three) if os.path.isfile(os.path.join(three,f)) ]\n",
    "four_image_files = [ f for f in os.listdir(four) if os.path.isfile(os.path.join(four,f)) ]\n",
    "five_image_files = [ f for f in os.listdir(five) if os.path.isfile(os.path.join(five,f)) ]\n",
    "six_image_files = [ f for f in os.listdir(six) if os.path.isfile(os.path.join(six,f)) ]\n",
    "seven_image_files = [ f for f in os.listdir(seven) if os.path.isfile(os.path.join(seven,f)) ]"
   ]
  },
  {
   "cell_type": "code",
   "execution_count": 123,
   "metadata": {},
   "outputs": [
    {
     "data": {
      "text/plain": [
       "<matplotlib.image.AxesImage at 0x1d5ce537a58>"
      ]
     },
     "execution_count": 123,
     "metadata": {},
     "output_type": "execute_result"
    },
    {
     "data": {
      "image/png": "[encoded data removed]",
      "text/plain": [
       "<Figure size 432x288 with 1 Axes>"
      ]
     },
     "metadata": {
      "needs_background": "light"
     },
     "output_type": "display_data"
    }
   ],
   "source": [
    "image_file = str(four + four_image_files[62])\n",
    "img = cv2.imread(image_file)\n",
    "plt.imshow(img)"
   ]
  },
  {
   "cell_type": "code",
   "execution_count": 124,
   "metadata": {},
   "outputs": [
    {
     "name": "stdout",
     "output_type": "stream",
     "text": [
      "1979\n",
      "1784\n",
      "1872\n",
      "1876\n",
      "1878\n",
      "1879\n",
      "1874\n"
     ]
    }
   ],
   "source": [
    "print(len(one_image_files)) \n",
    "print(len(two_image_files))\n",
    "print(len(three_image_files))\n",
    "print(len(four_image_files))\n",
    "print(len(five_image_files))\n",
    "print(len(six_image_files))\n",
    "print(len(seven_image_files))"
   ]
  },
  {
   "cell_type": "code",
   "execution_count": 125,
   "metadata": {},
   "outputs": [],
   "source": [
    "def preprocessing(path,image_files,lab):\n",
    "    \n",
    "    progress = 0\n",
    "    \n",
    "    for file in image_files:\n",
    "        \n",
    "        image_file = str(path + file)\n",
    "        img = cv2.imread(image_file, cv2.IMREAD_GRAYSCALE)\n",
    "        new_img = cv2.resize(img, (im_width, im_height))\n",
    "        img=new_img.astype('float32')\n",
    "        img_labels.append(lab)\n",
    "        images.append(img / 255)\n",
    "        \n",
    "        progress = progress + 1\n",
    "        if progress % 1000 == 0:\n",
    "            print('Progress: ' + str(progress) + ' Images Done')\n",
    "        "
   ]
  },
  {
   "cell_type": "code",
   "execution_count": 126,
   "metadata": {},
   "outputs": [
    {
     "name": "stdout",
     "output_type": "stream",
     "text": [
      "Progress: 1000 Images Done\n",
      "Progress: 1000 Images Done\n",
      "Progress: 1000 Images Done\n",
      "Progress: 1000 Images Done\n",
      "Progress: 1000 Images Done\n",
      "Progress: 1000 Images Done\n",
      "Progress: 1000 Images Done\n",
      "13142\n",
      "13142\n"
     ]
    }
   ],
   "source": [
    "l=1\n",
    "preprocessing(one,one_image_files,l)\n",
    "l=2\n",
    "preprocessing(two,two_image_files,l)\n",
    "l=3\n",
    "preprocessing(three,three_image_files,l)\n",
    "l=4\n",
    "preprocessing(four,four_image_files,l)\n",
    "l=5\n",
    "preprocessing(five,five_image_files,l)\n",
    "l=6\n",
    "preprocessing(six,six_image_files,l)\n",
    "l=7\n",
    "preprocessing(seven,seven_image_files,l)\n",
    "\n",
    "print(len(images))\n",
    "print(len(img_labels))    "
   ]
  },
  {
   "cell_type": "code",
   "execution_count": 127,
   "metadata": {},
   "outputs": [],
   "source": [
    "images,img_labels= shuffle(images,img_labels)"
   ]
  },
  {
   "cell_type": "raw",
   "metadata": {},
   "source": [
    "# Slicing of the data and labels are done to decrease computional time and try to avoid some noisy data to increase accuracy. \n",
    "images=images[0:800] + images[2000:2364]\n",
    "img_labels=img_labels[0:800] + img_labels[2000:2364]"
   ]
  },
  {
   "cell_type": "code",
   "execution_count": 128,
   "metadata": {},
   "outputs": [
    {
     "name": "stdout",
     "output_type": "stream",
     "text": [
      "3\n"
     ]
    }
   ],
   "source": [
    "print(img_labels[1000])"
   ]
  },
  {
   "cell_type": "code",
   "execution_count": 129,
   "metadata": {},
   "outputs": [
    {
     "name": "stdout",
     "output_type": "stream",
     "text": [
      "(13142, 64, 64)\n",
      "(13142, 64, 64, 1)\n",
      "(13142,)\n"
     ]
    }
   ],
   "source": [
    "images = np.array(images)\n",
    "print(images.shape)\n",
    "# Converting it into a Tensor\n",
    "images = images.reshape((images.shape)[0],(images.shape)[1], (images.shape)[2],1)\n",
    "print(images.shape)\n",
    "img_labels = np.array(img_labels)\n",
    "print(img_labels.shape)"
   ]
  },
  {
   "cell_type": "code",
   "execution_count": 130,
   "metadata": {},
   "outputs": [],
   "source": [
    "# partition the data into training and testing splits using 70% of the data for training and the remaining 30% for testing\n",
    "(trainX, testX, trainY, testY) = train_test_split(images,img_labels, test_size=0.30, random_state=2018)\n"
   ]
  },
  {
   "cell_type": "code",
   "execution_count": 134,
   "metadata": {},
   "outputs": [],
   "source": [
    "batch_size = 64\n",
    "epochs = 49\n",
    "im_width = 64\n",
    "im_height = 64\n",
    "num_classes=8"
   ]
  },
  {
   "cell_type": "code",
   "execution_count": 135,
   "metadata": {},
   "outputs": [],
   "source": [
    "# convert class vectors to binary class matrices\n",
    "trainY = keras.utils.to_categorical(trainY, num_classes)\n",
    "testY = keras.utils.to_categorical(testY, num_classes)"
   ]
  },
  {
   "cell_type": "code",
   "execution_count": 136,
   "metadata": {},
   "outputs": [
    {
     "name": "stdout",
     "output_type": "stream",
     "text": [
      "Train on 9199 samples, validate on 3943 samples\n",
      "Epoch 1/49\n",
      "9199/9199 [==============================] - 41s 4ms/step - loss: 1.8487 - acc: 0.2411 - val_loss: 1.6657 - val_acc: 0.3797\n",
      "Epoch 2/49\n",
      "9199/9199 [==============================] - 24s 3ms/step - loss: 1.5634 - acc: 0.4080 - val_loss: 1.4383 - val_acc: 0.4623\n",
      "Epoch 3/49\n",
      "9199/9199 [==============================] - 26s 3ms/step - loss: 1.4054 - acc: 0.4717 - val_loss: 1.2539 - val_acc: 0.5547\n",
      "Epoch 4/49\n",
      "9199/9199 [==============================] - 25s 3ms/step - loss: 1.2586 - acc: 0.5353 - val_loss: 1.1533 - val_acc: 0.5848\n",
      "Epoch 5/49\n",
      "9199/9199 [==============================] - 26s 3ms/step - loss: 1.1351 - acc: 0.5858 - val_loss: 1.0767 - val_acc: 0.6054\n",
      "Epoch 6/49\n",
      "9199/9199 [==============================] - 26s 3ms/step - loss: 1.0164 - acc: 0.6279 - val_loss: 0.9142 - val_acc: 0.6873\n",
      "Epoch 7/49\n",
      "9199/9199 [==============================] - 25s 3ms/step - loss: 0.9105 - acc: 0.6733 - val_loss: 0.8132 - val_acc: 0.7258\n",
      "Epoch 8/49\n",
      "9199/9199 [==============================] - 26s 3ms/step - loss: 0.8266 - acc: 0.7034 - val_loss: 0.7041 - val_acc: 0.7510\n",
      "Epoch 9/49\n",
      "9199/9199 [==============================] - 25s 3ms/step - loss: 0.7452 - acc: 0.7354 - val_loss: 0.6348 - val_acc: 0.7837\n",
      "Epoch 10/49\n",
      "9199/9199 [==============================] - 26s 3ms/step - loss: 0.6780 - acc: 0.7558 - val_loss: 0.6009 - val_acc: 0.7923\n",
      "Epoch 11/49\n",
      "9199/9199 [==============================] - 26s 3ms/step - loss: 0.6047 - acc: 0.7873 - val_loss: 0.5095 - val_acc: 0.8306\n",
      "Epoch 12/49\n",
      "9199/9199 [==============================] - 26s 3ms/step - loss: 0.5709 - acc: 0.7957 - val_loss: 0.5099 - val_acc: 0.8215\n",
      "Epoch 13/49\n",
      "9199/9199 [==============================] - 27s 3ms/step - loss: 0.5166 - acc: 0.8228 - val_loss: 0.4346 - val_acc: 0.8491\n",
      "Epoch 14/49\n",
      "9199/9199 [==============================] - 26s 3ms/step - loss: 0.4715 - acc: 0.8334 - val_loss: 0.4181 - val_acc: 0.8618\n",
      "Epoch 15/49\n",
      "9199/9199 [==============================] - 26s 3ms/step - loss: 0.4481 - acc: 0.8423 - val_loss: 0.3820 - val_acc: 0.8681\n",
      "Epoch 16/49\n",
      "9199/9199 [==============================] - 26s 3ms/step - loss: 0.4176 - acc: 0.8539 - val_loss: 0.4241 - val_acc: 0.8595\n",
      "Epoch 17/49\n",
      "9199/9199 [==============================] - 26s 3ms/step - loss: 0.3951 - acc: 0.8613 - val_loss: 0.3811 - val_acc: 0.8676\n",
      "Epoch 18/49\n",
      "9199/9199 [==============================] - 26s 3ms/step - loss: 0.3729 - acc: 0.8727 - val_loss: 0.3545 - val_acc: 0.8828\n",
      "Epoch 19/49\n",
      "9199/9199 [==============================] - 26s 3ms/step - loss: 0.3412 - acc: 0.8818 - val_loss: 0.3023 - val_acc: 0.9054\n",
      "Epoch 20/49\n",
      "9199/9199 [==============================] - 25s 3ms/step - loss: 0.3337 - acc: 0.8839 - val_loss: 0.3014 - val_acc: 0.8988\n",
      "Epoch 21/49\n",
      "9199/9199 [==============================] - 26s 3ms/step - loss: 0.3085 - acc: 0.8905 - val_loss: 0.2915 - val_acc: 0.9003\n",
      "Epoch 22/49\n",
      "9199/9199 [==============================] - 25s 3ms/step - loss: 0.2982 - acc: 0.8957 - val_loss: 0.2651 - val_acc: 0.9100\n",
      "Epoch 23/49\n",
      "9199/9199 [==============================] - 26s 3ms/step - loss: 0.2797 - acc: 0.9037 - val_loss: 0.2626 - val_acc: 0.9133\n",
      "Epoch 24/49\n",
      "9199/9199 [==============================] - 26s 3ms/step - loss: 0.2667 - acc: 0.9092 - val_loss: 0.3426 - val_acc: 0.8930\n",
      "Epoch 25/49\n",
      "9199/9199 [==============================] - 25s 3ms/step - loss: 0.2511 - acc: 0.9154 - val_loss: 0.2483 - val_acc: 0.9209\n",
      "Epoch 26/49\n",
      "9199/9199 [==============================] - 26s 3ms/step - loss: 0.2421 - acc: 0.9154 - val_loss: 0.2751 - val_acc: 0.9115\n",
      "Epoch 27/49\n",
      "9199/9199 [==============================] - 25s 3ms/step - loss: 0.2248 - acc: 0.9254 - val_loss: 0.2447 - val_acc: 0.9171\n",
      "Epoch 28/49\n",
      "9199/9199 [==============================] - 26s 3ms/step - loss: 0.2174 - acc: 0.9229 - val_loss: 0.2366 - val_acc: 0.9216\n",
      "Epoch 29/49\n",
      "9199/9199 [==============================] - 26s 3ms/step - loss: 0.2086 - acc: 0.9274 - val_loss: 0.2526 - val_acc: 0.9158\n",
      "Epoch 30/49\n",
      "9199/9199 [==============================] - 28s 3ms/step - loss: 0.2045 - acc: 0.9328 - val_loss: 0.2655 - val_acc: 0.9155\n",
      "Epoch 31/49\n",
      "9199/9199 [==============================] - 26s 3ms/step - loss: 0.1953 - acc: 0.9351 - val_loss: 0.2402 - val_acc: 0.9259\n",
      "Epoch 32/49\n",
      "9199/9199 [==============================] - 26s 3ms/step - loss: 0.1867 - acc: 0.9334 - val_loss: 0.2132 - val_acc: 0.9361\n",
      "Epoch 33/49\n",
      "9199/9199 [==============================] - 26s 3ms/step - loss: 0.1748 - acc: 0.9375 - val_loss: 0.2205 - val_acc: 0.9348\n",
      "Epoch 34/49\n",
      "9199/9199 [==============================] - 29s 3ms/step - loss: 0.1807 - acc: 0.9362 - val_loss: 0.2010 - val_acc: 0.9381\n",
      "Epoch 35/49\n",
      "9199/9199 [==============================] - 26s 3ms/step - loss: 0.1745 - acc: 0.9390 - val_loss: 0.2175 - val_acc: 0.9353\n",
      "Epoch 36/49\n",
      "9199/9199 [==============================] - 26s 3ms/step - loss: 0.1587 - acc: 0.9445 - val_loss: 0.1954 - val_acc: 0.9394\n",
      "Epoch 37/49\n",
      "9199/9199 [==============================] - 26s 3ms/step - loss: 0.1544 - acc: 0.9454 - val_loss: 0.2151 - val_acc: 0.9419\n",
      "Epoch 38/49\n",
      "9199/9199 [==============================] - 26s 3ms/step - loss: 0.1521 - acc: 0.9474 - val_loss: 0.2174 - val_acc: 0.9351\n",
      "Epoch 39/49\n",
      "9199/9199 [==============================] - 25s 3ms/step - loss: 0.1516 - acc: 0.9468 - val_loss: 0.2083 - val_acc: 0.9369\n",
      "Epoch 40/49\n",
      "9199/9199 [==============================] - 26s 3ms/step - loss: 0.1419 - acc: 0.9500 - val_loss: 0.1933 - val_acc: 0.9414\n",
      "Epoch 41/49\n",
      "9199/9199 [==============================] - 26s 3ms/step - loss: 0.1494 - acc: 0.9486 - val_loss: 0.2114 - val_acc: 0.9338\n",
      "Epoch 42/49\n",
      "9199/9199 [==============================] - 26s 3ms/step - loss: 0.1290 - acc: 0.9565 - val_loss: 0.1996 - val_acc: 0.9460\n",
      "Epoch 43/49\n",
      "9199/9199 [==============================] - 26s 3ms/step - loss: 0.1413 - acc: 0.9508 - val_loss: 0.2280 - val_acc: 0.9343\n",
      "Epoch 44/49\n",
      "9199/9199 [==============================] - 25s 3ms/step - loss: 0.1293 - acc: 0.9550 - val_loss: 0.2123 - val_acc: 0.9404\n",
      "Epoch 45/49\n",
      "9199/9199 [==============================] - 26s 3ms/step - loss: 0.1226 - acc: 0.9595 - val_loss: 0.2196 - val_acc: 0.9432\n",
      "Epoch 46/49\n",
      "9199/9199 [==============================] - 26s 3ms/step - loss: 0.1217 - acc: 0.9583 - val_loss: 0.1896 - val_acc: 0.9500\n",
      "Epoch 47/49\n",
      "9199/9199 [==============================] - 26s 3ms/step - loss: 0.1226 - acc: 0.9560 - val_loss: 0.2082 - val_acc: 0.9389\n",
      "Epoch 48/49\n",
      "9199/9199 [==============================] - 26s 3ms/step - loss: 0.1188 - acc: 0.9560 - val_loss: 0.1905 - val_acc: 0.9490\n",
      "Epoch 49/49\n",
      "9199/9199 [==============================] - 26s 3ms/step - loss: 0.1093 - acc: 0.9627 - val_loss: 0.2342 - val_acc: 0.9384\n",
      "Test loss: 0.23421083277184918\n",
      "Test accuracy: 0.9383717981232564\n",
      "CNN Error: 6.16%\n"
     ]
    }
   ],
   "source": [
    "model = Sequential()\n",
    "\n",
    "model.add(Conv2D(10, kernel_size=(2, 2),activation='relu',input_shape= (im_width , im_height,1)))\n",
    "model.add(MaxPooling2D(pool_size=(2, 2)))\n",
    "model.add(Conv2D(15, (3, 3), activation='relu'))\n",
    "model.add(MaxPooling2D(pool_size=(2, 2)))\n",
    "model.add(Conv2D(30, (5, 5), activation='relu'))\n",
    "model.add(MaxPooling2D(pool_size=(2, 2)))\n",
    "\n",
    "model.add(Dropout(0.5))\n",
    "model.add(Flatten())\n",
    "#model.add(GlobalMaxPooling2D())\n",
    "model.add(Dense(256, activation='relu'))\n",
    "model.add(Dense(128, activation='relu'))\n",
    "model.add(Dense(num_classes, activation='softmax'))\n",
    "model.compile(optimizer=\"adadelta\",loss=\"categorical_crossentropy\",metrics=[\"accuracy\"])\n",
    "\n",
    "History =model.fit(trainX,trainY,\n",
    "          batch_size=batch_size,\n",
    "          epochs=epochs,\n",
    "          verbose=1,\n",
    "          validation_data=(testX, testY)\n",
    "                )\n",
    "\n",
    "score = model.evaluate(testX, testY, verbose=0)\n",
    "print('Test loss:', score[0])\n",
    "print('Test accuracy:', score[1])\n",
    "print(\"CNN Error: %.2f%%\" % (100-score[1]*100))"
   ]
  },
  {
   "cell_type": "code",
   "execution_count": 137,
   "metadata": {},
   "outputs": [
    {
     "name": "stdout",
     "output_type": "stream",
     "text": [
      "_________________________________________________________________\n",
      "Layer (type)                 Output Shape              Param #   \n",
      "=================================================================\n",
      "conv2d_18 (Conv2D)           (None, 63, 63, 10)        50        \n",
      "_________________________________________________________________\n",
      "max_pooling2d_17 (MaxPooling (None, 31, 31, 10)        0         \n",
      "_________________________________________________________________\n",
      "conv2d_19 (Conv2D)           (None, 29, 29, 15)        1365      \n",
      "_________________________________________________________________\n",
      "max_pooling2d_18 (MaxPooling (None, 14, 14, 15)        0         \n",
      "_________________________________________________________________\n",
      "conv2d_20 (Conv2D)           (None, 10, 10, 30)        11280     \n",
      "_________________________________________________________________\n",
      "max_pooling2d_19 (MaxPooling (None, 5, 5, 30)          0         \n",
      "_________________________________________________________________\n",
      "dropout_5 (Dropout)          (None, 5, 5, 30)          0         \n",
      "_________________________________________________________________\n",
      "flatten_5 (Flatten)          (None, 750)               0         \n",
      "_________________________________________________________________\n",
      "dense_12 (Dense)             (None, 256)               192256    \n",
      "_________________________________________________________________\n",
      "dense_13 (Dense)             (None, 128)               32896     \n",
      "_________________________________________________________________\n",
      "dense_14 (Dense)             (None, 8)                 1032      \n",
      "=================================================================\n",
      "Total params: 238,879\n",
      "Trainable params: 238,879\n",
      "Non-trainable params: 0\n",
      "_________________________________________________________________\n"
     ]
    }
   ],
   "source": [
    "model.summary()"
   ]
  },
  {
   "cell_type": "code",
   "execution_count": 138,
   "metadata": {},
   "outputs": [
    {
     "data": {
      "image/png": "[encoded data removed]",
      "text/plain": [
       "<Figure size 432x288 with 1 Axes>"
      ]
     },
     "metadata": {
      "needs_background": "light"
     },
     "output_type": "display_data"
    },
    {
     "data": {
      "image/png": "[encoded data removed]",
      "text/plain": [
       "<Figure size 432x288 with 1 Axes>"
      ]
     },
     "metadata": {
      "needs_background": "light"
     },
     "output_type": "display_data"
    }
   ],
   "source": [
    "# Training and Validation Accuracy/loss plot below:\n",
    "\n",
    "accuracy = History.history['acc']\n",
    "val_accuracy = History.history['val_acc']\n",
    "loss = History.history['loss']\n",
    "val_loss = History.history['val_loss']\n",
    "epochs = range(len(accuracy))\n",
    "plt.plot(epochs, accuracy, 'bo', label='Training Accuracy')\n",
    "plt.plot(epochs, val_accuracy, 'b', label='Validation Accuracy')\n",
    "plt.title('Training and Validation Accuracy')\n",
    "plt.ylabel('Accuracy')\n",
    "plt.xlabel('Epoch')\n",
    "plt.legend()\n",
    "plt.figure()\n",
    "plt.plot(epochs, loss, 'bo', label='Training Loss')\n",
    "plt.plot(epochs, val_loss, 'b', label='Validation Loss')\n",
    "plt.title('Training and Validation Loss')\n",
    "plt.ylabel('Accuracy')\n",
    "plt.xlabel('Epoch')\n",
    "plt.legend()\n",
    "plt.show()"
   ]
  },
  {
   "cell_type": "code",
   "execution_count": 139,
   "metadata": {},
   "outputs": [],
   "source": [
    "model.save_weights('D:/University_MS/1- FIRST SEMESTER/Deep Learning/Project/Project3/part1_weights.h5')"
   ]
  }
 ],
 "metadata": {
  "kernelspec": {
   "display_name": "Python 3",
   "language": "python",
   "name": "python3"
  },
  "language_info": {
   "codemirror_mode": {
    "name": "ipython",
    "version": 3
   },
   "file_extension": ".py",
   "mimetype": "text/x-python",
   "name": "python",
   "nbconvert_exporter": "python",
   "pygments_lexer": "ipython3",
   "version": "3.6.7"
  }
 },
 "nbformat": 4,
 "nbformat_minor": 2
}
