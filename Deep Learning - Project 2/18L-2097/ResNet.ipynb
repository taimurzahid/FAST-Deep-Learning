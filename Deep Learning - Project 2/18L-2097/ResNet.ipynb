{
 "cells": [
  {
   "cell_type": "code",
   "execution_count": 5,
   "metadata": {},
   "outputs": [],
   "source": [
    "import tensorflow as tf\n",
    "import numpy as np\n",
    "from keras.applications.resnet50 import ResNet50\n",
    "from keras.preprocessing import image\n",
    "from keras.models import Model, load_model\n",
    "from keras.layers import Dense, Flatten\n",
    "from keras import backend as K"
   ]
  },
  {
   "cell_type": "code",
   "execution_count": 6,
   "metadata": {},
   "outputs": [],
   "source": [
    "epochs = 5\n",
    "input_shape = (224, 224, 3)\n",
    "batch_size = 32\n",
    "seed = 42\n",
    "dataset_path = 'D:\\\\University_MS\\\\1- FIRST SEMESTER\\\\Deep Learning\\\\Project\\\\Project3\\\\DermCNN data\\\\' # same train/test dataset to overfit it"
   ]
  },
  {
   "cell_type": "code",
   "execution_count": 7,
   "metadata": {},
   "outputs": [],
   "source": [
    "np.random.seed(seed)\n",
    "tf.set_random_seed(seed)\n",
    "\n",
    "\n",
    "K.set_learning_phase(1)\n",
    "base_model = ResNet50(weights='imagenet', include_top=False, input_shape=input_shape)\n",
    "\n",
    "x = base_model.output\n",
    "x = Flatten(name='flatten')(x)\n",
    "predictions = Dense(7, activation='softmax', name='predictions')(x)\n",
    "model = Model(inputs=base_model.input, outputs=predictions)\n",
    "\n",
    "for layer in model.layers[0:141]:\n",
    "    layer.trainable = False\n",
    "\n",
    "model.compile(optimizer='rmsprop', loss='categorical_crossentropy', metrics=['accuracy'])\n"
   ]
  },
  {
   "cell_type": "code",
   "execution_count": null,
   "metadata": {},
   "outputs": [
    {
     "name": "stdout",
     "output_type": "stream",
     "text": [
      "Found 2364 images belonging to 7 classes.\n",
      "Found 2364 images belonging to 7 classes.\n",
      "Epoch 1/5\n",
      "73/73 [==============================] - 3261s 45s/step - loss: 3.3350 - acc: 0.7838 - val_loss: 3.3005 - val_acc: 0.7941\n",
      "Epoch 2/5\n",
      "65/73 [=========================>....] - ETA: 3:09 - loss: 2.2488 - acc: 0.8204"
     ]
    }
   ],
   "source": [
    "train_gen = image.ImageDataGenerator().flow_from_directory(dataset_path, target_size=input_shape[:2], batch_size=batch_size, class_mode='categorical', shuffle=True, seed=seed)\n",
    "test_gen = image.ImageDataGenerator().flow_from_directory(dataset_path, target_size=input_shape[:2], batch_size=batch_size, class_mode='categorical', shuffle=True, seed=seed)\n",
    "train_steps = train_gen.samples//batch_size\n",
    "test_steps = test_gen.samples//batch_size\n",
    "\n",
    "History=model.fit_generator(train_gen, train_steps, epochs=epochs, validation_data=test_gen, validation_steps=test_steps)\n",
    "\n",
    "test_gen.reset()\n",
    "print('Before Save:', model.evaluate_generator(test_gen, test_steps))\n",
    "#model.save('/tmp/tmpModel')"
   ]
  },
  {
   "cell_type": "code",
   "execution_count": null,
   "metadata": {},
   "outputs": [],
   "source": [
    "# Training and Validation Accuracy/loss plot below:\n",
    "\n",
    "accuracy = History.history['acc']\n",
    "val_accuracy = History.history['val_acc']\n",
    "loss = History.history['loss']\n",
    "val_loss = History.history['val_loss']\n",
    "epochs = range(len(accuracy))\n",
    "plt.plot(epochs, accuracy, 'bo', label='Training Accuracy')\n",
    "plt.plot(epochs, val_accuracy, 'b', label='Validation Accuracy')\n",
    "plt.title('Training and Validation Accuracy')\n",
    "plt.ylabel('Accuracy')\n",
    "plt.xlabel('Epoch')\n",
    "plt.legend()\n",
    "plt.figure()\n",
    "plt.plot(epochs, loss, 'bo', label='Training Loss')\n",
    "plt.plot(epochs, val_loss, 'b', label='Validation Loss')\n",
    "plt.title('Training and Validation Loss')\n",
    "plt.ylabel('Accuracy')\n",
    "plt.xlabel('Epoch')\n",
    "plt.legend()\n",
    "plt.show()"
   ]
  }
 ],
 "metadata": {
  "kernelspec": {
   "display_name": "Python 3",
   "language": "python",
   "name": "python3"
  },
  "language_info": {
   "codemirror_mode": {
    "name": "ipython",
    "version": 3
   },
   "file_extension": ".py",
   "mimetype": "text/x-python",
   "name": "python",
   "nbconvert_exporter": "python",
   "pygments_lexer": "ipython3",
   "version": "3.6.7"
  }
 },
 "nbformat": 4,
 "nbformat_minor": 2
}
