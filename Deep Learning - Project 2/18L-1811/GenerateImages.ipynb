{
 "cells": [
  {
   "cell_type": "code",
   "execution_count": 1,
   "metadata": {},
   "outputs": [
    {
     "name": "stderr",
     "output_type": "stream",
     "text": [
      "C:\\Users\\Sh-Ma\\Anaconda3\\lib\\site-packages\\h5py\\__init__.py:36: FutureWarning: Conversion of the second argument of issubdtype from `float` to `np.floating` is deprecated. In future, it will be treated as `np.float64 == np.dtype(float).type`.\n",
      "  from ._conv import register_converters as _register_converters\n",
      "Using TensorFlow backend.\n"
     ]
    }
   ],
   "source": [
    "import keras\n",
    "from keras.datasets import mnist\n",
    "from keras.models import Sequential\n",
    "from keras.layers import Dense, Dropout, Flatten\n",
    "from keras.layers import Conv2D, MaxPooling2D\n",
    "from keras import backend as K\n",
    "from sklearn.model_selection import train_test_split\n",
    "import numpy as np\n",
    "from PIL import Image\n",
    "import cv2\n",
    "from time import time\n",
    "import matplotlib.pyplot as plt\n",
    "import matplotlib\n",
    "from keras.callbacks import TensorBoard\n",
    "import os\n",
    "from keras.optimizers import SGD\n",
    "from os import listdir\n",
    "from os.path import join, basename\n",
    "from keras.preprocessing.image import ImageDataGenerator,load_img,array_to_img, img_to_array\n",
    "from keras.regularizers import l2\n",
    "from keras import regularizers"
   ]
  },
  {
   "cell_type": "code",
   "execution_count": null,
   "metadata": {},
   "outputs": [],
   "source": []
  },
  {
   "cell_type": "code",
   "execution_count": null,
   "metadata": {},
   "outputs": [],
   "source": []
  },
  {
   "cell_type": "code",
   "execution_count": 48,
   "metadata": {},
   "outputs": [],
   "source": [
    "datagen = ImageDataGenerator(\n",
    "        rotation_range=35,\n",
    "        width_shift_range=0.21,\n",
    "        height_shift_range=0.21,\n",
    "        shear_range=0.4,\n",
    "        zoom_range=0.20,\n",
    "        horizontal_flip=True,\n",
    "        fill_mode='nearest')"
   ]
  },
  {
   "cell_type": "code",
   "execution_count": 49,
   "metadata": {},
   "outputs": [],
   "source": [
    "# datagen = ImageDataGenerator(\n",
    "#         rotation_range=30,\n",
    "#         width_shift_range=0.2,\n",
    "#         height_shift_range=0.2,\n",
    "#         shear_range=0.5,\n",
    "#         zoom_range=0.2,\n",
    "#         horizontal_flip=True,\n",
    "#         fill_mode='nearest')\n",
    "#datagen =ImageDataGenerator(rescale = 1./255,rotation_range=20,shear_range = 0.22,zoom_range = 0.20,horizontal_flip = True)\n",
    "diseaseFilesDirectory='/Project2DataClean/'\n",
    "# path ='Project2Data/1/'"
   ]
  },
  {
   "cell_type": "code",
   "execution_count": 50,
   "metadata": {},
   "outputs": [
    {
     "name": "stdout",
     "output_type": "stream",
     "text": [
      "F:\\University\\Semester1\\Deep Learning\\Project\\Project 2\\Code/Project2DataClean/7/\n"
     ]
    }
   ],
   "source": [
    "for i in range(6,7):\n",
    "    path=os.getcwd()+diseaseFilesDirectory+str(i+1)+'/'\n",
    "    print(path)\n",
    "    allfiles=os.listdir(path)\n",
    "    imlist=[filename for filename in allfiles if  filename[-4:] in [\".jpg\",\".JPG\"]]\n",
    "    for im in imlist:\n",
    "        imarr=np.array(Image.open(path+im),dtype=np.float)\n",
    "        imarr = imarr.reshape((1,)+imarr.shape)  # this is a Numpy array with shape (1, 3, 150, 150)\n",
    "        i = 0\n",
    "        for batch in datagen.flow(imarr, batch_size=1,save_to_dir= path+\"/Generated\", save_prefix='', save_format='jpg'):\n",
    "            i += 1\n",
    "            if i > 8:\n",
    "                break  # otherwise the generator would loop indefinitely"
   ]
  },
  {
   "cell_type": "code",
   "execution_count": null,
   "metadata": {},
   "outputs": [],
   "source": []
  },
  {
   "cell_type": "code",
   "execution_count": null,
   "metadata": {},
   "outputs": [],
   "source": []
  }
 ],
 "metadata": {
  "kernelspec": {
   "display_name": "Python 3",
   "language": "python",
   "name": "python3"
  },
  "language_info": {
   "codemirror_mode": {
    "name": "ipython",
    "version": 3
   },
   "file_extension": ".py",
   "mimetype": "text/x-python",
   "name": "python",
   "nbconvert_exporter": "python",
   "pygments_lexer": "ipython3",
   "version": "3.6.5"
  }
 },
 "nbformat": 4,
 "nbformat_minor": 2
}
