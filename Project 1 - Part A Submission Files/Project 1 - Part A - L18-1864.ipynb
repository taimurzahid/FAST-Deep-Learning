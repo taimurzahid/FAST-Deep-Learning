{
 "cells": [
  {
   "cell_type": "markdown",
   "metadata": {},
   "source": [
    "# Performing Required Imports"
   ]
  },
  {
   "cell_type": "code",
   "execution_count": 1,
   "metadata": {},
   "outputs": [
    {
     "name": "stderr",
     "output_type": "stream",
     "text": [
      "Using TensorFlow backend.\n"
     ]
    }
   ],
   "source": [
    "from keras.models import Sequential\n",
    "from keras.layers.convolutional import Convolution2D\n",
    "from keras.layers.convolutional import MaxPooling2D\n",
    "from keras.layers.core import Activation\n",
    "from keras.layers.core import Flatten\n",
    "from keras.layers.core import Dense\n",
    "from keras.layers.core import Dropout\n",
    "from keras.datasets import mnist\n",
    "import numpy as np\n",
    "from keras.optimizers import SGD\n",
    "from keras.utils import np_utils\n",
    "import cv2"
   ]
  },
  {
   "cell_type": "markdown",
   "metadata": {},
   "source": [
    "# Loading MNIST Dataset"
   ]
  },
  {
   "cell_type": "code",
   "execution_count": 2,
   "metadata": {
    "scrolled": true
   },
   "outputs": [],
   "source": [
    "(x_train,y_train),(x_test,y_test) = mnist.load_data()"
   ]
  },
  {
   "cell_type": "markdown",
   "metadata": {},
   "source": [
    "# Adding an extra dimension to make the input inline with the model"
   ]
  },
  {
   "cell_type": "code",
   "execution_count": 3,
   "metadata": {},
   "outputs": [],
   "source": [
    "x_train = x_train[:,:,:,np.newaxis]\n",
    "x_test = x_test[:,:,:,np.newaxis]"
   ]
  },
  {
   "cell_type": "markdown",
   "metadata": {},
   "source": [
    "# Transform the training and test labels into vectors in the range [0, classes] -- This generates a vector for each label, where the index of the label is set to 1 and all other entries to 0; in the case of MNIST, there are 10 class labels"
   ]
  },
  {
   "cell_type": "code",
   "execution_count": 4,
   "metadata": {},
   "outputs": [],
   "source": [
    "y_train = np_utils.to_categorical(y_train, 10)\n",
    "y_test = np_utils.to_categorical(y_test, 10)"
   ]
  },
  {
   "cell_type": "markdown",
   "metadata": {},
   "source": [
    "# Checking dimensions of data"
   ]
  },
  {
   "cell_type": "code",
   "execution_count": 5,
   "metadata": {},
   "outputs": [
    {
     "data": {
      "text/plain": [
       "((60000, 28, 28, 1), (60000, 10), (10000, 28, 28, 1), (10000, 10))"
      ]
     },
     "execution_count": 5,
     "metadata": {},
     "output_type": "execute_result"
    }
   ],
   "source": [
    "np.shape(x_train), np.shape(y_train), np.shape(x_test), np.shape(y_test)"
   ]
  },
  {
   "cell_type": "markdown",
   "metadata": {},
   "source": [
    "# Architecture"
   ]
  },
  {
   "cell_type": "code",
   "execution_count": 6,
   "metadata": {
    "scrolled": true
   },
   "outputs": [
    {
     "name": "stderr",
     "output_type": "stream",
     "text": [
      "/home/talha/anaconda/envs/conda_env/lib/python2.7/site-packages/ipykernel_launcher.py:4: UserWarning: Update your `Conv2D` call to the Keras 2 API: `Conv2D(6, (3, 3), padding=\"same\", input_shape=(28, 28, 1...)`\n",
      "  after removing the cwd from sys.path.\n",
      "/home/talha/anaconda/envs/conda_env/lib/python2.7/site-packages/ipykernel_launcher.py:9: UserWarning: Update your `Conv2D` call to the Keras 2 API: `Conv2D(16, (5, 5), padding=\"same\")`\n",
      "  if __name__ == '__main__':\n",
      "/home/talha/anaconda/envs/conda_env/lib/python2.7/site-packages/ipykernel_launcher.py:14: UserWarning: Update your `Conv2D` call to the Keras 2 API: `Conv2D(46, (7, 7), padding=\"same\")`\n",
      "  \n"
     ]
    }
   ],
   "source": [
    "model = Sequential()\n",
    "\n",
    "# first set of CONV => RELU => POOL\n",
    "model.add(Convolution2D(6, 3, 3, border_mode=\"same\", input_shape=(28, 28, 1)))\n",
    "model.add(Activation(\"relu\"))\n",
    "model.add(MaxPooling2D(pool_size=(2, 2), strides=(2, 2)))\n",
    "\n",
    "# second set of CONV => RELU => POOL\n",
    "model.add(Convolution2D(16, 5, 5, border_mode=\"same\"))\n",
    "model.add(Activation(\"relu\"))\n",
    "model.add(MaxPooling2D(pool_size=(2, 2), strides=(2, 2)))\n",
    "\n",
    "# first set of CONV => DROPOUT => RELU => POOL\n",
    "model.add(Convolution2D(46, 7, 7, border_mode=\"same\"))\n",
    "model.add(Dropout(0.25))\n",
    "model.add(Activation(\"relu\"))\n",
    "model.add(MaxPooling2D(pool_size=(2, 2), strides=(2, 2)))\n",
    "\n",
    "# first set of FC => softmax\n",
    "model.add(Flatten())\n",
    "model.add(Dense(10))\n",
    "model.add(Activation(\"softmax\"))\n",
    "\n",
    "model.compile(loss=\"categorical_crossentropy\", optimizer=SGD(lr=0.0001, momentum=0.9, decay=0.0, nesterov=True), metrics=[\"accuracy\"])"
   ]
  },
  {
   "cell_type": "markdown",
   "metadata": {},
   "source": [
    "# Training The Model"
   ]
  },
  {
   "cell_type": "code",
   "execution_count": 7,
   "metadata": {
    "scrolled": false
   },
   "outputs": [
    {
     "name": "stderr",
     "output_type": "stream",
     "text": [
      "/home/talha/anaconda/envs/conda_env/lib/python2.7/site-packages/keras/models.py:944: UserWarning: The `nb_epoch` argument in `fit` has been renamed `epochs`.\n",
      "  warnings.warn('The `nb_epoch` argument in `fit` '\n"
     ]
    },
    {
     "name": "stdout",
     "output_type": "stream",
     "text": [
      "Epoch 1/30\n",
      "60000/60000 [==============================] - 5s 90us/step - loss: 1.3812 - acc: 0.7396\n",
      "Epoch 2/30\n",
      "60000/60000 [==============================] - 4s 67us/step - loss: 0.2772 - acc: 0.9126\n",
      "Epoch 3/30\n",
      "60000/60000 [==============================] - 4s 68us/step - loss: 0.2028 - acc: 0.9355\n",
      "Epoch 4/30\n",
      "60000/60000 [==============================] - 4s 68us/step - loss: 0.1648 - acc: 0.9483\n",
      "Epoch 5/30\n",
      "60000/60000 [==============================] - 4s 68us/step - loss: 0.1424 - acc: 0.9549\n",
      "Epoch 6/30\n",
      "60000/60000 [==============================] - 4s 68us/step - loss: 0.1270 - acc: 0.9598\n",
      "Epoch 7/30\n",
      "60000/60000 [==============================] - 4s 68us/step - loss: 0.1165 - acc: 0.9627\n",
      "Epoch 8/30\n",
      "60000/60000 [==============================] - 4s 67us/step - loss: 0.1056 - acc: 0.9658\n",
      "Epoch 9/30\n",
      "60000/60000 [==============================] - 4s 67us/step - loss: 0.0974 - acc: 0.9690\n",
      "Epoch 10/30\n",
      "60000/60000 [==============================] - 4s 68us/step - loss: 0.0904 - acc: 0.9713\n",
      "Epoch 11/30\n",
      "60000/60000 [==============================] - 4s 68us/step - loss: 0.0855 - acc: 0.9724\n",
      "Epoch 12/30\n",
      "60000/60000 [==============================] - 4s 68us/step - loss: 0.0807 - acc: 0.9740\n",
      "Epoch 13/30\n",
      "60000/60000 [==============================] - 4s 69us/step - loss: 0.0767 - acc: 0.9754\n",
      "Epoch 14/30\n",
      "60000/60000 [==============================] - 4s 67us/step - loss: 0.0735 - acc: 0.9763\n",
      "Epoch 15/30\n",
      "60000/60000 [==============================] - 4s 67us/step - loss: 0.0706 - acc: 0.9771\n",
      "Epoch 16/30\n",
      "60000/60000 [==============================] - 4s 70us/step - loss: 0.0673 - acc: 0.9779\n",
      "Epoch 17/30\n",
      "60000/60000 [==============================] - 4s 68us/step - loss: 0.0644 - acc: 0.9793\n",
      "Epoch 18/30\n",
      "60000/60000 [==============================] - 4s 68us/step - loss: 0.0626 - acc: 0.9801\n",
      "Epoch 19/30\n",
      "60000/60000 [==============================] - 4s 68us/step - loss: 0.0602 - acc: 0.9801\n",
      "Epoch 20/30\n",
      "60000/60000 [==============================] - 4s 68us/step - loss: 0.0576 - acc: 0.9809\n",
      "Epoch 21/30\n",
      "60000/60000 [==============================] - 4s 69us/step - loss: 0.0554 - acc: 0.9821\n",
      "Epoch 22/30\n",
      "60000/60000 [==============================] - 4s 67us/step - loss: 0.0549 - acc: 0.9822\n",
      "Epoch 23/30\n",
      "60000/60000 [==============================] - 4s 68us/step - loss: 0.0522 - acc: 0.9830\n",
      "Epoch 24/30\n",
      "60000/60000 [==============================] - 4s 69us/step - loss: 0.0514 - acc: 0.9834\n",
      "Epoch 25/30\n",
      "60000/60000 [==============================] - 4s 71us/step - loss: 0.0488 - acc: 0.9845\n",
      "Epoch 26/30\n",
      "60000/60000 [==============================] - 4s 68us/step - loss: 0.0478 - acc: 0.9850\n",
      "Epoch 27/30\n",
      "60000/60000 [==============================] - 4s 66us/step - loss: 0.0471 - acc: 0.9845\n",
      "Epoch 28/30\n",
      "60000/60000 [==============================] - 4s 67us/step - loss: 0.0455 - acc: 0.9855\n",
      "Epoch 29/30\n",
      "60000/60000 [==============================] - 4s 67us/step - loss: 0.0437 - acc: 0.9861\n",
      "Epoch 30/30\n",
      "60000/60000 [==============================] - 4s 67us/step - loss: 0.0425 - acc: 0.9866\n"
     ]
    },
    {
     "data": {
      "text/plain": [
       "<keras.callbacks.History at 0x7f14f18c86d0>"
      ]
     },
     "execution_count": 7,
     "metadata": {},
     "output_type": "execute_result"
    }
   ],
   "source": [
    "model.fit(x_train, y_train, batch_size=128, nb_epoch=30, verbose=1)"
   ]
  },
  {
   "cell_type": "markdown",
   "metadata": {},
   "source": [
    "# Testing The Model"
   ]
  },
  {
   "cell_type": "code",
   "execution_count": 8,
   "metadata": {
    "scrolled": false
   },
   "outputs": [
    {
     "name": "stdout",
     "output_type": "stream",
     "text": [
      "10000/10000 [==============================] - 0s 30us/step\n",
      "accuracy: 98.37%\n"
     ]
    }
   ],
   "source": [
    "(loss, accuracy) = model.evaluate(x_test, y_test, batch_size=128, verbose=1)\n",
    "print(\"accuracy: {:.2f}%\".format(accuracy * 100))"
   ]
  },
  {
   "cell_type": "markdown",
   "metadata": {},
   "source": [
    "# Visualizing output in the form of image"
   ]
  },
  {
   "cell_type": "code",
   "execution_count": 26,
   "metadata": {
    "scrolled": false
   },
   "outputs": [
    {
     "name": "stdout",
     "output_type": "stream",
     "text": [
      " Predicted: 6, Actual: 6\n",
      " Predicted: 5, Actual: 5\n",
      " Predicted: 1, Actual: 1\n",
      " Predicted: 3, Actual: 3\n",
      " Predicted: 7, Actual: 7\n",
      " Predicted: 0, Actual: 0\n",
      " Predicted: 1, Actual: 1\n",
      " Predicted: 4, Actual: 4\n",
      " Predicted: 7, Actual: 7\n",
      " Predicted: 3, Actual: 3\n"
     ]
    }
   ],
   "source": [
    "# randomly select a few testing digits\n",
    "for i in np.random.choice(np.arange(0, len(y_test)), size=(10,)):\n",
    "    # classify the digit\n",
    "    probs = model.predict(x_test[np.newaxis, i])\n",
    "    prediction = probs.argmax(axis=1)\n",
    "\n",
    "    # resize the image to 96 x 96\n",
    "    image = (x_test[i][0] * 255).astype(\"uint8\")\n",
    "    image = cv2.merge([image] * 3)\n",
    "    image = cv2.resize(image, (96, 96), interpolation=cv2.INTER_LINEAR)\n",
    "    cv2.putText(image, str(prediction[0]), (5, 20), cv2.FONT_HERSHEY_SIMPLEX, 0.75, (0, 255, 0), 2)\n",
    "\n",
    "    # show the image and prediction\n",
    "    print(\" Predicted: {}, Actual: {}\".format(prediction[0], np.argmax(y_test[i])))\n",
    "    cv2.imshow(\"Digit\", image)\n",
    "    cv2.waitKey(0)\n",
    "cv2.destroyAllWindows()    "
   ]
  },
  {
   "cell_type": "markdown",
   "metadata": {},
   "source": [
    "# Conclusion"
   ]
  },
  {
   "cell_type": "markdown",
   "metadata": {},
   "source": [
    "### The Model has 3 Convolution Layers using 6, 16 and 46 filters of sizes 3x3, 5x5 and 7x7 respectively each with Relu and Max pooling with  Dropout of 0.25 after the last convolution layer. Learning Rate is 0.0001 with nestrov momentum 0.9 using SGD as optimizer and utilizing categorical_crossentropy as loss while accuracy as a metric. The model has a Batch  Size of 128 with 30 epochs providing a Training Accuracy of 98.66% while Test Accuracy of 98.37%"
   ]
  },
  {
   "cell_type": "code",
   "execution_count": null,
   "metadata": {},
   "outputs": [],
   "source": []
  }
 ],
 "metadata": {
  "kernelspec": {
   "display_name": "Python 2",
   "language": "python",
   "name": "python2"
  },
  "language_info": {
   "codemirror_mode": {
    "name": "ipython",
    "version": 2
   },
   "file_extension": ".py",
   "mimetype": "text/x-python",
   "name": "python",
   "nbconvert_exporter": "python",
   "pygments_lexer": "ipython2",
   "version": "2.7.13"
  }
 },
 "nbformat": 4,
 "nbformat_minor": 2
}
