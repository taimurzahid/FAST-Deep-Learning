{
 "cells": [
  {
   "cell_type": "markdown",
   "metadata": {},
   "source": [
    "# 17L-5509 CS 5102 - Deep Learning Part A \n",
    "Convolutional Neural Network using Keras with Tensorflow backend"
   ]
  },
  {
   "cell_type": "markdown",
   "metadata": {},
   "source": [
    "#### Import libraries"
   ]
  },
  {
   "cell_type": "code",
   "execution_count": 1,
   "metadata": {},
   "outputs": [
    {
     "name": "stderr",
     "output_type": "stream",
     "text": [
      "Using TensorFlow backend.\n"
     ]
    }
   ],
   "source": [
    "from __future__ import print_function\n",
    "import keras\n",
    "from keras.datasets import mnist\n",
    "from keras.models import Sequential\n",
    "from keras.layers import Dense, Dropout, Flatten\n",
    "from keras.layers import Conv2D, MaxPooling2D\n",
    "from keras import backend as K"
   ]
  },
  {
   "cell_type": "markdown",
   "metadata": {},
   "source": [
    "#### Set parameters, learning rate is set while compiling the model below"
   ]
  },
  {
   "cell_type": "code",
   "execution_count": 2,
   "metadata": {},
   "outputs": [],
   "source": [
    "batch_size = 128\n",
    "num_classes = 10\n",
    "epochs = 12"
   ]
  },
  {
   "cell_type": "markdown",
   "metadata": {},
   "source": [
    "#### Load mnist data"
   ]
  },
  {
   "cell_type": "code",
   "execution_count": 3,
   "metadata": {},
   "outputs": [],
   "source": [
    "# input image dimensions\n",
    "img_rows, img_cols = 28, 28\n",
    "\n",
    "# the data, split between train and test sets\n",
    "(x_train, y_train), (x_test, y_test) = mnist.load_data()"
   ]
  },
  {
   "cell_type": "markdown",
   "metadata": {},
   "source": [
    "#### Reshape and normalize data , also convert the classes to binary class vectors"
   ]
  },
  {
   "cell_type": "code",
   "execution_count": 4,
   "metadata": {},
   "outputs": [
    {
     "name": "stdout",
     "output_type": "stream",
     "text": [
      "x_train shape: (60000, 28, 28, 1)\n",
      "60000 train samples\n",
      "10000 test samples\n"
     ]
    }
   ],
   "source": [
    "if K.image_data_format() == 'channels_first':\n",
    "    x_train = x_train.reshape(x_train.shape[0], 1, img_rows, img_cols)\n",
    "    x_test = x_test.reshape(x_test.shape[0], 1, img_rows, img_cols)\n",
    "    input_shape = (1, img_rows, img_cols)\n",
    "else:\n",
    "    x_train = x_train.reshape(x_train.shape[0], img_rows, img_cols, 1)\n",
    "    x_test = x_test.reshape(x_test.shape[0], img_rows, img_cols, 1)\n",
    "    input_shape = (img_rows, img_cols, 1)\n",
    "\n",
    "x_train = x_train.astype('float32')\n",
    "x_test = x_test.astype('float32')\n",
    "x_train /= 255\n",
    "x_test /= 255\n",
    "print('x_train shape:', x_train.shape)\n",
    "print(x_train.shape[0], 'train samples')\n",
    "print(x_test.shape[0], 'test samples')\n",
    "\n",
    "# convert class vectors to binary class matrices\n",
    "y_train = keras.utils.to_categorical(y_train, num_classes)\n",
    "y_test = keras.utils.to_categorical(y_test, num_classes)"
   ]
  },
  {
   "cell_type": "markdown",
   "metadata": {},
   "source": [
    "#### Build squential model with following architecture\n",
    "Input layer\n",
    "2D Convolutional layer with filter size of 3x3 and depth of = 32 (# of filters) and activation function 'relu'\n",
    "2D Convolutional layer with filter size of 3x3 and depth = 64 and activation function 'relu'\n",
    "MaxPooling layer with pool size 2x2\n",
    "2D Convolutional layer with filter size of 3x3 and depth = 64 and activation function 'relu'\n",
    "MaxPooling layer with pool size 2x2\n",
    "Dropout 25%\n",
    "Flatten\n",
    "Fully connected layer with 128 neurons and activation function 'relu'\n",
    "Dropout 25%\n",
    "Output layer with sofmax activation function for class probabilities"
   ]
  },
  {
   "cell_type": "code",
   "execution_count": 5,
   "metadata": {},
   "outputs": [],
   "source": [
    "model = Sequential()\n",
    "model.add(Conv2D(32, kernel_size=(3, 3),\n",
    "                 activation='relu',\n",
    "                 input_shape=input_shape))\n",
    "model.add(Conv2D(64, (3, 3), activation='relu'))\n",
    "model.add(MaxPooling2D(pool_size=(2, 2)))\n",
    "model.add(Conv2D(64, (3, 3), activation='relu'))\n",
    "model.add(MaxPooling2D(pool_size=(2, 2)))\n",
    "model.add(Dropout(0.25))\n",
    "model.add(Flatten())\n",
    "model.add(Dense(128, activation='relu'))\n",
    "model.add(Dropout(0.25))\n",
    "model.add(Dense(num_classes, activation='softmax'))"
   ]
  },
  {
   "cell_type": "markdown",
   "metadata": {},
   "source": [
    "#### Commpile and fit the model\n",
    "Set Adadelta as optimizer. It is an adaptive learning method. Default value of learning rate is 1.0"
   ]
  },
  {
   "cell_type": "code",
   "execution_count": 6,
   "metadata": {},
   "outputs": [
    {
     "name": "stdout",
     "output_type": "stream",
     "text": [
      "Train on 60000 samples, validate on 10000 samples\n",
      "Epoch 1/12\n",
      "60000/60000 [==============================] - 357s 6ms/step - loss: 0.2681 - acc: 0.9150 - val_loss: 0.0465 - val_acc: 0.9848\n",
      "Epoch 2/12\n",
      "60000/60000 [==============================] - 348s 6ms/step - loss: 0.0768 - acc: 0.9770 - val_loss: 0.0339 - val_acc: 0.9884\n",
      "Epoch 3/12\n",
      "60000/60000 [==============================] - 348s 6ms/step - loss: 0.0596 - acc: 0.9820 - val_loss: 0.0262 - val_acc: 0.9912\n",
      "Epoch 4/12\n",
      "60000/60000 [==============================] - 787s 13ms/step - loss: 0.0506 - acc: 0.9849 - val_loss: 0.0241 - val_acc: 0.9919\n",
      "Epoch 5/12\n",
      "60000/60000 [==============================] - 356s 6ms/step - loss: 0.0428 - acc: 0.9871 - val_loss: 0.0250 - val_acc: 0.9927\n",
      "Epoch 6/12\n",
      "60000/60000 [==============================] - 362s 6ms/step - loss: 0.0401 - acc: 0.9880 - val_loss: 0.0233 - val_acc: 0.9920\n",
      "Epoch 7/12\n",
      "60000/60000 [==============================] - 347s 6ms/step - loss: 0.0352 - acc: 0.9893 - val_loss: 0.0253 - val_acc: 0.9925\n",
      "Epoch 8/12\n",
      "60000/60000 [==============================] - 349s 6ms/step - loss: 0.0325 - acc: 0.9904 - val_loss: 0.0242 - val_acc: 0.9928\n",
      "Epoch 9/12\n",
      "60000/60000 [==============================] - 349s 6ms/step - loss: 0.0292 - acc: 0.9913 - val_loss: 0.0255 - val_acc: 0.9931\n",
      "Epoch 10/12\n",
      "60000/60000 [==============================] - 352s 6ms/step - loss: 0.0287 - acc: 0.9914 - val_loss: 0.0238 - val_acc: 0.9933\n",
      "Epoch 11/12\n",
      "60000/60000 [==============================] - 349s 6ms/step - loss: 0.0262 - acc: 0.9924 - val_loss: 0.0287 - val_acc: 0.9927\n",
      "Epoch 12/12\n",
      "60000/60000 [==============================] - 372s 6ms/step - loss: 0.0245 - acc: 0.9930 - val_loss: 0.0241 - val_acc: 0.9933\n"
     ]
    },
    {
     "data": {
      "text/plain": [
       "<keras.callbacks.History at 0xe7599e8>"
      ]
     },
     "execution_count": 6,
     "metadata": {},
     "output_type": "execute_result"
    }
   ],
   "source": [
    "model.compile(loss=keras.losses.categorical_crossentropy,\n",
    "              optimizer=keras.optimizers.Adadelta(),\n",
    "              metrics=['accuracy'])\n",
    "\n",
    "model.fit(x_train, y_train,\n",
    "          batch_size=batch_size,\n",
    "          epochs=epochs,\n",
    "          verbose=1,\n",
    "          validation_data=(x_test, y_test))"
   ]
  },
  {
   "cell_type": "markdown",
   "metadata": {},
   "source": [
    "#### The training accuracy is over 99%, now evaluate test score"
   ]
  },
  {
   "cell_type": "code",
   "execution_count": 7,
   "metadata": {},
   "outputs": [
    {
     "name": "stdout",
     "output_type": "stream",
     "text": [
      "Test loss: 0.024054890837129733\n",
      "Test accuracy: 0.9933\n"
     ]
    }
   ],
   "source": [
    "score = model.evaluate(x_test, y_test, verbose=0)\n",
    "print('Test loss:', score[0])\n",
    "print('Test accuracy:', score[1])"
   ]
  },
  {
   "cell_type": "markdown",
   "metadata": {},
   "source": [
    "### The test accuraccy is also more than 99%"
   ]
  }
 ],
 "metadata": {
  "kernelspec": {
   "display_name": "Python 3",
   "language": "python",
   "name": "python3"
  },
  "language_info": {
   "codemirror_mode": {
    "name": "ipython",
    "version": 3
   },
   "file_extension": ".py",
   "mimetype": "text/x-python",
   "name": "python",
   "nbconvert_exporter": "python",
   "pygments_lexer": "ipython3",
   "version": "3.6.7"
  }
 },
 "nbformat": 4,
 "nbformat_minor": 2
}
