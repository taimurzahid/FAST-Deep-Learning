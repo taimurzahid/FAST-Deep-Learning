{
 "cells": [
  {
   "cell_type": "code",
   "execution_count": 1,
   "metadata": {},
   "outputs": [],
   "source": [
    "#Fahad Malik, Roll# 18L-2097, MS(DS)\n",
    "#Report\n",
    "\n",
    "\n",
    "# Three convolution layers are used and max pooling respectively along side the fully connected layer and a softmax layer.\n",
    "# Defined a CNN architecture with 3 convolutional, convolution respective max pooling layers and fully connected \n",
    "# layers(also softmax layer). \n",
    "# The network topology can be summarized as follows.\n",
    "\n",
    "# The model is fit over 12 epochs with a batch size of 128.\n",
    "\n",
    "# 1st Convolutional layer with 30 feature maps of size 5×5.and a rectifier activation function. This is the input layer,\n",
    "# expecting images with the structure outline [pixels][width][height].\n",
    "# Pooling layer taking the max over 2*2 patches with stride of 2*2.\n",
    "\n",
    "# 2nd Convolutional layer with 15 feature maps of size 3x3.\n",
    "# Pooling layer taking the max over 2*2 patches with stride of 2*2.\n",
    "\n",
    "# 3rd Convolutional layer with 10 feature maps of size 2x2.\n",
    "# Pooling layer taking the max over 2*2 patches with stride of 2*2.\n",
    "\n",
    "# This layer is a regularization layer using dropout called Dropout. It is configured to randomly exclude 25% of neurons \n",
    "# in the layer in order to reduce overfitting.\n",
    "\n",
    "# Next is a layer that converts the 2D matrix data to a vector called Flatten. It allows the output to be processed by \n",
    "# standard fully connected layers.\n",
    "\n",
    "# Next a fully connected layer with 128 neurons and rectifier activation function.\n",
    "\n",
    "# Finally, the output layer has 10 neurons for the 10 classes and a softmax activation function to output \n",
    "# probability-like predictions for each class.\n",
    "\n",
    "# The model takes about 100 seconds to run per epoch. This model achieves the respectable \n",
    "# classification Test accuracy: 0.984 (98.4%)  at an Error rate : 1.56%\n"
   ]
  },
  {
   "cell_type": "code",
   "execution_count": 2,
   "metadata": {},
   "outputs": [
    {
     "name": "stderr",
     "output_type": "stream",
     "text": [
      "Using TensorFlow backend.\n"
     ]
    }
   ],
   "source": [
    "from __future__ import print_function\n",
    "import keras\n",
    "from keras.datasets import mnist\n",
    "from keras.models import Sequential\n",
    "from keras.layers import Dense, Dropout, Flatten\n",
    "from keras.layers import Conv2D, MaxPooling2D\n",
    "from keras import backend as K\n",
    "from keras.callbacks import TensorBoard               #Part B\n",
    "import matplotlib.pyplot as plt"
   ]
  },
  {
   "cell_type": "code",
   "execution_count": 3,
   "metadata": {},
   "outputs": [
    {
     "data": {
      "image/png": "[encoded data removed]",
      "text/plain": [
       "<Figure size 432x288 with 4 Axes>"
      ]
     },
     "metadata": {
      "needs_background": "light"
     },
     "output_type": "display_data"
    }
   ],
   "source": [
    "batch_size = 128\n",
    "num_classes = 10\n",
    "epochs = 12\n",
    "\n",
    "# input image dimensions\n",
    "img_rows, img_cols = 28, 28\n",
    "\n",
    "# the data, split between train and test sets\n",
    "(x_train, y_train), (x_test, y_test) = mnist.load_data()\n",
    "# plot 4 images as gray scale\n",
    "plt.subplot(221)\n",
    "plt.imshow(x_train[0], cmap=plt.get_cmap('gray'))\n",
    "plt.subplot(222)\n",
    "plt.imshow(x_train[1], cmap=plt.get_cmap('gray'))\n",
    "plt.subplot(223)\n",
    "plt.imshow(x_train[2], cmap=plt.get_cmap('gray'))\n",
    "plt.subplot(224)\n",
    "plt.imshow(x_train[3], cmap=plt.get_cmap('gray'))\n",
    "# show the plot\n",
    "plt.show()"
   ]
  },
  {
   "cell_type": "code",
   "execution_count": 4,
   "metadata": {},
   "outputs": [
    {
     "name": "stdout",
     "output_type": "stream",
     "text": [
      "x_train shape: (60000, 28, 28, 1)\n",
      "60000 train samples\n",
      "10000 test samples\n"
     ]
    }
   ],
   "source": [
    "if K.image_data_format() == 'channels_first':\n",
    "    x_train = x_train.reshape(x_train.shape[0], 1, img_rows, img_cols)\n",
    "    x_test = x_test.reshape(x_test.shape[0], 1, img_rows, img_cols)\n",
    "    input_shape = (1, img_rows, img_cols)\n",
    "else:\n",
    "    x_train = x_train.reshape(x_train.shape[0], img_rows, img_cols, 1)\n",
    "    x_test = x_test.reshape(x_test.shape[0], img_rows, img_cols, 1)\n",
    "    input_shape = (img_rows, img_cols, 1)\n",
    "\n",
    "x_train = x_train.astype('float32')\n",
    "x_test = x_test.astype('float32')\n",
    "x_train /= 255\n",
    "x_test /= 255\n",
    "print('x_train shape:', x_train.shape)\n",
    "print(x_train.shape[0], 'train samples')\n",
    "print(x_test.shape[0], 'test samples')"
   ]
  },
  {
   "cell_type": "code",
   "execution_count": 5,
   "metadata": {},
   "outputs": [],
   "source": [
    "# convert class vectors to binary class matrices\n",
    "y_train = keras.utils.to_categorical(y_train, num_classes)\n",
    "y_test = keras.utils.to_categorical(y_test, num_classes)\n"
   ]
  },
  {
   "cell_type": "code",
   "execution_count": 6,
   "metadata": {},
   "outputs": [
    {
     "name": "stdout",
     "output_type": "stream",
     "text": [
      "Train on 60000 samples, validate on 10000 samples\n",
      "Epoch 1/12\n",
      "60000/60000 [==============================] - 51s 857us/step - loss: 0.5478 - acc: 0.8237 - val_loss: 0.1137 - val_acc: 0.9646\n",
      "Epoch 2/12\n",
      "60000/60000 [==============================] - 50s 826us/step - loss: 0.2008 - acc: 0.9383 - val_loss: 0.0872 - val_acc: 0.9712\n",
      "Epoch 3/12\n",
      "60000/60000 [==============================] - 48s 802us/step - loss: 0.1630 - acc: 0.9499 - val_loss: 0.0741 - val_acc: 0.9759\n",
      "Epoch 4/12\n",
      "60000/60000 [==============================] - 50s 835us/step - loss: 0.1446 - acc: 0.9551 - val_loss: 0.0669 - val_acc: 0.9782\n",
      "Epoch 5/12\n",
      "60000/60000 [==============================] - 49s 824us/step - loss: 0.1304 - acc: 0.9594 - val_loss: 0.0648 - val_acc: 0.9788\n",
      "Epoch 6/12\n",
      "60000/60000 [==============================] - 48s 799us/step - loss: 0.1190 - acc: 0.9630 - val_loss: 0.0577 - val_acc: 0.9807\n",
      "Epoch 7/12\n",
      "60000/60000 [==============================] - 49s 810us/step - loss: 0.1128 - acc: 0.9643 - val_loss: 0.0495 - val_acc: 0.9837\n",
      "Epoch 8/12\n",
      "60000/60000 [==============================] - 48s 797us/step - loss: 0.1067 - acc: 0.9675 - val_loss: 0.0533 - val_acc: 0.9827\n",
      "Epoch 9/12\n",
      "60000/60000 [==============================] - 49s 820us/step - loss: 0.1020 - acc: 0.9677 - val_loss: 0.0526 - val_acc: 0.9820\n",
      "Epoch 10/12\n",
      "60000/60000 [==============================] - 48s 804us/step - loss: 0.0956 - acc: 0.9704 - val_loss: 0.0427 - val_acc: 0.9855\n",
      "Epoch 11/12\n",
      "60000/60000 [==============================] - 48s 805us/step - loss: 0.0923 - acc: 0.9706 - val_loss: 0.0406 - val_acc: 0.9866\n",
      "Epoch 12/12\n",
      "60000/60000 [==============================] - 51s 844us/step - loss: 0.0898 - acc: 0.9717 - val_loss: 0.0446 - val_acc: 0.9847\n",
      "Test loss: 0.04461988057303242\n",
      "Test accuracy: 0.9847\n",
      "CNN Error: 1.53%\n"
     ]
    }
   ],
   "source": [
    "model = Sequential()\n",
    "model.add(Conv2D(30, kernel_size=(5, 5),activation='relu',input_shape=input_shape))\n",
    "model.add(MaxPooling2D(pool_size=(2, 2),strides=(2, 2)))\n",
    "model.add(Conv2D(15, (3, 3), activation='relu'))\n",
    "model.add(MaxPooling2D(pool_size=(2, 2),strides=(2, 2)))\n",
    "model.add(Conv2D(10, (2, 2), activation='relu'))\n",
    "model.add(MaxPooling2D(pool_size=(2, 2),strides=(2, 2)))\n",
    "\n",
    "model.add(Dropout(0.25))\n",
    "model.add(Flatten())\n",
    "model.add(Dense(128, activation='relu'))\n",
    "model.add(Dense(num_classes, activation='softmax'))\n",
    "\n",
    "model.compile(loss=keras.losses.categorical_crossentropy,optimizer=keras.optimizers.Adadelta(),metrics=['accuracy'])\n",
    "tensor_board = TensorBoard(log_dir='./Graph', histogram_freq=1, write_graph=True, write_images=True)        #Part B\n",
    "\n",
    "History =model.fit(x_train, y_train,\n",
    "          batch_size=batch_size,\n",
    "          epochs=epochs,\n",
    "          verbose=1,\n",
    "          validation_data=(x_test, y_test),\n",
    "          callbacks=[tensor_board]                  #Part B\n",
    "          #callbacks=[keras.callbacks.TensorBoard(log_dir = \"logs\",histogram_freq = 2,write_grads=True,write_graph = True, write_images = True, embeddings_freq = 0,  embeddings_layer_names = None, embeddings_metadata = None)]\n",
    "                                )\n",
    "score = model.evaluate(x_test, y_test, verbose=0)\n",
    "print('Test loss:', score[0])\n",
    "print('Test accuracy:', score[1])\n",
    "print(\"CNN Error: %.2f%%\" % (100-score[1]*100))\n"
   ]
  },
  {
   "cell_type": "code",
   "execution_count": 7,
   "metadata": {},
   "outputs": [
    {
     "name": "stdout",
     "output_type": "stream",
     "text": [
      "_________________________________________________________________\n",
      "Layer (type)                 Output Shape              Param #   \n",
      "=================================================================\n",
      "conv2d_1 (Conv2D)            (None, 24, 24, 30)        780       \n",
      "_________________________________________________________________\n",
      "max_pooling2d_1 (MaxPooling2 (None, 12, 12, 30)        0         \n",
      "_________________________________________________________________\n",
      "conv2d_2 (Conv2D)            (None, 10, 10, 15)        4065      \n",
      "_________________________________________________________________\n",
      "max_pooling2d_2 (MaxPooling2 (None, 5, 5, 15)          0         \n",
      "_________________________________________________________________\n",
      "conv2d_3 (Conv2D)            (None, 4, 4, 10)          610       \n",
      "_________________________________________________________________\n",
      "max_pooling2d_3 (MaxPooling2 (None, 2, 2, 10)          0         \n",
      "_________________________________________________________________\n",
      "dropout_1 (Dropout)          (None, 2, 2, 10)          0         \n",
      "_________________________________________________________________\n",
      "flatten_1 (Flatten)          (None, 40)                0         \n",
      "_________________________________________________________________\n",
      "dense_1 (Dense)              (None, 128)               5248      \n",
      "_________________________________________________________________\n",
      "dense_2 (Dense)              (None, 10)                1290      \n",
      "=================================================================\n",
      "Total params: 11,993\n",
      "Trainable params: 11,993\n",
      "Non-trainable params: 0\n",
      "_________________________________________________________________\n"
     ]
    }
   ],
   "source": [
    "model.summary()"
   ]
  },
  {
   "cell_type": "code",
   "execution_count": 8,
   "metadata": {},
   "outputs": [],
   "source": [
    "# Part B \n",
    "# Just tensorboard is imported in index 1 and call back function of the keras is used in index 6. \"Part B\" is mentioned next \n",
    "# to these lines in the mentioned indexes.\n",
    "# Rest of the code for part B is given below.\n",
    "# The blow code os for error plot Vs epochs. I have displayed accuracy as well as loss graph of both training and validation \n",
    "# data.\n",
    "\n",
    "# The visualization of the architecture of this model is done on tensorboard (Screenshots are attatched within email)\n",
    "# The weights plotation via histograms is done on tensorboard (The weights are described in kernel histogram) \n",
    "# (Screenshots of weights of Cov layers and Fully connected layers i.e the dense layers are attatched within the email)"
   ]
  },
  {
   "cell_type": "code",
   "execution_count": 9,
   "metadata": {},
   "outputs": [
    {
     "data": {
      "image/png": "[encoded data removed]",
      "text/plain": [
       "<Figure size 432x288 with 1 Axes>"
      ]
     },
     "metadata": {
      "needs_background": "light"
     },
     "output_type": "display_data"
    },
    {
     "data": {
      "image/png": "[encoded data removed]",
      "text/plain": [
       "<Figure size 432x288 with 1 Axes>"
      ]
     },
     "metadata": {
      "needs_background": "light"
     },
     "output_type": "display_data"
    }
   ],
   "source": [
    "accuracy = History.history['acc']\n",
    "val_accuracy = History.history['val_acc']\n",
    "loss = History.history['loss']\n",
    "val_loss = History.history['val_loss']\n",
    "epochs = range(len(accuracy))\n",
    "plt.plot(epochs, accuracy, 'bo', label='Training Accuracy')\n",
    "plt.plot(epochs, val_accuracy, 'b', label='Validation Accuracy')\n",
    "plt.title('Training and Validation Accuracy')\n",
    "plt.ylabel('Accuracy')\n",
    "plt.xlabel('Epoch')\n",
    "plt.legend()\n",
    "plt.figure()\n",
    "plt.plot(epochs, loss, 'bo', label='Training Loss')\n",
    "plt.plot(epochs, val_loss, 'b', label='Validation Loss')\n",
    "plt.title('Training and Validation Loss')\n",
    "plt.ylabel('Accuracy')\n",
    "plt.xlabel('Epoch')\n",
    "plt.legend()\n",
    "plt.show()"
   ]
  }
 ],
 "metadata": {
  "kernelspec": {
   "display_name": "Python 3",
   "language": "python",
   "name": "python3"
  },
  "language_info": {
   "codemirror_mode": {
    "name": "ipython",
    "version": 3
   },
   "file_extension": ".py",
   "mimetype": "text/x-python",
   "name": "python",
   "nbconvert_exporter": "python",
   "pygments_lexer": "ipython3",
   "version": "3.6.6"
  }
 },
 "nbformat": 4,
 "nbformat_minor": 2
}
