{
 "cells": [
  {
   "cell_type": "markdown",
   "metadata": {},
   "source": [
    "# Part A - Convolutional Neural Network using Keras with Tensorflow backend"
   ]
  },
  {
   "cell_type": "code",
   "execution_count": 1,
   "metadata": {},
   "outputs": [
    {
     "name": "stderr",
     "output_type": "stream",
     "text": [
      "Using TensorFlow backend.\n"
     ]
    },
    {
     "name": "stdout",
     "output_type": "stream",
     "text": [
      "x_train shape: (60000, 28, 28, 1)\n",
      "60000 train samples\n",
      "10000 test samples\n",
      "Train on 60000 samples, validate on 10000 samples\n",
      "Epoch 1/12\n",
      "60000/60000 [==============================] - 12s 207us/step - loss: 0.5011 - acc: 0.8360 - val_loss: 0.1142 - val_acc: 0.9625\n",
      "Epoch 2/12\n",
      "60000/60000 [==============================] - 12s 201us/step - loss: 0.1657 - acc: 0.9492 - val_loss: 0.0680 - val_acc: 0.9779\n",
      "Epoch 3/12\n",
      "60000/60000 [==============================] - 12s 193us/step - loss: 0.1278 - acc: 0.9608 - val_loss: 0.0583 - val_acc: 0.9813\n",
      "Epoch 4/12\n",
      "60000/60000 [==============================] - 13s 213us/step - loss: 0.1082 - acc: 0.9668 - val_loss: 0.0453 - val_acc: 0.9852\n",
      "Epoch 5/12\n",
      "60000/60000 [==============================] - 13s 213us/step - loss: 0.0977 - acc: 0.9693 - val_loss: 0.0442 - val_acc: 0.9859\n",
      "Epoch 6/12\n",
      "60000/60000 [==============================] - 13s 216us/step - loss: 0.0884 - acc: 0.9727 - val_loss: 0.0409 - val_acc: 0.9868\n",
      "Epoch 7/12\n",
      "60000/60000 [==============================] - 13s 217us/step - loss: 0.0811 - acc: 0.9750 - val_loss: 0.0383 - val_acc: 0.9873\n",
      "Epoch 8/12\n",
      "60000/60000 [==============================] - 13s 221us/step - loss: 0.0767 - acc: 0.9770 - val_loss: 0.0382 - val_acc: 0.9877\n",
      "Epoch 9/12\n",
      "60000/60000 [==============================] - 14s 230us/step - loss: 0.0722 - acc: 0.9776 - val_loss: 0.0432 - val_acc: 0.9855\n",
      "Epoch 10/12\n",
      "60000/60000 [==============================] - 13s 218us/step - loss: 0.0686 - acc: 0.9790 - val_loss: 0.0333 - val_acc: 0.9886\n",
      "Epoch 11/12\n",
      "60000/60000 [==============================] - 13s 213us/step - loss: 0.0668 - acc: 0.9784 - val_loss: 0.0366 - val_acc: 0.9883\n",
      "Epoch 12/12\n",
      "60000/60000 [==============================] - 13s 214us/step - loss: 0.0625 - acc: 0.9805 - val_loss: 0.0351 - val_acc: 0.9880\n",
      "Test loss: 0.03514525890604709\n",
      "Test accuracy: 0.988\n"
     ]
    }
   ],
   "source": [
    "import keras\n",
    "from keras.datasets import mnist\n",
    "from keras.models import Sequential\n",
    "from keras.layers import Dense, Dropout, Flatten\n",
    "from keras.layers import Conv2D, MaxPooling2D\n",
    "from keras import backend as K\n",
    "\n",
    "batch_size = 128\n",
    "num_classes = 10\n",
    "epochs = 12\n",
    "\n",
    "# input image dimensions\n",
    "img_rows, img_cols = 28, 28\n",
    "\n",
    "# the data, split between train and test sets\n",
    "(x_train, y_train), (x_test, y_test) = mnist.load_data()\n",
    "\n",
    "if K.image_data_format() == 'channels_first':\n",
    "    x_train = x_train.reshape(x_train.shape[0], 1, img_rows, img_cols)\n",
    "    x_test = x_test.reshape(x_test.shape[0], 1, img_rows, img_cols)\n",
    "    input_shape = (1, img_rows, img_cols)\n",
    "else:\n",
    "    x_train = x_train.reshape(x_train.shape[0], img_rows, img_cols, 1)\n",
    "    x_test = x_test.reshape(x_test.shape[0], img_rows, img_cols, 1)\n",
    "    input_shape = (img_rows, img_cols, 1)\n",
    "\n",
    "x_train = x_train.astype('float32')\n",
    "x_test = x_test.astype('float32')\n",
    "x_train /= 255\n",
    "x_test /= 255\n",
    "print('x_train shape:', x_train.shape)\n",
    "print(x_train.shape[0], 'train samples')\n",
    "print(x_test.shape[0], 'test samples')\n",
    "\n",
    "# convert class vectors to binary class matrices\n",
    "y_train = keras.utils.to_categorical(y_train, num_classes)\n",
    "y_test = keras.utils.to_categorical(y_test, num_classes)\n",
    "\n",
    "model = Sequential()\n",
    "model.add(Conv2D(kernel_size=(3, 3),filters = 10,input_shape=input_shape,activation='relu',padding='valid'))\n",
    "model.add(MaxPooling2D(pool_size=(2, 2)))\n",
    "model.add(Conv2D(kernel_size=(3, 3),filters = 15,activation='relu',padding='same'))\n",
    "model.add(MaxPooling2D(pool_size=(2, 2)))\n",
    "model.add(Conv2D(kernel_size=(3, 3),filters = 15,activation='relu',padding='same'))\n",
    "model.add(MaxPooling2D(pool_size=(2, 2)))\n",
    "model.add(Dropout(0.25))\n",
    "model.add(Flatten())\n",
    "model.add(Dense(128, activation='relu'))\n",
    "model.add(Dropout(0.25))\n",
    "model.add(Dense(num_classes, activation='softmax'))\n",
    "\n",
    "model.compile(loss=keras.losses.categorical_crossentropy,\n",
    "              optimizer=keras.optimizers.Adadelta(),\n",
    "              metrics=['accuracy'])\n",
    "\n",
    "model.fit(x_train, y_train,\n",
    "          batch_size=batch_size,\n",
    "          epochs=epochs,\n",
    "          verbose=1,\n",
    "          validation_data=(x_test, y_test))\n",
    "score = model.evaluate(x_test, y_test, verbose=0)\n",
    "print('Test loss:', score[0])\n",
    "print('Test accuracy:', score[1])"
   ]
  },
  {
   "cell_type": "markdown",
   "metadata": {},
   "source": [
    "# Part B - Tensorboard"
   ]
  },
  {
   "cell_type": "code",
   "execution_count": 2,
   "metadata": {},
   "outputs": [],
   "source": [
    "import keras\n",
    "from keras.datasets import mnist\n",
    "from keras.models import Sequential\n",
    "from keras.layers import Dense, Dropout, Flatten\n",
    "from keras.layers import Conv2D, MaxPooling2D\n",
    "from keras import backend as K\n",
    "from time import time\n",
    "from tensorflow.python.keras.callbacks import TensorBoard\n"
   ]
  },
  {
   "cell_type": "code",
   "execution_count": 3,
   "metadata": {},
   "outputs": [],
   "source": [
    "# parameters\n",
    "batch_size = 128\n",
    "num_classes = 10\n",
    "epochs = 12\n",
    "\n",
    "# input image dimensions\n",
    "img_rows, img_cols = 28, 28"
   ]
  },
  {
   "cell_type": "code",
   "execution_count": 4,
   "metadata": {},
   "outputs": [],
   "source": [
    "# the data, split between train and test sets\n",
    "(x_train, y_train), (x_test, y_test) = mnist.load_data()"
   ]
  },
  {
   "cell_type": "code",
   "execution_count": 5,
   "metadata": {},
   "outputs": [],
   "source": [
    "if K.image_data_format() == 'channels_first':\n",
    "    x_train = x_train.reshape(x_train.shape[0], 1, img_rows, img_cols)\n",
    "    x_test = x_test.reshape(x_test.shape[0], 1, img_rows, img_cols)\n",
    "    input_shape = (1, img_rows, img_cols)\n",
    "else:\n",
    "    x_train = x_train.reshape(x_train.shape[0], img_rows, img_cols, 1)\n",
    "    x_test = x_test.reshape(x_test.shape[0], img_rows, img_cols, 1)\n",
    "    input_shape = (img_rows, img_cols, 1)"
   ]
  },
  {
   "cell_type": "code",
   "execution_count": 6,
   "metadata": {},
   "outputs": [
    {
     "name": "stdout",
     "output_type": "stream",
     "text": [
      "x_train shape: (60000, 28, 28, 1)\n",
      "60000 train samples\n",
      "10000 test samples\n"
     ]
    }
   ],
   "source": [
    "x_train = x_train.astype('float32')\n",
    "x_test = x_test.astype('float32')\n",
    "x_train /= 255\n",
    "x_test /= 255\n",
    "print('x_train shape:', x_train.shape)\n",
    "print(x_train.shape[0], 'train samples')\n",
    "print(x_test.shape[0], 'test samples')"
   ]
  },
  {
   "cell_type": "code",
   "execution_count": 7,
   "metadata": {},
   "outputs": [],
   "source": [
    "# convert class vectors to binary class matrices\n",
    "y_train = keras.utils.to_categorical(y_train, num_classes)\n",
    "y_test = keras.utils.to_categorical(y_test, num_classes)"
   ]
  },
  {
   "cell_type": "code",
   "execution_count": 8,
   "metadata": {},
   "outputs": [],
   "source": [
    "# create model\n",
    "with K.name_scope(\"Model\"):\n",
    "    model = Sequential()\n",
    "    with K.name_scope(\"InputLayer\"):\n",
    "        with K.name_scope(\"ConvolutionLayer\"):\n",
    "            model.add(Conv2D(kernel_size=(3, 3),filters = 10,input_shape=input_shape,activation='relu',padding='valid'))\n",
    "        with K.name_scope(\"PoolingLayer\"):\n",
    "            model.add(MaxPooling2D(pool_size=(2, 2)))\n",
    "    \n",
    "    with K.name_scope(\"HiddenLayer1\"):\n",
    "        with K.name_scope(\"ConvolutionLayer\"):\n",
    "            model.add(Conv2D(kernel_size=(3, 3),filters = 15,activation='relu',padding='same'))\n",
    "        with K.name_scope(\"PoolingLayer\"):\n",
    "            model.add(MaxPooling2D(pool_size=(2, 2)))\n",
    "    \n",
    "    with K.name_scope(\"HiddenLayer2\"):\n",
    "        with K.name_scope(\"ConvolutionLayer\"):\n",
    "            model.add(Conv2D(kernel_size=(3, 3),filters = 15,activation='relu',padding='same'))\n",
    "        with K.name_scope(\"PoolingLayer\"):\n",
    "            model.add(MaxPooling2D(pool_size=(2, 2)))\n",
    "\n",
    "    with K.name_scope(\"FullyConnectedOutputLayer\"):\n",
    "        model.add(Dropout(0.25))\n",
    "        model.add(Flatten())\n",
    "        model.add(Dense(128, activation='relu'))\n",
    "        model.add(Dropout(0.25))\n",
    "        model.add(Dense(num_classes, activation='softmax'))"
   ]
  },
  {
   "cell_type": "markdown",
   "metadata": {},
   "source": [
    "Initialize tensorboard callback"
   ]
  },
  {
   "cell_type": "code",
   "execution_count": 9,
   "metadata": {},
   "outputs": [],
   "source": [
    "tensorboard = TensorBoard(log_dir=\"logs/{}\".format(time()))"
   ]
  },
  {
   "cell_type": "code",
   "execution_count": 10,
   "metadata": {},
   "outputs": [],
   "source": [
    "model.compile(loss=keras.losses.categorical_crossentropy,\n",
    "              optimizer=keras.optimizers.Adadelta(),\n",
    "              metrics=['accuracy'])"
   ]
  },
  {
   "cell_type": "code",
   "execution_count": 11,
   "metadata": {},
   "outputs": [
    {
     "name": "stdout",
     "output_type": "stream",
     "text": [
      "_________________________________________________________________\n",
      "Layer (type)                 Output Shape              Param #   \n",
      "=================================================================\n",
      "conv2d_4 (Conv2D)            (None, 26, 26, 10)        100       \n",
      "_________________________________________________________________\n",
      "max_pooling2d_4 (MaxPooling2 (None, 13, 13, 10)        0         \n",
      "_________________________________________________________________\n",
      "conv2d_5 (Conv2D)            (None, 13, 13, 15)        1365      \n",
      "_________________________________________________________________\n",
      "max_pooling2d_5 (MaxPooling2 (None, 6, 6, 15)          0         \n",
      "_________________________________________________________________\n",
      "conv2d_6 (Conv2D)            (None, 6, 6, 15)          2040      \n",
      "_________________________________________________________________\n",
      "max_pooling2d_6 (MaxPooling2 (None, 3, 3, 15)          0         \n",
      "_________________________________________________________________\n",
      "dropout_3 (Dropout)          (None, 3, 3, 15)          0         \n",
      "_________________________________________________________________\n",
      "flatten_2 (Flatten)          (None, 135)               0         \n",
      "_________________________________________________________________\n",
      "dense_3 (Dense)              (None, 128)               17408     \n",
      "_________________________________________________________________\n",
      "dropout_4 (Dropout)          (None, 128)               0         \n",
      "_________________________________________________________________\n",
      "dense_4 (Dense)              (None, 10)                1290      \n",
      "=================================================================\n",
      "Total params: 22,203\n",
      "Trainable params: 22,203\n",
      "Non-trainable params: 0\n",
      "_________________________________________________________________\n"
     ]
    }
   ],
   "source": [
    "model.summary()"
   ]
  },
  {
   "cell_type": "markdown",
   "metadata": {},
   "source": [
    "Add tensorboard callback"
   ]
  },
  {
   "cell_type": "code",
   "execution_count": 12,
   "metadata": {},
   "outputs": [
    {
     "name": "stdout",
     "output_type": "stream",
     "text": [
      "Train on 60000 samples, validate on 10000 samples\n",
      "Epoch 1/12\n",
      "60000/60000 [==============================] - 14s 227us/step - loss: 0.4477 - acc: 0.8551 - val_loss: 0.1001 - val_acc: 0.9692\n",
      "Epoch 2/12\n",
      "60000/60000 [==============================] - 14s 226us/step - loss: 0.1555 - acc: 0.9522 - val_loss: 0.0687 - val_acc: 0.9774\n",
      "Epoch 3/12\n",
      "60000/60000 [==============================] - 14s 235us/step - loss: 0.1258 - acc: 0.9608 - val_loss: 0.0559 - val_acc: 0.9832\n",
      "Epoch 4/12\n",
      "60000/60000 [==============================] - 14s 231us/step - loss: 0.1067 - acc: 0.9668 - val_loss: 0.0545 - val_acc: 0.9822\n",
      "Epoch 5/12\n",
      "60000/60000 [==============================] - 14s 228us/step - loss: 0.0960 - acc: 0.9700 - val_loss: 0.0533 - val_acc: 0.9832\n",
      "Epoch 6/12\n",
      "60000/60000 [==============================] - 14s 228us/step - loss: 0.0879 - acc: 0.9727 - val_loss: 0.0387 - val_acc: 0.9870\n",
      "Epoch 7/12\n",
      "60000/60000 [==============================] - 14s 229us/step - loss: 0.0808 - acc: 0.9751 - val_loss: 0.0342 - val_acc: 0.9891\n",
      "Epoch 8/12\n",
      "60000/60000 [==============================] - 14s 230us/step - loss: 0.0749 - acc: 0.9772 - val_loss: 0.0353 - val_acc: 0.9884\n",
      "Epoch 9/12\n",
      "60000/60000 [==============================] - 14s 230us/step - loss: 0.0697 - acc: 0.9774 - val_loss: 0.0326 - val_acc: 0.9885\n",
      "Epoch 10/12\n",
      "60000/60000 [==============================] - 14s 231us/step - loss: 0.0679 - acc: 0.9787 - val_loss: 0.0327 - val_acc: 0.9896\n",
      "Epoch 11/12\n",
      "60000/60000 [==============================] - 14s 232us/step - loss: 0.0647 - acc: 0.9802 - val_loss: 0.0340 - val_acc: 0.9881\n",
      "Epoch 12/12\n",
      "60000/60000 [==============================] - 14s 233us/step - loss: 0.0619 - acc: 0.9811 - val_loss: 0.0296 - val_acc: 0.9900\n"
     ]
    },
    {
     "data": {
      "text/plain": [
       "<keras.callbacks.History at 0x7f41808b85f8>"
      ]
     },
     "execution_count": 12,
     "metadata": {},
     "output_type": "execute_result"
    }
   ],
   "source": [
    "model.fit(x_train, y_train,\n",
    "          batch_size=batch_size,\n",
    "          epochs=epochs,\n",
    "          verbose=1,\n",
    "          validation_data=(x_test, y_test),\n",
    "          callbacks=[tensorboard])"
   ]
  },
  {
   "cell_type": "code",
   "execution_count": 13,
   "metadata": {},
   "outputs": [],
   "source": [
    "score = model.evaluate(x_test, y_test, verbose=0)"
   ]
  },
  {
   "cell_type": "code",
   "execution_count": 14,
   "metadata": {},
   "outputs": [
    {
     "name": "stdout",
     "output_type": "stream",
     "text": [
      "Test loss: 0.02956794948480674\n",
      "Test accuracy: 0.99\n"
     ]
    }
   ],
   "source": [
    "print('Test loss:', score[0])\n",
    "print('Test accuracy:', score[1])"
   ]
  },
  {
   "cell_type": "code",
   "execution_count": null,
   "metadata": {},
   "outputs": [],
   "source": []
  }
 ],
 "metadata": {
  "kernelspec": {
   "display_name": "Python 3",
   "language": "python",
   "name": "python3"
  },
  "language_info": {
   "codemirror_mode": {
    "name": "ipython",
    "version": 3
   },
   "file_extension": ".py",
   "mimetype": "text/x-python",
   "name": "python",
   "nbconvert_exporter": "python",
   "pygments_lexer": "ipython3",
   "version": "3.6.6"
  }
 },
 "nbformat": 4,
 "nbformat_minor": 2
}
