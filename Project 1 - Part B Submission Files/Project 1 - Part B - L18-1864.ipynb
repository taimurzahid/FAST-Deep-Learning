{
 "cells": [
  {
   "cell_type": "markdown",
   "metadata": {},
   "source": [
    "# Performing Required Imports"
   ]
  },
  {
   "cell_type": "code",
   "execution_count": 1,
   "metadata": {},
   "outputs": [
    {
     "name": "stderr",
     "output_type": "stream",
     "text": [
      "Using TensorFlow backend.\n"
     ]
    }
   ],
   "source": [
    "from keras.models import Sequential\n",
    "from keras.layers.convolutional import Convolution2D\n",
    "from keras.layers.convolutional import MaxPooling2D\n",
    "from keras.layers.core import Activation\n",
    "from keras.layers.core import Flatten\n",
    "from keras.layers.core import Dense\n",
    "from keras.layers.core import Dropout\n",
    "from keras.datasets import mnist\n",
    "from keras.callbacks import TensorBoard\n",
    "import numpy as np\n",
    "from keras.optimizers import SGD\n",
    "from keras.utils import np_utils\n",
    "import cv2\n",
    "import matplotlib.pyplot as plt\n",
    "import pylab as pl\n",
    "from sklearn.metrics import classification_report\n",
    "from keras import backend as K\n",
    "import matplotlib.cm as cm\n",
    "from mpl_toolkits.axes_grid1 import make_axes_locatable\n",
    "%matplotlib inline"
   ]
  },
  {
   "cell_type": "markdown",
   "metadata": {},
   "source": [
    "# Part A - Convolutional Neural Network using Keras with Tensorflow backend"
   ]
  },
  {
   "cell_type": "markdown",
   "metadata": {},
   "source": [
    "# Loading MNIST Dataset"
   ]
  },
  {
   "cell_type": "code",
   "execution_count": 2,
   "metadata": {
    "scrolled": true
   },
   "outputs": [],
   "source": [
    "(train_data,train_label),(test_data,test_label) = mnist.load_data()"
   ]
  },
  {
   "cell_type": "markdown",
   "metadata": {},
   "source": [
    "# Adding an extra dimension to make the input inline with the model"
   ]
  },
  {
   "cell_type": "code",
   "execution_count": 3,
   "metadata": {},
   "outputs": [],
   "source": [
    "x_train = train_data[:,:,:,np.newaxis]\n",
    "x_test = test_data[:,:,:,np.newaxis]"
   ]
  },
  {
   "cell_type": "markdown",
   "metadata": {},
   "source": [
    "# Transform the training and test labels into vectors in the range [0, classes] -- This generates a vector for each label, where the index of the label is set to 1 and all other entries to 0; in the case of MNIST, there are 10 class labels"
   ]
  },
  {
   "cell_type": "code",
   "execution_count": 4,
   "metadata": {},
   "outputs": [],
   "source": [
    "y_train = np_utils.to_categorical(train_label, 10)\n",
    "y_test = np_utils.to_categorical(test_label, 10)"
   ]
  },
  {
   "cell_type": "markdown",
   "metadata": {},
   "source": [
    "# Checking dimensions of data"
   ]
  },
  {
   "cell_type": "code",
   "execution_count": 5,
   "metadata": {},
   "outputs": [
    {
     "data": {
      "text/plain": [
       "((60000, 28, 28, 1), (60000, 10), (10000, 28, 28, 1), (10000, 10))"
      ]
     },
     "execution_count": 5,
     "metadata": {},
     "output_type": "execute_result"
    }
   ],
   "source": [
    "np.shape(x_train), np.shape(y_train), np.shape(x_test), np.shape(y_test)"
   ]
  },
  {
   "cell_type": "markdown",
   "metadata": {},
   "source": [
    "# Architecture"
   ]
  },
  {
   "cell_type": "code",
   "execution_count": 7,
   "metadata": {
    "scrolled": false
   },
   "outputs": [
    {
     "name": "stderr",
     "output_type": "stream",
     "text": [
      "/home/talha/anaconda/envs/conda_env/lib/python2.7/site-packages/ipykernel_launcher.py:4: UserWarning: Update your `Conv2D` call to the Keras 2 API: `Conv2D(6, (3, 3), padding=\"same\", input_shape=(28, 28, 1...)`\n",
      "  after removing the cwd from sys.path.\n",
      "/home/talha/anaconda/envs/conda_env/lib/python2.7/site-packages/ipykernel_launcher.py:10: UserWarning: Update your `Conv2D` call to the Keras 2 API: `Conv2D(16, (5, 5), padding=\"same\")`\n",
      "  # Remove the CWD from sys.path while we load stuff.\n",
      "/home/talha/anaconda/envs/conda_env/lib/python2.7/site-packages/ipykernel_launcher.py:16: UserWarning: Update your `Conv2D` call to the Keras 2 API: `Conv2D(46, (7, 7), padding=\"same\")`\n",
      "  app.launch_new_instance()\n"
     ]
    }
   ],
   "source": [
    "model = Sequential()\n",
    "\n",
    "# first set of CONV => RELU => POOL\n",
    "model.add(Convolution2D(6, 3, 3, border_mode=\"same\", input_shape=(28, 28, 1)))\n",
    "conv1 = Activation(\"relu\") \n",
    "model.add(conv1)\n",
    "model.add(MaxPooling2D(pool_size=(2, 2), strides=(2, 2)))\n",
    "\n",
    "# second set of CONV => RELU => POOL\n",
    "model.add(Convolution2D(16, 5, 5, border_mode=\"same\"))\n",
    "conv2 = Activation(\"relu\") \n",
    "model.add(conv2)\n",
    "model.add(MaxPooling2D(pool_size=(2, 2), strides=(2, 2)))\n",
    "\n",
    "# first set of CONV => DROPOUT => RELU => POOL\n",
    "model.add(Convolution2D(46, 7, 7, border_mode=\"same\"))\n",
    "model.add(Dropout(0.25))\n",
    "conv3 = Activation(\"relu\") \n",
    "model.add(conv3)\n",
    "model.add(MaxPooling2D(pool_size=(2, 2), strides=(2, 2)))\n",
    "\n",
    "# first set of FC => softmax\n",
    "model.add(Flatten())\n",
    "model.add(Dense(10))\n",
    "fc = Activation(\"softmax\") \n",
    "model.add(fc)\n",
    "\n",
    "model.compile(loss=\"categorical_crossentropy\", optimizer=SGD(lr=0.0001, momentum=0.9, decay=0.0, nesterov=True), metrics=[\"accuracy\"])"
   ]
  },
  {
   "cell_type": "markdown",
   "metadata": {},
   "source": [
    "# Training The Model"
   ]
  },
  {
   "cell_type": "code",
   "execution_count": 8,
   "metadata": {
    "scrolled": true
   },
   "outputs": [
    {
     "name": "stderr",
     "output_type": "stream",
     "text": [
      "/home/talha/anaconda/envs/conda_env/lib/python2.7/site-packages/keras/models.py:944: UserWarning: The `nb_epoch` argument in `fit` has been renamed `epochs`.\n",
      "  warnings.warn('The `nb_epoch` argument in `fit` '\n"
     ]
    },
    {
     "name": "stdout",
     "output_type": "stream",
     "text": [
      "Train on 48000 samples, validate on 12000 samples\n",
      "Epoch 1/50\n",
      "48000/48000 [==============================] - 8s 167us/step - loss: 1.4372 - acc: 0.7954 - val_loss: 0.1949 - val_acc: 0.9383\n",
      "Epoch 2/50\n",
      "48000/48000 [==============================] - 7s 143us/step - loss: 0.2539 - acc: 0.9223 - val_loss: 0.1456 - val_acc: 0.9551\n",
      "Epoch 3/50\n",
      "48000/48000 [==============================] - 7s 139us/step - loss: 0.1961 - acc: 0.9388 - val_loss: 0.1248 - val_acc: 0.9602\n",
      "Epoch 4/50\n",
      "48000/48000 [==============================] - 7s 139us/step - loss: 0.1639 - acc: 0.9486 - val_loss: 0.1117 - val_acc: 0.9649\n",
      "Epoch 5/50\n",
      "48000/48000 [==============================] - 7s 148us/step - loss: 0.1420 - acc: 0.9558 - val_loss: 0.1012 - val_acc: 0.9684\n",
      "Epoch 6/50\n",
      "48000/48000 [==============================] - 7s 147us/step - loss: 0.1276 - acc: 0.9590 - val_loss: 0.0937 - val_acc: 0.9718\n",
      "Epoch 7/50\n",
      "48000/48000 [==============================] - 7s 146us/step - loss: 0.1165 - acc: 0.9633 - val_loss: 0.0892 - val_acc: 0.9726\n",
      "Epoch 8/50\n",
      "48000/48000 [==============================] - 7s 139us/step - loss: 0.1100 - acc: 0.9648 - val_loss: 0.0837 - val_acc: 0.9745\n",
      "Epoch 9/50\n",
      "48000/48000 [==============================] - 7s 141us/step - loss: 0.1025 - acc: 0.9679 - val_loss: 0.0809 - val_acc: 0.9750\n",
      "Epoch 10/50\n",
      "48000/48000 [==============================] - 7s 143us/step - loss: 0.0957 - acc: 0.9698 - val_loss: 0.0776 - val_acc: 0.9764\n",
      "Epoch 11/50\n",
      "48000/48000 [==============================] - 7s 146us/step - loss: 0.0886 - acc: 0.9720 - val_loss: 0.0730 - val_acc: 0.9774\n",
      "Epoch 12/50\n",
      "48000/48000 [==============================] - 7s 143us/step - loss: 0.0849 - acc: 0.9733 - val_loss: 0.0698 - val_acc: 0.9778\n",
      "Epoch 13/50\n",
      "48000/48000 [==============================] - 7s 141us/step - loss: 0.0794 - acc: 0.9745 - val_loss: 0.0696 - val_acc: 0.9786\n",
      "Epoch 14/50\n",
      "48000/48000 [==============================] - 7s 145us/step - loss: 0.0760 - acc: 0.9757 - val_loss: 0.0672 - val_acc: 0.9786\n",
      "Epoch 15/50\n",
      "48000/48000 [==============================] - 7s 141us/step - loss: 0.0728 - acc: 0.9763 - val_loss: 0.0673 - val_acc: 0.9792\n",
      "Epoch 16/50\n",
      "48000/48000 [==============================] - 7s 151us/step - loss: 0.0719 - acc: 0.9762 - val_loss: 0.0654 - val_acc: 0.9798\n",
      "Epoch 17/50\n",
      "48000/48000 [==============================] - 7s 145us/step - loss: 0.0672 - acc: 0.9775 - val_loss: 0.0654 - val_acc: 0.9798\n",
      "Epoch 18/50\n",
      "48000/48000 [==============================] - 7s 145us/step - loss: 0.0646 - acc: 0.9788 - val_loss: 0.0627 - val_acc: 0.9798\n",
      "Epoch 19/50\n",
      "48000/48000 [==============================] - 7s 148us/step - loss: 0.0634 - acc: 0.9792 - val_loss: 0.0607 - val_acc: 0.9808\n",
      "Epoch 20/50\n",
      "48000/48000 [==============================] - 7s 146us/step - loss: 0.0593 - acc: 0.9806 - val_loss: 0.0590 - val_acc: 0.9814\n",
      "Epoch 21/50\n",
      "48000/48000 [==============================] - 7s 146us/step - loss: 0.0567 - acc: 0.9816 - val_loss: 0.0587 - val_acc: 0.9818\n",
      "Epoch 22/50\n",
      "48000/48000 [==============================] - 7s 146us/step - loss: 0.0552 - acc: 0.9818 - val_loss: 0.0586 - val_acc: 0.9810\n",
      "Epoch 23/50\n",
      "48000/48000 [==============================] - 7s 147us/step - loss: 0.0526 - acc: 0.9828 - val_loss: 0.0576 - val_acc: 0.9817\n",
      "Epoch 24/50\n",
      "48000/48000 [==============================] - 7s 150us/step - loss: 0.0512 - acc: 0.9829 - val_loss: 0.0559 - val_acc: 0.9826\n",
      "Epoch 25/50\n",
      "48000/48000 [==============================] - 7s 148us/step - loss: 0.0515 - acc: 0.9825 - val_loss: 0.0560 - val_acc: 0.9823\n",
      "Epoch 26/50\n",
      "48000/48000 [==============================] - 8s 159us/step - loss: 0.0495 - acc: 0.9841 - val_loss: 0.0555 - val_acc: 0.9821\n",
      "Epoch 27/50\n",
      "48000/48000 [==============================] - 7s 149us/step - loss: 0.0475 - acc: 0.9851 - val_loss: 0.0549 - val_acc: 0.9825\n",
      "Epoch 28/50\n",
      "48000/48000 [==============================] - 7s 149us/step - loss: 0.0479 - acc: 0.9844 - val_loss: 0.0538 - val_acc: 0.9827\n",
      "Epoch 29/50\n",
      "48000/48000 [==============================] - 7s 152us/step - loss: 0.0447 - acc: 0.9854 - val_loss: 0.0539 - val_acc: 0.9824\n",
      "Epoch 30/50\n",
      "48000/48000 [==============================] - 7s 151us/step - loss: 0.0437 - acc: 0.9856 - val_loss: 0.0526 - val_acc: 0.9825\n",
      "Epoch 31/50\n",
      "48000/48000 [==============================] - 7s 155us/step - loss: 0.0422 - acc: 0.9858 - val_loss: 0.0530 - val_acc: 0.9827\n",
      "Epoch 32/50\n",
      "48000/48000 [==============================] - 7s 153us/step - loss: 0.0430 - acc: 0.9861 - val_loss: 0.0531 - val_acc: 0.9829\n",
      "Epoch 33/50\n",
      "48000/48000 [==============================] - 7s 147us/step - loss: 0.0402 - acc: 0.9866 - val_loss: 0.0513 - val_acc: 0.9834\n",
      "Epoch 34/50\n",
      "48000/48000 [==============================] - 7s 151us/step - loss: 0.0399 - acc: 0.9871 - val_loss: 0.0506 - val_acc: 0.9833\n",
      "Epoch 35/50\n",
      "48000/48000 [==============================] - 7s 149us/step - loss: 0.0377 - acc: 0.9877 - val_loss: 0.0505 - val_acc: 0.9844\n",
      "Epoch 36/50\n",
      "48000/48000 [==============================] - 7s 150us/step - loss: 0.0378 - acc: 0.9874 - val_loss: 0.0495 - val_acc: 0.9839\n",
      "Epoch 37/50\n",
      "48000/48000 [==============================] - 7s 152us/step - loss: 0.0370 - acc: 0.9879 - val_loss: 0.0495 - val_acc: 0.9842\n",
      "Epoch 38/50\n",
      "48000/48000 [==============================] - 7s 155us/step - loss: 0.0367 - acc: 0.9881 - val_loss: 0.0500 - val_acc: 0.9842\n",
      "Epoch 39/50\n",
      "48000/48000 [==============================] - 7s 152us/step - loss: 0.0350 - acc: 0.9880 - val_loss: 0.0497 - val_acc: 0.9838\n",
      "Epoch 40/50\n",
      "48000/48000 [==============================] - 7s 151us/step - loss: 0.0355 - acc: 0.9883 - val_loss: 0.0484 - val_acc: 0.9840\n",
      "Epoch 41/50\n",
      "48000/48000 [==============================] - 7s 149us/step - loss: 0.0339 - acc: 0.9886 - val_loss: 0.0495 - val_acc: 0.9841\n",
      "Epoch 42/50\n",
      "48000/48000 [==============================] - 8s 158us/step - loss: 0.0333 - acc: 0.9890 - val_loss: 0.0493 - val_acc: 0.9838\n",
      "Epoch 43/50\n",
      "48000/48000 [==============================] - 7s 146us/step - loss: 0.0334 - acc: 0.9895 - val_loss: 0.0482 - val_acc: 0.9844\n",
      "Epoch 44/50\n",
      "48000/48000 [==============================] - 7s 151us/step - loss: 0.0321 - acc: 0.9895 - val_loss: 0.0469 - val_acc: 0.9850\n",
      "Epoch 45/50\n",
      "48000/48000 [==============================] - 7s 150us/step - loss: 0.0311 - acc: 0.9896 - val_loss: 0.0498 - val_acc: 0.9837\n",
      "Epoch 46/50\n",
      "48000/48000 [==============================] - 7s 154us/step - loss: 0.0309 - acc: 0.9899 - val_loss: 0.0491 - val_acc: 0.9845\n",
      "Epoch 47/50\n",
      "48000/48000 [==============================] - 7s 148us/step - loss: 0.0293 - acc: 0.9903 - val_loss: 0.0488 - val_acc: 0.9842\n",
      "Epoch 48/50\n",
      "48000/48000 [==============================] - 7s 155us/step - loss: 0.0279 - acc: 0.9909 - val_loss: 0.0465 - val_acc: 0.9855\n",
      "Epoch 49/50\n",
      "48000/48000 [==============================] - 7s 148us/step - loss: 0.0294 - acc: 0.9907 - val_loss: 0.0477 - val_acc: 0.9850\n",
      "Epoch 50/50\n",
      "48000/48000 [==============================] - 7s 151us/step - loss: 0.0289 - acc: 0.9906 - val_loss: 0.0455 - val_acc: 0.9856\n"
     ]
    }
   ],
   "source": [
    "call=TensorBoard(log_dir=\"logs/run_mnist\",write_grads=True,histogram_freq=1,write_graph=True, \n",
    "                 write_images=True, embeddings_freq=0, embeddings_layer_names=None, embeddings_metadata=None)\n",
    "history = model.fit(x_train, y_train, batch_size=128, nb_epoch=50, validation_split = 0.2, verbose=1, \n",
    "                    callbacks=[call])"
   ]
  },
  {
   "cell_type": "code",
   "execution_count": 9,
   "metadata": {},
   "outputs": [
    {
     "name": "stdout",
     "output_type": "stream",
     "text": [
      "_________________________________________________________________\n",
      "Layer (type)                 Output Shape              Param #   \n",
      "=================================================================\n",
      "conv2d_1 (Conv2D)            (None, 28, 28, 6)         60        \n",
      "_________________________________________________________________\n",
      "activation_1 (Activation)    (None, 28, 28, 6)         0         \n",
      "_________________________________________________________________\n",
      "max_pooling2d_1 (MaxPooling2 (None, 14, 14, 6)         0         \n",
      "_________________________________________________________________\n",
      "conv2d_2 (Conv2D)            (None, 14, 14, 16)        2416      \n",
      "_________________________________________________________________\n",
      "activation_2 (Activation)    (None, 14, 14, 16)        0         \n",
      "_________________________________________________________________\n",
      "max_pooling2d_2 (MaxPooling2 (None, 7, 7, 16)          0         \n",
      "_________________________________________________________________\n",
      "conv2d_3 (Conv2D)            (None, 7, 7, 46)          36110     \n",
      "_________________________________________________________________\n",
      "dropout_1 (Dropout)          (None, 7, 7, 46)          0         \n",
      "_________________________________________________________________\n",
      "activation_3 (Activation)    (None, 7, 7, 46)          0         \n",
      "_________________________________________________________________\n",
      "max_pooling2d_3 (MaxPooling2 (None, 3, 3, 46)          0         \n",
      "_________________________________________________________________\n",
      "flatten_1 (Flatten)          (None, 414)               0         \n",
      "_________________________________________________________________\n",
      "dense_1 (Dense)              (None, 10)                4150      \n",
      "_________________________________________________________________\n",
      "activation_4 (Activation)    (None, 10)                0         \n",
      "=================================================================\n",
      "Total params: 42,736\n",
      "Trainable params: 42,736\n",
      "Non-trainable params: 0\n",
      "_________________________________________________________________\n"
     ]
    }
   ],
   "source": [
    "model.summary()"
   ]
  },
  {
   "cell_type": "markdown",
   "metadata": {},
   "source": [
    "# Testing The Model"
   ]
  },
  {
   "cell_type": "code",
   "execution_count": 10,
   "metadata": {
    "scrolled": true
   },
   "outputs": [
    {
     "name": "stdout",
     "output_type": "stream",
     "text": [
      "10000/10000 [==============================] - 0s 25us/step\n",
      "accuracy: 98.77%\n"
     ]
    }
   ],
   "source": [
    "(loss, accuracy) = model.evaluate(x_test, y_test, batch_size=128, verbose=1)\n",
    "print(\"accuracy: {:.2f}%\".format(accuracy * 100))"
   ]
  },
  {
   "cell_type": "markdown",
   "metadata": {},
   "source": [
    "# Part B - Visualization"
   ]
  },
  {
   "cell_type": "markdown",
   "metadata": {},
   "source": [
    "# Visualizing The Loss and Accuracy"
   ]
  },
  {
   "cell_type": "code",
   "execution_count": 11,
   "metadata": {},
   "outputs": [
    {
     "name": "stdout",
     "output_type": "stream",
     "text": [
      "['acc', 'loss', 'val_acc', 'val_loss']\n"
     ]
    },
    {
     "data": {
      "image/png": "[encoded data removed]",
      "text/plain": [
       "<matplotlib.figure.Figure at 0x7f12227ae350>"
      ]
     },
     "metadata": {
      "needs_background": "light"
     },
     "output_type": "display_data"
    },
    {
     "data": {
      "image/png": "[encoded data removed]",
      "text/plain": [
       "<matplotlib.figure.Figure at 0x7f12227d4d10>"
      ]
     },
     "metadata": {
      "needs_background": "light"
     },
     "output_type": "display_data"
    }
   ],
   "source": [
    "# list all data in history\n",
    "print(history.history.keys())\n",
    "# summarize history for accuracy\n",
    "plt.plot(history.history['acc'])\n",
    "plt.plot(history.history['val_acc'])\n",
    "plt.title('model accuracy')\n",
    "plt.ylabel('accuracy')\n",
    "plt.xlabel('epoch')\n",
    "plt.legend(['train', 'test'], loc='lower right')\n",
    "plt.show()\n",
    "# summarize history for loss\n",
    "plt.plot(history.history['loss'])\n",
    "plt.plot(history.history['val_loss'])\n",
    "plt.title('model loss')\n",
    "plt.ylabel('loss')\n",
    "plt.xlabel('epoch')\n",
    "plt.legend(['train', 'test'], loc='upper right')\n",
    "plt.show()"
   ]
  },
  {
   "cell_type": "code",
   "execution_count": 13,
   "metadata": {},
   "outputs": [],
   "source": [
    "def nice_imshow(ax, data, vmin=None, vmax=None, cmap=None):\n",
    "    \"\"\"Wrapper around pl.imshow\"\"\"\n",
    "    if cmap is None:\n",
    "        cmap = cm.jet\n",
    "    if vmin is None:\n",
    "        vmin = data.min()\n",
    "    if vmax is None:\n",
    "        vmax = data.max()\n",
    "    divider = make_axes_locatable(ax)\n",
    "    cax = divider.append_axes(\"right\", size=\"5%\", pad=0.05)\n",
    "    im = ax.imshow(data, vmin=vmin, vmax=vmax, interpolation='nearest', cmap=cmap)\n",
    "    pl.colorbar(im, cax=cax)"
   ]
  },
  {
   "cell_type": "code",
   "execution_count": 14,
   "metadata": {},
   "outputs": [
    {
     "data": {
      "image/png": "[encoded data removed]",
      "text/plain": [
       "<matplotlib.figure.Figure at 0x7f11fc135f10>"
      ]
     },
     "metadata": {
      "needs_background": "light"
     },
     "output_type": "display_data"
    }
   ],
   "source": [
    "i = 4600\n",
    "\n",
    "# Visualize the first layer of convolutions on an input image\n",
    "X = test_data[i:i+1]\n",
    "\n",
    "plt.figure()\n",
    "plt.title('input')\n",
    "nice_imshow(pl.gca(), np.squeeze(X), vmin=0, vmax=1, cmap=cm.binary)"
   ]
  },
  {
   "cell_type": "markdown",
   "metadata": {},
   "source": [
    "# Weight Visualization"
   ]
  },
  {
   "cell_type": "code",
   "execution_count": 20,
   "metadata": {},
   "outputs": [],
   "source": [
    "# choose any image to want by specifying the index\n",
    "img_to_visualize = x_train[65]\n",
    "# Keras requires the image to be in 4D\n",
    "# So we add an extra dimension to it.\n",
    "img_to_visualize = np.expand_dims(img_to_visualize, axis=0)"
   ]
  },
  {
   "cell_type": "code",
   "execution_count": 21,
   "metadata": {},
   "outputs": [],
   "source": [
    "def layer_to_visualize(layer):\n",
    "    inputs = [K.learning_phase()] + model.inputs\n",
    "\n",
    "    _convout1_f = K.function(inputs, [layer.output])\n",
    "    def convout1_f(X):\n",
    "        # The [0] is to disable the training phase flag\n",
    "        return _convout1_f([0] + [X])\n",
    "\n",
    "    convolutions = convout1_f(img_to_visualize)\n",
    "    convolutions = np.squeeze(convolutions)\n",
    "\n",
    "    print ('Shape of conv:', convolutions.shape)\n",
    "    \n",
    "    n = convolutions.shape[0]\n",
    "    n = int(np.ceil(np.sqrt(n)))\n",
    "    \n",
    "    # Visualization of each filter of the layer\n",
    "    fig = plt.figure(figsize=(12,8))\n",
    "    for i in range(len(convolutions)):\n",
    "        ax = fig.add_subplot(n,n,i+1)\n",
    "        ax.imshow(convolutions[i], cmap='gray')"
   ]
  },
  {
   "cell_type": "code",
   "execution_count": 23,
   "metadata": {},
   "outputs": [
    {
     "name": "stdout",
     "output_type": "stream",
     "text": [
      "('Shape of conv:', (28, 28, 6))\n"
     ]
    },
    {
     "data": {
      "image/png": "[encoded data removed]",
      "text/plain": [
       "<matplotlib.figure.Figure at 0x7f1220080cd0>"
      ]
     },
     "metadata": {
      "needs_background": "light"
     },
     "output_type": "display_data"
    }
   ],
   "source": [
    "# Specify the layer to want to visualize\n",
    "layer_to_visualize(conv1)"
   ]
  },
  {
   "cell_type": "code",
   "execution_count": 24,
   "metadata": {},
   "outputs": [
    {
     "name": "stdout",
     "output_type": "stream",
     "text": [
      "('Shape of conv:', (14, 14, 16))\n"
     ]
    },
    {
     "data": {
      "image/png": "[encoded data removed]",
      "text/plain": [
       "<matplotlib.figure.Figure at 0x7f123dc24e50>"
      ]
     },
     "metadata": {
      "needs_background": "light"
     },
     "output_type": "display_data"
    }
   ],
   "source": [
    "layer_to_visualize(conv2)"
   ]
  },
  {
   "cell_type": "code",
   "execution_count": 25,
   "metadata": {},
   "outputs": [
    {
     "name": "stdout",
     "output_type": "stream",
     "text": [
      "('Shape of conv:', (7, 7, 46))\n"
     ]
    },
    {
     "data": {
      "image/png": "[encoded data removed]",
      "text/plain": [
       "<matplotlib.figure.Figure at 0x7f11e002aa90>"
      ]
     },
     "metadata": {
      "needs_background": "light"
     },
     "output_type": "display_data"
    }
   ],
   "source": [
    "layer_to_visualize(conv3)"
   ]
  },
  {
   "cell_type": "markdown",
   "metadata": {},
   "source": [
    "# Conclusion"
   ]
  },
  {
   "cell_type": "markdown",
   "metadata": {},
   "source": [
    "### The Model has 3 Convolution Layers using 6, 16 and 46 filters of sizes 3x3, 5x5 and 7x7 respectively each with Relu and Max pooling with  Dropout of 0.25 after the last convolution layer. Learning Rate is 0.0001 with nestrov momentum 0.9 using SGD as optimizer and utilizing categorical_crossentropy as loss while accuracy as a metric. The model has a Batch  Size of 128 with 30 epochs providing a Training Accuracy of 99.06% while Test Accuracy of 98.77%"
   ]
  }
 ],
 "metadata": {
  "kernelspec": {
   "display_name": "Python 2",
   "language": "python",
   "name": "python2"
  },
  "language_info": {
   "codemirror_mode": {
    "name": "ipython",
    "version": 2
   },
   "file_extension": ".py",
   "mimetype": "text/x-python",
   "name": "python",
   "nbconvert_exporter": "python",
   "pygments_lexer": "ipython2",
   "version": "2.7.13"
  }
 },
 "nbformat": 4,
 "nbformat_minor": 2
}
