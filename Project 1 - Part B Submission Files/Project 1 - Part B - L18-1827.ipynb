{
  "nbformat": 4,
  "nbformat_minor": 0,
  "metadata": {
    "colab": {
      "name": "Untitled4.ipynb",
      "version": "0.3.2",
      "provenance": [],
      "collapsed_sections": []
    },
    "kernelspec": {
      "name": "python3",
      "display_name": "Python 3"
    },
    "accelerator": "GPU"
  },
  "cells": [
    {
      "metadata": {
        "id": "ZVz1hcAabqMv",
        "colab_type": "code",
        "colab": {}
      },
      "cell_type": "code",
      "source": [
        "from __future__ import print_function\n",
        "import keras\n",
        "from keras.datasets import mnist\n",
        "from keras.models import Sequential\n",
        "from keras.layers import Dense, Dropout, Flatten\n",
        "from keras.layers import Conv2D, MaxPooling2D\n",
        "from keras import backend as K\n",
        "import matplotlib.pyplot as plt\n",
        "from keras.callbacks import TensorBoard\n",
        "import matplotlib\n",
        "import matplotlib.pyplot as plt\n",
        "import numpy as np\n",
        "from time import time\n"
      ],
      "execution_count": 0,
      "outputs": []
    },
    {
      "metadata": {
        "id": "hQArJf6kbrK6",
        "colab_type": "code",
        "colab": {}
      },
      "cell_type": "code",
      "source": [
        "batch_size = 128\n",
        "num_classes = 10\n",
        "epochs = 10\n",
        "# input image dimensions\n",
        "img_rows, img_cols = 28, 28"
      ],
      "execution_count": 0,
      "outputs": []
    },
    {
      "metadata": {
        "id": "VzwWGZOsbzT5",
        "colab_type": "code",
        "colab": {
          "base_uri": "https://localhost:8080/",
          "height": 51
        },
        "outputId": "09e9fb8a-7eab-4051-86ce-4f701940ed48"
      },
      "cell_type": "code",
      "source": [
        "# the data, split between train and test sets\n",
        "(x_train, y_train), (x_test, y_test) = mnist.load_data()"
      ],
      "execution_count": 3,
      "outputs": [
        {
          "output_type": "stream",
          "text": [
            "Downloading data from https://s3.amazonaws.com/img-datasets/mnist.npz\n",
            "11493376/11490434 [==============================] - 1s 0us/step\n"
          ],
          "name": "stdout"
        }
      ]
    },
    {
      "metadata": {
        "id": "LAerNAmtb2tT",
        "colab_type": "code",
        "outputId": "729cd78a-7bc0-44b7-cbf2-a4198e7ae3ca",
        "colab": {
          "base_uri": "https://localhost:8080/",
          "height": 68
        }
      },
      "cell_type": "code",
      "source": [
        "# the data, split between train and test sets\n",
        "(x_train, y_train), (x_test, y_test) = mnist.load_data()\n",
        "\n",
        "if K.image_data_format() == 'channels_first':\n",
        "    x_train = x_train.reshape(x_train.shape[0], 1, img_rows, img_cols)\n",
        "    x_test = x_test.reshape(x_test.shape[0], 1, img_rows, img_cols)\n",
        "    input_shape = (1, img_rows, img_cols)\n",
        "else:\n",
        "    x_train = x_train.reshape(x_train.shape[0], img_rows, img_cols, 1)\n",
        "    x_test = x_test.reshape(x_test.shape[0], img_rows, img_cols, 1)\n",
        "    input_shape = (img_rows, img_cols, 1)\n",
        "\n",
        "x_train = x_train.astype('float32')\n",
        "x_test = x_test.astype('float32')\n",
        "x_train /= 255\n",
        "x_test /= 255\n",
        "print('x_train shape:', x_train.shape)\n",
        "print(x_train.shape[0], 'train samples')\n",
        "print(x_test.shape[0], 'test samples')"
      ],
      "execution_count": 4,
      "outputs": [
        {
          "output_type": "stream",
          "text": [
            "x_train shape: (60000, 28, 28, 1)\n",
            "60000 train samples\n",
            "10000 test samples\n"
          ],
          "name": "stdout"
        }
      ]
    },
    {
      "metadata": {
        "id": "w3zgm6WSb4pl",
        "colab_type": "code",
        "colab": {}
      },
      "cell_type": "code",
      "source": [
        "# convert class vectors to binary class matrices\n",
        "y_train = keras.utils.to_categorical(y_train, num_classes)\n",
        "y_test = keras.utils.to_categorical(y_test, num_classes)"
      ],
      "execution_count": 0,
      "outputs": []
    },
    {
      "metadata": {
        "id": "z_tLhGh3b6NE",
        "colab_type": "code",
        "outputId": "bd663933-b398-43a7-89c8-aa3de365d6f6",
        "colab": {
          "base_uri": "https://localhost:8080/",
          "height": 2960
        }
      },
      "cell_type": "code",
      "source": [
        "#tbCallBack = keras.callbacks.TensorBoard(log_dir='./Graph', histogram_freq=2, write_graph=True, write_images=True)\n",
        "callback=[keras.callbacks.TensorBoard(log_dir=\"/tmp/mnist/2\".format(time()), histogram_freq=1, write_graph=True, write_images=True)]\n",
        "\n",
        "model = Sequential()\n",
        "model.add(Conv2D(64, kernel_size=(3, 3),\n",
        "                 activation='relu',\n",
        "                 input_shape=input_shape))\n",
        "model.add(Conv2D(64, (3, 3), activation='relu'))\n",
        "model.add(Conv2D(128, (3, 3), activation='relu'))\n",
        "model.add(MaxPooling2D(pool_size=(2, 2)))\n",
        "model.add(MaxPooling2D(pool_size=(2, 2)))\n",
        "model.add(MaxPooling2D(pool_size=(2, 2)))\n",
        "model.add(Flatten())\n",
        "model.add(Dense(128, activation='relu'))\n",
        "model.add(Dropout(0.25))\n",
        "model.add(Dense(num_classes, activation='softmax'))\n",
        "\n",
        "model.compile(loss=keras.losses.categorical_crossentropy,\n",
        "              optimizer=keras.optimizers.Adadelta(),\n",
        "              metrics=['accuracy'])\n",
        "\n",
        "X = model.fit(x_train, y_train,\n",
        "          batch_size=batch_size,\n",
        "          epochs=epochs,\n",
        "          verbose=1,\n",
        "          validation_data=(x_test, y_test),\n",
        "          callbacks=callback)\n",
        "\n",
        "plt.plot(X.history['loss'])\n",
        "plt.plot(X.history['val_loss'])\n",
        "plt.title('model loss')\n",
        "plt.ylabel('loss')\n",
        "plt.xlabel('epoch')\n",
        "plt.legend(['train', 'validation'], loc='upper left')\n",
        "plt.show()\n",
        "\n",
        "\n",
        "weights, biases = model.layers[0].get_weights()\n",
        "\n",
        "print(\"Weights\\n\")\n",
        "print(weights)\n",
        "\n",
        "score = model.evaluate(x_test, y_test, verbose=0)\n",
        "print('Test loss:', score[0])\n",
        "print('Test accuracy:', score[1])"
      ],
      "execution_count": 12,
      "outputs": [
        {
          "output_type": "stream",
          "text": [
            "Train on 60000 samples, validate on 10000 samples\n",
            "Epoch 1/10\n",
            "60000/60000 [==============================] - 21s 351us/step - loss: 0.3508 - acc: 0.8880 - val_loss: 0.1011 - val_acc: 0.9665\n",
            "Epoch 2/10\n",
            "60000/60000 [==============================] - 18s 300us/step - loss: 0.0878 - acc: 0.9720 - val_loss: 0.0541 - val_acc: 0.9840\n",
            "Epoch 3/10\n",
            "60000/60000 [==============================] - 18s 299us/step - loss: 0.0623 - acc: 0.9811 - val_loss: 0.0555 - val_acc: 0.9826\n",
            "Epoch 4/10\n",
            "60000/60000 [==============================] - 18s 299us/step - loss: 0.0516 - acc: 0.9847 - val_loss: 0.0398 - val_acc: 0.9882\n",
            "Epoch 5/10\n",
            "60000/60000 [==============================] - 18s 297us/step - loss: 0.0434 - acc: 0.9871 - val_loss: 0.0452 - val_acc: 0.9862\n",
            "Epoch 6/10\n",
            "60000/60000 [==============================] - 18s 299us/step - loss: 0.0370 - acc: 0.9883 - val_loss: 0.0362 - val_acc: 0.9893\n",
            "Epoch 7/10\n",
            "60000/60000 [==============================] - 18s 300us/step - loss: 0.0329 - acc: 0.9901 - val_loss: 0.0383 - val_acc: 0.9885\n",
            "Epoch 8/10\n",
            "60000/60000 [==============================] - 18s 300us/step - loss: 0.0296 - acc: 0.9907 - val_loss: 0.0339 - val_acc: 0.9886\n",
            "Epoch 9/10\n",
            "60000/60000 [==============================] - 18s 297us/step - loss: 0.0260 - acc: 0.9918 - val_loss: 0.0324 - val_acc: 0.9900\n",
            "Epoch 10/10\n",
            "60000/60000 [==============================] - 18s 299us/step - loss: 0.0245 - acc: 0.9925 - val_loss: 0.0408 - val_acc: 0.9888\n"
          ],
          "name": "stdout"
        },
        {
          "output_type": "display_data",
          "data": {
            "image/png": "[encoded data removed]",
            "text/plain": [
              "<matplotlib.figure.Figure at 0x7f11a912b4e0>"
            ]
          },
          "metadata": {
            "tags": []
          }
        },
        {
          "output_type": "stream",
          "text": [
            "Weights\n",
            "\n",
            "[[[[ 0.03613919  0.00352409  0.06384614 -0.17470522  0.01141953\n",
            "     0.07617267  0.13755539  0.03748018  0.11455178  0.03918156\n",
            "     0.0188264   0.13416223  0.15704279 -0.10288538 -0.15246865\n",
            "    -0.0120285   0.13612472 -0.00861418  0.11561644  0.12819444\n",
            "     0.10930726 -0.13405037 -0.07137177  0.06091807 -0.00063375\n",
            "    -0.27053827  0.00504355  0.10691752 -0.09043585 -0.04295158\n",
            "     0.12877497  0.10848976 -0.02116152  0.05157169  0.08394162\n",
            "    -0.20078278 -0.0987035  -0.07210377 -0.01290844  0.1566917\n",
            "     0.13877554 -0.01023292 -0.13158153 -0.14880803 -0.112618\n",
            "     0.07085345 -0.00336795  0.12111402 -0.09663402  0.2284403\n",
            "     0.10788566  0.05843697 -0.05630746 -0.14925079  0.14128605\n",
            "    -0.03927135 -0.12953176  0.10959657  0.03122541  0.02804468\n",
            "     0.12215278  0.02781862 -0.14455779 -0.07800733]]\n",
            "\n",
            "  [[ 0.08642105 -0.10130075 -0.13230786 -0.1082884  -0.08351681\n",
            "     0.0295016   0.09327652 -0.09688108 -0.02370043 -0.00939369\n",
            "     0.02999429  0.09317163  0.02203511 -0.01100316 -0.12060755\n",
            "     0.08917056 -0.04124988 -0.05969624 -0.12510112  0.14831844\n",
            "    -0.03994917 -0.17843714  0.04775802 -0.1257622  -0.17828606\n",
            "    -0.1364207  -0.09834553 -0.05660057  0.04238392 -0.03177949\n",
            "    -0.01215677 -0.0755256  -0.06747485 -0.02247701  0.09595593\n",
            "    -0.06794932 -0.18808731  0.05234464 -0.07990089  0.11576531\n",
            "     0.17851157  0.07597716  0.01111379 -0.08435003 -0.07226558\n",
            "     0.05724739  0.05894853  0.12664379 -0.14221841 -0.07586976\n",
            "     0.04845786  0.06374341 -0.14401521 -0.00784674 -0.08737911\n",
            "     0.11800767 -0.04888073  0.03738789 -0.05028732 -0.1501442\n",
            "     0.11179117 -0.1765849   0.04664697  0.07219074]]\n",
            "\n",
            "  [[-0.12775221 -0.06556912  0.00113443 -0.17983778 -0.12232784\n",
            "     0.23462893  0.13140555 -0.10140139 -0.08094624  0.03432206\n",
            "     0.08304603 -0.18686043 -0.16609633 -0.00422957  0.12768479\n",
            "     0.18909618 -0.07737709  0.01015591 -0.08023489  0.21023871\n",
            "    -0.21486636 -0.23831157 -0.05369158  0.02487452 -0.2825378\n",
            "     0.18176998 -0.28529006 -0.13518642  0.1579102   0.15028453\n",
            "     0.2022352   0.1707529   0.01902127  0.13592732  0.20219493\n",
            "     0.07794815  0.04786292 -0.11233453 -0.11480886 -0.15506408\n",
            "    -0.15853624  0.19263047 -0.05902177  0.07286981 -0.07799119\n",
            "    -0.22142562 -0.15872386  0.0160026  -0.07380518 -0.04336759\n",
            "     0.19133091  0.21230365  0.02021078 -0.06929859  0.07327013\n",
            "    -0.10910997 -0.12321168  0.07265333  0.06702155 -0.2051149\n",
            "    -0.0914176  -0.23248632  0.06937598 -0.06391469]]]\n",
            "\n",
            "\n",
            " [[[ 0.06603435 -0.08820507 -0.04237633 -0.12426341  0.15267998\n",
            "    -0.01869377  0.04368598 -0.0613458   0.10584679  0.08039011\n",
            "    -0.04172366 -0.07406551  0.03997667 -0.08808728 -0.17837854\n",
            "    -0.09957456  0.1584795   0.00299854  0.12821214 -0.05341425\n",
            "     0.1835539   0.08052541 -0.00712173 -0.16149811  0.25237915\n",
            "    -0.1349325   0.05047033 -0.06574449 -0.01422009  0.1135222\n",
            "     0.03468841  0.1282068  -0.01327043  0.12650736  0.07855013\n",
            "     0.01507877 -0.11152139  0.093216   -0.17159005  0.15903433\n",
            "     0.10308932 -0.02944378 -0.14666967 -0.11981028 -0.1272539\n",
            "     0.07031343  0.00876727  0.13937539  0.01855248  0.17057803\n",
            "    -0.03900771 -0.14632145 -0.07992009 -0.11195596  0.0218018\n",
            "    -0.19538394 -0.05646986 -0.00470881 -0.12211939  0.12745292\n",
            "     0.09691504  0.16287239 -0.0762586   0.13608417]]\n",
            "\n",
            "  [[ 0.06032607 -0.07254545 -0.00362156 -0.18800543 -0.05616143\n",
            "    -0.02427897  0.13974288 -0.0028507  -0.02737792 -0.09006028\n",
            "     0.04659009  0.05175331  0.08337015  0.00797311  0.06128443\n",
            "    -0.07923879 -0.09042675 -0.07247349 -0.11298301 -0.03942577\n",
            "    -0.05696894 -0.06880541 -0.06004655 -0.12164535 -0.0747238\n",
            "     0.08091203  0.04612197  0.03398704 -0.05160493  0.15867092\n",
            "     0.03319204  0.04880327  0.01203538  0.01233965  0.0489266\n",
            "     0.05064322 -0.02557248  0.0716977  -0.03096593 -0.01963157\n",
            "    -0.04504403  0.09267427 -0.12466613  0.0708149  -0.08643442\n",
            "     0.03397281 -0.07588525  0.07121593  0.05679893  0.09710253\n",
            "    -0.02971555 -0.13670473  0.07401319 -0.0243818  -0.08925635\n",
            "     0.04753524  0.02197231  0.04647161 -0.02746445  0.01345502\n",
            "    -0.06705156  0.08314977  0.14416689 -0.03124039]]\n",
            "\n",
            "  [[-0.1808117   0.07743215  0.12136175 -0.00247454 -0.1340705\n",
            "     0.18254408 -0.08049223  0.17375925 -0.22827956  0.06678726\n",
            "     0.19569184 -0.15418862  0.0428707  -0.01994694  0.11732044\n",
            "     0.24743937 -0.3029917   0.0212337   0.07256805  0.05174373\n",
            "    -0.22480707 -0.03452265 -0.04904267  0.09769434 -0.20375423\n",
            "     0.24694854  0.03244817 -0.11283647  0.26452824 -0.00425774\n",
            "     0.11781733  0.01455168  0.07870939 -0.04161477  0.00073629\n",
            "     0.11979964  0.12844256 -0.04127045  0.11872353 -0.17577629\n",
            "    -0.19350585  0.1958083  -0.20537825  0.09994593 -0.0335531\n",
            "    -0.09391903  0.1980816  -0.22148071 -0.03478688 -0.06090052\n",
            "     0.13488926  0.03163407 -0.12363794 -0.12781191 -0.15115666\n",
            "     0.02325711  0.08749668  0.00325007  0.24874663 -0.208094\n",
            "     0.01265831 -0.13463235 -0.06916443  0.04669919]]]\n",
            "\n",
            "\n",
            " [[[ 0.23306131  0.01032318  0.02272244 -0.19622391  0.03302771\n",
            "    -0.01187752 -0.05290393 -0.00344811  0.2560872   0.16406874\n",
            "    -0.12526631  0.09535764  0.16931383  0.21105257  0.05037458\n",
            "    -0.21904346  0.23194295  0.02768095 -0.06423078 -0.10515412\n",
            "     0.19388524  0.17692578 -0.08258652 -0.01091063  0.15182726\n",
            "     0.06989296  0.11267995  0.1891175  -0.18528119 -0.16355751\n",
            "    -0.04751685  0.05156051  0.21362802 -0.00556737 -0.18268678\n",
            "    -0.00240748  0.0521593   0.27313286  0.04253075  0.20420189\n",
            "     0.17845875 -0.08188688 -0.185918   -0.165857    0.06852479\n",
            "     0.23413837 -0.14874896  0.13507374 -0.11312266  0.0067543\n",
            "    -0.18394317 -0.1350521   0.24902426  0.18675348  0.2043326\n",
            "    -0.19680487  0.05047582 -0.05403204 -0.23050039  0.01604952\n",
            "     0.13058008  0.20665391  0.09327088  0.27834457]]\n",
            "\n",
            "  [[-0.06310151 -0.06712489 -0.02600925  0.0595087   0.13137083\n",
            "    -0.00141399 -0.23326777  0.10142908  0.11809091  0.05955356\n",
            "    -0.1020867  -0.01269912 -0.02450105  0.23061155  0.08024496\n",
            "    -0.1011815   0.15802462  0.00183748  0.04338945 -0.1765169\n",
            "     0.06990957  0.12205135 -0.09405751  0.09632406  0.2042651\n",
            "     0.01649037  0.04883963  0.23698643 -0.02849446 -0.07862963\n",
            "    -0.04330283 -0.09493835  0.21384816 -0.12058445 -0.13716312\n",
            "     0.0365633   0.15323529  0.13665867  0.1642117  -0.08275818\n",
            "    -0.0853939  -0.0411916  -0.12480076 -0.03650757  0.08007937\n",
            "     0.07802849  0.06545056 -0.16829564  0.20254594 -0.14581425\n",
            "    -0.17437644 -0.14900388  0.22578576 -0.00864618  0.03761272\n",
            "     0.12121932  0.09242553 -0.04940926 -0.0330298   0.12698483\n",
            "     0.01125535  0.2690709  -0.02775262  0.01824288]]\n",
            "\n",
            "  [[-0.17786787 -0.03590561  0.1640674   0.08313513 -0.08485261\n",
            "    -0.05727869 -0.21777801  0.4162844   0.04777167 -0.16244964\n",
            "    -0.0186441   0.18627456 -0.11064865 -0.02378862  0.02235898\n",
            "     0.00341181 -0.01811014 -0.09579206  0.08091525 -0.19927722\n",
            "    -0.06693712  0.23742527  0.10544453  0.36255458  0.05335601\n",
            "    -0.02587279  0.26557577  0.01977267  0.06597264 -0.18555239\n",
            "    -0.0853646  -0.25891662  0.37932718 -0.22023115 -0.17800441\n",
            "     0.03582348  0.17694557 -0.13939445  0.30436692 -0.19697382\n",
            "    -0.2268852  -0.18789144 -0.24431239 -0.00299004  0.01754463\n",
            "     0.12779224  0.33362162 -0.3302794   0.32667208 -0.05450211\n",
            "    -0.05019995 -0.09762975  0.10108546  0.11101136 -0.01590995\n",
            "     0.28055     0.29809427 -0.00795283  0.23288909  0.1583803\n",
            "    -0.23300056 -0.01447249 -0.22860177 -0.21039331]]]]\n",
            "Test loss: 0.04082656102098772\n",
            "Test accuracy: 0.9888\n"
          ],
          "name": "stdout"
        }
      ]
    },
    {
      "metadata": {
        "id": "Dea5rccYb9xv",
        "colab_type": "code",
        "outputId": "dec0bdf3-08ba-4b01-ac6c-72d52a0cc461",
        "colab": {
          "base_uri": "https://localhost:8080/",
          "height": 85
        }
      },
      "cell_type": "code",
      "source": [
        "LOG_DIR = '/tmp/mnist/2'\n",
        "get_ipython().system_raw(\n",
        "    'tensorboard --logdir {} --host 0.0.0.0 --port 6006 &'\n",
        "    .format(LOG_DIR)\n",
        ")\n",
        "# Install\n",
        "! npm install -g localtunnel\n",
        "\n",
        "# Tunnel port 6006 (TensorBoard assumed running)\n",
        "get_ipython().system_raw('lt --port 6006 >> url.txt 2>&1 &')\n",
        "\n",
        "# Get url\n",
        "! cat url.txt"
      ],
      "execution_count": 13,
      "outputs": [
        {
          "output_type": "stream",
          "text": [
            "\u001b[K\u001b[?25h/tools/node/bin/lt -> /tools/node/lib/node_modules/localtunnel/bin/client\n",
            "\u001b[K\u001b[?25h+ localtunnel@1.9.1\n",
            "added 54 packages from 31 contributors in 4.984s\n",
            "your url is: https://young-dog-46.localtunnel.me\n"
          ],
          "name": "stdout"
        }
      ]
    },
    {
      "metadata": {
        "id": "l11rMOJOdnfX",
        "colab_type": "code",
        "outputId": "c2f6a8a5-c1ba-453f-ced9-782ac1e4cab2",
        "colab": {
          "base_uri": "https://localhost:8080/",
          "height": 289
        }
      },
      "cell_type": "code",
      "source": [
        "weights, biases = model.layers[0].get_weights()\n",
        "print(biases)"
      ],
      "execution_count": 0,
      "outputs": [
        {
          "output_type": "stream",
          "text": [
            "[ 5.2305091e-02  4.2329561e-02  2.2895745e-04  5.2398529e-02\n",
            " -1.6769962e-03  3.7942608e-03  5.2037787e-02  3.5299581e-02\n",
            "  7.9607598e-02 -8.6277332e-03 -4.2480580e-03 -2.0624446e-03\n",
            "  4.5489490e-02  7.3770866e-02 -1.6724458e-03  4.3317840e-02\n",
            "  9.3861036e-02  1.4329603e-01  9.3229800e-02 -1.9087589e-03\n",
            "  2.5267934e-03  7.8527488e-02  2.6613273e-02  6.3304435e-03\n",
            "  9.8840922e-02  5.2497875e-02 -1.0301483e-02  3.7837710e-04\n",
            "  2.7502151e-02  3.6927410e-03  5.5295322e-03 -2.1472098e-03\n",
            "  1.2749669e-01 -5.4282760e-03 -5.0160423e-05  2.5811609e-02\n",
            "  6.6094242e-02  1.5407995e-02 -6.3875001e-03 -5.9412839e-03\n",
            " -5.2355146e-03  9.5629036e-02  1.6479639e-03  6.5808021e-03\n",
            "  3.2558650e-02  5.9396092e-02  2.5926530e-03  4.3830305e-02\n",
            " -6.6156511e-04  4.5381743e-02  7.1374851e-04  3.6877085e-02\n",
            " -2.3744851e-03 -3.5023768e-03 -4.4187387e-03  1.6534025e-03\n",
            "  2.8542482e-04  2.2166800e-03  5.5086050e-02  2.9888425e-02\n",
            "  7.4517909e-03  3.2116991e-02 -1.0055948e-02 -2.2171314e-03]\n"
          ],
          "name": "stdout"
        }
      ]
    },
    {
      "metadata": {
        "id": "AWHLWyCMdpYB",
        "colab_type": "code",
        "colab": {}
      },
      "cell_type": "code",
      "source": [
        "def plot_weights(layers,x,y):\n",
        "  weights, biases = model.layers[0].get_weights()\n",
        "  \n",
        "  fig = plt.figure(figsize=(106,108), dpi=80)\n",
        "  \n",
        "  for j in range(len(weights)):\n",
        "    ax = fig.add_subplot(y,x,j+1)\n",
        "    ax.matshow(weights[j][0], cmap = matplotlib.cm.binary)\n",
        "    \n",
        "    plt.xticks(np.array([]))\n",
        "    plt.yticks(np.array([]))\n",
        "    plt.rcParams['figure.figsize'] = 4.5, 4.\n",
        "    plt.tight_layout(pad=0.4, w_pad=0.5, h_pad=1.0)\n",
        "    return plt\n",
        "  \n"
      ],
      "execution_count": 0,
      "outputs": []
    },
    {
      "metadata": {
        "id": "GoAcaF4sgJG0",
        "colab_type": "code",
        "outputId": "0cedcf7d-f519-4570-d2c8-0f09d6396ecb",
        "colab": {
          "base_uri": "https://localhost:8080/",
          "height": 66
        }
      },
      "cell_type": "code",
      "source": [
        "plot_weights(model.layers[0],8,4)"
      ],
      "execution_count": 0,
      "outputs": [
        {
          "output_type": "execute_result",
          "data": {
            "text/plain": [
              "<module 'matplotlib.pyplot' from '/usr/local/lib/python3.6/dist-packages/matplotlib/pyplot.py'>"
            ]
          },
          "metadata": {
            "tags": []
          },
          "execution_count": 88
        },
        {
          "output_type": "display_data",
          "data": {
            "image/png": "[encoded data removed]",
            "text/plain": [
              "<matplotlib.figure.Figure at 0x7fbfcb9a7eb8>"
            ]
          },
          "metadata": {
            "tags": []
          }
        }
      ]
    },
    {
      "metadata": {
        "id": "ul-cyi2OlQt2",
        "colab_type": "code",
        "colab": {}
      },
      "cell_type": "code",
      "source": [
        ""
      ],
      "execution_count": 0,
      "outputs": []
    }
  ]
}