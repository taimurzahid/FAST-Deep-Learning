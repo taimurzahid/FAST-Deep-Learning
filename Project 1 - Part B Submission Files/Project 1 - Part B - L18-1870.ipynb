{
  "nbformat": 4,
  "nbformat_minor": 0,
  "metadata": {
    "colab": {
      "name": "Project2_Mnist.ipynb",
      "version": "0.3.2",
      "provenance": [],
      "collapsed_sections": []
    },
    "kernelspec": {
      "name": "python3",
      "display_name": "Python 3"
    },
    "accelerator": "GPU"
  },
  "cells": [
    {
      "metadata": {
        "id": "wLxUQ0_UK6-G",
        "colab_type": "code",
        "colab": {
          "base_uri": "https://localhost:8080/",
          "height": 34
        },
        "outputId": "d28e6ebc-6f84-40a5-fce7-4cce8e023b41"
      },
      "cell_type": "code",
      "source": [
        "#from __future__ import print_function\n",
        "import keras\n",
        "from keras.datasets import mnist\n",
        "from keras.models import Sequential\n",
        "from keras.layers import Dense, Dropout, Flatten\n",
        "from keras.layers import Conv2D, MaxPooling2D\n",
        "from keras import backend as K\n",
        "import matplotlib.pyplot as plt"
      ],
      "execution_count": 1,
      "outputs": [
        {
          "output_type": "stream",
          "text": [
            "Using TensorFlow backend.\n"
          ],
          "name": "stderr"
        }
      ]
    },
    {
      "metadata": {
        "id": "MYZ0uvNDBYRw",
        "colab_type": "text"
      },
      "cell_type": "markdown",
      "source": [
        "This is **Part A** till the **Part B** text appears later down the order.\n",
        "\n",
        "*   Three convolutional layers with 32, 64, 64 filters respectively\n",
        "*   2 pooling layers\n",
        "*   15 epochs\n",
        "\n",
        "\n",
        "\n"
      ]
    },
    {
      "metadata": {
        "id": "UEfUh_mFLD-i",
        "colab_type": "code",
        "outputId": "18f403f9-5cc6-4370-8627-50ea2907ccb1",
        "colab": {
          "base_uri": "https://localhost:8080/",
          "height": 67
        }
      },
      "cell_type": "code",
      "source": [
        "batch_size = 128\n",
        "num_classes = 10\n",
        "epochs = 15\n",
        "\n",
        "img_rows, img_cols = 28, 28\n",
        "\n",
        "\n",
        "(x_train, y_train), (x_test, y_test) = mnist.load_data()\n",
        "\n",
        "tbCallBack = keras.callbacks.TensorBoard(log_dir='./Graph', histogram_freq=2, write_graph=True, write_images=True)\n",
        "\n",
        "if K.image_data_format() == 'channels_first':\n",
        "    x_train = x_train.reshape(x_train.shape[0], 1, img_rows, img_cols)\n",
        "    x_test = x_test.reshape(x_test.shape[0], 1, img_rows, img_cols)\n",
        "    input_shape = (1, img_rows, img_cols)\n",
        "else:\n",
        "    x_train = x_train.reshape(x_train.shape[0], img_rows, img_cols, 1)\n",
        "    x_test = x_test.reshape(x_test.shape[0], img_rows, img_cols, 1)\n",
        "    input_shape = (img_rows, img_cols, 1)\n",
        "\n",
        "x_train = x_train.astype('float32')\n",
        "x_test = x_test.astype('float32')\n",
        "x_train /= 255\n",
        "x_test /= 255\n",
        "print('x_train shape:', x_train.shape)\n",
        "print(x_train.shape[0], 'train samples')\n",
        "print(x_test.shape[0], 'test samples')\n",
        "\n",
        "y_train = keras.utils.to_categorical(y_train, num_classes)\n",
        "y_test = keras.utils.to_categorical(y_test, num_classes)\n",
        "\n",
        "model = Sequential()\n",
        "model.add(Conv2D(32, kernel_size=(3, 3),\n",
        "                 activation='relu',\n",
        "                 input_shape=input_shape))\n",
        "\n",
        "model.add(Conv2D(64, (3, 3), activation='relu'))\n",
        "model.add(Conv2D(64, (5, 5), activation='relu'))\n",
        "model.add(MaxPooling2D(pool_size=(2, 2)))\n",
        "model.add(MaxPooling2D(pool_size=(2, 2)))\n",
        "model.add(Flatten())\n",
        "model.add(Dense(128, activation='relu'))\n",
        "model.add(Dropout(0.25))\n",
        "model.add(Dense(num_classes, activation='softmax'))\n",
        "\n",
        "model.compile(loss=keras.losses.categorical_crossentropy,\n",
        "              optimizer=keras.optimizers.Adadelta(),\n",
        "              metrics=['accuracy'])"
      ],
      "execution_count": 5,
      "outputs": [
        {
          "output_type": "stream",
          "text": [
            "x_train shape: (60000, 28, 28, 1)\n",
            "60000 train samples\n",
            "10000 test samples\n"
          ],
          "name": "stdout"
        }
      ]
    },
    {
      "metadata": {
        "id": "R4UxqSTtAmln",
        "colab_type": "text"
      },
      "cell_type": "markdown",
      "source": [
        "**Part B:** A callback to the tensorboard via keras is given by adding a callback \"tbCallBack = keras.callbacks.TensorBoard(log_dir='./Graph', histogram_freq=2, write_graph=True, write_images=True)\" in the fit function.\n",
        "\n",
        "\n",
        "Error vs Epochs graph is given down below, showing a clear reduction in training error over time\n"
      ]
    },
    {
      "metadata": {
        "id": "7BVa7h9gLJDR",
        "colab_type": "code",
        "outputId": "39091d73-b733-46dd-f039-11d115263b4e",
        "colab": {
          "base_uri": "https://localhost:8080/",
          "height": 1273
        }
      },
      "cell_type": "code",
      "source": [
        "history = model.fit(x_train, y_train,\n",
        "          batch_size=batch_size,\n",
        "          epochs=epochs,\n",
        "          verbose=1,\n",
        "          validation_data=(x_test, y_test),\n",
        "                   callbacks=[tbCallBack])\n",
        "score = model.evaluate(x_test, y_test, verbose=0)\n",
        "print(history.history.keys())\n",
        "# summarize history for accuracy\n",
        "plt.plot(history.history['acc'])\n",
        "plt.plot(history.history['val_acc'])\n",
        "plt.title('model accuracy')\n",
        "plt.ylabel('accuracy')\n",
        "plt.xlabel('epoch')\n",
        "plt.legend(['train', 'test'], loc='upper left')\n",
        "plt.show()\n",
        "# summarize history for loss\n",
        "plt.plot(history.history['loss'])\n",
        "plt.plot(history.history['val_loss'])\n",
        "plt.title('model loss')\n",
        "plt.ylabel('loss')\n",
        "plt.xlabel('epoch')\n",
        "plt.legend(['train', 'test'], loc='upper left')\n",
        "plt.show()"
      ],
      "execution_count": 6,
      "outputs": [
        {
          "output_type": "stream",
          "text": [
            "Train on 60000 samples, validate on 10000 samples\n",
            "Epoch 1/15\n",
            "60000/60000 [==============================] - 13s 213us/step - loss: 0.2001 - acc: 0.9364 - val_loss: 0.0466 - val_acc: 0.9862\n",
            "Epoch 2/15\n",
            "60000/60000 [==============================] - 13s 212us/step - loss: 0.0509 - acc: 0.9842 - val_loss: 0.0266 - val_acc: 0.9906\n",
            "Epoch 3/15\n",
            "60000/60000 [==============================] - 13s 213us/step - loss: 0.0367 - acc: 0.9889 - val_loss: 0.0257 - val_acc: 0.9915\n",
            "Epoch 4/15\n",
            "60000/60000 [==============================] - 13s 210us/step - loss: 0.0271 - acc: 0.9917 - val_loss: 0.0227 - val_acc: 0.9924\n",
            "Epoch 5/15\n",
            "60000/60000 [==============================] - 13s 209us/step - loss: 0.0219 - acc: 0.9930 - val_loss: 0.0276 - val_acc: 0.9908\n",
            "Epoch 6/15\n",
            "60000/60000 [==============================] - 13s 211us/step - loss: 0.0172 - acc: 0.9950 - val_loss: 0.0223 - val_acc: 0.9938\n",
            "Epoch 7/15\n",
            "60000/60000 [==============================] - 13s 212us/step - loss: 0.0158 - acc: 0.9952 - val_loss: 0.0252 - val_acc: 0.9930\n",
            "Epoch 8/15\n",
            "60000/60000 [==============================] - 13s 215us/step - loss: 0.0124 - acc: 0.9961 - val_loss: 0.0228 - val_acc: 0.9936\n",
            "Epoch 9/15\n",
            "60000/60000 [==============================] - 13s 211us/step - loss: 0.0107 - acc: 0.9965 - val_loss: 0.0229 - val_acc: 0.9942\n",
            "Epoch 10/15\n",
            "60000/60000 [==============================] - 13s 212us/step - loss: 0.0091 - acc: 0.9973 - val_loss: 0.0214 - val_acc: 0.9941\n",
            "Epoch 11/15\n",
            "60000/60000 [==============================] - 13s 211us/step - loss: 0.0086 - acc: 0.9971 - val_loss: 0.0221 - val_acc: 0.9945\n",
            "Epoch 12/15\n",
            "60000/60000 [==============================] - 13s 210us/step - loss: 0.0070 - acc: 0.9977 - val_loss: 0.0241 - val_acc: 0.9944\n",
            "Epoch 13/15\n",
            "60000/60000 [==============================] - 12s 208us/step - loss: 0.0070 - acc: 0.9977 - val_loss: 0.0233 - val_acc: 0.9941\n",
            "Epoch 14/15\n",
            "60000/60000 [==============================] - 13s 210us/step - loss: 0.0059 - acc: 0.9981 - val_loss: 0.0284 - val_acc: 0.9940\n",
            "Epoch 15/15\n",
            "60000/60000 [==============================] - 12s 206us/step - loss: 0.0057 - acc: 0.9981 - val_loss: 0.0250 - val_acc: 0.9937\n",
            "dict_keys(['val_loss', 'val_acc', 'loss', 'acc'])\n"
          ],
          "name": "stdout"
        },
        {
          "output_type": "display_data",
          "data": {
            "image/png": "[encoded data removed]",
            "text/plain": [
              "<matplotlib.figure.Figure at 0x7ff5d80cc6d8>"
            ]
          },
          "metadata": {
            "tags": []
          }
        },
        {
          "output_type": "display_data",
          "data": {
            "image/png": "[encoded data removed]",
            "text/plain": [
              "<matplotlib.figure.Figure at 0x7ff5b7127e48>"
            ]
          },
          "metadata": {
            "tags": []
          }
        }
      ]
    },
    {
      "metadata": {
        "id": "xkMD2o2tBW36",
        "colab_type": "text"
      },
      "cell_type": "markdown",
      "source": [
        ""
      ]
    },
    {
      "metadata": {
        "id": "3F-o-HdLLdXz",
        "colab_type": "code",
        "colab": {
          "base_uri": "https://localhost:8080/",
          "height": 85
        },
        "outputId": "f5380c37-c8c0-4955-bcf0-79c8c75e5e0c"
      },
      "cell_type": "code",
      "source": [
        "LOG_DIR = 'Graph'\n",
        "get_ipython().system_raw(\n",
        "    'tensorboard --logdir {} --host 0.0.0.0 --port 6006 &'\n",
        "    .format(LOG_DIR)\n",
        ")\n",
        "# Install\n",
        "! npm install -g localtunnel\n",
        "\n",
        "# Tunnel port 6006 (TensorBoard assumed running)\n",
        "get_ipython().system_raw('lt --port 6006 >> url.txt 2>&1 &')\n",
        "\n",
        "# Get url\n",
        "! cat url.txt"
      ],
      "execution_count": 7,
      "outputs": [
        {
          "output_type": "stream",
          "text": [
            "\u001b[K\u001b[?25h/tools/node/bin/lt -> /tools/node/lib/node_modules/localtunnel/bin/client\n",
            "\u001b[K\u001b[?25h+ localtunnel@1.9.1\n",
            "added 54 packages from 31 contributors in 4.492s\n",
            "your url is: https://sour-catfish-42.localtunnel.me\n"
          ],
          "name": "stdout"
        }
      ]
    },
    {
      "metadata": {
        "id": "UfKmALGe970R",
        "colab_type": "code",
        "colab": {}
      },
      "cell_type": "code",
      "source": [
        ""
      ],
      "execution_count": 0,
      "outputs": []
    }
  ]
}