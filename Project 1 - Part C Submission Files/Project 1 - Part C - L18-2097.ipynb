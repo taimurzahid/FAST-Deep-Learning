{
 "cells": [
  {
   "cell_type": "code",
   "execution_count": 1,
   "metadata": {},
   "outputs": [
    {
     "name": "stderr",
     "output_type": "stream",
     "text": [
      "Using TensorFlow backend.\n"
     ]
    }
   ],
   "source": [
    "#Fahad Malik, Roll# 18L-2097, MS(DS)\n",
    "#Report\n",
    "\n",
    "# The model takes about 35 seconds to run per epoch. This model achieves the respectable \n",
    "# classification Test accuracy: 0.8153 (81.53%)  at an Error rate : 18.47%\n",
    "# The number of epochs are increased to 26 to increase learning capacity with the followng changes:\n",
    "# Since we have seperate files of the modified dataset therefore both cats and dogs data is merged in an single array variable\n",
    "# along with their labels in the preprocessing fuction since images size are already of 64x64 therefore no need to resize it.\n",
    "# The data and it's corresponding on a whole are sliced to decrease noisy data and oncrease its computional speed\n",
    "# The validation split is kept to 70-30% that is the general split used.\n",
    "# The feature map of the convolutional layers are increased to increase the output flexibility in better data learning.\n",
    "# In the architecture, relu activation function is used to linearly seperate the output within 2 classes cat or dog.\n",
    "# The RMSProp optimizer is used to tackle with the noisy data and increase the accuracy.\n",
    "# The changes and its details are commented with the parameters in the following cells.\n",
    "\n",
    "from __future__ import print_function\n",
    "import numpy as np\n",
    "import pandas as pd\n",
    "import cv2\n",
    "import os\n",
    "from sklearn.model_selection import train_test_split\n",
    "import matplotlib.pyplot as plt\n",
    "import keras\n",
    "from keras.models import Sequential\n",
    "from keras.layers import Dense, Dropout, Flatten\n",
    "from keras.layers import Conv2D, MaxPooling2D\n",
    "from keras import backend as K\n",
    "%matplotlib inline"
   ]
  },
  {
   "cell_type": "code",
   "execution_count": 2,
   "metadata": {},
   "outputs": [],
   "source": [
    "cats = 'C:/Users/Fahad Malik/Downloads/Compressed/CatsandDogs/cats/'\n",
    "dogs = 'C:/Users/Fahad Malik/Downloads/Compressed/CatsandDogs/dogs/'\n"
   ]
  },
  {
   "cell_type": "code",
   "execution_count": 3,
   "metadata": {},
   "outputs": [],
   "source": [
    "batch_size = 128\n",
    "num_classes = 1\n",
    "epochs = 26\n",
    "data = []\n",
    "images_dogs_cats= []\n",
    "labels_dogs_cats= []\n",
    "label = []\n",
    "im_width = 64\n",
    "im_height = 64\n",
    "cats_image_files = [ f for f in os.listdir(cats) if os.path.isfile(os.path.join(cats,f)) ]\n",
    "dogs_image_files = [ f for f in os.listdir(dogs) if os.path.isfile(os.path.join(dogs,f)) ]"
   ]
  },
  {
   "cell_type": "code",
   "execution_count": 4,
   "metadata": {},
   "outputs": [
    {
     "data": {
      "text/plain": [
       "<matplotlib.image.AxesImage at 0x28ec1f19eb8>"
      ]
     },
     "execution_count": 4,
     "metadata": {},
     "output_type": "execute_result"
    },
    {
     "data": {
      "image/png": "[encoded data removed]",
      "text/plain": [
       "<Figure size 432x288 with 1 Axes>"
      ]
     },
     "metadata": {
      "needs_background": "light"
     },
     "output_type": "display_data"
    }
   ],
   "source": [
    "image_file = str(cats + cats_image_files[12])\n",
    "img = cv2.imread(image_file)\n",
    "plt.imshow(img)"
   ]
  },
  {
   "cell_type": "code",
   "execution_count": 5,
   "metadata": {},
   "outputs": [
    {
     "name": "stdout",
     "output_type": "stream",
     "text": [
      "12500\n",
      "12500\n"
     ]
    }
   ],
   "source": [
    "print(len(cats_image_files)) \n",
    "print(len(dogs_image_files)) "
   ]
  },
  {
   "cell_type": "code",
   "execution_count": 6,
   "metadata": {},
   "outputs": [],
   "source": [
    "def preprocessing(ct_path,dg_path):\n",
    "    progress = 0\n",
    "    \n",
    "    cats_image_files = [ f for f in os.listdir(ct_path) if os.path.isfile(os.path.join(ct_path,f)) ]\n",
    "    dogs_image_files = [ f for f in os.listdir(dg_path) if os.path.isfile(os.path.join(dg_path,f)) ]\n",
    "    \n",
    "    for file in cats_image_files:\n",
    "        \n",
    "        image_file = str(ct_path + file)\n",
    "        img = cv2.imread(image_file, cv2.IMREAD_GRAYSCALE)\n",
    "        #new_img = cv2.resize(img, (im_width, im_height))\n",
    "        img=img.astype('float32')\n",
    "        labels_dogs_cats.append(0)\n",
    "        images_dogs_cats.append(img / 255)\n",
    "        \n",
    "        progress = progress + 1\n",
    "        if progress % 1000 == 0:\n",
    "            print('Progress: ' + str(progress) + ' Images Done')\n",
    "        \n",
    "    progress = 0\n",
    "    for file in dogs_image_files:\n",
    "        \n",
    "        image_file = str(dg_path + file)\n",
    "        img = cv2.imread(image_file, cv2.IMREAD_GRAYSCALE)\n",
    "        #new_img = cv2.resize(img, (im_width, im_height))\n",
    "        img=img.astype('float32')\n",
    "        \n",
    "        labels_dogs_cats.append(1)\n",
    "        images_dogs_cats.append(img / 255)\n",
    "        \n",
    "        progress = progress + 1\n",
    "        if progress % 1000 == 0:\n",
    "            print('Progress: ' + str(progress) + ' Images Done')\n",
    "        \n",
    "    print(len(images_dogs_cats))\n",
    "    print(len(labels_dogs_cats))    \n"
   ]
  },
  {
   "cell_type": "code",
   "execution_count": 7,
   "metadata": {},
   "outputs": [
    {
     "name": "stdout",
     "output_type": "stream",
     "text": [
      "Progress: 1000 Images Done\n",
      "Progress: 2000 Images Done\n",
      "Progress: 3000 Images Done\n",
      "Progress: 4000 Images Done\n",
      "Progress: 5000 Images Done\n",
      "Progress: 6000 Images Done\n",
      "Progress: 7000 Images Done\n",
      "Progress: 8000 Images Done\n",
      "Progress: 9000 Images Done\n",
      "Progress: 10000 Images Done\n",
      "Progress: 11000 Images Done\n",
      "Progress: 12000 Images Done\n",
      "Progress: 1000 Images Done\n",
      "Progress: 2000 Images Done\n",
      "Progress: 3000 Images Done\n",
      "Progress: 4000 Images Done\n",
      "Progress: 5000 Images Done\n",
      "Progress: 6000 Images Done\n",
      "Progress: 7000 Images Done\n",
      "Progress: 8000 Images Done\n",
      "Progress: 9000 Images Done\n",
      "Progress: 10000 Images Done\n",
      "Progress: 11000 Images Done\n",
      "Progress: 12000 Images Done\n",
      "25000\n",
      "25000\n"
     ]
    }
   ],
   "source": [
    "preprocessing(cats,dogs)"
   ]
  },
  {
   "cell_type": "code",
   "execution_count": 8,
   "metadata": {},
   "outputs": [],
   "source": [
    "# Slicing of the data and labels are done to decrease computional time and try to avoid some noisy data to increase accuracy. \n",
    "data=images_dogs_cats[0:3000] + images_dogs_cats[10500:13800]\n",
    "label=labels_dogs_cats[0:3000] + labels_dogs_cats[10500:13800]"
   ]
  },
  {
   "cell_type": "code",
   "execution_count": 9,
   "metadata": {},
   "outputs": [
    {
     "name": "stdout",
     "output_type": "stream",
     "text": [
      "(6300, 64, 64)\n",
      "(6300, 64, 64, 1)\n",
      "(6300,)\n"
     ]
    }
   ],
   "source": [
    "data = np.array(data)\n",
    "print(data.shape)\n",
    "# Converting it into a Tensor\n",
    "data = data.reshape((data.shape)[0], (data.shape)[1], (data.shape)[2], 1)\n",
    "print(data.shape)\n",
    "label = np.array(label)\n",
    "print(label.shape)"
   ]
  },
  {
   "cell_type": "code",
   "execution_count": 10,
   "metadata": {},
   "outputs": [],
   "source": [
    "# partition the data into training and testing splits using 70% of the data for training and the remaining 30% for testing\n",
    "(trainX, testX, trainY, testY) = train_test_split(data,label, test_size=0.30, random_state=42)\n"
   ]
  },
  {
   "cell_type": "code",
   "execution_count": 11,
   "metadata": {},
   "outputs": [],
   "source": [
    "# convert class vectors to binary class matrices\n",
    "#trainY = keras.utils.to_categorical(trainY, num_classes)\n",
    "#testY = keras.utils.to_categorical(testY, num_classes)"
   ]
  },
  {
   "cell_type": "code",
   "execution_count": 12,
   "metadata": {},
   "outputs": [
    {
     "name": "stdout",
     "output_type": "stream",
     "text": [
      "Train on 4410 samples, validate on 1890 samples\n",
      "Epoch 1/26\n",
      " - 30s - loss: 0.5444 - acc: 0.7737 - val_loss: 0.5234 - val_acc: 0.7958\n",
      "Epoch 2/26\n",
      " - 28s - loss: 0.5168 - acc: 0.7927 - val_loss: 0.5302 - val_acc: 0.7958\n",
      "Epoch 3/26\n",
      " - 32s - loss: 0.5077 - acc: 0.7927 - val_loss: 0.5068 - val_acc: 0.7958\n",
      "Epoch 4/26\n",
      " - 30s - loss: 0.5032 - acc: 0.7927 - val_loss: 0.5590 - val_acc: 0.7958\n",
      "Epoch 5/26\n",
      " - 29s - loss: 0.4990 - acc: 0.7927 - val_loss: 0.4913 - val_acc: 0.7958\n",
      "Epoch 6/26\n",
      " - 29s - loss: 0.4894 - acc: 0.7927 - val_loss: 0.4765 - val_acc: 0.7963\n",
      "Epoch 7/26\n",
      " - 29s - loss: 0.4789 - acc: 0.7930 - val_loss: 0.4733 - val_acc: 0.7968\n",
      "Epoch 8/26\n",
      " - 29s - loss: 0.4758 - acc: 0.7950 - val_loss: 0.4809 - val_acc: 0.7958\n",
      "Epoch 9/26\n",
      " - 29s - loss: 0.4764 - acc: 0.7939 - val_loss: 0.5353 - val_acc: 0.7704\n",
      "Epoch 10/26\n",
      " - 30s - loss: 0.4690 - acc: 0.7973 - val_loss: 0.4627 - val_acc: 0.7989\n",
      "Epoch 11/26\n",
      " - 33s - loss: 0.4624 - acc: 0.7982 - val_loss: 0.4726 - val_acc: 0.8032\n",
      "Epoch 12/26\n",
      " - 29s - loss: 0.4609 - acc: 0.8005 - val_loss: 0.4609 - val_acc: 0.7989\n",
      "Epoch 13/26\n",
      " - 30s - loss: 0.4503 - acc: 0.8059 - val_loss: 0.4876 - val_acc: 0.7810\n",
      "Epoch 14/26\n",
      " - 30s - loss: 0.4494 - acc: 0.8073 - val_loss: 0.4614 - val_acc: 0.8058\n",
      "Epoch 15/26\n",
      " - 29s - loss: 0.4420 - acc: 0.8079 - val_loss: 0.4546 - val_acc: 0.8011\n",
      "Epoch 16/26\n",
      " - 28s - loss: 0.4378 - acc: 0.8098 - val_loss: 0.4454 - val_acc: 0.8106\n",
      "Epoch 17/26\n",
      " - 28s - loss: 0.4326 - acc: 0.8111 - val_loss: 0.4517 - val_acc: 0.8053\n",
      "Epoch 18/26\n",
      " - 29s - loss: 0.4245 - acc: 0.8147 - val_loss: 0.4379 - val_acc: 0.8148\n",
      "Epoch 19/26\n",
      " - 28s - loss: 0.4136 - acc: 0.8190 - val_loss: 0.4352 - val_acc: 0.8090\n",
      "Epoch 20/26\n",
      " - 28s - loss: 0.4069 - acc: 0.8238 - val_loss: 0.4469 - val_acc: 0.8005\n",
      "Epoch 21/26\n",
      " - 28s - loss: 0.4049 - acc: 0.8240 - val_loss: 0.4357 - val_acc: 0.7989\n",
      "Epoch 22/26\n",
      " - 29s - loss: 0.3964 - acc: 0.8313 - val_loss: 0.4301 - val_acc: 0.8153\n",
      "Epoch 23/26\n",
      " - 27s - loss: 0.3925 - acc: 0.8351 - val_loss: 0.4409 - val_acc: 0.8101\n",
      "Epoch 24/26\n",
      " - 28s - loss: 0.3812 - acc: 0.8347 - val_loss: 0.4402 - val_acc: 0.8185\n",
      "Epoch 25/26\n",
      " - 28s - loss: 0.3786 - acc: 0.8379 - val_loss: 0.4402 - val_acc: 0.8106\n",
      "Epoch 26/26\n",
      " - 29s - loss: 0.3695 - acc: 0.8474 - val_loss: 0.4331 - val_acc: 0.8153\n",
      "Test loss: 0.43307755182659813\n",
      "Test accuracy: 0.8153439153439154\n",
      "CNN Error: 18.47%\n"
     ]
    }
   ],
   "source": [
    "model = Sequential()\n",
    "\n",
    "# the number of filters are increased relatively in each convolution layer to increase the output accuracy by learning the \n",
    "# input data more carefully thus avoiding noisy pixels that affect the learning of the model.\n",
    "model.add(Conv2D(kernel_size=(3,3),filters=5,input_shape=(im_width, im_height, 1),activation=\"relu\",padding=\"valid\"))\n",
    "model.add(Conv2D(kernel_size=(3,3),filters=10,activation=\"relu\",padding=\"same\"))\n",
    "model.add(MaxPooling2D(pool_size=(2,2),strides=(2,2)))\n",
    "\n",
    "# the kernel size is changed from 5x5 to 3x3 to make the kernal size of each convolution layer same making the learning flow\n",
    "# of the model smooth and steady which increases the accuracy.\n",
    "model.add(Conv2D(kernel_size=(3,3),filters=15,activation=\"relu\",padding=\"same\"))\n",
    "\n",
    "model.add(Conv2D(kernel_size=(3,3),filters=20,activation=\"relu\",padding=\"same\"))\n",
    "model.add(MaxPooling2D(pool_size=(3,3),strides=(2,2)))\n",
    "model.add(Conv2D(kernel_size=(2,2),strides=(2,2),filters=30))\n",
    "model.add(Flatten())\n",
    "\n",
    "# Dropout rate is increased since the model has higher probability of overfitting as data is noisy therefore dropout rate is\n",
    "# increased from 0.2 to 0.5\n",
    "model.add(Dropout(0.5))\n",
    "\n",
    "# Rectified Linear Units (ReLUs) activation function is used which helps the network learn non-linear decision boundaries. \n",
    "# Since we are having 2 different classes,we need a non-linear decision boundary that could separate these 2 classes \n",
    "# which are not linearly separable. and the dimensionality of the output space(unit) is increased to 128 to connect it with\n",
    "# single class that is 0 or 1\n",
    "model.add(Dense(128,activation=\"relu\"))\n",
    "\n",
    "model.add(Dense(1,activation=\"sigmoid\"))\n",
    "\n",
    "#Root Mean Square Propagation (RMSProp) maintains per-parameter learning rates that are adapted based on the average of \n",
    "#recent magnitudes of the gradients for the weight (e.g. how quickly it is changing).The algorithm does well on online \n",
    "#and non-stationary problems (e.g. noisy).since we have noisy data.\n",
    "model.compile(optimizer=\"rmsprop\",loss=\"binary_crossentropy\",metrics=[\"accuracy\"])\n",
    "\n",
    "History =model.fit(trainX,trainY,\n",
    "          batch_size=batch_size,\n",
    "          epochs=epochs,\n",
    "          verbose=1,\n",
    "          validation_data=(testX, testY)\n",
    "                )\n",
    "\n",
    "score = model.evaluate(testX, testY, verbose=0)\n",
    "print('Test loss:', score[0])\n",
    "print('Test accuracy:', score[1])\n",
    "print(\"CNN Error: %.2f%%\" % (100-score[1]*100))"
   ]
  },
  {
   "cell_type": "code",
   "execution_count": 13,
   "metadata": {},
   "outputs": [
    {
     "name": "stdout",
     "output_type": "stream",
     "text": [
      "_________________________________________________________________\n",
      "Layer (type)                 Output Shape              Param #   \n",
      "=================================================================\n",
      "conv2d_1 (Conv2D)            (None, 62, 62, 5)         50        \n",
      "_________________________________________________________________\n",
      "conv2d_2 (Conv2D)            (None, 62, 62, 10)        460       \n",
      "_________________________________________________________________\n",
      "max_pooling2d_1 (MaxPooling2 (None, 31, 31, 10)        0         \n",
      "_________________________________________________________________\n",
      "conv2d_3 (Conv2D)            (None, 31, 31, 15)        1365      \n",
      "_________________________________________________________________\n",
      "conv2d_4 (Conv2D)            (None, 31, 31, 20)        2720      \n",
      "_________________________________________________________________\n",
      "max_pooling2d_2 (MaxPooling2 (None, 15, 15, 20)        0         \n",
      "_________________________________________________________________\n",
      "conv2d_5 (Conv2D)            (None, 7, 7, 30)          2430      \n",
      "_________________________________________________________________\n",
      "flatten_1 (Flatten)          (None, 1470)              0         \n",
      "_________________________________________________________________\n",
      "dropout_1 (Dropout)          (None, 1470)              0         \n",
      "_________________________________________________________________\n",
      "dense_1 (Dense)              (None, 128)               188288    \n",
      "_________________________________________________________________\n",
      "dense_2 (Dense)              (None, 1)                 129       \n",
      "=================================================================\n",
      "Total params: 195,442\n",
      "Trainable params: 195,442\n",
      "Non-trainable params: 0\n",
      "_________________________________________________________________\n"
     ]
    }
   ],
   "source": [
    "model.summary()"
   ]
  },
  {
   "cell_type": "code",
   "execution_count": 14,
   "metadata": {},
   "outputs": [
    {
     "data": {
      "image/png": "[encoded data removed]",
      "text/plain": [
       "<Figure size 432x288 with 1 Axes>"
      ]
     },
     "metadata": {
      "needs_background": "light"
     },
     "output_type": "display_data"
    },
    {
     "data": {
      "image/png": "[encoded data removed]",
      "text/plain": [
       "<Figure size 432x288 with 1 Axes>"
      ]
     },
     "metadata": {
      "needs_background": "light"
     },
     "output_type": "display_data"
    }
   ],
   "source": [
    "# Training and Validation Accuracy/loss plot below:\n",
    "\n",
    "accuracy = History.history['acc']\n",
    "val_accuracy = History.history['val_acc']\n",
    "loss = History.history['loss']\n",
    "val_loss = History.history['val_loss']\n",
    "epochs = range(len(accuracy))\n",
    "plt.plot(epochs, accuracy, 'bo', label='Training Accuracy')\n",
    "plt.plot(epochs, val_accuracy, 'b', label='Validation Accuracy')\n",
    "plt.title('Training and Validation Accuracy')\n",
    "plt.ylabel('Accuracy')\n",
    "plt.xlabel('Epoch')\n",
    "plt.legend()\n",
    "plt.figure()\n",
    "plt.plot(epochs, loss, 'bo', label='Training Loss')\n",
    "plt.plot(epochs, val_loss, 'b', label='Validation Loss')\n",
    "plt.title('Training and Validation Loss')\n",
    "plt.ylabel('Accuracy')\n",
    "plt.xlabel('Epoch')\n",
    "plt.legend()\n",
    "plt.show()"
   ]
  }
 ],
 "metadata": {
  "kernelspec": {
   "display_name": "Python 3",
   "language": "python",
   "name": "python3"
  },
  "language_info": {
   "codemirror_mode": {
    "name": "ipython",
    "version": 3
   },
   "file_extension": ".py",
   "mimetype": "text/x-python",
   "name": "python",
   "nbconvert_exporter": "python",
   "pygments_lexer": "ipython3",
   "version": "3.6.7"
  }
 },
 "nbformat": 4,
 "nbformat_minor": 2
}
