{
  "nbformat": 4,
  "nbformat_minor": 0,
  "metadata": {
    "colab": {
      "name": "Untitled11.ipynb",
      "version": "0.3.2",
      "provenance": []
    },
    "kernelspec": {
      "name": "python3",
      "display_name": "Python 3"
    },
    "accelerator": "GPU"
  },
  "cells": [
    {
      "metadata": {
        "id": "6pGqUZ5Qu6Cu",
        "colab_type": "code",
        "outputId": "2a996806-4ff4-423d-bb1a-33057f16c55b",
        "colab": {
          "base_uri": "https://localhost:8080/",
          "height": 139
        }
      },
      "cell_type": "code",
      "source": [
        "from __future__ import print_function\n",
        "import keras\n",
        "from keras.models import Sequential\n",
        "from keras.layers import Dense, Dropout, Flatten\n",
        "from keras.layers import Conv2D, MaxPooling2D\n",
        "from keras import backend as K\n",
        "import matplotlib.pyplot as plt\n",
        "from keras.callbacks import TensorBoard\n",
        "import matplotlib\n",
        "import numpy as np\n",
        "import os\n",
        "from PIL import Image\n",
        "from keras.optimizers import SGD\n",
        "import cv2\n",
        "from keras import regularizers\n",
        "from google.colab import drive\n",
        "drive.mount('/content/gdrive')"
      ],
      "execution_count": 1,
      "outputs": [
        {
          "output_type": "stream",
          "text": [
            "Using TensorFlow backend.\n"
          ],
          "name": "stderr"
        },
        {
          "output_type": "stream",
          "text": [
            "Go to this URL in a browser: https://accounts.google.com/o/oauth2/auth?client_id=947318989803-6bn6qk8qdgf4n4g3pfee6491hc0brc4i.apps.googleusercontent.com&redirect_uri=urn%3Aietf%3Awg%3Aoauth%3A2.0%3Aoob&scope=email%20https%3A%2F%2Fwww.googleapis.com%2Fauth%2Fdocs.test%20https%3A%2F%2Fwww.googleapis.com%2Fauth%2Fdrive%20https%3A%2F%2Fwww.googleapis.com%2Fauth%2Fdrive.photos.readonly%20https%3A%2F%2Fwww.googleapis.com%2Fauth%2Fpeopleapi.readonly&response_type=code\n",
            "\n",
            "Enter your authorization code:\n",
            "··········\n",
            "Mounted at /content/gdrive\n"
          ],
          "name": "stdout"
        }
      ]
    },
    {
      "metadata": {
        "id": "UqX30Bz2fBAU",
        "colab_type": "code",
        "colab": {
          "base_uri": "https://localhost:8080/",
          "height": 51
        },
        "outputId": "7ee93c87-f814-4070-dfbe-9569ea6200bd"
      },
      "cell_type": "code",
      "source": [
        "!cp -R gdrive/My\\ Drive/training ./"
      ],
      "execution_count": 2,
      "outputs": [
        {
          "output_type": "stream",
          "text": [
            "\n",
            "^C\n"
          ],
          "name": "stdout"
        }
      ]
    },
    {
      "metadata": {
        "id": "0h-TGm1mINla",
        "colab_type": "code",
        "colab": {}
      },
      "cell_type": "code",
      "source": [
        "!cp -R gdrive/My\\ Drive/testing ./"
      ],
      "execution_count": 0,
      "outputs": []
    },
    {
      "metadata": {
        "id": "YF7zaqZIxrMk",
        "colab_type": "code",
        "colab": {}
      },
      "cell_type": "code",
      "source": [
        "x_train = []\n",
        "y_train = []\n",
        "x_test = []\n",
        "y_test = []\n",
        "batch_size = 32\n",
        "epochs = 100"
      ],
      "execution_count": 0,
      "outputs": []
    },
    {
      "metadata": {
        "id": "T2a5LKOkxj4V",
        "colab_type": "code",
        "outputId": "f1fbc57d-daa3-472a-faf7-73607cc735d6",
        "colab": {
          "base_uri": "https://localhost:8080/",
          "height": 34
        }
      },
      "cell_type": "code",
      "source": [
        "for filename in os.listdir(os.getcwd()+'/training/'):\n",
        "  try:\n",
        "    x = cv2.imread(os.getcwd()+'/training/'+filename,cv2.IMREAD_GRAYSCALE)\n",
        "    x = cv2.resize(x, (64,64))\n",
        "    x_train.append(np.array(x))\n",
        "    if \"cat\" in filename:\n",
        "        y_train.append(1)\n",
        "    elif \"dog\" in filename:\n",
        "        y_train.append(0)\n",
        "        \n",
        "  except Exception as e:\n",
        "    continue\n",
        "        \n",
        "print(len(x_train))"
      ],
      "execution_count": 5,
      "outputs": [
        {
          "output_type": "stream",
          "text": [
            "8766\n"
          ],
          "name": "stdout"
        }
      ]
    },
    {
      "metadata": {
        "id": "tJqQxeoHxvlp",
        "colab_type": "code",
        "outputId": "2e01d24f-45b3-4c0d-dddf-b0c598dbeb42",
        "colab": {
          "base_uri": "https://localhost:8080/",
          "height": 34
        }
      },
      "cell_type": "code",
      "source": [
        "for filename in os.listdir(os.getcwd()+'/testing/'):\n",
        "  try:\n",
        "    x = cv2.imread(os.getcwd()+'/testing/'+filename,cv2.IMREAD_GRAYSCALE)\n",
        "    x = cv2.resize(x, (64,64))\n",
        "    x_test.append(np.array(x))\n",
        "    if \"cat\" in filename:\n",
        "        y_test.append(1)\n",
        "    elif \"dog\" in filename:\n",
        "        y_test.append(0)\n",
        "\n",
        "  except Exception as e:\n",
        "    continue\n",
        "        \n",
        "print(len(x_test))"
      ],
      "execution_count": 6,
      "outputs": [
        {
          "output_type": "stream",
          "text": [
            "2000\n"
          ],
          "name": "stdout"
        }
      ]
    },
    {
      "metadata": {
        "id": "HhAPPx7-x69o",
        "colab_type": "code",
        "colab": {}
      },
      "cell_type": "code",
      "source": [
        "x_train = np.array(x_train).astype('float32')\n",
        "x_test = np.array(x_test).astype('float32')\n",
        "x_train /= 255\n",
        "x_test /= 255\n"
      ],
      "execution_count": 0,
      "outputs": []
    },
    {
      "metadata": {
        "id": "1qX-WXwsx8vj",
        "colab_type": "code",
        "outputId": "bcb84659-5250-48c8-c9f4-e6ef39b2f564",
        "colab": {
          "base_uri": "https://localhost:8080/",
          "height": 4374
        }
      },
      "cell_type": "code",
      "source": [
        "model = Sequential()\n",
        "model.add(Conv2D(kernel_size=(3,3),filters=64,input_shape=(64, 64, 1),activation=\"relu\",padding=\"valid\"))\n",
        "model.add(Conv2D(kernel_size=(3,3),filters=64,activation=\"relu\",padding=\"same\"))\n",
        "model.add(MaxPooling2D(pool_size=(2,2),strides=(1,1)))\n",
        "model.add(Conv2D(kernel_size=(3,3),filters=32,activation=\"relu\",padding=\"same\"))\n",
        "model.add(Conv2D(kernel_size=(2,2),filters=64,activation=\"relu\",padding=\"same\"))\n",
        "model.add(MaxPooling2D(pool_size=(2,2),strides=(1,1)))\n",
        "model.add(Conv2D(kernel_size=(2,2),filters=32,activation=\"relu\",padding=\"same\"))\n",
        "model.add(Conv2D(kernel_size=(2,2),filters=32,activation=\"relu\",padding=\"same\"))\n",
        "model.add(Flatten())\n",
        "model.add(Dropout(0.935))\n",
        "model.add(Dense(100,activation=\"sigmoid\"))\n",
        "model.add(Dense(1,activation='sigmoid'))\n",
        "model.summary()\n",
        "\n",
        "model.compile(loss=keras.losses.mean_squared_error,\n",
        "              optimizer=keras.optimizers.Adam(lr=0.0003),\n",
        "              metrics=['accuracy'])\n",
        "\n",
        "x_train = x_train.reshape((x_train.shape)[0],(x_train.shape)[1],(x_train.shape)[2],1)\n",
        "x_test = x_test.reshape((x_test.shape)[0],(x_test.shape)[1],(x_test.shape)[2],1)\n",
        "\n",
        "X = model.fit(x_train, y_train,\n",
        "          batch_size=batch_size,\n",
        "          epochs=epochs,\n",
        "          verbose=1,\n",
        "          validation_data=(x_test, y_test),shuffle=True)\n",
        "\n",
        "plt.plot(X.history['loss'])\n",
        "plt.plot(X.history['val_loss'])\n",
        "plt.title('model loss')\n",
        "plt.ylabel('loss')\n",
        "plt.xlabel('epoch')\n",
        "plt.legend(['train', 'validation'], loc='upper left')\n",
        "plt.show()\n",
        "\n",
        "score = model.evaluate(x_test, y_test, verbose=0)\n",
        "print('Test loss:', score[0])\n",
        "print('Test accuracy:', score[1])"
      ],
      "execution_count": 14,
      "outputs": [
        {
          "output_type": "stream",
          "text": [
            "_________________________________________________________________\n",
            "Layer (type)                 Output Shape              Param #   \n",
            "=================================================================\n",
            "conv2d_37 (Conv2D)           (None, 62, 62, 64)        640       \n",
            "_________________________________________________________________\n",
            "conv2d_38 (Conv2D)           (None, 62, 62, 64)        36928     \n",
            "_________________________________________________________________\n",
            "max_pooling2d_13 (MaxPooling (None, 61, 61, 64)        0         \n",
            "_________________________________________________________________\n",
            "conv2d_39 (Conv2D)           (None, 61, 61, 32)        18464     \n",
            "_________________________________________________________________\n",
            "conv2d_40 (Conv2D)           (None, 61, 61, 64)        8256      \n",
            "_________________________________________________________________\n",
            "max_pooling2d_14 (MaxPooling (None, 60, 60, 64)        0         \n",
            "_________________________________________________________________\n",
            "conv2d_41 (Conv2D)           (None, 60, 60, 32)        8224      \n",
            "_________________________________________________________________\n",
            "conv2d_42 (Conv2D)           (None, 60, 60, 32)        4128      \n",
            "_________________________________________________________________\n",
            "flatten_7 (Flatten)          (None, 115200)            0         \n",
            "_________________________________________________________________\n",
            "dropout_7 (Dropout)          (None, 115200)            0         \n",
            "_________________________________________________________________\n",
            "dense_13 (Dense)             (None, 100)               11520100  \n",
            "_________________________________________________________________\n",
            "dense_14 (Dense)             (None, 1)                 101       \n",
            "=================================================================\n",
            "Total params: 11,596,841\n",
            "Trainable params: 11,596,841\n",
            "Non-trainable params: 0\n",
            "_________________________________________________________________\n",
            "Train on 8766 samples, validate on 2000 samples\n",
            "Epoch 1/100\n",
            "8766/8766 [==============================] - 27s 3ms/step - loss: 0.2457 - acc: 0.5550 - val_loss: 0.2438 - val_acc: 0.5380\n",
            "Epoch 2/100\n",
            "8766/8766 [==============================] - 25s 3ms/step - loss: 0.2394 - acc: 0.5889 - val_loss: 0.2320 - val_acc: 0.5990\n",
            "Epoch 3/100\n",
            "8766/8766 [==============================] - 25s 3ms/step - loss: 0.2319 - acc: 0.6113 - val_loss: 0.2311 - val_acc: 0.6180\n",
            "Epoch 4/100\n",
            "8766/8766 [==============================] - 25s 3ms/step - loss: 0.2250 - acc: 0.6310 - val_loss: 0.2152 - val_acc: 0.6545\n",
            "Epoch 5/100\n",
            "8766/8766 [==============================] - 25s 3ms/step - loss: 0.2144 - acc: 0.6549 - val_loss: 0.2037 - val_acc: 0.6700\n",
            "Epoch 6/100\n",
            "8766/8766 [==============================] - 25s 3ms/step - loss: 0.2025 - acc: 0.6801 - val_loss: 0.2159 - val_acc: 0.6650\n",
            "Epoch 7/100\n",
            "8766/8766 [==============================] - 25s 3ms/step - loss: 0.1972 - acc: 0.6909 - val_loss: 0.1929 - val_acc: 0.6985\n",
            "Epoch 8/100\n",
            "8766/8766 [==============================] - 25s 3ms/step - loss: 0.1886 - acc: 0.7126 - val_loss: 0.1861 - val_acc: 0.7210\n",
            "Epoch 9/100\n",
            "8766/8766 [==============================] - 25s 3ms/step - loss: 0.1835 - acc: 0.7242 - val_loss: 0.1782 - val_acc: 0.7230\n",
            "Epoch 10/100\n",
            "8766/8766 [==============================] - 25s 3ms/step - loss: 0.1792 - acc: 0.7359 - val_loss: 0.1747 - val_acc: 0.7400\n",
            "Epoch 11/100\n",
            "8766/8766 [==============================] - 25s 3ms/step - loss: 0.1717 - acc: 0.7497 - val_loss: 0.1837 - val_acc: 0.7190\n",
            "Epoch 12/100\n",
            "8766/8766 [==============================] - 25s 3ms/step - loss: 0.1703 - acc: 0.7485 - val_loss: 0.1690 - val_acc: 0.7435\n",
            "Epoch 13/100\n",
            "8766/8766 [==============================] - 25s 3ms/step - loss: 0.1647 - acc: 0.7602 - val_loss: 0.1750 - val_acc: 0.7325\n",
            "Epoch 14/100\n",
            "8766/8766 [==============================] - 25s 3ms/step - loss: 0.1616 - acc: 0.7632 - val_loss: 0.1676 - val_acc: 0.7515\n",
            "Epoch 15/100\n",
            "8766/8766 [==============================] - 25s 3ms/step - loss: 0.1595 - acc: 0.7721 - val_loss: 0.1608 - val_acc: 0.7670\n",
            "Epoch 16/100\n",
            "8766/8766 [==============================] - 25s 3ms/step - loss: 0.1542 - acc: 0.7789 - val_loss: 0.1626 - val_acc: 0.7585\n",
            "Epoch 17/100\n",
            "8766/8766 [==============================] - 25s 3ms/step - loss: 0.1535 - acc: 0.7782 - val_loss: 0.1613 - val_acc: 0.7640\n",
            "Epoch 18/100\n",
            "8766/8766 [==============================] - 25s 3ms/step - loss: 0.1480 - acc: 0.7868 - val_loss: 0.1564 - val_acc: 0.7705\n",
            "Epoch 19/100\n",
            "8766/8766 [==============================] - 25s 3ms/step - loss: 0.1446 - acc: 0.7937 - val_loss: 0.1625 - val_acc: 0.7525\n",
            "Epoch 20/100\n",
            "8766/8766 [==============================] - 25s 3ms/step - loss: 0.1446 - acc: 0.7912 - val_loss: 0.1584 - val_acc: 0.7615\n",
            "Epoch 21/100\n",
            "8766/8766 [==============================] - 25s 3ms/step - loss: 0.1434 - acc: 0.7939 - val_loss: 0.1547 - val_acc: 0.7740\n",
            "Epoch 22/100\n",
            "8766/8766 [==============================] - 25s 3ms/step - loss: 0.1389 - acc: 0.7998 - val_loss: 0.1553 - val_acc: 0.7670\n",
            "Epoch 23/100\n",
            "8766/8766 [==============================] - 25s 3ms/step - loss: 0.1347 - acc: 0.8099 - val_loss: 0.1543 - val_acc: 0.7660\n",
            "Epoch 24/100\n",
            "8766/8766 [==============================] - 25s 3ms/step - loss: 0.1327 - acc: 0.8139 - val_loss: 0.1559 - val_acc: 0.7700\n",
            "Epoch 25/100\n",
            "8766/8766 [==============================] - 25s 3ms/step - loss: 0.1308 - acc: 0.8158 - val_loss: 0.1689 - val_acc: 0.7640\n",
            "Epoch 26/100\n",
            "8766/8766 [==============================] - 25s 3ms/step - loss: 0.1287 - acc: 0.8190 - val_loss: 0.1520 - val_acc: 0.7705\n",
            "Epoch 27/100\n",
            "8766/8766 [==============================] - 25s 3ms/step - loss: 0.1263 - acc: 0.8225 - val_loss: 0.1511 - val_acc: 0.7835\n",
            "Epoch 28/100\n",
            "8766/8766 [==============================] - 25s 3ms/step - loss: 0.1231 - acc: 0.8284 - val_loss: 0.1539 - val_acc: 0.7765\n",
            "Epoch 29/100\n",
            "8766/8766 [==============================] - 25s 3ms/step - loss: 0.1226 - acc: 0.8276 - val_loss: 0.1540 - val_acc: 0.7770\n",
            "Epoch 30/100\n",
            "8766/8766 [==============================] - 25s 3ms/step - loss: 0.1216 - acc: 0.8288 - val_loss: 0.1539 - val_acc: 0.7745\n",
            "Epoch 31/100\n",
            "8766/8766 [==============================] - 25s 3ms/step - loss: 0.1171 - acc: 0.8355 - val_loss: 0.1473 - val_acc: 0.7840\n",
            "Epoch 32/100\n",
            "8766/8766 [==============================] - 25s 3ms/step - loss: 0.1195 - acc: 0.8350 - val_loss: 0.1730 - val_acc: 0.7530\n",
            "Epoch 33/100\n",
            "8766/8766 [==============================] - 25s 3ms/step - loss: 0.1139 - acc: 0.8414 - val_loss: 0.1491 - val_acc: 0.7875\n",
            "Epoch 34/100\n",
            "8766/8766 [==============================] - 25s 3ms/step - loss: 0.1138 - acc: 0.8417 - val_loss: 0.1459 - val_acc: 0.7940\n",
            "Epoch 35/100\n",
            "8766/8766 [==============================] - 25s 3ms/step - loss: 0.1114 - acc: 0.8450 - val_loss: 0.1454 - val_acc: 0.7915\n",
            "Epoch 36/100\n",
            "8766/8766 [==============================] - 25s 3ms/step - loss: 0.1103 - acc: 0.8470 - val_loss: 0.1501 - val_acc: 0.7885\n",
            "Epoch 37/100\n",
            "8766/8766 [==============================] - 25s 3ms/step - loss: 0.1071 - acc: 0.8527 - val_loss: 0.1487 - val_acc: 0.7795\n",
            "Epoch 38/100\n",
            "8766/8766 [==============================] - 25s 3ms/step - loss: 0.1044 - acc: 0.8568 - val_loss: 0.1486 - val_acc: 0.7930\n",
            "Epoch 39/100\n",
            "8766/8766 [==============================] - 25s 3ms/step - loss: 0.1049 - acc: 0.8534 - val_loss: 0.1507 - val_acc: 0.7845\n",
            "Epoch 40/100\n",
            "8766/8766 [==============================] - 25s 3ms/step - loss: 0.1008 - acc: 0.8608 - val_loss: 0.1548 - val_acc: 0.7855\n",
            "Epoch 41/100\n",
            "8766/8766 [==============================] - 25s 3ms/step - loss: 0.0989 - acc: 0.8672 - val_loss: 0.1505 - val_acc: 0.7900\n",
            "Epoch 42/100\n",
            "8766/8766 [==============================] - 26s 3ms/step - loss: 0.0990 - acc: 0.8649 - val_loss: 0.1452 - val_acc: 0.8000\n",
            "Epoch 43/100\n",
            "8766/8766 [==============================] - 25s 3ms/step - loss: 0.1007 - acc: 0.8581 - val_loss: 0.1455 - val_acc: 0.7890\n",
            "Epoch 44/100\n",
            "8766/8766 [==============================] - 25s 3ms/step - loss: 0.0941 - acc: 0.8693 - val_loss: 0.1534 - val_acc: 0.7860\n",
            "Epoch 45/100\n",
            "8766/8766 [==============================] - 25s 3ms/step - loss: 0.0966 - acc: 0.8682 - val_loss: 0.1479 - val_acc: 0.7910\n",
            "Epoch 46/100\n",
            "8766/8766 [==============================] - 25s 3ms/step - loss: 0.0926 - acc: 0.8733 - val_loss: 0.1453 - val_acc: 0.7970\n",
            "Epoch 47/100\n",
            "8766/8766 [==============================] - 25s 3ms/step - loss: 0.0931 - acc: 0.8722 - val_loss: 0.1513 - val_acc: 0.7910\n",
            "Epoch 48/100\n",
            "8766/8766 [==============================] - 25s 3ms/step - loss: 0.0908 - acc: 0.8774 - val_loss: 0.1413 - val_acc: 0.8025\n",
            "Epoch 49/100\n",
            "8766/8766 [==============================] - 25s 3ms/step - loss: 0.0884 - acc: 0.8786 - val_loss: 0.1480 - val_acc: 0.7970\n",
            "Epoch 50/100\n",
            "8766/8766 [==============================] - 25s 3ms/step - loss: 0.0873 - acc: 0.8819 - val_loss: 0.1486 - val_acc: 0.7915\n",
            "Epoch 51/100\n",
            "8766/8766 [==============================] - 25s 3ms/step - loss: 0.0873 - acc: 0.8791 - val_loss: 0.1455 - val_acc: 0.8035\n",
            "Epoch 52/100\n",
            "8766/8766 [==============================] - 25s 3ms/step - loss: 0.0857 - acc: 0.8846 - val_loss: 0.1488 - val_acc: 0.7950\n",
            "Epoch 53/100\n",
            "8766/8766 [==============================] - 25s 3ms/step - loss: 0.0835 - acc: 0.8863 - val_loss: 0.1508 - val_acc: 0.7945\n",
            "Epoch 54/100\n",
            "8766/8766 [==============================] - 25s 3ms/step - loss: 0.0833 - acc: 0.8879 - val_loss: 0.1431 - val_acc: 0.7980\n",
            "Epoch 55/100\n",
            "8766/8766 [==============================] - 25s 3ms/step - loss: 0.0828 - acc: 0.8879 - val_loss: 0.1576 - val_acc: 0.7850\n",
            "Epoch 56/100\n",
            "8766/8766 [==============================] - 25s 3ms/step - loss: 0.0776 - acc: 0.8949 - val_loss: 0.1732 - val_acc: 0.7765\n",
            "Epoch 57/100\n",
            "8766/8766 [==============================] - 25s 3ms/step - loss: 0.0807 - acc: 0.8898 - val_loss: 0.1490 - val_acc: 0.7990\n",
            "Epoch 58/100\n",
            "8766/8766 [==============================] - 25s 3ms/step - loss: 0.0799 - acc: 0.8916 - val_loss: 0.1451 - val_acc: 0.8005\n",
            "Epoch 59/100\n",
            "8766/8766 [==============================] - 25s 3ms/step - loss: 0.0762 - acc: 0.8965 - val_loss: 0.1480 - val_acc: 0.8005\n",
            "Epoch 60/100\n",
            "8766/8766 [==============================] - 25s 3ms/step - loss: 0.0785 - acc: 0.8938 - val_loss: 0.1430 - val_acc: 0.8010\n",
            "Epoch 61/100\n",
            "8766/8766 [==============================] - 25s 3ms/step - loss: 0.0742 - acc: 0.9009 - val_loss: 0.1447 - val_acc: 0.8045\n",
            "Epoch 62/100\n",
            "8766/8766 [==============================] - 25s 3ms/step - loss: 0.0717 - acc: 0.9001 - val_loss: 0.1673 - val_acc: 0.7765\n",
            "Epoch 63/100\n",
            "8766/8766 [==============================] - 25s 3ms/step - loss: 0.0737 - acc: 0.8995 - val_loss: 0.1446 - val_acc: 0.8045\n",
            "Epoch 64/100\n",
            "8766/8766 [==============================] - 25s 3ms/step - loss: 0.0761 - acc: 0.8981 - val_loss: 0.1538 - val_acc: 0.7935\n",
            "Epoch 65/100\n",
            "8766/8766 [==============================] - 25s 3ms/step - loss: 0.0714 - acc: 0.9021 - val_loss: 0.1445 - val_acc: 0.8050\n",
            "Epoch 66/100\n",
            "8766/8766 [==============================] - 25s 3ms/step - loss: 0.0691 - acc: 0.9061 - val_loss: 0.1552 - val_acc: 0.7960\n",
            "Epoch 67/100\n",
            "8766/8766 [==============================] - 25s 3ms/step - loss: 0.0680 - acc: 0.9067 - val_loss: 0.1470 - val_acc: 0.8005\n",
            "Epoch 68/100\n",
            "8766/8766 [==============================] - 25s 3ms/step - loss: 0.0722 - acc: 0.9038 - val_loss: 0.1461 - val_acc: 0.8015\n",
            "Epoch 69/100\n",
            "8766/8766 [==============================] - 25s 3ms/step - loss: 0.0664 - acc: 0.9111 - val_loss: 0.1459 - val_acc: 0.8005\n",
            "Epoch 70/100\n",
            "8766/8766 [==============================] - 25s 3ms/step - loss: 0.0632 - acc: 0.9159 - val_loss: 0.1532 - val_acc: 0.7930\n",
            "Epoch 71/100\n",
            "8766/8766 [==============================] - 25s 3ms/step - loss: 0.0656 - acc: 0.9104 - val_loss: 0.1452 - val_acc: 0.8065\n",
            "Epoch 72/100\n",
            "8766/8766 [==============================] - 25s 3ms/step - loss: 0.0641 - acc: 0.9138 - val_loss: 0.1561 - val_acc: 0.7910\n",
            "Epoch 73/100\n",
            "8766/8766 [==============================] - 25s 3ms/step - loss: 0.0632 - acc: 0.9154 - val_loss: 0.1480 - val_acc: 0.8050\n",
            "Epoch 74/100\n",
            "8766/8766 [==============================] - 25s 3ms/step - loss: 0.0608 - acc: 0.9167 - val_loss: 0.1478 - val_acc: 0.8070\n",
            "Epoch 75/100\n",
            "8766/8766 [==============================] - 25s 3ms/step - loss: 0.0622 - acc: 0.9149 - val_loss: 0.1623 - val_acc: 0.7885\n",
            "Epoch 76/100\n",
            "8766/8766 [==============================] - 25s 3ms/step - loss: 0.0595 - acc: 0.9197 - val_loss: 0.1543 - val_acc: 0.7970\n",
            "Epoch 77/100\n",
            "8766/8766 [==============================] - 25s 3ms/step - loss: 0.0588 - acc: 0.9220 - val_loss: 0.1658 - val_acc: 0.7860\n",
            "Epoch 78/100\n",
            "8766/8766 [==============================] - 25s 3ms/step - loss: 0.0535 - acc: 0.9278 - val_loss: 0.1496 - val_acc: 0.8030\n",
            "Epoch 79/100\n",
            "8766/8766 [==============================] - 25s 3ms/step - loss: 0.0574 - acc: 0.9214 - val_loss: 0.1444 - val_acc: 0.8130\n",
            "Epoch 80/100\n",
            "8766/8766 [==============================] - 25s 3ms/step - loss: 0.0555 - acc: 0.9262 - val_loss: 0.1389 - val_acc: 0.8100\n",
            "Epoch 81/100\n",
            "8766/8766 [==============================] - 25s 3ms/step - loss: 0.0555 - acc: 0.9278 - val_loss: 0.1469 - val_acc: 0.8080\n",
            "Epoch 82/100\n",
            "8766/8766 [==============================] - 25s 3ms/step - loss: 0.0541 - acc: 0.9272 - val_loss: 0.1529 - val_acc: 0.8045\n",
            "Epoch 83/100\n",
            "8766/8766 [==============================] - 25s 3ms/step - loss: 0.0500 - acc: 0.9351 - val_loss: 0.1533 - val_acc: 0.7975\n",
            "Epoch 84/100\n",
            "8766/8766 [==============================] - 25s 3ms/step - loss: 0.0532 - acc: 0.9301 - val_loss: 0.1486 - val_acc: 0.8095\n",
            "Epoch 85/100\n",
            "8766/8766 [==============================] - 25s 3ms/step - loss: 0.0482 - acc: 0.9355 - val_loss: 0.1496 - val_acc: 0.8020\n",
            "Epoch 86/100\n",
            "8766/8766 [==============================] - 25s 3ms/step - loss: 0.0500 - acc: 0.9322 - val_loss: 0.1567 - val_acc: 0.7945\n",
            "Epoch 87/100\n",
            "8766/8766 [==============================] - 25s 3ms/step - loss: 0.0493 - acc: 0.9335 - val_loss: 0.1563 - val_acc: 0.8000\n",
            "Epoch 88/100\n",
            "8766/8766 [==============================] - 25s 3ms/step - loss: 0.0478 - acc: 0.9368 - val_loss: 0.1479 - val_acc: 0.8075\n",
            "Epoch 89/100\n",
            "8766/8766 [==============================] - 25s 3ms/step - loss: 0.0483 - acc: 0.9362 - val_loss: 0.1507 - val_acc: 0.8065\n",
            "Epoch 90/100\n",
            "8766/8766 [==============================] - 25s 3ms/step - loss: 0.0496 - acc: 0.9349 - val_loss: 0.1501 - val_acc: 0.8050\n",
            "Epoch 91/100\n",
            "8766/8766 [==============================] - 25s 3ms/step - loss: 0.0476 - acc: 0.9400 - val_loss: 0.1531 - val_acc: 0.8030\n",
            "Epoch 92/100\n",
            "8766/8766 [==============================] - 25s 3ms/step - loss: 0.0483 - acc: 0.9368 - val_loss: 0.1531 - val_acc: 0.8000\n",
            "Epoch 93/100\n",
            "8766/8766 [==============================] - 25s 3ms/step - loss: 0.0459 - acc: 0.9419 - val_loss: 0.1498 - val_acc: 0.8060\n",
            "Epoch 94/100\n",
            "8766/8766 [==============================] - 25s 3ms/step - loss: 0.0446 - acc: 0.9416 - val_loss: 0.1600 - val_acc: 0.7875\n",
            "Epoch 95/100\n",
            "8766/8766 [==============================] - 25s 3ms/step - loss: 0.0454 - acc: 0.9393 - val_loss: 0.1476 - val_acc: 0.8020\n",
            "Epoch 96/100\n",
            "8766/8766 [==============================] - 25s 3ms/step - loss: 0.0419 - acc: 0.9443 - val_loss: 0.1464 - val_acc: 0.8170\n",
            "Epoch 97/100\n",
            "8766/8766 [==============================] - 25s 3ms/step - loss: 0.0453 - acc: 0.9399 - val_loss: 0.1477 - val_acc: 0.8050\n",
            "Epoch 98/100\n",
            "8766/8766 [==============================] - 25s 3ms/step - loss: 0.0422 - acc: 0.9446 - val_loss: 0.1486 - val_acc: 0.8045\n",
            "Epoch 99/100\n",
            "8766/8766 [==============================] - 25s 3ms/step - loss: 0.0420 - acc: 0.9459 - val_loss: 0.1573 - val_acc: 0.8020\n",
            "Epoch 100/100\n",
            "8766/8766 [==============================] - 25s 3ms/step - loss: 0.0405 - acc: 0.9472 - val_loss: 0.1529 - val_acc: 0.8100\n"
          ],
          "name": "stdout"
        },
        {
          "output_type": "display_data",
          "data": {
            "image/png": "[encoded data removed]",
            "text/plain": [
              "<matplotlib.figure.Figure at 0x7fbdda9df550>"
            ]
          },
          "metadata": {
            "tags": []
          }
        },
        {
          "output_type": "stream",
          "text": [
            "Test loss: 0.15285820579528808\n",
            "Test accuracy: 0.81\n"
          ],
          "name": "stdout"
        }
      ]
    },
    {
      "metadata": {
        "id": "vLBeUXTcddpA",
        "colab_type": "code",
        "colab": {}
      },
      "cell_type": "code",
      "source": [
        ""
      ],
      "execution_count": 0,
      "outputs": []
    }
  ]
}