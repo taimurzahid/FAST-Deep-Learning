{
 "cells": [
  {
   "cell_type": "code",
   "execution_count": 1,
   "metadata": {},
   "outputs": [
    {
     "name": "stderr",
     "output_type": "stream",
     "text": [
      "Using TensorFlow backend.\n"
     ]
    }
   ],
   "source": [
    "from __future__ import print_function\n",
    "import keras\n",
    "from keras.models import Sequential\n",
    "from keras.layers import Dense, Dropout, Flatten\n",
    "from keras.layers import Conv2D, MaxPooling2D\n",
    "from keras import backend as K\n",
    "import matplotlib.pyplot as plt\n",
    "from keras.callbacks import TensorBoard\n",
    "import matplotlib\n",
    "import numpy as np\n",
    "import os\n",
    "from PIL import Image\n",
    "from keras.optimizers import SGD\n",
    "import cv2\n",
    "from keras import regularizers"
   ]
  },
  {
   "cell_type": "code",
   "execution_count": 2,
   "metadata": {},
   "outputs": [],
   "source": [
    "x_train = []\n",
    "y_train = []\n",
    "x_test = []\n",
    "y_test = []\n",
    "batch_size = 50\n",
    "epochs = 30"
   ]
  },
  {
   "cell_type": "code",
   "execution_count": 3,
   "metadata": {},
   "outputs": [
    {
     "name": "stdout",
     "output_type": "stream",
     "text": [
      "Done\n"
     ]
    }
   ],
   "source": [
    "for filename in os.listdir(os.getcwd()+'/training/'):\n",
    "    #x = Image.open(os.getcwd()+'/training/'+filename)\n",
    "    x = cv2.imread(os.getcwd()+'/training/'+filename,cv2.IMREAD_GRAYSCALE)\n",
    "    x = cv2.resize(x, (64,64))\n",
    "    x_train.append(np.array(x))\n",
    "    if \"cat\" in filename:\n",
    "        y_train.append(1)\n",
    "    elif \"dog\" in filename:\n",
    "        y_train.append(0)\n",
    "        \n",
    "for filename in os.listdir(os.getcwd()+'/testing/'):\n",
    "    #x = Image.open(os.getcwd()+'/testing/'+filename)\n",
    "    x = cv2.imread(os.getcwd()+'/testing/'+filename,cv2.IMREAD_GRAYSCALE)\n",
    "    x = cv2.resize(x, (64,64))\n",
    "    x_test.append(np.array(x))\n",
    "    if \"cat\" in filename:\n",
    "        y_test.append(1)\n",
    "    elif \"dog\" in filename:\n",
    "        y_test.append(0)\n",
    "        \n",
    "print(\"Done\")"
   ]
  },
  {
   "cell_type": "code",
   "execution_count": 4,
   "metadata": {},
   "outputs": [],
   "source": [
    "x_train = np.array(x_train).astype('float32')\n",
    "x_test = np.array(x_test).astype('float32')\n",
    "x_train /= 255\n",
    "x_test /= 255\n"
   ]
  },
  {
   "cell_type": "code",
   "execution_count": 5,
   "metadata": {},
   "outputs": [
    {
     "name": "stdout",
     "output_type": "stream",
     "text": [
      "_________________________________________________________________\n",
      "Layer (type)                 Output Shape              Param #   \n",
      "=================================================================\n",
      "conv2d_1 (Conv2D)            (None, 62, 62, 12)        120       \n",
      "_________________________________________________________________\n",
      "conv2d_2 (Conv2D)            (None, 62, 62, 10)        1090      \n",
      "_________________________________________________________________\n",
      "max_pooling2d_1 (MaxPooling2 (None, 61, 61, 10)        0         \n",
      "_________________________________________________________________\n",
      "conv2d_3 (Conv2D)            (None, 61, 61, 4)         364       \n",
      "_________________________________________________________________\n",
      "conv2d_4 (Conv2D)            (None, 61, 61, 5)         85        \n",
      "_________________________________________________________________\n",
      "max_pooling2d_2 (MaxPooling2 (None, 59, 59, 5)         0         \n",
      "_________________________________________________________________\n",
      "conv2d_5 (Conv2D)            (None, 59, 59, 5)         230       \n",
      "_________________________________________________________________\n",
      "flatten_1 (Flatten)          (None, 17405)             0         \n",
      "_________________________________________________________________\n",
      "dropout_1 (Dropout)          (None, 17405)             0         \n",
      "_________________________________________________________________\n",
      "dense_1 (Dense)              (None, 100)               1740600   \n",
      "_________________________________________________________________\n",
      "dense_2 (Dense)              (None, 1)                 101       \n",
      "=================================================================\n",
      "Total params: 1,742,590\n",
      "Trainable params: 1,742,590\n",
      "Non-trainable params: 0\n",
      "_________________________________________________________________\n",
      "Train on 8000 samples, validate on 1600 samples\n",
      "Epoch 1/30\n",
      "8000/8000 [==============================] - 129s 16ms/step - loss: 0.2450 - acc: 0.5609 - val_loss: 0.2434 - val_acc: 0.5687\n",
      "Epoch 2/30\n",
      "8000/8000 [==============================] - 118s 15ms/step - loss: 0.2339 - acc: 0.6079 - val_loss: 0.2260 - val_acc: 0.6313\n",
      "Epoch 3/30\n",
      "8000/8000 [==============================] - 124s 15ms/step - loss: 0.2197 - acc: 0.6504 - val_loss: 0.2167 - val_acc: 0.6475\n",
      "Epoch 4/30\n",
      "8000/8000 [==============================] - 115s 14ms/step - loss: 0.2099 - acc: 0.6728 - val_loss: 0.2101 - val_acc: 0.6675\n",
      "Epoch 5/30\n",
      "8000/8000 [==============================] - 117s 15ms/step - loss: 0.2011 - acc: 0.6885 - val_loss: 0.2083 - val_acc: 0.6681\n",
      "Epoch 6/30\n",
      "8000/8000 [==============================] - 119s 15ms/step - loss: 0.1986 - acc: 0.6905 - val_loss: 0.2021 - val_acc: 0.6813\n",
      "Epoch 7/30\n",
      "8000/8000 [==============================] - 121s 15ms/step - loss: 0.1935 - acc: 0.6989 - val_loss: 0.2031 - val_acc: 0.6800\n",
      "Epoch 8/30\n",
      "8000/8000 [==============================] - 114s 14ms/step - loss: 0.1899 - acc: 0.7080 - val_loss: 0.2027 - val_acc: 0.6813\n",
      "Epoch 9/30\n",
      "8000/8000 [==============================] - 127s 16ms/step - loss: 0.1903 - acc: 0.7104 - val_loss: 0.2007 - val_acc: 0.6838\n",
      "Epoch 10/30\n",
      "8000/8000 [==============================] - 119s 15ms/step - loss: 0.1860 - acc: 0.7208 - val_loss: 0.2002 - val_acc: 0.6875\n",
      "Epoch 11/30\n",
      "8000/8000 [==============================] - 120s 15ms/step - loss: 0.1828 - acc: 0.7276 - val_loss: 0.2035 - val_acc: 0.6744\n",
      "Epoch 12/30\n",
      "8000/8000 [==============================] - 141s 18ms/step - loss: 0.1815 - acc: 0.7270 - val_loss: 0.2019 - val_acc: 0.6831\n",
      "Epoch 13/30\n",
      "8000/8000 [==============================] - 113s 14ms/step - loss: 0.1802 - acc: 0.7326 - val_loss: 0.2002 - val_acc: 0.6838\n",
      "Epoch 14/30\n",
      "8000/8000 [==============================] - 138s 17ms/step - loss: 0.1792 - acc: 0.7314 - val_loss: 0.1986 - val_acc: 0.6831\n",
      "Epoch 15/30\n",
      "8000/8000 [==============================] - 125s 16ms/step - loss: 0.1756 - acc: 0.7414 - val_loss: 0.2018 - val_acc: 0.6831\n",
      "Epoch 16/30\n",
      "8000/8000 [==============================] - 107s 13ms/step - loss: 0.1747 - acc: 0.7440 - val_loss: 0.1990 - val_acc: 0.6831\n",
      "Epoch 17/30\n",
      "8000/8000 [==============================] - 106s 13ms/step - loss: 0.1723 - acc: 0.7524 - val_loss: 0.2003 - val_acc: 0.6825\n",
      "Epoch 18/30\n",
      "8000/8000 [==============================] - 107s 13ms/step - loss: 0.1718 - acc: 0.7482 - val_loss: 0.1982 - val_acc: 0.6825\n",
      "Epoch 19/30\n",
      "8000/8000 [==============================] - 107s 13ms/step - loss: 0.1690 - acc: 0.7512 - val_loss: 0.1993 - val_acc: 0.6875\n",
      "Epoch 20/30\n",
      "8000/8000 [==============================] - 107s 13ms/step - loss: 0.1688 - acc: 0.7519 - val_loss: 0.2017 - val_acc: 0.6919\n",
      "Epoch 21/30\n",
      "8000/8000 [==============================] - 106s 13ms/step - loss: 0.1684 - acc: 0.7546 - val_loss: 0.2064 - val_acc: 0.6906\n",
      "Epoch 22/30\n",
      "8000/8000 [==============================] - 106s 13ms/step - loss: 0.1647 - acc: 0.7616 - val_loss: 0.2002 - val_acc: 0.6906\n",
      "Epoch 23/30\n",
      "8000/8000 [==============================] - 107s 13ms/step - loss: 0.1648 - acc: 0.7616 - val_loss: 0.1988 - val_acc: 0.6844\n",
      "Epoch 24/30\n",
      "8000/8000 [==============================] - 119s 15ms/step - loss: 0.1624 - acc: 0.7659 - val_loss: 0.2098 - val_acc: 0.6794\n",
      "Epoch 25/30\n",
      "8000/8000 [==============================] - 118s 15ms/step - loss: 0.1621 - acc: 0.7611 - val_loss: 0.2025 - val_acc: 0.6850\n",
      "Epoch 26/30\n",
      "8000/8000 [==============================] - 112s 14ms/step - loss: 0.1601 - acc: 0.7697 - val_loss: 0.2039 - val_acc: 0.6837\n",
      "Epoch 27/30\n",
      "8000/8000 [==============================] - 117s 15ms/step - loss: 0.1589 - acc: 0.7719 - val_loss: 0.2005 - val_acc: 0.6825\n",
      "Epoch 28/30\n",
      "8000/8000 [==============================] - 117s 15ms/step - loss: 0.1614 - acc: 0.7645 - val_loss: 0.2035 - val_acc: 0.6831\n",
      "Epoch 29/30\n",
      "8000/8000 [==============================] - 113s 14ms/step - loss: 0.1553 - acc: 0.7824 - val_loss: 0.2037 - val_acc: 0.6825\n",
      "Epoch 30/30\n",
      "8000/8000 [==============================] - 113s 14ms/step - loss: 0.1573 - acc: 0.7760 - val_loss: 0.2022 - val_acc: 0.6869\n"
     ]
    },
    {
     "data": {
      "image/png": "[encoded data removed]",
      "text/plain": [
       "<Figure size 432x288 with 1 Axes>"
      ]
     },
     "metadata": {
      "needs_background": "light"
     },
     "output_type": "display_data"
    },
    {
     "name": "stdout",
     "output_type": "stream",
     "text": [
      "Test loss: 0.2022169417142868\n",
      "Test accuracy: 0.686875\n"
     ]
    }
   ],
   "source": [
    "model = Sequential()\n",
    "model.add(Conv2D(kernel_size=(3,3),filters=12,input_shape=(64, 64, 1),activation=\"relu\",padding=\"valid\"))\n",
    "model.add(Conv2D(kernel_size=(3,3),filters=10,activation=\"relu\",padding=\"same\"))\n",
    "model.add(MaxPooling2D(pool_size=(2,2),strides=(1,1)))\n",
    "model.add(Conv2D(kernel_size=(3,3),filters=4,activation=\"relu\",padding=\"same\"))\n",
    "model.add(Conv2D(kernel_size=(2,2),filters=5,activation=\"relu\",padding=\"same\"))\n",
    "model.add(MaxPooling2D(pool_size=(3,3),strides=(1,1)))\n",
    "model.add(Conv2D(kernel_size=(3,3),filters=5,activation=\"relu\",padding=\"same\"))\n",
    "model.add(Flatten())\n",
    "model.add(Dropout(0.55))\n",
    "model.add(Dense(100,activation=\"sigmoid\"))\n",
    "model.add(Dense(1,activation='sigmoid'))\n",
    "model.summary()\n",
    "\n",
    "model.compile(loss=keras.losses.mean_squared_error,\n",
    "              optimizer=keras.optimizers.Adam(lr=0.0003),\n",
    "              metrics=['accuracy'])\n",
    "\n",
    "x_train = x_train.reshape((x_train.shape)[0],(x_train.shape)[1],(x_train.shape)[2],1)\n",
    "x_test = x_test.reshape((x_test.shape)[0],(x_test.shape)[1],(x_test.shape)[2],1)\n",
    "\n",
    "X = model.fit(x_train, y_train,\n",
    "          batch_size=batch_size,\n",
    "          epochs=epochs,\n",
    "          verbose=1,\n",
    "          validation_data=(x_test, y_test))\n",
    "\n",
    "plt.plot(X.history['loss'])\n",
    "plt.plot(X.history['val_loss'])\n",
    "plt.title('model loss')\n",
    "plt.ylabel('loss')\n",
    "plt.xlabel('epoch')\n",
    "plt.legend(['train', 'validation'], loc='upper left')\n",
    "plt.show()\n",
    "\n",
    "score = model.evaluate(x_test, y_test, verbose=0)\n",
    "print('Test loss:', score[0])\n",
    "print('Test accuracy:', score[1])"
   ]
  },
  {
   "cell_type": "code",
   "execution_count": null,
   "metadata": {},
   "outputs": [],
   "source": []
  }
 ],
 "metadata": {
  "kernelspec": {
   "display_name": "Python 3",
   "language": "python",
   "name": "python3"
  },
  "language_info": {
   "codemirror_mode": {
    "name": "ipython",
    "version": 3
   },
   "file_extension": ".py",
   "mimetype": "text/x-python",
   "name": "python",
   "nbconvert_exporter": "python",
   "pygments_lexer": "ipython3",
   "version": "3.5.6"
  }
 },
 "nbformat": 4,
 "nbformat_minor": 2
}
