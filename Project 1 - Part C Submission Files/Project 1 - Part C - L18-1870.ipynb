{
 "cells": [
  {
   "cell_type": "markdown",
   "metadata": {},
   "source": [
    " # Arhum Ali \n",
    " # 18L-1870\n",
    " # PROJECT1_PART C "
   ]
  },
  {
   "cell_type": "code",
   "execution_count": 91,
   "metadata": {},
   "outputs": [],
   "source": [
    "import os \n",
    "from PIL import Image\n",
    "import numpy as np\n",
    "import pandas\n",
    "import keras\n",
    "import matplotlib\n",
    "from sklearn.model_selection import train_test_split\n",
    "from keras.models import Sequential\n",
    "from keras.layers import Dense, Dropout, Flatten\n",
    "\n",
    "from keras.layers import Conv2D, MaxPooling2D\n",
    "from keras import backend as K\n",
    "from keras import initializers\n",
    "from keras.regularizers import l2\n",
    "from keras import regularizers\n",
    "import matplotlib.pyplot as plt\n",
    "import cv2\n"
   ]
  },
  {
   "cell_type": "markdown",
   "metadata": {},
   "source": [
    "# initializing variables"
   ]
  },
  {
   "cell_type": "code",
   "execution_count": 92,
   "metadata": {},
   "outputs": [],
   "source": [
    "x_train=[]\n",
    "y_train=[]\n",
    "x_test=[]\n",
    "y_test=[]"
   ]
  },
  {
   "cell_type": "markdown",
   "metadata": {},
   "source": [
    "# Loading files in variables, turning them into greyscale images and storing in numpy arrays"
   ]
  },
  {
   "cell_type": "code",
   "execution_count": 93,
   "metadata": {},
   "outputs": [],
   "source": [
    "for f in os.listdir(os.getcwd()+'/Training/'):\n",
    "    x = cv2.imread(os.getcwd()+'/Training/'+f,cv2.IMREAD_GRAYSCALE)\n",
    "    x = cv2.resize(x, (64,64))\n",
    "    x_train.append(np.array(x))\n",
    "    if \"cat\" in f:\n",
    "        y_train.append(1)\n",
    "    elif \"dog\" in f:\n",
    "        y_train.append(0)\n",
    "        \n",
    "for f in os.listdir(os.getcwd()+'/Testing/'):\n",
    "    x = cv2.imread(os.getcwd()+'/Testing/'+f,cv2.IMREAD_GRAYSCALE)\n",
    "    x = cv2.resize(x, (64,64))\n",
    "    x_test.append(np.array(x))\n",
    "    x = cv2.resize(x, (64,64))\n",
    "    if \"cat\" in f:\n",
    "        y_test.append(1)\n",
    "    elif \"dog\" in f:\n",
    "        y_test.append(0)"
   ]
  },
  {
   "cell_type": "markdown",
   "metadata": {},
   "source": [
    "# Normalizing"
   ]
  },
  {
   "cell_type": "code",
   "execution_count": 94,
   "metadata": {},
   "outputs": [],
   "source": [
    "x_train = np.array(x_train).astype('float32')\n",
    "x_test = np.array(x_test).astype('float32')\n",
    "x_train /= 255\n",
    "x_test /= 255"
   ]
  },
  {
   "cell_type": "markdown",
   "metadata": {},
   "source": [
    "# Increased the number of filters to match with the big dataset \n",
    "\n",
    "# Increased regularization via L2 norm and by increasing dropout proportion  "
   ]
  },
  {
   "cell_type": "code",
   "execution_count": 101,
   "metadata": {
    "scrolled": true
   },
   "outputs": [],
   "source": [
    "model = Sequential()\n",
    "model.add(Conv2D(kernel_size=(3,3),filters=64,input_shape=(64, 64,\n",
    "1),activation=\"relu\",padding=\"valid\"))\n",
    "model.add(Conv2D(kernel_size=(3,3),filters=64,activation=\"relu\",padding=\"same\"))\n",
    "model.add(MaxPooling2D(pool_size=(2,2),strides=(2,2)))\n",
    "model.add(Conv2D(kernel_size=(3,3),filters=32,activation=\"relu\",padding=\"same\"))\n",
    "model.add(Conv2D(kernel_size=(3,3),filters=16,activation=\"relu\",padding=\"same\"))\n",
    "model.add(MaxPooling2D(pool_size=(3,3),strides=(2,2)))\n",
    "model.add(Conv2D(kernel_size=(2,2),strides=(2,2),filters=64))\n",
    "model.add(Flatten())\n",
    "model.add(Dropout(0.8))\n",
    "model.add(Dense(128,activation=\"relu\",kernel_regularizer=regularizers.l2(0.1)))\n",
    "model.add(Dense(1,activation=\"sigmoid\"))\n"
   ]
  },
  {
   "cell_type": "code",
   "execution_count": 105,
   "metadata": {},
   "outputs": [],
   "source": [
    "batch_size = 100\n",
    "epochs = 100"
   ]
  },
  {
   "cell_type": "markdown",
   "metadata": {},
   "source": [
    "# Using SGD optimizer with 0.03 learning rate and 0.8 momentum"
   ]
  },
  {
   "cell_type": "code",
   "execution_count": 106,
   "metadata": {},
   "outputs": [
    {
     "name": "stdout",
     "output_type": "stream",
     "text": [
      "(18000, 64, 64, 1)\n",
      "(18000, 64, 64, 1)\n"
     ]
    }
   ],
   "source": [
    "model.compile(loss=keras.losses.mean_squared_error,\n",
    "              optimizer=keras.optimizers.SGD(lr=0.03,momentum=0.8),\n",
    "              metrics=['accuracy'])\n",
    "print(x_train.shape)\n",
    "x_train = x_train.reshape((x_train.shape)[0],(x_train.shape)[1],(x_train.shape)[2],1)\n",
    "x_test = x_test.reshape((x_test.shape)[0],(x_test.shape)[1],(x_test.shape)[2],1)\n",
    "print(x_train.shape)"
   ]
  },
  {
   "cell_type": "code",
   "execution_count": 107,
   "metadata": {
    "scrolled": true
   },
   "outputs": [
    {
     "name": "stdout",
     "output_type": "stream",
     "text": [
      "Train on 18000 samples, validate on 7000 samples\n",
      "Epoch 1/100\n",
      "18000/18000 [==============================] - 80s 4ms/step - loss: 0.2506 - acc: 0.5146 - val_loss: 0.2500 - val_acc: 0.5214\n",
      "Epoch 2/100\n",
      "18000/18000 [==============================] - 39s 2ms/step - loss: 0.2502 - acc: 0.5236 - val_loss: 0.2500 - val_acc: 0.5517\n",
      "Epoch 3/100\n",
      "18000/18000 [==============================] - 39s 2ms/step - loss: 0.2505 - acc: 0.5297 - val_loss: 0.2510 - val_acc: 0.5269\n",
      "Epoch 4/100\n",
      "18000/18000 [==============================] - 39s 2ms/step - loss: 0.2503 - acc: 0.5343 - val_loss: 0.2498 - val_acc: 0.5477\n",
      "Epoch 5/100\n",
      "18000/18000 [==============================] - 39s 2ms/step - loss: 0.2510 - acc: 0.5447 - val_loss: 0.2511 - val_acc: 0.5311\n",
      "Epoch 6/100\n",
      "18000/18000 [==============================] - 39s 2ms/step - loss: 0.2510 - acc: 0.5441 - val_loss: 0.2499 - val_acc: 0.5556\n",
      "Epoch 7/100\n",
      "18000/18000 [==============================] - 39s 2ms/step - loss: 0.2506 - acc: 0.5584 - val_loss: 0.2506 - val_acc: 0.5531\n",
      "Epoch 8/100\n",
      "18000/18000 [==============================] - 39s 2ms/step - loss: 0.2508 - acc: 0.5617 - val_loss: 0.2487 - val_acc: 0.5771\n",
      "Epoch 9/100\n",
      "18000/18000 [==============================] - 39s 2ms/step - loss: 0.2497 - acc: 0.5722 - val_loss: 0.2507 - val_acc: 0.5503\n",
      "Epoch 10/100\n",
      "18000/18000 [==============================] - 39s 2ms/step - loss: 0.2481 - acc: 0.5869 - val_loss: 0.2568 - val_acc: 0.5340\n",
      "Epoch 11/100\n",
      "18000/18000 [==============================] - 39s 2ms/step - loss: 0.2474 - acc: 0.6001 - val_loss: 0.2433 - val_acc: 0.6213\n",
      "Epoch 12/100\n",
      "18000/18000 [==============================] - 39s 2ms/step - loss: 0.2478 - acc: 0.6143 - val_loss: 0.2446 - val_acc: 0.6244\n",
      "Epoch 13/100\n",
      "18000/18000 [==============================] - 39s 2ms/step - loss: 0.2479 - acc: 0.6191 - val_loss: 0.2433 - val_acc: 0.6441\n",
      "Epoch 14/100\n",
      "18000/18000 [==============================] - 39s 2ms/step - loss: 0.2482 - acc: 0.6236 - val_loss: 0.2485 - val_acc: 0.6366\n",
      "Epoch 15/100\n",
      "18000/18000 [==============================] - 39s 2ms/step - loss: 0.2485 - acc: 0.6261 - val_loss: 0.2615 - val_acc: 0.5886\n",
      "Epoch 16/100\n",
      "18000/18000 [==============================] - 39s 2ms/step - loss: 0.2477 - acc: 0.6338 - val_loss: 0.2518 - val_acc: 0.6309\n",
      "Epoch 17/100\n",
      "18000/18000 [==============================] - 39s 2ms/step - loss: 0.2472 - acc: 0.6316 - val_loss: 0.2452 - val_acc: 0.6297\n",
      "Epoch 18/100\n",
      "18000/18000 [==============================] - 39s 2ms/step - loss: 0.2451 - acc: 0.6392 - val_loss: 0.2394 - val_acc: 0.6656\n",
      "Epoch 19/100\n",
      "18000/18000 [==============================] - 39s 2ms/step - loss: 0.2425 - acc: 0.6493 - val_loss: 0.2340 - val_acc: 0.6780\n",
      "Epoch 20/100\n",
      "18000/18000 [==============================] - 39s 2ms/step - loss: 0.2418 - acc: 0.6568 - val_loss: 0.2348 - val_acc: 0.6741\n",
      "Epoch 21/100\n",
      "18000/18000 [==============================] - 39s 2ms/step - loss: 0.2400 - acc: 0.6635 - val_loss: 0.2301 - val_acc: 0.6929\n",
      "Epoch 22/100\n",
      "18000/18000 [==============================] - 39s 2ms/step - loss: 0.2394 - acc: 0.6713 - val_loss: 0.2257 - val_acc: 0.7059\n",
      "Epoch 23/100\n",
      "18000/18000 [==============================] - 39s 2ms/step - loss: 0.2356 - acc: 0.6801 - val_loss: 0.2258 - val_acc: 0.7047\n",
      "Epoch 24/100\n",
      "18000/18000 [==============================] - 39s 2ms/step - loss: 0.2339 - acc: 0.6879 - val_loss: 0.2221 - val_acc: 0.7134\n",
      "Epoch 25/100\n",
      "18000/18000 [==============================] - 39s 2ms/step - loss: 0.2314 - acc: 0.6927 - val_loss: 0.2266 - val_acc: 0.7000\n",
      "Epoch 26/100\n",
      "18000/18000 [==============================] - 39s 2ms/step - loss: 0.2292 - acc: 0.6946 - val_loss: 0.2183 - val_acc: 0.7246\n",
      "Epoch 27/100\n",
      "18000/18000 [==============================] - 39s 2ms/step - loss: 0.2279 - acc: 0.7034 - val_loss: 0.2197 - val_acc: 0.7194\n",
      "Epoch 28/100\n",
      "18000/18000 [==============================] - 39s 2ms/step - loss: 0.2269 - acc: 0.7074 - val_loss: 0.2184 - val_acc: 0.7186\n",
      "Epoch 29/100\n",
      "18000/18000 [==============================] - 39s 2ms/step - loss: 0.2256 - acc: 0.7102 - val_loss: 0.2100 - val_acc: 0.7359\n",
      "Epoch 30/100\n",
      "18000/18000 [==============================] - 39s 2ms/step - loss: 0.2224 - acc: 0.7120 - val_loss: 0.2246 - val_acc: 0.7041\n",
      "Epoch 31/100\n",
      "18000/18000 [==============================] - 39s 2ms/step - loss: 0.2195 - acc: 0.7201 - val_loss: 0.2104 - val_acc: 0.7363\n",
      "Epoch 32/100\n",
      "18000/18000 [==============================] - 39s 2ms/step - loss: 0.2189 - acc: 0.7163 - val_loss: 0.2172 - val_acc: 0.7266\n",
      "Epoch 33/100\n",
      "18000/18000 [==============================] - 39s 2ms/step - loss: 0.2158 - acc: 0.7261 - val_loss: 0.2048 - val_acc: 0.7451\n",
      "Epoch 34/100\n",
      "18000/18000 [==============================] - 39s 2ms/step - loss: 0.2129 - acc: 0.7322 - val_loss: 0.2077 - val_acc: 0.7484\n",
      "Epoch 35/100\n",
      "18000/18000 [==============================] - 39s 2ms/step - loss: 0.2130 - acc: 0.7328 - val_loss: 0.2160 - val_acc: 0.7251\n",
      "Epoch 36/100\n",
      "18000/18000 [==============================] - 39s 2ms/step - loss: 0.2119 - acc: 0.7318 - val_loss: 0.2031 - val_acc: 0.7439\n",
      "Epoch 37/100\n",
      "18000/18000 [==============================] - 39s 2ms/step - loss: 0.2078 - acc: 0.7401 - val_loss: 0.1982 - val_acc: 0.7590\n",
      "Epoch 38/100\n",
      "18000/18000 [==============================] - 39s 2ms/step - loss: 0.2050 - acc: 0.7432 - val_loss: 0.2024 - val_acc: 0.7527\n",
      "Epoch 39/100\n",
      "18000/18000 [==============================] - 39s 2ms/step - loss: 0.2048 - acc: 0.7441 - val_loss: 0.1984 - val_acc: 0.7534\n",
      "Epoch 40/100\n",
      "18000/18000 [==============================] - 39s 2ms/step - loss: 0.2005 - acc: 0.7519 - val_loss: 0.2001 - val_acc: 0.7494\n",
      "Epoch 41/100\n",
      "18000/18000 [==============================] - 39s 2ms/step - loss: 0.1991 - acc: 0.7577 - val_loss: 0.1891 - val_acc: 0.7673\n",
      "Epoch 42/100\n",
      "18000/18000 [==============================] - 39s 2ms/step - loss: 0.1973 - acc: 0.7557 - val_loss: 0.1947 - val_acc: 0.7610\n",
      "Epoch 43/100\n",
      "18000/18000 [==============================] - 39s 2ms/step - loss: 0.1966 - acc: 0.7567 - val_loss: 0.1885 - val_acc: 0.7721\n",
      "Epoch 44/100\n",
      "18000/18000 [==============================] - 39s 2ms/step - loss: 0.1930 - acc: 0.7631 - val_loss: 0.1919 - val_acc: 0.7650\n",
      "Epoch 45/100\n",
      "18000/18000 [==============================] - 39s 2ms/step - loss: 0.1912 - acc: 0.7679 - val_loss: 0.1890 - val_acc: 0.7689\n",
      "Epoch 46/100\n",
      "18000/18000 [==============================] - 39s 2ms/step - loss: 0.1881 - acc: 0.7703 - val_loss: 0.1898 - val_acc: 0.7687\n",
      "Epoch 47/100\n",
      "18000/18000 [==============================] - 39s 2ms/step - loss: 0.1872 - acc: 0.7761 - val_loss: 0.1810 - val_acc: 0.7831\n",
      "Epoch 48/100\n",
      "18000/18000 [==============================] - 39s 2ms/step - loss: 0.1846 - acc: 0.7777 - val_loss: 0.1860 - val_acc: 0.7776\n",
      "Epoch 49/100\n",
      "18000/18000 [==============================] - 39s 2ms/step - loss: 0.1842 - acc: 0.7826 - val_loss: 0.1945 - val_acc: 0.7593\n",
      "Epoch 50/100\n",
      "18000/18000 [==============================] - 39s 2ms/step - loss: 0.1802 - acc: 0.7878 - val_loss: 0.1920 - val_acc: 0.7667\n",
      "Epoch 51/100\n",
      "18000/18000 [==============================] - 39s 2ms/step - loss: 0.1822 - acc: 0.7842 - val_loss: 0.1784 - val_acc: 0.7847\n",
      "Epoch 52/100\n",
      "18000/18000 [==============================] - 39s 2ms/step - loss: 0.1799 - acc: 0.7887 - val_loss: 0.1860 - val_acc: 0.7800\n",
      "Epoch 53/100\n",
      "18000/18000 [==============================] - 39s 2ms/step - loss: 0.1792 - acc: 0.7912 - val_loss: 0.1800 - val_acc: 0.7860\n",
      "Epoch 54/100\n",
      "18000/18000 [==============================] - 39s 2ms/step - loss: 0.1772 - acc: 0.7938 - val_loss: 0.1868 - val_acc: 0.7787\n",
      "Epoch 55/100\n",
      "18000/18000 [==============================] - 39s 2ms/step - loss: 0.1755 - acc: 0.7961 - val_loss: 0.1759 - val_acc: 0.7903\n",
      "Epoch 56/100\n",
      "18000/18000 [==============================] - 39s 2ms/step - loss: 0.1726 - acc: 0.8004 - val_loss: 0.1808 - val_acc: 0.7839\n",
      "Epoch 57/100\n",
      "18000/18000 [==============================] - 39s 2ms/step - loss: 0.1758 - acc: 0.7950 - val_loss: 0.1894 - val_acc: 0.7743\n",
      "Epoch 58/100\n",
      "18000/18000 [==============================] - 40s 2ms/step - loss: 0.1731 - acc: 0.7997 - val_loss: 0.1776 - val_acc: 0.7886\n",
      "Epoch 59/100\n",
      "18000/18000 [==============================] - 39s 2ms/step - loss: 0.1708 - acc: 0.8029 - val_loss: 0.1762 - val_acc: 0.7940\n",
      "Epoch 60/100\n",
      "18000/18000 [==============================] - 39s 2ms/step - loss: 0.1695 - acc: 0.8043 - val_loss: 0.1740 - val_acc: 0.7940\n",
      "Epoch 61/100\n",
      "18000/18000 [==============================] - 40s 2ms/step - loss: 0.1704 - acc: 0.8020 - val_loss: 0.1789 - val_acc: 0.7900\n",
      "Epoch 62/100\n",
      "18000/18000 [==============================] - 39s 2ms/step - loss: 0.1666 - acc: 0.8135 - val_loss: 0.1789 - val_acc: 0.7913\n",
      "Epoch 63/100\n",
      "18000/18000 [==============================] - 39s 2ms/step - loss: 0.1682 - acc: 0.8073 - val_loss: 0.1803 - val_acc: 0.7887\n",
      "Epoch 64/100\n",
      "18000/18000 [==============================] - 40s 2ms/step - loss: 0.1640 - acc: 0.8148 - val_loss: 0.1875 - val_acc: 0.7706\n",
      "Epoch 65/100\n",
      "18000/18000 [==============================] - 39s 2ms/step - loss: 0.1617 - acc: 0.8174 - val_loss: 0.1754 - val_acc: 0.7937\n",
      "Epoch 66/100\n",
      "18000/18000 [==============================] - 39s 2ms/step - loss: 0.1627 - acc: 0.8204 - val_loss: 0.1771 - val_acc: 0.7851\n",
      "Epoch 67/100\n",
      "18000/18000 [==============================] - 39s 2ms/step - loss: 0.1633 - acc: 0.8159 - val_loss: 0.1872 - val_acc: 0.7764\n",
      "Epoch 68/100\n",
      "18000/18000 [==============================] - 39s 2ms/step - loss: 0.1604 - acc: 0.8246 - val_loss: 0.1719 - val_acc: 0.8021\n",
      "Epoch 69/100\n",
      "18000/18000 [==============================] - 39s 2ms/step - loss: 0.1557 - acc: 0.8291 - val_loss: 0.1824 - val_acc: 0.7866\n",
      "Epoch 70/100\n",
      "18000/18000 [==============================] - 39s 2ms/step - loss: 0.1577 - acc: 0.8282 - val_loss: 0.1697 - val_acc: 0.8036\n",
      "Epoch 71/100\n",
      "18000/18000 [==============================] - 39s 2ms/step - loss: 0.1562 - acc: 0.8292 - val_loss: 0.1867 - val_acc: 0.7839\n",
      "Epoch 72/100\n",
      "18000/18000 [==============================] - 39s 2ms/step - loss: 0.1577 - acc: 0.8276 - val_loss: 0.1751 - val_acc: 0.7999\n",
      "Epoch 73/100\n",
      "18000/18000 [==============================] - 39s 2ms/step - loss: 0.1528 - acc: 0.8353 - val_loss: 0.1780 - val_acc: 0.7913\n",
      "Epoch 74/100\n",
      "18000/18000 [==============================] - 39s 2ms/step - loss: 0.1514 - acc: 0.8375 - val_loss: 0.1780 - val_acc: 0.7889\n",
      "Epoch 75/100\n",
      "18000/18000 [==============================] - 39s 2ms/step - loss: 0.1515 - acc: 0.8351 - val_loss: 0.1673 - val_acc: 0.8096\n",
      "Epoch 76/100\n",
      "18000/18000 [==============================] - 40s 2ms/step - loss: 0.1508 - acc: 0.8379 - val_loss: 0.1799 - val_acc: 0.7906\n",
      "Epoch 77/100\n",
      "18000/18000 [==============================] - 39s 2ms/step - loss: 0.1465 - acc: 0.8442 - val_loss: 0.1683 - val_acc: 0.8031\n",
      "Epoch 78/100\n",
      "18000/18000 [==============================] - 39s 2ms/step - loss: 0.1496 - acc: 0.8393 - val_loss: 0.1695 - val_acc: 0.8076\n",
      "Epoch 79/100\n",
      "18000/18000 [==============================] - 39s 2ms/step - loss: 0.1484 - acc: 0.8408 - val_loss: 0.1753 - val_acc: 0.8021\n",
      "Epoch 80/100\n",
      "18000/18000 [==============================] - 39s 2ms/step - loss: 0.1471 - acc: 0.8440 - val_loss: 0.1820 - val_acc: 0.7869\n",
      "Epoch 81/100\n",
      "18000/18000 [==============================] - 39s 2ms/step - loss: 0.1422 - acc: 0.8502 - val_loss: 0.1751 - val_acc: 0.7957\n",
      "Epoch 82/100\n",
      "18000/18000 [==============================] - 39s 2ms/step - loss: 0.1435 - acc: 0.8485 - val_loss: 0.1784 - val_acc: 0.7931\n",
      "Epoch 83/100\n",
      "18000/18000 [==============================] - 39s 2ms/step - loss: 0.1440 - acc: 0.8499 - val_loss: 0.1739 - val_acc: 0.8016\n",
      "Epoch 84/100\n",
      "18000/18000 [==============================] - 39s 2ms/step - loss: 0.1438 - acc: 0.8488 - val_loss: 0.1822 - val_acc: 0.7930\n",
      "Epoch 85/100\n",
      "18000/18000 [==============================] - 39s 2ms/step - loss: 0.1387 - acc: 0.8599 - val_loss: 0.1756 - val_acc: 0.8033\n",
      "Epoch 86/100\n",
      "18000/18000 [==============================] - 39s 2ms/step - loss: 0.1402 - acc: 0.8574 - val_loss: 0.1784 - val_acc: 0.7986\n",
      "Epoch 87/100\n",
      "18000/18000 [==============================] - 41s 2ms/step - loss: 0.1393 - acc: 0.8565 - val_loss: 0.1768 - val_acc: 0.7996\n",
      "Epoch 88/100\n",
      "18000/18000 [==============================] - 39s 2ms/step - loss: 0.1396 - acc: 0.8546 - val_loss: 0.1771 - val_acc: 0.7970\n",
      "Epoch 89/100\n",
      "18000/18000 [==============================] - 39s 2ms/step - loss: 0.1367 - acc: 0.8613 - val_loss: 0.1896 - val_acc: 0.7813\n",
      "Epoch 90/100\n",
      "18000/18000 [==============================] - 40s 2ms/step - loss: 0.1378 - acc: 0.8594 - val_loss: 0.1742 - val_acc: 0.8011\n",
      "Epoch 91/100\n",
      "18000/18000 [==============================] - 39s 2ms/step - loss: 0.1357 - acc: 0.8623 - val_loss: 0.1787 - val_acc: 0.7993\n",
      "Epoch 92/100\n",
      "18000/18000 [==============================] - 39s 2ms/step - loss: 0.1351 - acc: 0.8628 - val_loss: 0.1785 - val_acc: 0.7983\n",
      "Epoch 93/100\n",
      "18000/18000 [==============================] - 39s 2ms/step - loss: 0.1345 - acc: 0.8659 - val_loss: 0.1784 - val_acc: 0.8036\n",
      "Epoch 94/100\n",
      "18000/18000 [==============================] - 39s 2ms/step - loss: 0.1324 - acc: 0.8672 - val_loss: 0.1711 - val_acc: 0.8064\n",
      "Epoch 95/100\n",
      "18000/18000 [==============================] - 39s 2ms/step - loss: 0.1298 - acc: 0.8695 - val_loss: 0.1833 - val_acc: 0.7910\n",
      "Epoch 96/100\n",
      "18000/18000 [==============================] - 39s 2ms/step - loss: 0.1333 - acc: 0.8663 - val_loss: 0.1869 - val_acc: 0.7946\n",
      "Epoch 97/100\n",
      "18000/18000 [==============================] - 39s 2ms/step - loss: 0.1286 - acc: 0.8783 - val_loss: 0.1766 - val_acc: 0.8110\n",
      "Epoch 98/100\n",
      "18000/18000 [==============================] - 39s 2ms/step - loss: 0.1298 - acc: 0.8762 - val_loss: 0.1716 - val_acc: 0.8087\n",
      "Epoch 99/100\n",
      "18000/18000 [==============================] - 39s 2ms/step - loss: 0.1268 - acc: 0.8761 - val_loss: 0.1965 - val_acc: 0.7744\n",
      "Epoch 100/100\n",
      "18000/18000 [==============================] - 39s 2ms/step - loss: 0.1256 - acc: 0.8786 - val_loss: 0.1807 - val_acc: 0.8039\n",
      "dict_keys(['val_loss', 'val_acc', 'loss', 'acc'])\n"
     ]
    },
    {
     "data": {
      "image/png": "[encoded data removed]",
      "text/plain": [
       "<Figure size 432x288 with 1 Axes>"
      ]
     },
     "metadata": {
      "needs_background": "light"
     },
     "output_type": "display_data"
    },
    {
     "data": {
      "image/png": "[encoded data removed]",
      "text/plain": [
       "<Figure size 432x288 with 1 Axes>"
      ]
     },
     "metadata": {
      "needs_background": "light"
     },
     "output_type": "display_data"
    }
   ],
   "source": [
    "history = model.fit(x_train, y_train,\n",
    "          batch_size=batch_size,\n",
    "          epochs=epochs,\n",
    "          verbose=1,\n",
    "          validation_data=(x_test, y_test))\n",
    "score = model.evaluate(x_test, y_test, verbose=0)\n",
    "print(history.history.keys())\n",
    "# summarize history for accuracy\n",
    "plt.plot(history.history['acc'])\n",
    "plt.plot(history.history['val_acc'])\n",
    "plt.title('model accuracy')\n",
    "plt.ylabel('accuracy')\n",
    "plt.xlabel('epoch')\n",
    "plt.legend(['train', 'test'], loc='upper right')\n",
    "plt.show()\n",
    "# summarize history for loss\n",
    "plt.plot(history.history['loss'])\n",
    "plt.plot(history.history['val_loss'])\n",
    "plt.title('model loss')\n",
    "plt.ylabel('loss')\n",
    "plt.xlabel('epoch')\n",
    "plt.legend(['train', 'test'], loc='upper right')\n",
    "plt.show()"
   ]
  },
  {
   "cell_type": "markdown",
   "metadata": {},
   "source": [
    "# Final Accuracy:\n",
    "#                            Training:              87.86%\n",
    "#                            Validation:           80.39%"
   ]
  },
  {
   "cell_type": "code",
   "execution_count": null,
   "metadata": {},
   "outputs": [],
   "source": []
  }
 ],
 "metadata": {
  "kernelspec": {
   "display_name": "Python 3",
   "language": "python",
   "name": "python3"
  }
 },
 "nbformat": 4,
 "nbformat_minor": 2
}
