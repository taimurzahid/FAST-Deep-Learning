{
 "cells": [
  {
   "cell_type": "markdown",
   "metadata": {},
   "source": [
    "# Deep Learning - Project 1-C\n",
    "## Abdul Wahab Akram\n",
    "## 18L-1845"
   ]
  },
  {
   "cell_type": "markdown",
   "metadata": {},
   "source": [
    "### Imports for PreProcessing"
   ]
  },
  {
   "cell_type": "code",
   "execution_count": 1,
   "metadata": {},
   "outputs": [],
   "source": [
    "import numpy as np\n",
    "import pandas as pd\n",
    "import cv2\n",
    "import os\n",
    "import matplotlib.pyplot as plt"
   ]
  },
  {
   "cell_type": "code",
   "execution_count": 2,
   "metadata": {},
   "outputs": [],
   "source": [
    "data = []\n",
    "labels = []\n",
    "im_width = 64\n",
    "im_height = 64"
   ]
  },
  {
   "cell_type": "markdown",
   "metadata": {},
   "source": [
    "### Pre-Processing Function"
   ]
  },
  {
   "cell_type": "code",
   "execution_count": 3,
   "metadata": {},
   "outputs": [],
   "source": [
    "def preProcessing(path):\n",
    "    progress = 0\n",
    "    image_files = [f for f in os.listdir(path) if os.path.isfile(os.path.join(path,f))]\n",
    "    \n",
    "    for file_name in image_files:\n",
    "        image_file = str(path + file_name)\n",
    "        \n",
    "        img = cv2.imread(image_file,cv2.IMREAD_GRAYSCALE)\n",
    "        new_img = cv2.resize(img,(im_width,im_height))\n",
    "        data.append(new_img)\n",
    "        progress = progress+1\n",
    "        \n",
    "        if progress%1000==0:\n",
    "            print('Progress '+str(progress)+' Image done')\n",
    "        "
   ]
  },
  {
   "cell_type": "markdown",
   "metadata": {},
   "source": [
    "### Pre-Process Images"
   ]
  },
  {
   "cell_type": "code",
   "execution_count": 4,
   "metadata": {},
   "outputs": [
    {
     "name": "stdout",
     "output_type": "stream",
     "text": [
      "Progress 1000 Image done\n",
      "Progress 2000 Image done\n",
      "Progress 3000 Image done\n",
      "Progress 4000 Image done\n",
      "Progress 5000 Image done\n",
      "Progress 6000 Image done\n",
      "Progress 7000 Image done\n",
      "Progress 8000 Image done\n",
      "Progress 9000 Image done\n",
      "Progress 10000 Image done\n",
      "Progress 11000 Image done\n",
      "Progress 12000 Image done\n",
      "Progress 1000 Image done\n",
      "Progress 2000 Image done\n",
      "Progress 3000 Image done\n",
      "Progress 4000 Image done\n",
      "Progress 5000 Image done\n",
      "Progress 6000 Image done\n",
      "Progress 7000 Image done\n",
      "Progress 8000 Image done\n",
      "Progress 9000 Image done\n",
      "Progress 10000 Image done\n",
      "Progress 11000 Image done\n",
      "Progress 12000 Image done\n"
     ]
    }
   ],
   "source": [
    "preProcessing('CatsandDogs/cats/')\n",
    "preProcessing('CatsandDogs/dogs/')"
   ]
  },
  {
   "cell_type": "code",
   "execution_count": 5,
   "metadata": {},
   "outputs": [
    {
     "name": "stdout",
     "output_type": "stream",
     "text": [
      "(25000, 64, 64)\n"
     ]
    }
   ],
   "source": [
    "data = np.array(data)\n",
    "print(data.shape)"
   ]
  },
  {
   "cell_type": "markdown",
   "metadata": {},
   "source": [
    "### Assign Labels to Images\n",
    "#### THe first 12500 indexes of data contains images of cats while remaining contains images of dogs"
   ]
  },
  {
   "cell_type": "code",
   "execution_count": 6,
   "metadata": {},
   "outputs": [],
   "source": [
    "for i in range(12500):\n",
    "    labels.append('0')\n",
    "for i in range(12500):\n",
    "    labels.append('1')\n",
    "labels = np.array(labels)"
   ]
  },
  {
   "cell_type": "markdown",
   "metadata": {},
   "source": [
    "### Re-Shape data to 2D so that we can convolve on it"
   ]
  },
  {
   "cell_type": "code",
   "execution_count": 7,
   "metadata": {},
   "outputs": [
    {
     "data": {
      "text/plain": [
       "(25000, 64, 64, 1)"
      ]
     },
     "execution_count": 7,
     "metadata": {},
     "output_type": "execute_result"
    }
   ],
   "source": [
    "data = data.reshape((data.shape)[0],(data.shape)[1],(data.shape)[2],1)\n",
    "data.shape"
   ]
  },
  {
   "cell_type": "markdown",
   "metadata": {},
   "source": [
    "### Function to shuffle data"
   ]
  },
  {
   "cell_type": "code",
   "execution_count": 8,
   "metadata": {},
   "outputs": [],
   "source": [
    "def shuffle(a, b):\n",
    "    rng_state = np.random.get_state()\n",
    "    np.random.shuffle(a)\n",
    "    np.random.set_state(rng_state)\n",
    "    np.random.shuffle(b)"
   ]
  },
  {
   "cell_type": "markdown",
   "metadata": {},
   "source": [
    "### Shuffle data and labels in unison so that images of dogs and cats in data array are mixed"
   ]
  },
  {
   "cell_type": "code",
   "execution_count": 9,
   "metadata": {},
   "outputs": [],
   "source": [
    "for i in range(10):\n",
    "    shuffle(data,labels)"
   ]
  },
  {
   "cell_type": "markdown",
   "metadata": {},
   "source": [
    "### Import for Keras"
   ]
  },
  {
   "cell_type": "code",
   "execution_count": 10,
   "metadata": {},
   "outputs": [
    {
     "name": "stderr",
     "output_type": "stream",
     "text": [
      "Using TensorFlow backend.\n"
     ]
    }
   ],
   "source": [
    "from __future__ import print_function\n",
    "import keras\n",
    "from keras.models import Sequential\n",
    "from keras.layers import Dense, Dropout, Flatten\n",
    "from keras.layers import Conv2D, MaxPooling2D\n",
    "from keras import backend as K\n",
    "from time import time\n",
    "from keras.callbacks import TensorBoard\n",
    "import tensorflow as tf\n",
    "from keras import optimizers"
   ]
  },
  {
   "cell_type": "markdown",
   "metadata": {},
   "source": [
    "### Model Initilization\n",
    "#### Changes made are:\n",
    "##### 1. More number of filters are used in convolution layers so that more features could be extracted.\n",
    "#### 2. Dropout is added after 2nd and 4th convolution layers as well as after dense layer to avoid overfitting.\n",
    "#### 3. Relu activation function is used at dense layer to avoid the problem of vanishing gradients.\n",
    "#### 4. Regularization of 0.01 is used to avoid overfitting.\n",
    "#### 5. Learning Rate of 0.4 is used to increase learning."
   ]
  },
  {
   "cell_type": "code",
   "execution_count": 11,
   "metadata": {
    "scrolled": true
   },
   "outputs": [
    {
     "name": "stdout",
     "output_type": "stream",
     "text": [
      "_________________________________________________________________\n",
      "Layer (type)                 Output Shape              Param #   \n",
      "=================================================================\n",
      "conv2d_1 (Conv2D)            (None, 62, 62, 32)        320       \n",
      "_________________________________________________________________\n",
      "conv2d_2 (Conv2D)            (None, 62, 62, 32)        9248      \n",
      "_________________________________________________________________\n",
      "dropout_1 (Dropout)          (None, 62, 62, 32)        0         \n",
      "_________________________________________________________________\n",
      "conv2d_3 (Conv2D)            (None, 60, 60, 24)        6936      \n",
      "_________________________________________________________________\n",
      "conv2d_4 (Conv2D)            (None, 60, 60, 64)        13888     \n",
      "_________________________________________________________________\n",
      "max_pooling2d_1 (MaxPooling2 (None, 30, 30, 64)        0         \n",
      "_________________________________________________________________\n",
      "conv2d_5 (Conv2D)            (None, 28, 28, 24)        13848     \n",
      "_________________________________________________________________\n",
      "dropout_2 (Dropout)          (None, 28, 28, 24)        0         \n",
      "_________________________________________________________________\n",
      "max_pooling2d_2 (MaxPooling2 (None, 14, 14, 24)        0         \n",
      "_________________________________________________________________\n",
      "conv2d_6 (Conv2D)            (None, 14, 14, 32)        19232     \n",
      "_________________________________________________________________\n",
      "max_pooling2d_3 (MaxPooling2 (None, 4, 4, 32)          0         \n",
      "_________________________________________________________________\n",
      "flatten_1 (Flatten)          (None, 512)               0         \n",
      "_________________________________________________________________\n",
      "dense_1 (Dense)              (None, 100)               51300     \n",
      "_________________________________________________________________\n",
      "dropout_3 (Dropout)          (None, 100)               0         \n",
      "_________________________________________________________________\n",
      "dense_2 (Dense)              (None, 1)                 101       \n",
      "=================================================================\n",
      "Total params: 114,873\n",
      "Trainable params: 114,873\n",
      "Non-trainable params: 0\n",
      "_________________________________________________________________\n"
     ]
    }
   ],
   "source": [
    "model = Sequential()\n",
    "model.add(Conv2D(kernel_size=(3,3),filters=32,input_shape=(im_width, im_height,\n",
    "1),activation=\"relu\",padding=\"valid\"))\n",
    "\n",
    "model.add(Conv2D(kernel_size=(3,3),filters=32,activation=\"relu\",padding=\"same\"))\n",
    "model.add(Dropout(0.15))\n",
    "\n",
    "model.add(Conv2D(kernel_size=(3,3),filters=24))\n",
    "model.add(Conv2D(kernel_size=(3,3),filters=64,activation=\"relu\",padding=\"same\"))\n",
    "model.add(MaxPooling2D(pool_size=(2,2)))\n",
    "model.add(Conv2D(kernel_size=(3,3),filters=24))\n",
    "model.add(Dropout(0.25))\n",
    "model.add(MaxPooling2D(pool_size=(2,2)))\n",
    "model.add(Conv2D(kernel_size=(5,5),filters=32,activation=\"relu\",padding=\"same\"))\n",
    "\n",
    "model.add(MaxPooling2D(pool_size=(3,3)))\n",
    "\n",
    "\n",
    "model.add(Flatten())\n",
    "model.add(Dense(100,activation=\"relu\",kernel_regularizer=keras.regularizers.l2(0.01)))\n",
    "model.add(Dropout(0.4))\n",
    "model.add(Dense(1,activation=\"sigmoid\"))\n",
    "\n",
    "model.compile(loss=keras.losses.binary_crossentropy,\n",
    "              optimizer=keras.optimizers.Adadelta(lr=0.4),\n",
    "              metrics=['accuracy'])\n",
    "model.summary()"
   ]
  },
  {
   "cell_type": "markdown",
   "metadata": {},
   "source": [
    "### Fit Model\n",
    "#### Batch Size = 100, epochs = 20, Validation split = 25%"
   ]
  },
  {
   "cell_type": "code",
   "execution_count": 12,
   "metadata": {},
   "outputs": [
    {
     "name": "stdout",
     "output_type": "stream",
     "text": [
      "Train on 18750 samples, validate on 6250 samples\n",
      "Epoch 1/20\n",
      "18750/18750 [==============================] - 266s 14ms/step - loss: 2.1927 - acc: 0.5187 - val_loss: 1.6597 - val_acc: 0.5426\n",
      "Epoch 2/20\n",
      "18750/18750 [==============================] - 266s 14ms/step - loss: 1.3044 - acc: 0.5643 - val_loss: 1.0199 - val_acc: 0.6016\n",
      "Epoch 3/20\n",
      "18750/18750 [==============================] - 275s 15ms/step - loss: 0.8848 - acc: 0.6144 - val_loss: 0.7811 - val_acc: 0.6726\n",
      "Epoch 4/20\n",
      "18750/18750 [==============================] - 288s 15ms/step - loss: 0.7410 - acc: 0.6530 - val_loss: 0.6878 - val_acc: 0.6872\n",
      "Epoch 5/20\n",
      "18750/18750 [==============================] - 296s 16ms/step - loss: 0.6667 - acc: 0.6883 - val_loss: 0.6543 - val_acc: 0.6890\n",
      "Epoch 6/20\n",
      "18750/18750 [==============================] - 294s 16ms/step - loss: 0.6158 - acc: 0.7202 - val_loss: 0.5687 - val_acc: 0.7499\n",
      "Epoch 7/20\n",
      "18750/18750 [==============================] - 275s 15ms/step - loss: 0.5785 - acc: 0.7389 - val_loss: 0.6012 - val_acc: 0.7118\n",
      "Epoch 8/20\n",
      "18750/18750 [==============================] - 269s 14ms/step - loss: 0.5522 - acc: 0.7497 - val_loss: 0.5585 - val_acc: 0.7576\n",
      "Epoch 9/20\n",
      "18750/18750 [==============================] - 269s 14ms/step - loss: 0.5142 - acc: 0.7733 - val_loss: 0.5643 - val_acc: 0.7422\n",
      "Epoch 10/20\n",
      "18750/18750 [==============================] - 268s 14ms/step - loss: 0.5012 - acc: 0.7780 - val_loss: 0.5394 - val_acc: 0.7570\n",
      "Epoch 11/20\n",
      "18750/18750 [==============================] - 266s 14ms/step - loss: 0.4725 - acc: 0.7931 - val_loss: 0.4899 - val_acc: 0.7778\n",
      "Epoch 12/20\n",
      "18750/18750 [==============================] - 263s 14ms/step - loss: 0.4622 - acc: 0.7954 - val_loss: 0.5043 - val_acc: 0.7685\n",
      "Epoch 13/20\n",
      "18750/18750 [==============================] - 263s 14ms/step - loss: 0.4434 - acc: 0.8086 - val_loss: 0.4548 - val_acc: 0.7944\n",
      "Epoch 14/20\n",
      "18750/18750 [==============================] - 267s 14ms/step - loss: 0.4291 - acc: 0.8156 - val_loss: 0.5375 - val_acc: 0.7672\n",
      "Epoch 15/20\n",
      "18750/18750 [==============================] - 264s 14ms/step - loss: 0.4150 - acc: 0.8241 - val_loss: 0.4750 - val_acc: 0.7894\n",
      "Epoch 16/20\n",
      "18750/18750 [==============================] - 263s 14ms/step - loss: 0.4042 - acc: 0.8293 - val_loss: 0.6171 - val_acc: 0.7288\n",
      "Epoch 17/20\n",
      "18750/18750 [==============================] - 262s 14ms/step - loss: 0.3860 - acc: 0.8384 - val_loss: 0.4653 - val_acc: 0.7920\n",
      "Epoch 18/20\n",
      "18750/18750 [==============================] - 264s 14ms/step - loss: 0.3745 - acc: 0.8429 - val_loss: 0.4936 - val_acc: 0.7784\n",
      "Epoch 19/20\n",
      "18750/18750 [==============================] - 265s 14ms/step - loss: 0.3656 - acc: 0.8485 - val_loss: 0.5091 - val_acc: 0.7822\n",
      "Epoch 20/20\n",
      "18750/18750 [==============================] - 263s 14ms/step - loss: 0.3500 - acc: 0.8543 - val_loss: 0.4588 - val_acc: 0.8000\n"
     ]
    }
   ],
   "source": [
    "history = model.fit(data, labels,\n",
    "          batch_size=100,\n",
    "          epochs=20,\n",
    "          verbose=1, shuffle = True,validation_split=0.25)"
   ]
  },
  {
   "cell_type": "markdown",
   "metadata": {},
   "source": [
    "### Error vs Epoch"
   ]
  },
  {
   "cell_type": "code",
   "execution_count": 13,
   "metadata": {},
   "outputs": [
    {
     "data": {
      "image/png": "[encoded data removed]",
      "text/plain": [
       "<Figure size 432x288 with 1 Axes>"
      ]
     },
     "metadata": {
      "needs_background": "light"
     },
     "output_type": "display_data"
    }
   ],
   "source": [
    "plt.plot(history.history['loss'])\n",
    "plt.plot(history.history['val_loss'])\n",
    "plt.title('Error vs Epochs')\n",
    "plt.ylabel('Error')\n",
    "plt.xlabel('Epoch')\n",
    "plt.legend(['Train', 'Test'], loc='upper right')\n",
    "plt.show()"
   ]
  },
  {
   "cell_type": "markdown",
   "metadata": {},
   "source": [
    "### Accuracy vs Epoch\n",
    "#### Train Accuracy = 85.43%\n",
    "#### Validation Accuracy = 80%\n"
   ]
  },
  {
   "cell_type": "code",
   "execution_count": 17,
   "metadata": {},
   "outputs": [
    {
     "data": {
      "image/png": "[encoded data removed]",
      "text/plain": [
       "<Figure size 432x288 with 1 Axes>"
      ]
     },
     "metadata": {
      "needs_background": "light"
     },
     "output_type": "display_data"
    }
   ],
   "source": [
    "plt.plot(history.history['acc'])\n",
    "plt.plot(history.history['val_acc'])\n",
    "plt.title('Accuracy vs Epochs')\n",
    "plt.ylabel('Accuracy')\n",
    "plt.xlabel('Epochs')\n",
    "plt.legend(['Train', 'Test'], loc='upper left')\n",
    "plt.show()"
   ]
  }
 ],
 "metadata": {
  "kernelspec": {
   "display_name": "Python 3",
   "language": "python",
   "name": "python3"
  },
  "language_info": {
   "codemirror_mode": {
    "name": "ipython",
    "version": 3
   },
   "file_extension": ".py",
   "mimetype": "text/x-python",
   "name": "python",
   "nbconvert_exporter": "python",
   "pygments_lexer": "ipython3",
   "version": "3.6.6"
  }
 },
 "nbformat": 4,
 "nbformat_minor": 2
}
