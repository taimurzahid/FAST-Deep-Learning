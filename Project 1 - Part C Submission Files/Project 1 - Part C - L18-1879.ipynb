{
 "cells": [
  {
   "cell_type": "code",
   "execution_count": 1,
   "metadata": {},
   "outputs": [],
   "source": [
    "%matplotlib inline"
   ]
  },
  {
   "cell_type": "code",
   "execution_count": 2,
   "metadata": {},
   "outputs": [],
   "source": [
    "import os\n",
    "import random"
   ]
  },
  {
   "cell_type": "code",
   "execution_count": 3,
   "metadata": {},
   "outputs": [
    {
     "name": "stderr",
     "output_type": "stream",
     "text": [
      "Using TensorFlow backend.\n"
     ]
    }
   ],
   "source": [
    "import keras\n",
    "import cv2 as cv\n",
    "import numpy as np\n",
    "import matplotlib.pyplot as plt\n",
    "from keras.models import Sequential\n",
    "from keras.layers import Dense, Dropout, Flatten\n",
    "from keras.layers import Conv2D, MaxPooling2D\n",
    "from keras.callbacks import TensorBoard\n",
    "import matplotlib.patches as mpatches\n",
    "from sklearn.model_selection import StratifiedKFold"
   ]
  },
  {
   "cell_type": "code",
   "execution_count": 4,
   "metadata": {},
   "outputs": [],
   "source": [
    "seed = 7\n",
    "random.seed(seed)\n",
    "np.random.seed(seed)"
   ]
  },
  {
   "cell_type": "code",
   "execution_count": 5,
   "metadata": {},
   "outputs": [],
   "source": [
    "base_dir = r'C:\\Users\\Home\\Documents\\PyCharm Projects\\KerasTwo'\n",
    "cat_dir = os.path.join(base_dir, \"cats\")\n",
    "dog_dir = os.path.join(base_dir, \"dogs\")"
   ]
  },
  {
   "cell_type": "markdown",
   "metadata": {},
   "source": [
    "<h3> Data Preprocessing Function </h3>"
   ]
  },
  {
   "cell_type": "code",
   "execution_count": 6,
   "metadata": {},
   "outputs": [],
   "source": [
    "def get_data(folder_path=\"\", img_class=\"\"):\n",
    "    files = os.listdir(folder_path)\n",
    "\n",
    "    final_data = []\n",
    "    final_labels = []\n",
    "\n",
    "    for mfile in files:\n",
    "        file_path = os.path.abspath(os.path.join(folder_path, mfile))\n",
    "        file_data = np.array(cv.imread(file_path, cv.IMREAD_GRAYSCALE))\n",
    "        file_data = file_data.reshape(64, 64, 1)\n",
    "        final_data.append(file_data)\n",
    "\n",
    "        if img_class == \"cat\":\n",
    "            file_label = np.array([0])\n",
    "        if img_class == \"dog\":\n",
    "            file_label = np.array([1])\n",
    "\n",
    "        final_labels.append(file_label)\n",
    "\n",
    "    final_data = np.array(final_data)\n",
    "    final_labels = np.array(final_labels)\n",
    "\n",
    "    return final_data, final_labels"
   ]
  },
  {
   "cell_type": "markdown",
   "metadata": {},
   "source": [
    "<h4> Retreiving Data From Folders  </h4>"
   ]
  },
  {
   "cell_type": "code",
   "execution_count": 7,
   "metadata": {},
   "outputs": [],
   "source": [
    "cat_d, cat_l = get_data(cat_dir, \"cat\")\n",
    "dog_d, dog_l = get_data(dog_dir, \"dog\")\n",
    "\n",
    "final_d = np.concatenate([cat_d, dog_d])\n",
    "final_l = np.concatenate([cat_l, dog_l])\n",
    "\n",
    "# zip and shuffle\n",
    "final = list(zip(final_d, final_l))\n",
    "random.shuffle(final)\n",
    "\n",
    "# unzip\n",
    "final_d, final_l = zip(*final)\n",
    "\n",
    "final_l = np.array(final_l)\n",
    "final_d = np.array(final_d)"
   ]
  },
  {
   "cell_type": "code",
   "execution_count": 8,
   "metadata": {},
   "outputs": [],
   "source": [
    "kfold = StratifiedKFold(n_splits=15, shuffle=True, random_state=seed)\n",
    "cross_data = kfold.split(final_d, final_l)\n",
    "train, test = next(cross_data)"
   ]
  },
  {
   "cell_type": "markdown",
   "metadata": {},
   "source": [
    "<h4> Testing Labels </h4>"
   ]
  },
  {
   "cell_type": "code",
   "execution_count": 15,
   "metadata": {},
   "outputs": [
    {
     "data": {
      "image/png": "[encoded data removed]",
      "text/plain": [
       "<Figure size 432x288 with 1 Axes>"
      ]
     },
     "metadata": {
      "needs_background": "light"
     },
     "output_type": "display_data"
    }
   ],
   "source": [
    "    img_label = final_l[1000]\n",
    "    img_data = final_d[1000]\n",
    "    b = (img_label == [1])\n",
    "    val = \"dog\" if b else \"cat\"\n",
    "    img_data = img_data.reshape(64,64)\n",
    "    red_patch = mpatches.Patch(color='red' if val == \"cat\" else 'black', label=val)\n",
    "    plt.legend(handles=[red_patch])\n",
    "    plt.imshow(img_data, label=val)\n",
    "    plt.show()"
   ]
  },
  {
   "cell_type": "markdown",
   "metadata": {},
   "source": [
    "<h2> Keras Modeling </h2>"
   ]
  },
  {
   "cell_type": "code",
   "execution_count": 10,
   "metadata": {},
   "outputs": [],
   "source": [
    "# parameters\n",
    "batch_size = 48\n",
    "#num_classes = 2\n",
    "epochs = 14\n",
    "\n",
    "# input dimensions\n",
    "img_rows, img_cols = 64, 64\n",
    "input_shape = (img_rows, img_cols, 1)"
   ]
  },
  {
   "cell_type": "code",
   "execution_count": 11,
   "metadata": {},
   "outputs": [
    {
     "name": "stdout",
     "output_type": "stream",
     "text": [
      "_________________________________________________________________\n",
      "Layer (type)                 Output Shape              Param #   \n",
      "=================================================================\n",
      "conv2d_1 (Conv2D)            (None, 62, 62, 6)         60        \n",
      "_________________________________________________________________\n",
      "conv2d_2 (Conv2D)            (None, 62, 62, 10)        550       \n",
      "_________________________________________________________________\n",
      "max_pooling2d_1 (MaxPooling2 (None, 31, 31, 10)        0         \n",
      "_________________________________________________________________\n",
      "conv2d_3 (Conv2D)            (None, 31, 31, 12)        1092      \n",
      "_________________________________________________________________\n",
      "conv2d_4 (Conv2D)            (None, 31, 31, 12)        3612      \n",
      "_________________________________________________________________\n",
      "max_pooling2d_2 (MaxPooling2 (None, 15, 15, 12)        0         \n",
      "_________________________________________________________________\n",
      "conv2d_5 (Conv2D)            (None, 7, 7, 20)          980       \n",
      "_________________________________________________________________\n",
      "flatten_1 (Flatten)          (None, 980)               0         \n",
      "_________________________________________________________________\n",
      "dropout_1 (Dropout)          (None, 980)               0         \n",
      "_________________________________________________________________\n",
      "dense_1 (Dense)              (None, 128)               125568    \n",
      "_________________________________________________________________\n",
      "dense_2 (Dense)              (None, 1)                 129       \n",
      "=================================================================\n",
      "Total params: 131,991\n",
      "Trainable params: 131,991\n",
      "Non-trainable params: 0\n",
      "_________________________________________________________________\n"
     ]
    }
   ],
   "source": [
    "model = Sequential()\n",
    "model.add(Conv2D(kernel_size=(3, 3), filters=6, input_shape=input_shape, activation=\"relu\", padding=\"valid\"))\n",
    "model.add(Conv2D(kernel_size=(3, 3), filters=10, activation=\"relu\", padding=\"same\"))\n",
    "model.add(MaxPooling2D(pool_size=(2, 2), strides=(2, 2)))\n",
    "model.add(Conv2D(kernel_size=(3, 3), filters=12, activation=\"relu\", padding=\"same\"))\n",
    "model.add(Conv2D(kernel_size=(5, 5), filters=12, activation=\"relu\", padding=\"same\"))\n",
    "model.add(MaxPooling2D(pool_size=(3, 3), strides=(2, 2)))\n",
    "model.add(Conv2D(kernel_size=(2, 2), strides=(2, 2), filters=20))\n",
    "model.add(Flatten())\n",
    "model.add(Dropout(0.2))\n",
    "model.add(Dense(128, activation=\"sigmoid\"))\n",
    "model.add(Dense(1,activation=\"sigmoid\"))\n",
    "model.summary()"
   ]
  },
  {
   "cell_type": "code",
   "execution_count": 12,
   "metadata": {},
   "outputs": [
    {
     "name": "stdout",
     "output_type": "stream",
     "text": [
      "Train on 23332 samples, validate on 1668 samples\n",
      "Epoch 1/14\n",
      "23332/23332 [==============================] - 431s 18ms/step - loss: 0.6316 - acc: 0.6381 - val_loss: 0.5861 - val_acc: 0.6882\n",
      "Epoch 2/14\n",
      "23332/23332 [==============================] - 305s 13ms/step - loss: 0.5483 - acc: 0.7196 - val_loss: 0.5414 - val_acc: 0.7206\n",
      "Epoch 3/14\n",
      "23332/23332 [==============================] - 304s 13ms/step - loss: 0.5103 - acc: 0.7436 - val_loss: 0.5562 - val_acc: 0.7104\n",
      "Epoch 4/14\n",
      "23332/23332 [==============================] - 309s 13ms/step - loss: 0.4833 - acc: 0.7652 - val_loss: 0.5208 - val_acc: 0.7368\n",
      "Epoch 5/14\n",
      "23332/23332 [==============================] - 309s 13ms/step - loss: 0.4584 - acc: 0.7815 - val_loss: 0.5591 - val_acc: 0.7302\n",
      "Epoch 6/14\n",
      "23332/23332 [==============================] - 309s 13ms/step - loss: 0.4358 - acc: 0.7942 - val_loss: 0.5144 - val_acc: 0.7422\n",
      "Epoch 7/14\n",
      "23332/23332 [==============================] - 309s 13ms/step - loss: 0.4161 - acc: 0.8057 - val_loss: 0.4984 - val_acc: 0.7512\n",
      "Epoch 8/14\n",
      "23332/23332 [==============================] - 311s 13ms/step - loss: 0.3939 - acc: 0.8180 - val_loss: 0.5010 - val_acc: 0.7554\n",
      "Epoch 9/14\n",
      "23332/23332 [==============================] - 310s 13ms/step - loss: 0.3733 - acc: 0.8300 - val_loss: 0.5173 - val_acc: 0.7548\n",
      "Epoch 10/14\n",
      "23332/23332 [==============================] - 329s 14ms/step - loss: 0.3477 - acc: 0.8471 - val_loss: 0.5204 - val_acc: 0.7572\n",
      "Epoch 11/14\n",
      "23332/23332 [==============================] - 314s 13ms/step - loss: 0.3361 - acc: 0.8523 - val_loss: 0.5080 - val_acc: 0.7530\n",
      "Epoch 12/14\n",
      "23332/23332 [==============================] - 309s 13ms/step - loss: 0.3156 - acc: 0.8631 - val_loss: 0.5270 - val_acc: 0.7506\n",
      "Epoch 13/14\n",
      "23332/23332 [==============================] - 309s 13ms/step - loss: 0.3018 - acc: 0.8709 - val_loss: 0.5312 - val_acc: 0.7512\n",
      "Epoch 14/14\n",
      "23332/23332 [==============================] - 309s 13ms/step - loss: 0.2870 - acc: 0.8759 - val_loss: 0.5421 - val_acc: 0.7584\n"
     ]
    }
   ],
   "source": [
    "tb_callback = TensorBoard(log_dir='./logs', histogram_freq=1, write_graph=True, write_images=True)\n",
    "\n",
    "model.compile(loss=keras.losses.binary_crossentropy,\n",
    "              optimizer=keras.optimizers.Adam(),\n",
    "              metrics=['accuracy'])\n",
    "\n",
    "history = model.fit(final_d[train], final_l[train],\n",
    "                    batch_size=batch_size,\n",
    "                    epochs=epochs,\n",
    "                    verbose=1, shuffle=True, validation_data=(final_d[test], final_l[test]))"
   ]
  },
  {
   "cell_type": "code",
   "execution_count": 13,
   "metadata": {},
   "outputs": [
    {
     "name": "stdout",
     "output_type": "stream",
     "text": [
      "1668/1668 [==============================] - 8s 5ms/step\n",
      "Test loss: 0.5420979576573955\n",
      "Test accuracy: 0.7583932853717026\n"
     ]
    }
   ],
   "source": [
    "score = model.evaluate(final_d[test], final_l[test], verbose=1)\n",
    "print('Test loss:', score[0])\n",
    "print('Test accuracy:', score[1])"
   ]
  },
  {
   "cell_type": "code",
   "execution_count": 14,
   "metadata": {},
   "outputs": [
    {
     "data": {
      "image/png": "[encoded data removed]",
      "text/plain": [
       "<Figure size 432x288 with 1 Axes>"
      ]
     },
     "metadata": {
      "needs_background": "light"
     },
     "output_type": "display_data"
    },
    {
     "data": {
      "image/png": "[encoded data removed]",
      "text/plain": [
       "<Figure size 432x288 with 1 Axes>"
      ]
     },
     "metadata": {
      "needs_background": "light"
     },
     "output_type": "display_data"
    }
   ],
   "source": [
    "# summarizing accuracy/epoch\n",
    "plt.plot(history.history['acc'])\n",
    "plt.plot(history.history['val_acc'])\n",
    "plt.title('model accuracy')\n",
    "plt.ylabel('accuracy')\n",
    "plt.xlabel('epoch')\n",
    "plt.legend(['train', 'test'], loc='upper left')\n",
    "plt.show()\n",
    "\n",
    "# summarize loss/epoch\n",
    "plt.plot(history.history['loss'])\n",
    "plt.plot(history.history['val_loss'])\n",
    "plt.title('model loss')\n",
    "plt.ylabel('loss')\n",
    "plt.xlabel('epoch')\n",
    "plt.legend(['train', 'test'], loc='upper left')\n",
    "plt.show()\n"
   ]
  },
  {
   "cell_type": "markdown",
   "metadata": {},
   "source": [
    "<h1>Final Results</h1>"
   ]
  },
  {
   "cell_type": "markdown",
   "metadata": {},
   "source": [
    "<h3>Accuracy: 76%</h3>\n",
    "<h3>Epochs: 14</h3>"
   ]
  },
  {
   "cell_type": "code",
   "execution_count": null,
   "metadata": {},
   "outputs": [],
   "source": []
  }
 ],
 "metadata": {
  "kernelspec": {
   "display_name": "Python 3",
   "language": "python",
   "name": "python3"
  },
  "language_info": {
   "codemirror_mode": {
    "name": "ipython",
    "version": 3
   },
   "file_extension": ".py",
   "mimetype": "text/x-python",
   "name": "python",
   "nbconvert_exporter": "python",
   "pygments_lexer": "ipython3",
   "version": "3.6.6"
  }
 },
 "nbformat": 4,
 "nbformat_minor": 2
}
